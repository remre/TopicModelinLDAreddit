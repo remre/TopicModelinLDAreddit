{
  "nbformat": 4,
  "nbformat_minor": 0,
  "metadata": {
    "colab": {
      "name": "redditclassification.ipynb",
      "provenance": [],
      "collapsed_sections": [
        "rxBdNhJZKI-O"
      ],
      "mount_file_id": "1uNNyIW6M2DsABr2raY0bVA-_a5urO6JM",
      "authorship_tag": "ABX9TyNdp92IdCrw9eXkwi1jAlhf",
      "include_colab_link": true
    },
    "kernelspec": {
      "name": "python3",
      "display_name": "Python 3"
    },
    "language_info": {
      "name": "python"
    }
  },
  "cells": [
    {
      "cell_type": "markdown",
      "metadata": {
        "id": "view-in-github",
        "colab_type": "text"
      },
      "source": [
        "<a href=\"https://colab.research.google.com/github/remre/TopicModelinLDAreddit/blob/main/redditclassification.ipynb\" target=\"_parent\"><img src=\"https://colab.research.google.com/assets/colab-badge.svg\" alt=\"Open In Colab\"/></a>"
      ]
    },
    {
      "cell_type": "markdown",
      "source": [
        "#Deal with the Text in CoffeeHouse"
      ],
      "metadata": {
        "id": "pVPAUJXNAxIC"
      }
    },
    {
      "cell_type": "markdown",
      "source": [
        "##Libraries"
      ],
      "metadata": {
        "id": "7TPnIteeA4d6"
      }
    },
    {
      "cell_type": "code",
      "source": [
        "!pip install pyLDAvis==3.2.2\n"
      ],
      "metadata": {
        "colab": {
          "base_uri": "https://localhost:8080/",
          "height": 624
        },
        "id": "cCWM9UHvXNSI",
        "outputId": "e9e1d9c2-995d-4031-d3a1-1c2222899973"
      },
      "execution_count": 8,
      "outputs": [
        {
          "output_type": "stream",
          "name": "stdout",
          "text": [
            "Looking in indexes: https://pypi.org/simple, https://us-python.pkg.dev/colab-wheels/public/simple/\n",
            "Collecting pyLDAvis==3.2.2\n",
            "  Downloading pyLDAvis-3.2.2.tar.gz (1.7 MB)\n",
            "\u001b[K     |████████████████████████████████| 1.7 MB 7.2 MB/s \n",
            "\u001b[?25hRequirement already satisfied: wheel>=0.23.0 in /usr/local/lib/python3.7/dist-packages (from pyLDAvis==3.2.2) (0.37.1)\n",
            "Requirement already satisfied: numpy>=1.9.2 in /usr/local/lib/python3.7/dist-packages (from pyLDAvis==3.2.2) (1.21.6)\n",
            "Requirement already satisfied: scipy>=0.18.0 in /usr/local/lib/python3.7/dist-packages (from pyLDAvis==3.2.2) (1.7.3)\n",
            "Requirement already satisfied: joblib>=0.8.4 in /usr/local/lib/python3.7/dist-packages (from pyLDAvis==3.2.2) (1.1.0)\n",
            "Requirement already satisfied: jinja2>=2.7.2 in /usr/local/lib/python3.7/dist-packages (from pyLDAvis==3.2.2) (2.11.3)\n",
            "Requirement already satisfied: numexpr in /usr/local/lib/python3.7/dist-packages (from pyLDAvis==3.2.2) (2.8.3)\n",
            "Requirement already satisfied: future in /usr/local/lib/python3.7/dist-packages (from pyLDAvis==3.2.2) (0.16.0)\n",
            "Requirement already satisfied: funcy in /usr/local/lib/python3.7/dist-packages (from pyLDAvis==3.2.2) (1.17)\n",
            "Requirement already satisfied: pandas>=0.17.0 in /usr/local/lib/python3.7/dist-packages (from pyLDAvis==3.2.2) (1.3.5)\n",
            "Requirement already satisfied: MarkupSafe>=0.23 in /usr/local/lib/python3.7/dist-packages (from jinja2>=2.7.2->pyLDAvis==3.2.2) (2.0.1)\n",
            "Requirement already satisfied: python-dateutil>=2.7.3 in /usr/local/lib/python3.7/dist-packages (from pandas>=0.17.0->pyLDAvis==3.2.2) (2.8.2)\n",
            "Requirement already satisfied: pytz>=2017.3 in /usr/local/lib/python3.7/dist-packages (from pandas>=0.17.0->pyLDAvis==3.2.2) (2022.2)\n",
            "Requirement already satisfied: six>=1.5 in /usr/local/lib/python3.7/dist-packages (from python-dateutil>=2.7.3->pandas>=0.17.0->pyLDAvis==3.2.2) (1.15.0)\n",
            "Requirement already satisfied: packaging in /usr/local/lib/python3.7/dist-packages (from numexpr->pyLDAvis==3.2.2) (21.3)\n",
            "Requirement already satisfied: pyparsing!=3.0.5,>=2.0.2 in /usr/local/lib/python3.7/dist-packages (from packaging->numexpr->pyLDAvis==3.2.2) (3.0.9)\n",
            "Building wheels for collected packages: pyLDAvis\n",
            "  Building wheel for pyLDAvis (setup.py) ... \u001b[?25l\u001b[?25hdone\n",
            "  Created wheel for pyLDAvis: filename=pyLDAvis-3.2.2-py2.py3-none-any.whl size=135617 sha256=df0d23ed3e00b378905a7218f2711242705700025cf459da58432a18ce97b36e\n",
            "  Stored in directory: /root/.cache/pip/wheels/f8/b1/9b/560ac1931796b7303f7b517b949d2d31a4fbc512aad3b9f284\n",
            "Successfully built pyLDAvis\n",
            "Installing collected packages: pyLDAvis\n",
            "  Attempting uninstall: pyLDAvis\n",
            "    Found existing installation: pyLDAvis 3.3.1\n",
            "    Uninstalling pyLDAvis-3.3.1:\n",
            "      Successfully uninstalled pyLDAvis-3.3.1\n",
            "Successfully installed pyLDAvis-3.2.2\n"
          ]
        },
        {
          "output_type": "display_data",
          "data": {
            "application/vnd.colab-display-data+json": {
              "pip_warning": {
                "packages": [
                  "pyLDAvis"
                ]
              }
            }
          },
          "metadata": {}
        }
      ]
    },
    {
      "cell_type": "code",
      "source": [
        "# import os \n",
        "# # %matplotlib inline\n",
        "\n",
        "# import time\n",
        "# import glob\n",
        "\n",
        "# import tensorflow as tf\n",
        "# from tensorflow import keras\n",
        "# import random\n",
        "# # import stanza\n",
        "\n",
        "# # from custom_preprocessing import CustomPreProcessing\n",
        "# # from custom_preprocessing import PreProcessing\n",
        "# # from class_metric import Metrics\n",
        "\n",
        "# import sklearn\n",
        "# from sklearn.utils import class_weight\n",
        "# from sklearn import model_selection, preprocessing, linear_model, naive_bayes, metrics, svm\n",
        "# from sklearn.feature_extraction.text import TfidfVectorizer, CountVectorizer\n",
        "# from sklearn.feature_extraction.text import TfidfTransformer\n",
        "# from sklearn import decomposition, ensemble\n",
        "# from sklearn.pipeline import Pipeline\n",
        "# from sklearn.metrics import accuracy_score\n",
        "# from sklearn import tree\n",
        "# from sklearn import neighbors\n",
        "# from sklearn.metrics import classification_report\n",
        "# from sklearn.metrics import confusion_matrix\n",
        "# from sklearn.metrics import cohen_kappa_score\n",
        "# from sklearn.metrics import precision_score\n",
        "# from sklearn.model_selection import cross_validate\n",
        "# from sklearn.linear_model import SGDClassifier\n",
        "\n",
        "# from keras.preprocessing.text import Tokenizer\n",
        "# from keras.preprocessing import sequence\n",
        "# from keras.models import Sequential\n",
        "# from keras.layers import Dense, Dropout, Activation\n",
        "# from keras.layers import Embedding\n",
        "# from keras.layers import Conv1D, GlobalMaxPooling1D\n",
        "# from keras.utils import np_utils\n",
        "\n",
        "\n",
        "# import itertools\n",
        "# from textblob import TextBlob \n",
        "\n",
        "# import xgboost as xgb\n",
        "# from xgboost import XGBClassifier\n",
        "\n",
        "\n",
        "# import string\n",
        "# # import fasttext\n",
        "# # import fasttext.util\n",
        "# from tqdm import tqdm\n",
        "\n",
        "\n",
        "# import pickle\n",
        "# from sklearn.feature_extraction.text import CountVectorizer\n",
        "# from nltk.corpus import stopwords\n",
        "# from nltk.stem import WordNetLemmatizer\n",
        "# from nltk.tokenize import RegexpTokenizer\n",
        "\n",
        "# # DO = '#7D1B7E'\n",
        "\n",
        "# # %config InlineBackend.figure_format = 'retina'\n",
        "# # %matplotlib inline\n",
        "# # plt.style.use('fivethirtyeight')\n",
        "\n",
        "# # ---- Call tqdm to see progress bar with pandas\n",
        "# # tqdm().pandas()\n",
        "# import zipfile\n",
        "import pyLDAvis\n",
        "import pyLDAvis.gensim  # don't skip this\n",
        "# import pyLDAvis.gensim_models\n",
        "\n",
        "import pandas as pd \n",
        "import numpy as np\n",
        "import json\n",
        "import nltk\n",
        "import re\n",
        "import csv\n",
        "import matplotlib.pyplot as plt \n",
        "import seaborn as sns\n",
        "from sklearn.model_selection import train_test_split\n",
        "# os.environ[\"KAGGLE_CONFIG_DIR\"] = (\"/content\")"
      ],
      "metadata": {
        "id": "ITPedmb79pkP",
        "colab": {
          "base_uri": "https://localhost:8080/"
        },
        "outputId": "b5fb74bd-5ff6-4564-befc-3680ae8a8bd0"
      },
      "execution_count": 1,
      "outputs": [
        {
          "output_type": "stream",
          "name": "stderr",
          "text": [
            "/usr/local/lib/python3.7/dist-packages/past/types/oldstr.py:5: DeprecationWarning: Using or importing the ABCs from 'collections' instead of from 'collections.abc' is deprecated since Python 3.3,and in 3.9 it will stop working\n",
            "  from collections import Iterable\n",
            "/usr/local/lib/python3.7/dist-packages/past/builtins/misc.py:4: DeprecationWarning: Using or importing the ABCs from 'collections' instead of from 'collections.abc' is deprecated since Python 3.3,and in 3.9 it will stop working\n",
            "  from collections import Mapping\n"
          ]
        }
      ]
    },
    {
      "cell_type": "markdown",
      "source": [
        "##Data Loading##\n",
        "\n",
        "We will load and check the data info in this section\n"
      ],
      "metadata": {
        "id": "U7sEWgOYXceK"
      }
    },
    {
      "cell_type": "code",
      "execution_count": 2,
      "metadata": {
        "colab": {
          "base_uri": "https://localhost:8080/"
        },
        "id": "QM3KBCfk9jSy",
        "outputId": "12c22ae5-3af0-46af-cb88-1c3153e88cb5"
      },
      "outputs": [
        {
          "output_type": "stream",
          "name": "stdout",
          "text": [
            "Traceback (most recent call last):\n",
            "  File \"/usr/local/bin/kaggle\", line 5, in <module>\n",
            "    from kaggle.cli import main\n",
            "  File \"/usr/local/lib/python3.7/dist-packages/kaggle/__init__.py\", line 23, in <module>\n",
            "    api.authenticate()\n",
            "  File \"/usr/local/lib/python3.7/dist-packages/kaggle/api/kaggle_api_extended.py\", line 166, in authenticate\n",
            "    self.config_file, self.config_dir))\n",
            "OSError: Could not find kaggle.json. Make sure it's located in /root/.kaggle. Or use the environment method.\n"
          ]
        }
      ],
      "source": [
        "!kaggle datasets download -d ehallmar/reddit-comment-score-prediction"
      ]
    },
    {
      "cell_type": "code",
      "source": [
        "# with zipfile.ZipFile('/content/reddit-comment-score-prediction.zip', 'r') as zip_ref:#the directory of zipped file\n",
        "#     zip_ref.extractall('/content/drive/MyDrive/dataAI/redditdata') #directory of unzipped file"
      ],
      "metadata": {
        "id": "DAODPIIg9tnA"
      },
      "execution_count": null,
      "outputs": []
    },
    {
      "cell_type": "code",
      "source": [
        "dk = pd.read_csv('/content/drive/MyDrive/dataAI/redditdata/comments_negative.csv')\n",
        "df2 = pd.read_csv('/content/drive/MyDrive/dataAI/redditdata/comments_positive.csv')\n",
        "dfr = pd.concat([dk,df2])"
      ],
      "metadata": {
        "id": "BhCc9B_v_ER8"
      },
      "execution_count": 2,
      "outputs": []
    },
    {
      "cell_type": "code",
      "source": [
        "dfr.info()\n",
        "dfr.isna().sum()"
      ],
      "metadata": {
        "colab": {
          "base_uri": "https://localhost:8080/"
        },
        "id": "RwV9vHPkAsPc",
        "outputId": "7fdd8775-cbae-4af4-9c0e-8e55d9153960"
      },
      "execution_count": 3,
      "outputs": [
        {
          "output_type": "stream",
          "name": "stdout",
          "text": [
            "<class 'pandas.core.frame.DataFrame'>\n",
            "Int64Index: 4000000 entries, 0 to 1999999\n",
            "Data columns (total 15 columns):\n",
            " #   Column                   Dtype \n",
            "---  ------                   ----- \n",
            " 0   id                       object\n",
            " 1   parent_id                object\n",
            " 2   subreddit_id             object\n",
            " 3   link_id                  object\n",
            " 4   text                     object\n",
            " 5   score                    int64 \n",
            " 6   ups                      int64 \n",
            " 7   author                   object\n",
            " 8   controversiality         int64 \n",
            " 9   parent_link_id           object\n",
            " 10  parent_text              object\n",
            " 11  parent_score             int64 \n",
            " 12  parent_ups               int64 \n",
            " 13  parent_author            object\n",
            " 14  parent_controversiality  int64 \n",
            "dtypes: int64(6), object(9)\n",
            "memory usage: 488.3+ MB\n"
          ]
        },
        {
          "output_type": "execute_result",
          "data": {
            "text/plain": [
              "id                          0\n",
              "parent_id                   0\n",
              "subreddit_id                0\n",
              "link_id                     0\n",
              "text                       53\n",
              "score                       0\n",
              "ups                         0\n",
              "author                      0\n",
              "controversiality            0\n",
              "parent_link_id              0\n",
              "parent_text                19\n",
              "parent_score                0\n",
              "parent_ups                  0\n",
              "parent_author               0\n",
              "parent_controversiality     0\n",
              "dtype: int64"
            ]
          },
          "metadata": {},
          "execution_count": 3
        }
      ]
    },
    {
      "cell_type": "code",
      "source": [
        "# 3\n",
        "dfr['subreddit_id'].value_counts()"
      ],
      "metadata": {
        "colab": {
          "base_uri": "https://localhost:8080/"
        },
        "id": "3QbrxssPW1sb",
        "outputId": "679ee6f7-750b-4029-d87f-e1bc309c6ec6"
      },
      "execution_count": 4,
      "outputs": [
        {
          "output_type": "execute_result",
          "data": {
            "text/plain": [
              "t5_2qh1i    706816\n",
              "t5_2qh33    285724\n",
              "t5_2qh0u    271402\n",
              "t5_2qh61    169678\n",
              "t5_2qh03    152591\n",
              "             ...  \n",
              "t5_2susi         1\n",
              "t5_2s7u4         1\n",
              "t5_2rufc         1\n",
              "t5_30kkx         1\n",
              "t5_2y0mz         1\n",
              "Name: subreddit_id, Length: 5944, dtype: int64"
            ]
          },
          "metadata": {},
          "execution_count": 4
        }
      ]
    },
    {
      "cell_type": "code",
      "source": [
        "dfr['author'] = dfr['author'].astype(str)"
      ],
      "metadata": {
        "id": "DGl5cp0dtzAZ"
      },
      "execution_count": 5,
      "outputs": []
    },
    {
      "cell_type": "code",
      "source": [
        "# # 1\n",
        "# type(json.loads(dfr['author']))"
      ],
      "metadata": {
        "id": "Hsd2yBXXpupx"
      },
      "execution_count": null,
      "outputs": []
    },
    {
      "cell_type": "markdown",
      "source": [
        "##Profanity Filter##"
      ],
      "metadata": {
        "id": "rxBdNhJZKI-O"
      }
    },
    {
      "cell_type": "code",
      "source": [
        "from profanity_filter import ProfanityFilter\n",
        "import spacy\n",
        "\n",
        "pf = ProfanityFilter(languages=['en'])\n",
        "\n",
        "pf.censor(\"That's bullshit!\")\n",
        "# \"That's ********!\"\n",
        "\n",
        "k =  pf.censor_word('fuck')\n",
        "# Word(uncensored='fuck', censored='****', original_profane_word='fuck')"
      ],
      "metadata": {
        "id": "dexHm1zSsTbg"
      },
      "execution_count": null,
      "outputs": []
    },
    {
      "cell_type": "code",
      "source": [
        "nlp = spacy.load('en')\n",
        "profanity_filter = ProfanityFilter(nlps={'en': nlp})  # reuse spacy Language (optional)\n",
        "nlp.add_pipe(profanity_filter.spacy_component, last=True)\n",
        "\n",
        "\n",
        "\n",
        "for i in range(0,100):\n",
        "  doc = nlp(str(dfr['text'][i]))\n",
        "\n",
        "  doc._.is_profane\n",
        "# True\n",
        "\n",
        "  doc[:2]._.is_profane\n",
        "# False\n",
        "\n",
        "  for token in doc:\n",
        "    if token._.original_profane_word != None:\n",
        "        print(f'{token}: '\n",
        "              f'\\ncensored={token._.censored}, '\n",
        "              f'\\nis_profane={token._.is_profane}, '\n",
        "              f'\\noriginal_profane_word={token._.original_profane_word}'\n",
        "        )"
      ],
      "metadata": {
        "id": "JOFpBpqI2b7Y"
      },
      "execution_count": null,
      "outputs": []
    },
    {
      "cell_type": "code",
      "source": [
        "# dfrr = dfr['text'][:3]\n",
        "# train_token = ''\n",
        "# for i in dfr['text']:\n",
        "#    train_token += str(i)"
      ],
      "metadata": {
        "id": "ytzahwO33fdc"
      },
      "execution_count": null,
      "outputs": []
    },
    {
      "cell_type": "code",
      "source": [
        "# this is how to add desired words by hard\n",
        "# pf.extra_profane_word_dictionaries = {'en': {'chocolate', 'orange'}}"
      ],
      "metadata": {
        "id": "A4dq7Jmh4jnI"
      },
      "execution_count": null,
      "outputs": []
    },
    {
      "cell_type": "code",
      "source": [
        "from better_profanity import profanity\n",
        "\n",
        "\n",
        "for i in range(0,100):\n",
        "  doc = nlp(str(dfr['text'][i]))\n",
        "\n",
        "  \n",
        "  if __name__ == \"__main__\":\n",
        "      # custom_badwords = ['happy', 'jolly', 'merry']\n",
        "      # profanity.load_censor_words(custom_badwords)\n",
        "      profanity.load_censor_words()\n",
        "\n",
        "      for text in doc:\n",
        "        censored_text = profanity.censor(text)# profanity.contains_profanity(str(text))\n",
        "        print(censored_text)\n",
        "        # You **** of ****."
      ],
      "metadata": {
        "id": "sykMuz6ebKg1"
      },
      "execution_count": null,
      "outputs": []
    },
    {
      "cell_type": "code",
      "source": [
        "from profanity_filter import ProfanityFilter\n",
        "# from rsrsrs.warmup.oopcorey import Employee\n",
        "import spacy\n",
        "\n",
        "\n",
        "class ProfanityChecker:\n",
        "\n",
        "    def __init__(self, text):\n",
        "        self.text = text \n",
        "\n",
        "    def proff(self):\n",
        "        nlp = spacy.load('en')\n",
        "        pf = ProfanityFilter(nlps={'en': nlp})  # reuse spacy Language (optional)\n",
        "        nlp.add_pipe(pf.spacy_component, last=True)\n",
        "        print(pf.spacy_component)\n",
        "        # pf.set_censor_char('*')\n",
        "        return pf.censor(self.text)\n",
        "\n",
        "\n",
        "\n",
        "text1 = ProfanityChecker('what the fuck is this!!')\n",
        "print(text1.proff())"
      ],
      "metadata": {
        "id": "fHAkdI-jHtWf"
      },
      "execution_count": null,
      "outputs": []
    },
    {
      "cell_type": "markdown",
      "source": [
        "##Data Processing##"
      ],
      "metadata": {
        "id": "2vPORPlnXkyX"
      }
    },
    {
      "cell_type": "markdown",
      "source": [
        "##Text Classification and  Topic modeling"
      ],
      "metadata": {
        "id": "pNwkCCKiWR8c"
      }
    },
    {
      "cell_type": "code",
      "source": [
        "import re\n",
        "import numpy as np\n",
        "import pandas as pd\n",
        "from pprint import pprint\n",
        "\n",
        "# Gensim\n",
        "import gensim\n",
        "import gensim.corpora as corpora\n",
        "from gensim.utils import simple_preprocess\n",
        "from gensim.models import CoherenceModel\n",
        "\n",
        "# spacy for lemmatization\n",
        "import spacy\n",
        "\n",
        "# # Plotting tools\n",
        "# import pyLDAvis\n",
        "# import pyLDAvis.gensim  # don't skip this\n",
        "# import pyLDAvis.gensim_models\n",
        "import matplotlib.pyplot as plt\n",
        "%matplotlib inline\n",
        "\n",
        "# Enable logging for gensim - optional\n",
        "import logging\n",
        "logging.basicConfig(format='%(asctime)s : %(levelname)s : %(message)s', level=logging.ERROR)\n",
        "\n",
        "import warnings\n",
        "warnings.filterwarnings(\"ignore\",category=DeprecationWarning)"
      ],
      "metadata": {
        "id": "U7rgSeLZIrPk",
        "colab": {
          "base_uri": "https://localhost:8080/"
        },
        "outputId": "5eb7393f-f4be-470a-f121-f5b936d6eb7c"
      },
      "execution_count": 6,
      "outputs": [
        {
          "output_type": "stream",
          "name": "stderr",
          "text": [
            "/usr/local/lib/python3.7/dist-packages/scipy/sparse/sparsetools.py:21: DeprecationWarning: `scipy.sparse.sparsetools` is deprecated!\n",
            "scipy.sparse.sparsetools is a private module for scipy.sparse, and should not be used.\n",
            "  _deprecated()\n"
          ]
        }
      ]
    },
    {
      "cell_type": "code",
      "source": [
        ""
      ],
      "metadata": {
        "id": "eDTA4CxycDkH"
      },
      "execution_count": null,
      "outputs": []
    },
    {
      "cell_type": "code",
      "source": [
        "# import bertopic\n",
        "# from bertopic import BERTopic\n",
        "import nltk\n",
        "from nltk.corpus import stopwords\n",
        "nltk.download('stopwords')\n",
        "stop_words = nltk.corpus.stopwords.words('english')\n",
        "from nltk.stem import WordNetLemmatizer, SnowballStemmer\n",
        "from nltk.stem.porter import *\n",
        "nltk.download('wordnet')\n",
        "stemmer = SnowballStemmer(\"english\")"
      ],
      "metadata": {
        "id": "10O6EL3tMikv",
        "colab": {
          "base_uri": "https://localhost:8080/"
        },
        "outputId": "0bea9f35-deb3-41bc-d87d-b6f56e7a8114"
      },
      "execution_count": 11,
      "outputs": [
        {
          "output_type": "stream",
          "name": "stderr",
          "text": [
            "[nltk_data] Downloading package stopwords to /root/nltk_data...\n",
            "[nltk_data]   Package stopwords is already up-to-date!\n",
            "[nltk_data] Downloading package wordnet to /root/nltk_data...\n",
            "[nltk_data]   Package wordnet is already up-to-date!\n"
          ]
        }
      ]
    },
    {
      "cell_type": "code",
      "source": [
        "dfr.head()"
      ],
      "metadata": {
        "colab": {
          "base_uri": "https://localhost:8080/",
          "height": 337
        },
        "id": "V4DKHRKYDB4V",
        "outputId": "33b72dfc-a881-451c-b64f-6fdd4c6d3318"
      },
      "execution_count": null,
      "outputs": [
        {
          "output_type": "execute_result",
          "data": {
            "text/html": [
              "\n",
              "  <div id=\"df-5724673d-a45c-4fe0-ac0b-b624beb54e2f\">\n",
              "    <div class=\"colab-df-container\">\n",
              "      <div>\n",
              "<style scoped>\n",
              "    .dataframe tbody tr th:only-of-type {\n",
              "        vertical-align: middle;\n",
              "    }\n",
              "\n",
              "    .dataframe tbody tr th {\n",
              "        vertical-align: top;\n",
              "    }\n",
              "\n",
              "    .dataframe thead th {\n",
              "        text-align: right;\n",
              "    }\n",
              "</style>\n",
              "<table border=\"1\" class=\"dataframe\">\n",
              "  <thead>\n",
              "    <tr style=\"text-align: right;\">\n",
              "      <th></th>\n",
              "      <th>id</th>\n",
              "      <th>parent_id</th>\n",
              "      <th>subreddit_id</th>\n",
              "      <th>link_id</th>\n",
              "      <th>text</th>\n",
              "      <th>score</th>\n",
              "      <th>ups</th>\n",
              "      <th>author</th>\n",
              "      <th>controversiality</th>\n",
              "      <th>parent_link_id</th>\n",
              "      <th>parent_text</th>\n",
              "      <th>parent_score</th>\n",
              "      <th>parent_ups</th>\n",
              "      <th>parent_author</th>\n",
              "      <th>parent_controversiality</th>\n",
              "    </tr>\n",
              "  </thead>\n",
              "  <tbody>\n",
              "    <tr>\n",
              "      <th>0</th>\n",
              "      <td>c0a2d2p</td>\n",
              "      <td>t1_c0a2cn1</td>\n",
              "      <td>t5_1a8ah</td>\n",
              "      <td>t3_8pr4w</td>\n",
              "      <td>Na, not really. \\n\\nI just hate islam and ever...</td>\n",
              "      <td>-2946</td>\n",
              "      <td>-2946</td>\n",
              "      <td>b34nz</td>\n",
              "      <td>0</td>\n",
              "      <td>t3_8pr4w</td>\n",
              "      <td>What goes through the heads of you people?  Is...</td>\n",
              "      <td>459</td>\n",
              "      <td>459</td>\n",
              "      <td>[deleted]</td>\n",
              "      <td>0</td>\n",
              "    </tr>\n",
              "    <tr>\n",
              "      <th>1</th>\n",
              "      <td>c6okok8</td>\n",
              "      <td>t1_c6oaywb</td>\n",
              "      <td>t5_2s8e9</td>\n",
              "      <td>t3_11otij</td>\n",
              "      <td>lol you're some ugly ass white dude</td>\n",
              "      <td>-2724</td>\n",
              "      <td>-2724</td>\n",
              "      <td>letmetellyouhowitis</td>\n",
              "      <td>0</td>\n",
              "      <td>t3_11otij</td>\n",
              "      <td>This is worth noting.\\n\\nThankfully I don't.</td>\n",
              "      <td>72</td>\n",
              "      <td>72</td>\n",
              "      <td>flowen65</td>\n",
              "      <td>0</td>\n",
              "    </tr>\n",
              "    <tr>\n",
              "      <th>2</th>\n",
              "      <td>c3nlalf</td>\n",
              "      <td>t1_c3nijr7</td>\n",
              "      <td>t5_2qzb6</td>\n",
              "      <td>t3_p9a1v</td>\n",
              "      <td>First of off, its not true, and second off, I ...</td>\n",
              "      <td>-2132</td>\n",
              "      <td>-2132</td>\n",
              "      <td>iamwoodyharrelson</td>\n",
              "      <td>0</td>\n",
              "      <td>t3_p9a1v</td>\n",
              "      <td>I swear this is *(allegedly)* a true story.  I...</td>\n",
              "      <td>4028</td>\n",
              "      <td>4028</td>\n",
              "      <td>AndyRooney</td>\n",
              "      <td>0</td>\n",
              "    </tr>\n",
              "    <tr>\n",
              "      <th>3</th>\n",
              "      <td>c10nh8q</td>\n",
              "      <td>t1_c10nc34</td>\n",
              "      <td>t5_6</td>\n",
              "      <td>t3_djasj</td>\n",
              "      <td>Who made you reddit police? I will submit what...</td>\n",
              "      <td>-2117</td>\n",
              "      <td>-2117</td>\n",
              "      <td>JimmyJamesincorp</td>\n",
              "      <td>0</td>\n",
              "      <td>t3_djasj</td>\n",
              "      <td>I was on my way over here to bitch and moan ab...</td>\n",
              "      <td>1214</td>\n",
              "      <td>1214</td>\n",
              "      <td>SloaneRanger</td>\n",
              "      <td>0</td>\n",
              "    </tr>\n",
              "    <tr>\n",
              "      <th>4</th>\n",
              "      <td>c3nlufk</td>\n",
              "      <td>t1_c3nlcob</td>\n",
              "      <td>t5_2qzb6</td>\n",
              "      <td>t3_p9a1v</td>\n",
              "      <td>We gotta be...i consider my time valuable.</td>\n",
              "      <td>-1962</td>\n",
              "      <td>-1962</td>\n",
              "      <td>iamwoodyharrelson</td>\n",
              "      <td>0</td>\n",
              "      <td>t3_p9a1v</td>\n",
              "      <td>Should change this AMA to AMAAR (Ask Me Anythi...</td>\n",
              "      <td>1405</td>\n",
              "      <td>1405</td>\n",
              "      <td>bersh</td>\n",
              "      <td>0</td>\n",
              "    </tr>\n",
              "  </tbody>\n",
              "</table>\n",
              "</div>\n",
              "      <button class=\"colab-df-convert\" onclick=\"convertToInteractive('df-5724673d-a45c-4fe0-ac0b-b624beb54e2f')\"\n",
              "              title=\"Convert this dataframe to an interactive table.\"\n",
              "              style=\"display:none;\">\n",
              "        \n",
              "  <svg xmlns=\"http://www.w3.org/2000/svg\" height=\"24px\"viewBox=\"0 0 24 24\"\n",
              "       width=\"24px\">\n",
              "    <path d=\"M0 0h24v24H0V0z\" fill=\"none\"/>\n",
              "    <path d=\"M18.56 5.44l.94 2.06.94-2.06 2.06-.94-2.06-.94-.94-2.06-.94 2.06-2.06.94zm-11 1L8.5 8.5l.94-2.06 2.06-.94-2.06-.94L8.5 2.5l-.94 2.06-2.06.94zm10 10l.94 2.06.94-2.06 2.06-.94-2.06-.94-.94-2.06-.94 2.06-2.06.94z\"/><path d=\"M17.41 7.96l-1.37-1.37c-.4-.4-.92-.59-1.43-.59-.52 0-1.04.2-1.43.59L10.3 9.45l-7.72 7.72c-.78.78-.78 2.05 0 2.83L4 21.41c.39.39.9.59 1.41.59.51 0 1.02-.2 1.41-.59l7.78-7.78 2.81-2.81c.8-.78.8-2.07 0-2.86zM5.41 20L4 18.59l7.72-7.72 1.47 1.35L5.41 20z\"/>\n",
              "  </svg>\n",
              "      </button>\n",
              "      \n",
              "  <style>\n",
              "    .colab-df-container {\n",
              "      display:flex;\n",
              "      flex-wrap:wrap;\n",
              "      gap: 12px;\n",
              "    }\n",
              "\n",
              "    .colab-df-convert {\n",
              "      background-color: #E8F0FE;\n",
              "      border: none;\n",
              "      border-radius: 50%;\n",
              "      cursor: pointer;\n",
              "      display: none;\n",
              "      fill: #1967D2;\n",
              "      height: 32px;\n",
              "      padding: 0 0 0 0;\n",
              "      width: 32px;\n",
              "    }\n",
              "\n",
              "    .colab-df-convert:hover {\n",
              "      background-color: #E2EBFA;\n",
              "      box-shadow: 0px 1px 2px rgba(60, 64, 67, 0.3), 0px 1px 3px 1px rgba(60, 64, 67, 0.15);\n",
              "      fill: #174EA6;\n",
              "    }\n",
              "\n",
              "    [theme=dark] .colab-df-convert {\n",
              "      background-color: #3B4455;\n",
              "      fill: #D2E3FC;\n",
              "    }\n",
              "\n",
              "    [theme=dark] .colab-df-convert:hover {\n",
              "      background-color: #434B5C;\n",
              "      box-shadow: 0px 1px 3px 1px rgba(0, 0, 0, 0.15);\n",
              "      filter: drop-shadow(0px 1px 2px rgba(0, 0, 0, 0.3));\n",
              "      fill: #FFFFFF;\n",
              "    }\n",
              "  </style>\n",
              "\n",
              "      <script>\n",
              "        const buttonEl =\n",
              "          document.querySelector('#df-5724673d-a45c-4fe0-ac0b-b624beb54e2f button.colab-df-convert');\n",
              "        buttonEl.style.display =\n",
              "          google.colab.kernel.accessAllowed ? 'block' : 'none';\n",
              "\n",
              "        async function convertToInteractive(key) {\n",
              "          const element = document.querySelector('#df-5724673d-a45c-4fe0-ac0b-b624beb54e2f');\n",
              "          const dataTable =\n",
              "            await google.colab.kernel.invokeFunction('convertToInteractive',\n",
              "                                                     [key], {});\n",
              "          if (!dataTable) return;\n",
              "\n",
              "          const docLinkHtml = 'Like what you see? Visit the ' +\n",
              "            '<a target=\"_blank\" href=https://colab.research.google.com/notebooks/data_table.ipynb>data table notebook</a>'\n",
              "            + ' to learn more about interactive tables.';\n",
              "          element.innerHTML = '';\n",
              "          dataTable['output_type'] = 'display_data';\n",
              "          await google.colab.output.renderOutput(dataTable, element);\n",
              "          const docLink = document.createElement('div');\n",
              "          docLink.innerHTML = docLinkHtml;\n",
              "          element.appendChild(docLink);\n",
              "        }\n",
              "      </script>\n",
              "    </div>\n",
              "  </div>\n",
              "  "
            ],
            "text/plain": [
              "        id   parent_id  ... parent_author parent_controversiality\n",
              "0  c0a2d2p  t1_c0a2cn1  ...     [deleted]                       0\n",
              "1  c6okok8  t1_c6oaywb  ...      flowen65                       0\n",
              "2  c3nlalf  t1_c3nijr7  ...    AndyRooney                       0\n",
              "3  c10nh8q  t1_c10nc34  ...  SloaneRanger                       0\n",
              "4  c3nlufk  t1_c3nlcob  ...         bersh                       0\n",
              "\n",
              "[5 rows x 15 columns]"
            ]
          },
          "metadata": {},
          "execution_count": 11
        }
      ]
    },
    {
      "cell_type": "code",
      "source": [
        "dfr['n_characters'] = dfr['text'].str.len()"
      ],
      "metadata": {
        "id": "cG-Y1QLxgkPB"
      },
      "execution_count": 12,
      "outputs": []
    },
    {
      "cell_type": "code",
      "source": [
        "dfr.query(\"n_characters>20\").sort_values('n_characters', ascending=False)['text'][1]"
      ],
      "metadata": {
        "colab": {
          "base_uri": "https://localhost:8080/"
        },
        "id": "9t6VjaCZhvnW",
        "outputId": "c4a3c5d0-482e-433d-c5bd-d1ab114b97ac"
      },
      "execution_count": 13,
      "outputs": [
        {
          "output_type": "execute_result",
          "data": {
            "text/plain": [
              "1    Well, it is exactly what it sounds like. It's ...\n",
              "1                  lol you're some ugly ass white dude\n",
              "Name: text, dtype: object"
            ]
          },
          "metadata": {},
          "execution_count": 13
        }
      ]
    },
    {
      "cell_type": "code",
      "source": [
        "dfr.loc[1]"
      ],
      "metadata": {
        "id": "vplfjmCFiWMs",
        "colab": {
          "base_uri": "https://localhost:8080/",
          "height": 384
        },
        "outputId": "ef0ceac4-703a-4f14-98f3-a84be5bab463"
      },
      "execution_count": 13,
      "outputs": [
        {
          "output_type": "execute_result",
          "data": {
            "text/plain": [
              "        id   parent_id subreddit_id    link_id  \\\n",
              "1  c6okok8  t1_c6oaywb     t5_2s8e9  t3_11otij   \n",
              "1  c4imcva  t1_c4im948     t5_2qh1i   t3_t0ynr   \n",
              "\n",
              "                                                text  score   ups  \\\n",
              "1                lol you're some ugly ass white dude  -2724 -2724   \n",
              "1  Well, it is exactly what it sounds like. It's ...   9531  9531   \n",
              "\n",
              "                author  controversiality parent_link_id  \\\n",
              "1  letmetellyouhowitis                 0      t3_11otij   \n",
              "1              Lynfect                 0       t3_t0ynr   \n",
              "\n",
              "                                     parent_text  parent_score  parent_ups  \\\n",
              "1  This is worth noting.\\n\\nThankfully I don't.             72          72   \n",
              "1             Elaborate on this cum box, please.          3841        3841   \n",
              "\n",
              "  parent_author  parent_controversiality  n_characters  \n",
              "1      flowen65                        0          35.0  \n",
              "1      eeeeevil                        0        1746.0  "
            ],
            "text/html": [
              "\n",
              "  <div id=\"df-8fcdd968-54dd-4475-9935-9f6fe7fa84bc\">\n",
              "    <div class=\"colab-df-container\">\n",
              "      <div>\n",
              "<style scoped>\n",
              "    .dataframe tbody tr th:only-of-type {\n",
              "        vertical-align: middle;\n",
              "    }\n",
              "\n",
              "    .dataframe tbody tr th {\n",
              "        vertical-align: top;\n",
              "    }\n",
              "\n",
              "    .dataframe thead th {\n",
              "        text-align: right;\n",
              "    }\n",
              "</style>\n",
              "<table border=\"1\" class=\"dataframe\">\n",
              "  <thead>\n",
              "    <tr style=\"text-align: right;\">\n",
              "      <th></th>\n",
              "      <th>id</th>\n",
              "      <th>parent_id</th>\n",
              "      <th>subreddit_id</th>\n",
              "      <th>link_id</th>\n",
              "      <th>text</th>\n",
              "      <th>score</th>\n",
              "      <th>ups</th>\n",
              "      <th>author</th>\n",
              "      <th>controversiality</th>\n",
              "      <th>parent_link_id</th>\n",
              "      <th>parent_text</th>\n",
              "      <th>parent_score</th>\n",
              "      <th>parent_ups</th>\n",
              "      <th>parent_author</th>\n",
              "      <th>parent_controversiality</th>\n",
              "      <th>n_characters</th>\n",
              "    </tr>\n",
              "  </thead>\n",
              "  <tbody>\n",
              "    <tr>\n",
              "      <th>1</th>\n",
              "      <td>c6okok8</td>\n",
              "      <td>t1_c6oaywb</td>\n",
              "      <td>t5_2s8e9</td>\n",
              "      <td>t3_11otij</td>\n",
              "      <td>lol you're some ugly ass white dude</td>\n",
              "      <td>-2724</td>\n",
              "      <td>-2724</td>\n",
              "      <td>letmetellyouhowitis</td>\n",
              "      <td>0</td>\n",
              "      <td>t3_11otij</td>\n",
              "      <td>This is worth noting.\\n\\nThankfully I don't.</td>\n",
              "      <td>72</td>\n",
              "      <td>72</td>\n",
              "      <td>flowen65</td>\n",
              "      <td>0</td>\n",
              "      <td>35.0</td>\n",
              "    </tr>\n",
              "    <tr>\n",
              "      <th>1</th>\n",
              "      <td>c4imcva</td>\n",
              "      <td>t1_c4im948</td>\n",
              "      <td>t5_2qh1i</td>\n",
              "      <td>t3_t0ynr</td>\n",
              "      <td>Well, it is exactly what it sounds like. It's ...</td>\n",
              "      <td>9531</td>\n",
              "      <td>9531</td>\n",
              "      <td>Lynfect</td>\n",
              "      <td>0</td>\n",
              "      <td>t3_t0ynr</td>\n",
              "      <td>Elaborate on this cum box, please.</td>\n",
              "      <td>3841</td>\n",
              "      <td>3841</td>\n",
              "      <td>eeeeevil</td>\n",
              "      <td>0</td>\n",
              "      <td>1746.0</td>\n",
              "    </tr>\n",
              "  </tbody>\n",
              "</table>\n",
              "</div>\n",
              "      <button class=\"colab-df-convert\" onclick=\"convertToInteractive('df-8fcdd968-54dd-4475-9935-9f6fe7fa84bc')\"\n",
              "              title=\"Convert this dataframe to an interactive table.\"\n",
              "              style=\"display:none;\">\n",
              "        \n",
              "  <svg xmlns=\"http://www.w3.org/2000/svg\" height=\"24px\"viewBox=\"0 0 24 24\"\n",
              "       width=\"24px\">\n",
              "    <path d=\"M0 0h24v24H0V0z\" fill=\"none\"/>\n",
              "    <path d=\"M18.56 5.44l.94 2.06.94-2.06 2.06-.94-2.06-.94-.94-2.06-.94 2.06-2.06.94zm-11 1L8.5 8.5l.94-2.06 2.06-.94-2.06-.94L8.5 2.5l-.94 2.06-2.06.94zm10 10l.94 2.06.94-2.06 2.06-.94-2.06-.94-.94-2.06-.94 2.06-2.06.94z\"/><path d=\"M17.41 7.96l-1.37-1.37c-.4-.4-.92-.59-1.43-.59-.52 0-1.04.2-1.43.59L10.3 9.45l-7.72 7.72c-.78.78-.78 2.05 0 2.83L4 21.41c.39.39.9.59 1.41.59.51 0 1.02-.2 1.41-.59l7.78-7.78 2.81-2.81c.8-.78.8-2.07 0-2.86zM5.41 20L4 18.59l7.72-7.72 1.47 1.35L5.41 20z\"/>\n",
              "  </svg>\n",
              "      </button>\n",
              "      \n",
              "  <style>\n",
              "    .colab-df-container {\n",
              "      display:flex;\n",
              "      flex-wrap:wrap;\n",
              "      gap: 12px;\n",
              "    }\n",
              "\n",
              "    .colab-df-convert {\n",
              "      background-color: #E8F0FE;\n",
              "      border: none;\n",
              "      border-radius: 50%;\n",
              "      cursor: pointer;\n",
              "      display: none;\n",
              "      fill: #1967D2;\n",
              "      height: 32px;\n",
              "      padding: 0 0 0 0;\n",
              "      width: 32px;\n",
              "    }\n",
              "\n",
              "    .colab-df-convert:hover {\n",
              "      background-color: #E2EBFA;\n",
              "      box-shadow: 0px 1px 2px rgba(60, 64, 67, 0.3), 0px 1px 3px 1px rgba(60, 64, 67, 0.15);\n",
              "      fill: #174EA6;\n",
              "    }\n",
              "\n",
              "    [theme=dark] .colab-df-convert {\n",
              "      background-color: #3B4455;\n",
              "      fill: #D2E3FC;\n",
              "    }\n",
              "\n",
              "    [theme=dark] .colab-df-convert:hover {\n",
              "      background-color: #434B5C;\n",
              "      box-shadow: 0px 1px 3px 1px rgba(0, 0, 0, 0.15);\n",
              "      filter: drop-shadow(0px 1px 2px rgba(0, 0, 0, 0.3));\n",
              "      fill: #FFFFFF;\n",
              "    }\n",
              "  </style>\n",
              "\n",
              "      <script>\n",
              "        const buttonEl =\n",
              "          document.querySelector('#df-8fcdd968-54dd-4475-9935-9f6fe7fa84bc button.colab-df-convert');\n",
              "        buttonEl.style.display =\n",
              "          google.colab.kernel.accessAllowed ? 'block' : 'none';\n",
              "\n",
              "        async function convertToInteractive(key) {\n",
              "          const element = document.querySelector('#df-8fcdd968-54dd-4475-9935-9f6fe7fa84bc');\n",
              "          const dataTable =\n",
              "            await google.colab.kernel.invokeFunction('convertToInteractive',\n",
              "                                                     [key], {});\n",
              "          if (!dataTable) return;\n",
              "\n",
              "          const docLinkHtml = 'Like what you see? Visit the ' +\n",
              "            '<a target=\"_blank\" href=https://colab.research.google.com/notebooks/data_table.ipynb>data table notebook</a>'\n",
              "            + ' to learn more about interactive tables.';\n",
              "          element.innerHTML = '';\n",
              "          dataTable['output_type'] = 'display_data';\n",
              "          await google.colab.output.renderOutput(dataTable, element);\n",
              "          const docLink = document.createElement('div');\n",
              "          docLink.innerHTML = docLinkHtml;\n",
              "          element.appendChild(docLink);\n",
              "        }\n",
              "      </script>\n",
              "    </div>\n",
              "  </div>\n",
              "  "
            ]
          },
          "metadata": {},
          "execution_count": 13
        }
      ]
    },
    {
      "cell_type": "code",
      "source": [
        "# df = pd.read_json('https://raw.githubusercontent.com/selva86/datasets/master/newsgroups.json')\n",
        "# df.head()"
      ],
      "metadata": {
        "id": "M-_pb6_BXmTS"
      },
      "execution_count": null,
      "outputs": []
    },
    {
      "cell_type": "markdown",
      "source": [
        "###Extract the text part from data set and process it\n",
        "The processes include some of aplied text mining methods like lemmatzing, stemming, removing stopwords, n-grams etc"
      ],
      "metadata": {
        "id": "sUgUOK9MNcqP"
      }
    },
    {
      "cell_type": "code",
      "source": [
        "# datam = df.content.values.tolist()\n",
        "\n",
        "# # Remove Emails\n",
        "# datam = [re.sub('\\S*@\\S*\\s?', '', sent) for sent in datam]\n",
        "\n",
        "# # Remove new line characters\n",
        "# datam = [re.sub('\\s+', ' ', sent) for sent in datam]\n",
        "\n",
        "# # Remove distracting single quotes\n",
        "# data_lemmatized = [re.sub(\"\\'\", \"\", sent) for sent in datam]\n",
        "\n",
        "# print(datam[:1])"
      ],
      "metadata": {
        "colab": {
          "base_uri": "https://localhost:8080/"
        },
        "id": "VRmLDcqqowby",
        "outputId": "c4b2208f-7c2d-4d60-c268-787b16044ad4"
      },
      "execution_count": null,
      "outputs": [
        {
          "output_type": "stream",
          "name": "stdout",
          "text": [
            "['From: (wheres my thing) Subject: WHAT car is this!? Nntp-Posting-Host: rac3.wam.umd.edu Organization: University of Maryland, College Park Lines: 15 I was wondering if anyone out there could enlighten me on this car I saw the other day. It was a 2-door sports car, looked to be from the late 60s/ early 70s. It was called a Bricklin. The doors were really small. In addition, the front bumper was separate from the rest of the body. This is all I know. If anyone can tellme a model name, engine specs, years of production, where this car is made, history, or whatever info you have on this funky looking car, please e-mail. Thanks, - IL ---- brought to you by your neighborhood Lerxst ---- ']\n"
          ]
        }
      ]
    },
    {
      "cell_type": "code",
      "source": [
        "data = dfr.text.sample(n = 50000).values.tolist()"
      ],
      "metadata": {
        "id": "lazjR4_jCZZ6"
      },
      "execution_count": 14,
      "outputs": []
    },
    {
      "cell_type": "code",
      "source": [
        "for i in range(len(data)-2):\n",
        "  if type(data[i]) != str:\n",
        "    data.pop(i)\n",
        "len(data)"
      ],
      "metadata": {
        "colab": {
          "base_uri": "https://localhost:8080/"
        },
        "id": "1of99vYXMqag",
        "outputId": "54af5ef4-8a80-430c-8111-dd9d51155f8e"
      },
      "execution_count": 17,
      "outputs": [
        {
          "output_type": "execute_result",
          "data": {
            "text/plain": [
              "50000"
            ]
          },
          "metadata": {},
          "execution_count": 17
        }
      ]
    },
    {
      "cell_type": "code",
      "source": [
        "def remove_punctuation(text):\n",
        "    return [tex.replace('[^\\w\\s]','') for tex in text]\n",
        "\n",
        "nop = remove_punctuation(data)\n"
      ],
      "metadata": {
        "id": "BLaaO1oh65lM"
      },
      "execution_count": 18,
      "outputs": []
    },
    {
      "cell_type": "code",
      "source": [
        "nop"
      ],
      "metadata": {
        "id": "GSspxxVxFjQR"
      },
      "execution_count": null,
      "outputs": []
    },
    {
      "cell_type": "code",
      "source": [
        "def removesigns(text):\n",
        "    for i in range(len(text)):\n",
        "        text[i] = text[i].replace('.','').replace('/','').replace(\"'\",'').replace('\"','').replace(';','').replace(':','').replace('!','').replace(':','').replace('?','').replace('-','').replace('[','')"
      ],
      "metadata": {
        "id": "dfWiv8JzEtX_"
      },
      "execution_count": 19,
      "outputs": []
    },
    {
      "cell_type": "code",
      "source": [
        "data = nop"
      ],
      "metadata": {
        "id": "QJpWeDxKFrK6"
      },
      "execution_count": 20,
      "outputs": []
    },
    {
      "cell_type": "code",
      "source": [
        "print(nop[:25])"
      ],
      "metadata": {
        "colab": {
          "base_uri": "https://localhost:8080/"
        },
        "id": "xenO_Ep7DnpH",
        "outputId": "2e229ab0-bb8b-406d-bc10-d0201f742970"
      },
      "execution_count": 69,
      "outputs": [
        {
          "output_type": "stream",
          "name": "stdout",
          "text": [
            "['uh, nice user name.\\n\\nNOT', 'Everything but the Brownie rinse is true. Rinsing it off is to much work. ', '/r/notinteresting', 'This is from an earlier question: \"One time a lady asked me to throw a shrimp between her breasts. I kept refusing, but she kept insisting, so I obliged. Immediately her husband stood up and was like \"What the hell?!?!?!\" I was shocked for a second, then he busted out laughing and was like \"I\\'m just messing with you man.\" I then retired to the kitchen and changed my drawers.\"', \"    Just because someone \\n    is poor doesn't mean they have \\n    to be messy though\", \"He'll take it in the end.\", 'Apparently this is DOTA, not League. ', 'Finally, a use for all these mouse dicks. ', 'And the blonde chick with those gnarly green nails...cringeworthy. Those nails aint stepping anywhere near my controllers.', 'You wouldn\\'t even know you I was saying if you had the filter on.\\n    \"I love big **** ***** \" ... \" Cause I\\'m a stereotypical *** \" ... \" I\\'m a *** idiot \" ... \" *** me \" (ok, maybe that last one.)\\n\\nBut seriously, if you\\'re REALLY offended by what I\\'m saying, turn on your DAMN chat filter. It\\'s on by default, I know you know where it is.', 'Wow. What a friend, looking out for me like that. Much appreciated.', 'I too do this.', '\\\\**Cough*\\\\* Just tell mom...  \\\\**splutter*\\\\* ...your mom,  \\\\**wheeze*\\\\* she knew how to please a man.....', 'any word yet on the other dog involved in the collision?', 'Go on...', 'Jumping and dropshotting.? Bet you quickscope too. ', \"Wow, you're a sharp one. \", 'Perhaps it represents the decline in common civility?', 'I think since most surgeries start once you are out cold that she probably shut her eyes but then could not open them because of the paralytics. ', 'Asian Per Minute?', 'Yin and Yang?\\n\\nOne of the most calm, soft-spoken casters next to the loudest, most obnoxious motherfucker on the planet. ', 'Why do you guys do live-shots in non-emergency situations? It seems like it would be easier to just record the segment beforehand.', 'Yes? ', 'This is exactly right. While its funny to point out how crazy people shouldn\\'t have been married its not really an argument for why we should have same sex marriage. How about we allow same sex marriage because they are Americans and deserve the same rights all other Americans get, and not because \"marriage is ruined so let everyone have it, even those gays\"', '&amp;#3232;\\\\_&amp;#3232;&amp;#3232;\\\\_&amp;#3232;&amp;#3232;\\\\_&amp;#3232;&amp;#3232;\\\\_&amp;#3232;&amp;#3232;\\\\_&amp;#3232;&amp;#3232;\\\\_&amp;#3232;&amp;#3232;\\\\_&amp;#3232;&amp;#3232;\\\\_&amp;#3232;&amp;#3232;\\\\_&amp;#3232;']\n"
          ]
        }
      ]
    },
    {
      "cell_type": "markdown",
      "source": [
        "###Tokenizer\n",
        "it will seperate the text by tokens"
      ],
      "metadata": {
        "id": "6B1EV8CqNiNU"
      }
    },
    {
      "cell_type": "code",
      "source": [
        "def sent_to_words(sentences):\n",
        "    for sentence in sentences:\n",
        "        yield(gensim.utils.simple_preprocess(str(sentence), deacc=True))  # deacc=True removes punctuations\n",
        "\n",
        "data_words = list(sent_to_words(data))\n",
        "\n",
        "print(data_words[:1])"
      ],
      "metadata": {
        "colab": {
          "base_uri": "https://localhost:8080/"
        },
        "id": "yn1T5GNsIHVG",
        "outputId": "c79aee29-e7fd-480e-cfb4-9d62f40ed472"
      },
      "execution_count": 21,
      "outputs": [
        {
          "output_type": "stream",
          "name": "stdout",
          "text": [
            "[['forbidden', 'loaf']]\n"
          ]
        }
      ]
    },
    {
      "cell_type": "markdown",
      "source": [
        "###N-grams and Lemmatizing"
      ],
      "metadata": {
        "id": "ZvTFp2KjNn3p"
      }
    },
    {
      "cell_type": "code",
      "source": [
        "# Build the bigram and trigram models\n",
        "bigram = gensim.models.Phrases(data_words, min_count=5, threshold=100) # higher threshold fewer phrases.\n",
        "trigram = gensim.models.Phrases(bigram[data_words], threshold=100)  \n",
        "\n",
        "# Faster way to get a sentence clubbed as a trigram/bigram\n",
        "bigram_mod = gensim.models.phrases.Phraser(bigram)\n",
        "trigram_mod = gensim.models.phrases.Phraser(trigram)\n",
        "\n",
        "# See trigram example\n",
        "print(trigram_mod[bigram_mod[data_words[0]]])"
      ],
      "metadata": {
        "colab": {
          "base_uri": "https://localhost:8080/"
        },
        "id": "YFxpXZvIIhHE",
        "outputId": "bccc9ddc-995b-486b-d833-b746ee0cb955"
      },
      "execution_count": 22,
      "outputs": [
        {
          "output_type": "stream",
          "name": "stderr",
          "text": [
            "/usr/local/lib/python3.7/dist-packages/gensim/models/phrases.py:598: UserWarning: For a faster implementation, use the gensim.models.phrases.Phraser class\n",
            "  warnings.warn(\"For a faster implementation, use the gensim.models.phrases.Phraser class\")\n"
          ]
        },
        {
          "output_type": "stream",
          "name": "stdout",
          "text": [
            "['forbidden', 'loaf']\n"
          ]
        }
      ]
    },
    {
      "cell_type": "code",
      "source": [
        "print(trigram_mod[bigram_mod[data_words[0]]])"
      ],
      "metadata": {
        "colab": {
          "base_uri": "https://localhost:8080/"
        },
        "id": "f2Gq5A_XhL3O",
        "outputId": "4a1e1e83-9149-4208-d355-72036a060621"
      },
      "execution_count": 23,
      "outputs": [
        {
          "output_type": "stream",
          "name": "stdout",
          "text": [
            "['forbidden', 'loaf']\n"
          ]
        }
      ]
    },
    {
      "cell_type": "code",
      "source": [
        "# Define functions for stopwords, bigrams, trigrams and lemmatization\n",
        "def remove_stopwords(texts):\n",
        "    return [[word for word in simple_preprocess(str(doc)) if word not in stop_words] for doc in texts]\n",
        "\n",
        "def make_bigrams(texts):\n",
        "    return [bigram_mod[doc] for doc in texts]\n",
        "\n",
        "def make_trigrams(texts):\n",
        "    return [trigram_mod[bigram_mod[doc]] for doc in texts]\n",
        "\n",
        "def lemmatization(texts, allowed_postags=['NOUN', 'ADJ', 'VERB', 'ADV']):\n",
        "    # \"\"\"https://spacy.io/api/annotation\"\"\"\n",
        "    texts_out = []\n",
        "    for sent in texts:\n",
        "        doc = nlp(\" \".join(sent)) \n",
        "        texts_out.append([token.lemma_ for token in doc if token.pos_ in allowed_postags])\n",
        "    return texts_out\n",
        "def lemmatize_stemming(text):\n",
        "    return stemmer.stem(WordNetLemmatizer().lemmatize(text, pos='v'))\n",
        "\n",
        "# Tokenize and lemmatize\n",
        "def preprocess(text):\n",
        "    result=[]\n",
        "    for token in gensim.utils.simple_preprocess(text) :\n",
        "        if token not in gensim.parsing.preprocessing.STOPWORDS and len(token) > 3:\n",
        "            result.append(lemmatize_stemming(token))\n",
        "            \n",
        "    return result\n"
      ],
      "metadata": {
        "id": "TEBdVNVKN_lP"
      },
      "execution_count": 24,
      "outputs": []
    },
    {
      "cell_type": "code",
      "source": [
        "# Remove Stop Words\n",
        "data_words_nostops = remove_stopwords(data_words)\n",
        "\n",
        "# Form Bigrams\n",
        "data_words_bigrams = make_bigrams(data_words_nostops)\n",
        "\n",
        "# Initialize spacy 'en' model, keeping only tagger component (for efficiency)\n",
        "# python3 -m spacy download en\n",
        "# nlp = spacy.blank(\"en\")\n",
        "nlp = spacy.load(\"en_core_web_sm\", disable=['parser', 'ner'])\n",
        "\n",
        "# Do lemmatization keeping only noun, adj, vb, adv\n",
        "data_lemmatized = lemmatization(data_words_bigrams, allowed_postags=['NOUN', 'ADJ', 'VERB', 'ADV'])\n",
        "\n",
        "print(data_lemmatized[:1])"
      ],
      "metadata": {
        "colab": {
          "base_uri": "https://localhost:8080/"
        },
        "id": "QrL0fw2dNvGm",
        "outputId": "f828ba9a-0cb9-4a61-e7d5-95c1a8fc4b09"
      },
      "execution_count": 25,
      "outputs": [
        {
          "output_type": "stream",
          "name": "stdout",
          "text": [
            "[['forbid', 'loaf']]\n"
          ]
        }
      ]
    },
    {
      "cell_type": "code",
      "source": [
        "# #LET'S REPEAT STEPS THORUGH THERE FOR REDDIT TEXTS \n",
        "# # Remove Stop Words\n",
        "# data_words_nostops = remove_stopwords(data_words)\n",
        "\n",
        "# # Form Bigrams\n",
        "# data_words_bigrams = make_bigrams(data_words_nostops)\n",
        "\n",
        "# # Initialize spacy 'en' model, keeping only tagger component (for efficiency)\n",
        "# # python3 -m spacy download en\n",
        "# nlp = spacy.load('en', disable=['parser', 'ner'])\n",
        "\n",
        "# # Do lemmatization keeping only noun, adj, vb, adv\n",
        "# data_lemmatized = lemmatization(data_words_bigrams, allowed_postags=['NOUN', 'ADJ', 'VERB', 'ADV'])\n",
        "\n",
        "# print(data_lemmatized[:1])"
      ],
      "metadata": {
        "id": "MiscqnzuOPd3"
      },
      "execution_count": null,
      "outputs": []
    },
    {
      "cell_type": "code",
      "source": [
        ""
      ],
      "metadata": {
        "id": "AJIDA9VtOcb-"
      },
      "execution_count": null,
      "outputs": []
    },
    {
      "cell_type": "markdown",
      "source": [
        "###Corpus and Dictionary"
      ],
      "metadata": {
        "id": "uwaihnr2NxJQ"
      }
    },
    {
      "cell_type": "code",
      "source": [
        "# Create Dictionary\n",
        "id2word = corpora.Dictionary(data_lemmatized)\n"
      ],
      "metadata": {
        "id": "eTLZHLsRNlRz"
      },
      "execution_count": 26,
      "outputs": []
    },
    {
      "cell_type": "markdown",
      "source": [
        "### Remove very rare and very common words:"
      ],
      "metadata": {
        "id": "JlkLHByud62Z"
      }
    },
    {
      "cell_type": "code",
      "source": [
        "\n",
        "# - words appearing less than 15 times\n",
        "# - words appearing in more than 10% of all documents\n",
        "\n",
        "# id2word.filter_extremes(no_below=5, no_above=0.1, keep_n= 100000)"
      ],
      "metadata": {
        "id": "GS9ayZrwZTPn"
      },
      "execution_count": null,
      "outputs": []
    },
    {
      "cell_type": "code",
      "source": [
        "\n",
        "# Create Corpus\n",
        "\n",
        "texts = data_lemmatized\n",
        "\n",
        "# Term Document Frequency\n",
        "corpus = [id2word.doc2bow(text) for text in texts]\n",
        "\n",
        "# View\n",
        "print(corpus[:1])\n",
        "print(id2word[0])"
      ],
      "metadata": {
        "colab": {
          "base_uri": "https://localhost:8080/"
        },
        "id": "RX0282mKeRin",
        "outputId": "ffca9800-4c39-42a5-97a7-8f6ae8ad5b1b"
      },
      "execution_count": 27,
      "outputs": [
        {
          "output_type": "stream",
          "name": "stdout",
          "text": [
            "[[(0, 1), (1, 1)]]\n",
            "forbid\n"
          ]
        }
      ]
    },
    {
      "cell_type": "code",
      "source": [
        "document_num = 2\n",
        "bow_doc_x = corpus[document_num]\n",
        "\n",
        "for i in range(len(bow_doc_x)):\n",
        "    print(\"Word {} (\\\"{}\\\") appears {} time.\".format(bow_doc_x[i][0], \n",
        "                                                     id2word[bow_doc_x[i][0]], \n",
        "                                                     bow_doc_x[i][1]))"
      ],
      "metadata": {
        "colab": {
          "base_uri": "https://localhost:8080/"
        },
        "id": "BhO_kQNrY8pN",
        "outputId": "f8bee2fb-29b5-49ad-c5d1-6192ab2ef314"
      },
      "execution_count": 28,
      "outputs": [
        {
          "output_type": "stream",
          "name": "stdout",
          "text": [
            "Word 2 (\"business\") appears 2 time.\n",
            "Word 3 (\"constraint\") appears 1 time.\n",
            "Word 4 (\"consumer\") appears 1 time.\n",
            "Word 5 (\"cost\") appears 1 time.\n",
            "Word 6 (\"dedicate\") appears 1 time.\n",
            "Word 7 (\"delicious\") appears 1 time.\n",
            "Word 8 (\"dish\") appears 1 time.\n",
            "Word 9 (\"factory\") appears 1 time.\n",
            "Word 10 (\"favorite\") appears 1 time.\n",
            "Word 11 (\"feasibility\") appears 1 time.\n",
            "Word 12 (\"food\") appears 1 time.\n",
            "Word 13 (\"fortunately\") appears 1 time.\n",
            "Word 14 (\"know\") appears 1 time.\n",
            "Word 15 (\"large\") appears 2 time.\n",
            "Word 16 (\"look\") appears 1 time.\n",
            "Word 17 (\"make\") appears 2 time.\n",
            "Word 18 (\"nutritional\") appears 1 time.\n",
            "Word 19 (\"organize\") appears 1 time.\n",
            "Word 20 (\"picture\") appears 1 time.\n",
            "Word 21 (\"portion\") appears 3 time.\n",
            "Word 22 (\"possible\") appears 1 time.\n",
            "Word 23 (\"product\") appears 1 time.\n",
            "Word 24 (\"refrain\") appears 1 time.\n",
            "Word 25 (\"say\") appears 1 time.\n",
            "Word 26 (\"service\") appears 1 time.\n",
            "Word 27 (\"space\") appears 1 time.\n",
            "Word 28 (\"spicy\") appears 1 time.\n",
            "Word 29 (\"stay\") appears 1 time.\n",
            "Word 30 (\"super\") appears 1 time.\n",
            "Word 31 (\"taste\") appears 1 time.\n",
            "Word 32 (\"turn\") appears 1 time.\n",
            "Word 33 (\"use\") appears 1 time.\n",
            "Word 34 (\"work\") appears 1 time.\n"
          ]
        }
      ]
    },
    {
      "cell_type": "code",
      "source": [
        "# [[(id2word[id], freq) for id, freq in cp] for cp in corpus[:1]]"
      ],
      "metadata": {
        "id": "wpHuHlNeOf7l"
      },
      "execution_count": null,
      "outputs": []
    },
    {
      "cell_type": "code",
      "source": [
        "# LDA multicore \n",
        "'''\n",
        "Train your lda model using gensim.models.LdaMulticore and save it to 'lda_model'\n",
        "'''\n",
        "# TODO\n",
        "al_lda_model =  gensim.models.LdaMulticore(corpus, \n",
        "                                   num_topics = 8, \n",
        "                                   id2word = id2word,                                    \n",
        "                                   passes = 10,\n",
        "                                   workers = 2)"
      ],
      "metadata": {
        "id": "sc8mmnd_Zv4l"
      },
      "execution_count": 29,
      "outputs": []
    },
    {
      "cell_type": "code",
      "source": [
        "'''\n",
        "For each topic, we will explore the words occuring in that topic and its relative weight\n",
        "'''\n",
        "for idx, topic in al_lda_model.print_topics(-1):\n",
        "    print(\"Topic: {} \\nWords: {}\".format(idx, topic ))\n",
        "    print(\"\\n\")"
      ],
      "metadata": {
        "colab": {
          "base_uri": "https://localhost:8080/"
        },
        "id": "g89r6vCZZ6yj",
        "outputId": "045ae645-3b4a-4a79-de34-c56ba4413646"
      },
      "execution_count": 32,
      "outputs": [
        {
          "output_type": "stream",
          "name": "stdout",
          "text": [
            "Topic: 0 \n",
            "Words: 0.008*\"make\" + 0.007*\"good\" + 0.007*\"see\" + 0.007*\"time\" + 0.005*\"year\" + 0.005*\"actually\" + 0.005*\"even\" + 0.005*\"show\" + 0.005*\"work\" + 0.005*\"great\"\n",
            "\n",
            "\n",
            "Topic: 1 \n",
            "Words: 0.018*\"amp\" + 0.008*\"use\" + 0.008*\"baby\" + 0.008*\"sex\" + 0.006*\"eat\" + 0.006*\"food\" + 0.006*\"nice\" + 0.005*\"cry\" + 0.005*\"pic\" + 0.005*\"penis\"\n",
            "\n",
            "\n",
            "Topic: 2 \n",
            "Words: 0.056*\"com\" + 0.020*\"reddit\" + 0.012*\"http\" + 0.010*\"suite_http\" + 0.010*\"reddit_enhancement\" + 0.008*\"gif\" + 0.008*\"dog\" + 0.007*\"apple\" + 0.007*\"user\" + 0.007*\"link\"\n",
            "\n",
            "\n",
            "Topic: 3 \n",
            "Words: 0.030*\"get\" + 0.021*\"go\" + 0.012*\"time\" + 0.008*\"know\" + 0.008*\"say\" + 0.008*\"make\" + 0.008*\"day\" + 0.007*\"work\" + 0.007*\"year\" + 0.007*\"really\"\n",
            "\n",
            "\n",
            "Topic: 4 \n",
            "Words: 0.024*\"think\" + 0.022*\"people\" + 0.016*\"woman\" + 0.012*\"man\" + 0.009*\"say\" + 0.009*\"way\" + 0.009*\"make\" + 0.008*\"well\" + 0.007*\"really\" + 0.007*\"thing\"\n",
            "\n",
            "\n",
            "Topic: 5 \n",
            "Words: 0.032*\"game\" + 0.020*\"play\" + 0.017*\"make\" + 0.012*\"team\" + 0.012*\"see\" + 0.010*\"look\" + 0.009*\"player\" + 0.008*\"take\" + 0.008*\"op\" + 0.007*\"think\"\n",
            "\n",
            "\n",
            "Topic: 6 \n",
            "Words: 0.029*\"fuck\" + 0.016*\"get\" + 0.015*\"comment\" + 0.014*\"reddit\" + 0.013*\"say\" + 0.013*\"post\" + 0.013*\"know\" + 0.012*\"people\" + 0.012*\"downvote\" + 0.012*\"go\"\n",
            "\n",
            "\n",
            "Topic: 7 \n",
            "Words: 0.018*\"people\" + 0.016*\"say\" + 0.009*\"make\" + 0.008*\"use\" + 0.007*\"thing\" + 0.006*\"mean\" + 0.006*\"word\" + 0.006*\"know\" + 0.006*\"want\" + 0.006*\"need\"\n",
            "\n",
            "\n"
          ]
        }
      ]
    },
    {
      "cell_type": "code",
      "source": [
        "num = 55\n",
        "unseen_document = data[num]\n",
        "print(unseen_document)"
      ],
      "metadata": {
        "colab": {
          "base_uri": "https://localhost:8080/"
        },
        "id": "lQ59CBLHamzE",
        "outputId": "afe72fde-1b29-4808-c209-101780a8ba36"
      },
      "execution_count": 33,
      "outputs": [
        {
          "output_type": "stream",
          "name": "stdout",
          "text": [
            "I personally don't think so, but just to play devils advocate -- AP will be 30 years old by the start of next season at a position which is by far the quickest to age, and he'll be well over a year removed from any actual playing time, so really wouldn't be *too* crazy if it worked out like that. And that's not even counting the PR stuff that's unfortunately going to go along with it for whoever he lands with.\n"
          ]
        }
      ]
    },
    {
      "cell_type": "code",
      "source": [
        "bow_vector = id2word.doc2bow(preprocess(unseen_document))\n",
        "\n",
        "for index, score in sorted(al_lda_model[bow_vector], key=lambda tup: -1*tup[1]):\n",
        "    print(\"Score: {}\\t Topic: {}\".format(score, al_lda_model.print_topic(index, 5)))"
      ],
      "metadata": {
        "colab": {
          "base_uri": "https://localhost:8080/"
        },
        "id": "x_uvy-zGaphs",
        "outputId": "8abb4bd1-6144-4f76-96a6-a3e49b79921a"
      },
      "execution_count": 34,
      "outputs": [
        {
          "output_type": "stream",
          "name": "stdout",
          "text": [
            "Score: 0.5135196447372437\t Topic: 0.030*\"get\" + 0.021*\"go\" + 0.012*\"time\" + 0.008*\"know\" + 0.008*\"say\"\n",
            "Score: 0.206903874874115\t Topic: 0.032*\"game\" + 0.020*\"play\" + 0.017*\"make\" + 0.012*\"team\" + 0.012*\"see\"\n",
            "Score: 0.19013315439224243\t Topic: 0.024*\"think\" + 0.022*\"people\" + 0.016*\"woman\" + 0.012*\"man\" + 0.009*\"say\"\n",
            "Score: 0.06309060752391815\t Topic: 0.018*\"amp\" + 0.008*\"use\" + 0.008*\"baby\" + 0.008*\"sex\" + 0.006*\"eat\"\n"
          ]
        }
      ]
    },
    {
      "cell_type": "code",
      "source": [
        "# Compute Perplexity\n",
        "print('\\nPerplexity: ', al_lda_model.log_perplexity(corpus))  # a measure of how good the model is. lower the better.\n",
        "\n",
        "# Compute Coherence Score\n",
        "coherence_model_allda = CoherenceModel(model=al_lda_model, texts=data_lemmatized, dictionary=id2word, coherence='c_v')\n",
        "coherence_allda = coherence_model_allda.get_coherence()\n",
        "print('\\nCoherence Score: ', coherence_allda)"
      ],
      "metadata": {
        "colab": {
          "base_uri": "https://localhost:8080/"
        },
        "id": "5fY0YKnAf7Ad",
        "outputId": "e1d9e29e-962f-4530-ac80-089e36d4117b"
      },
      "execution_count": 35,
      "outputs": [
        {
          "output_type": "stream",
          "name": "stdout",
          "text": [
            "\n",
            "Perplexity:  -8.237456575684595\n",
            "\n",
            "Coherence Score:  0.5483343282796052\n"
          ]
        }
      ]
    },
    {
      "cell_type": "code",
      "source": [
        "pyLDAvis.enable_notebook()\n",
        "visal = pyLDAvis.gensim.prepare(al_lda_model, corpus, id2word)\n",
        "visal"
      ],
      "metadata": {
        "colab": {
          "base_uri": "https://localhost:8080/",
          "height": 916
        },
        "id": "CDkCt1yNcQNo",
        "outputId": "4f4c05c8-aef6-4f37-f915-403a7338308d"
      },
      "execution_count": 36,
      "outputs": [
        {
          "output_type": "stream",
          "name": "stderr",
          "text": [
            "/usr/local/lib/python3.7/dist-packages/pyLDAvis/_prepare.py:248: FutureWarning: In a future version of pandas all arguments of DataFrame.drop except for the argument 'labels' will be keyword-only\n",
            "  by='saliency', ascending=False).head(R).drop('saliency', 1)\n"
          ]
        },
        {
          "output_type": "execute_result",
          "data": {
            "text/plain": [
              "PreparedData(topic_coordinates=              x         y  topics  cluster       Freq\n",
              "topic                                                \n",
              "3      0.117893 -0.011672       1        1  25.560716\n",
              "7      0.105572  0.032451       2        1  16.042548\n",
              "4      0.119872 -0.004051       3        1  14.358218\n",
              "6      0.078375  0.051245       4        1  14.256761\n",
              "0      0.063360  0.045454       5        1  11.871184\n",
              "5      0.040255 -0.007585       6        1   8.967464\n",
              "1     -0.186782 -0.289842       7        1   4.571831\n",
              "2     -0.338546  0.184000       8        1   4.371279, topic_info=        Term         Freq        Total Category  logprob  loglift\n",
              "217      com  1530.000000  1530.000000  Default  30.0000  30.0000\n",
              "202     fuck  3077.000000  3077.000000  Default  29.0000  29.0000\n",
              "463     game  1919.000000  1919.000000  Default  28.0000  28.0000\n",
              "833   reddit  1792.000000  1792.000000  Default  27.0000  27.0000\n",
              "184     play  1356.000000  1356.000000  Default  26.0000  26.0000\n",
              "...      ...          ...          ...      ...      ...      ...\n",
              "788   source    78.868570   278.000281   Topic8  -5.8462   1.8703\n",
              "282     call    96.187448  1540.625334   Topic8  -5.6477   0.3565\n",
              "656    video    86.587194   608.854252   Topic8  -5.7528   1.1797\n",
              "507     edit    86.796139  1549.682929   Topic8  -5.7504   0.2479\n",
              "1305    kill    82.604827   977.423211   Topic8  -5.7999   0.6593\n",
              "\n",
              "[627 rows x 6 columns], token_table=      Topic      Freq      Term\n",
              "term                           \n",
              "1415      2  0.990615  abortion\n",
              "506       1  0.278448   account\n",
              "506       4  0.314483   account\n",
              "506       5  0.032759   account\n",
              "506       6  0.039310   account\n",
              "...     ...       ...       ...\n",
              "342       3  0.036592      year\n",
              "342       5  0.261283      year\n",
              "4038      6  0.281575   youtube\n",
              "4038      8  0.708480   youtube\n",
              "8041      3  0.977167    zombie\n",
              "\n",
              "[1485 rows x 3 columns], R=30, lambda_step=0.01, plot_opts={'xlab': 'PC1', 'ylab': 'PC2'}, topic_order=[4, 8, 5, 7, 1, 6, 2, 3])"
            ],
            "text/html": [
              "\n",
              "<link rel=\"stylesheet\" type=\"text/css\" href=\"https://cdn.jsdelivr.net/gh/bmabey/pyLDAvis/pyLDAvis/js/ldavis.v1.0.0.css\">\n",
              "\n",
              "\n",
              "<div id=\"ldavis_el10551399232835492649277580262\"></div>\n",
              "<script type=\"text/javascript\">\n",
              "\n",
              "var ldavis_el10551399232835492649277580262_data = {\"mdsDat\": {\"x\": [0.11789346825168039, 0.10557202103066422, 0.1198719196497141, 0.07837473974827856, 0.06336030344422848, 0.04025488363191579, -0.1867816419695676, -0.33854569378691385], \"y\": [-0.011672113594994066, 0.0324510193491053, -0.004050791087377719, 0.05124497164899134, 0.0454540552671616, -0.007585092890074025, -0.28984205376020444, 0.18400000506739259], \"topics\": [1, 2, 3, 4, 5, 6, 7, 8], \"cluster\": [1, 1, 1, 1, 1, 1, 1, 1], \"Freq\": [25.56071571371569, 16.042548167576857, 14.358217738384868, 14.256760837104398, 11.871183874195946, 8.967463731190586, 4.5718309664789185, 4.37127897135273]}, \"tinfo\": {\"Term\": [\"com\", \"fuck\", \"game\", \"reddit\", \"play\", \"comment\", \"woman\", \"people\", \"get\", \"downvote\", \"post\", \"think\", \"shit\", \"team\", \"amp\", \"man\", \"make\", \"year\", \"read\", \"go\", \"guy\", \"time\", \"sex\", \"player\", \"dog\", \"see\", \"black\", \"story\", \"rape\", \"op\", \"week\", \"phone\", \"mom\", \"sit\", \"dad\", \"finish\", \"customer\", \"floor\", \"cash\", \"camera\", \"bus\", \"marketing\", \"console\", \"laptop\", \"brother\", \"hour\", \"buy\", \"warm\", \"heat\", \"valve\", \"dinner\", \"bathroom\", \"buck\", \"lunch\", \"sink\", \"slowly\", \"rent\", \"chair\", \"leg\", \"nail\", \"extra\", \"month\", \"card\", \"house\", \"night\", \"home\", \"bird\", \"front\", \"walk\", \"day\", \"old\", \"middle\", \"back\", \"drink\", \"job\", \"spend\", \"room\", \"get\", \"car\", \"parent\", \"go\", \"kid\", \"year\", \"pay\", \"friend\", \"time\", \"next\", \"work\", \"tell\", \"leave\", \"start\", \"money\", \"first\", \"away\", \"really\", \"know\", \"come\", \"good\", \"give\", \"well\", \"take\", \"much\", \"say\", \"make\", \"want\", \"never\", \"thing\", \"see\", \"think\", \"way\", \"people\", \"look\", \"law\", \"freedom\", \"illegal\", \"liberal\", \"threat\", \"legally\", \"abortion\", \"politician\", \"ignorance\", \"conflict\", \"libertarian\", \"israeli\", \"principle\", \"cell\", \"federal\", \"european\", \"voting\", \"speech\", \"criticize\", \"vaccine\", \"conservative\", \"dislike\", \"homosexual\", \"civilian\", \"advocate\", \"racial\", \"genetic\", \"pronounce\", \"accusation\", \"leather\", \"obama\", \"private\", \"approve\", \"policy\", \"legal\", \"feminist\", \"country\", \"citizen\", \"answer\", \"soldier\", \"war\", \"harm\", \"state\", \"term\", \"criminal\", \"question\", \"argument\", \"government\", \"word\", \"police\", \"fat\", \"science\", \"public\", \"claim\", \"people\", \"say\", \"lie\", \"support\", \"wrong\", \"force\", \"allow\", \"use\", \"mean\", \"need\", \"thing\", \"point\", \"problem\", \"make\", \"call\", \"want\", \"right\", \"know\", \"kill\", \"fact\", \"also\", \"even\", \"reason\", \"think\", \"come\", \"try\", \"get\", \"go\", \"black\", \"white\", \"prison\", \"faith\", \"ear\", \"church\", \"stereotype\", \"peace\", \"slave\", \"hence\", \"cheer\", \"evolution\", \"rape\", \"flash\", \"circumstance\", \"perspective\", \"neighborhood\", \"lifestyle\", \"male\", \"bigot\", \"zombie\", \"judgement\", \"gang\", \"tooth\", \"human_being\", \"sexuality\", \"rhetoric\", \"mock\", \"package\", \"pleasure\", \"gay\", \"cat\", \"female\", \"woman\", \"dick\", \"rapist\", \"theory\", \"humanity\", \"racist\", \"guilty\", \"confirm\", \"attractive\", \"race\", \"sexual\", \"victim\", \"man\", \"think\", \"relationship\", \"sex\", \"animal\", \"love\", \"treat\", \"people\", \"religion\", \"way\", \"believe\", \"person\", \"life\", \"world\", \"well\", \"human\", \"thank\", \"live\", \"really\", \"thing\", \"lot\", \"say\", \"make\", \"feel\", \"know\", \"want\", \"go\", \"get\", \"right\", \"see\", \"sure\", \"still\", \"cunt\", \"downvote\", \"com_askreddit\", \"cock\", \"tit\", \"russian\", \"award\", \"pun\", \"masturbate\", \"annoy\", \"dumb\", \"drama\", \"expansion\", \"shoe\", \"gtfo\", \"hivemind\", \"wat\", \"cod\", \"sub\", \"signature\", \"cereal\", \"posting\", \"dive\", \"disrespectful\", \"physics\", \"corrupt\", \"queue\", \"ballot\", \"tumblr\", \"disgust\", \"subreddit\", \"retarded\", \"m\", \"thread\", \"douchebag\", \"comment\", \"post\", \"fuck\", \"joke\", \"cop\", \"coin\", \"read\", \"stupid\", \"funny\", \"fan\", \"idiot\", \"internet\", \"reddit\", \"bitch\", \"fucking\", \"upvote\", \"troll\", \"shit\", \"retard\", \"asshole\", \"edit\", \"guy\", \"shut\", \"ass\", \"sorry\", \"know\", \"say\", \"get\", \"want\", \"go\", \"people\", \"talk\", \"see\", \"think\", \"even\", \"make\", \"time\", \"right\", \"really\", \"stop\", \"hat\", \"declare\", \"analogy\", \"wealthy\", \"employer\", \"river\", \"agreement\", \"typically\", \"ownership\", \"achieve\", \"rain\", \"archaeology\", \"progress\", \"judgment\", \"sympathy\", \"ram\", \"armed\", \"upper\", \"decline\", \"secure\", \"socialist\", \"task\", \"scumbag\", \"oppression\", \"cloud\", \"helmet\", \"subtle\", \"contrary\", \"congressional\", \"monopoly\", \"university\", \"connect\", \"travel\", \"budget\", \"space\", \"technology\", \"color\", \"capital\", \"fund\", \"billion\", \"quote\", \"successful\", \"hatred\", \"power\", \"court\", \"test\", \"film\", \"dream\", \"system\", \"proof\", \"evidence\", \"design\", \"program\", \"rate\", \"project\", \"great\", \"provide\", \"show\", \"one\", \"high\", \"year\", \"cost\", \"good\", \"actually\", \"sign\", \"class\", \"time\", \"see\", \"light\", \"make\", \"work\", \"even\", \"true\", \"use\", \"look\", \"take\", \"many\", \"run\", \"new\", \"bad\", \"people\", \"real\", \"find\", \"idea\", \"ever\", \"thing\", \"money\", \"also\", \"think\", \"get\", \"team\", \"faggot\", \"hilarious\", \"knee\", \"arrow\", \"username\", \"dota\", \"steam\", \"champion\", \"genius\", \"nerd\", \"coach\", \"defensive\", \"bang\", \"cheese\", \"sword\", \"lesson\", \"sc\", \"playoff\", \"imaginary\", \"fart\", \"beard\", \"front_page\", \"fag\", \"pursue\", \"mask\", \"tower\", \"dlc\", \"jack\", \"facial\", \"player\", \"game\", \"actor\", \"op\", \"lol\", \"play\", \"music\", \"playing\", \"ball\", \"haha\", \"league\", \"mode\", \"win\", \"ad\", \"hero\", \"fun\", \"character\", \"video\", \"photo\", \"lane\", \"song\", \"make\", \"picture\", \"look\", \"see\", \"hard\", \"watch\", \"take\", \"man\", \"amazing\", \"good\", \"use\", \"face\", \"think\", \"still\", \"know\", \"also\", \"get\", \"even\", \"well\", \"really\", \"never\", \"guy\", \"say\", \"sir\", \"boob\", \"hitler\", \"fish\", \"chicken\", \"salt\", \"japanese\", \"socialism\", \"trolling\", \"volunteer\", \"anal\", \"bread\", \"slut\", \"snake\", \"radical\", \"boner\", \"fox\", \"bench\", \"vacation\", \"sand\", \"mcdonald\", \"float\", \"fappe\", \"glove\", \"fruit\", \"relax\", \"recession\", \"vegetable\", \"sharp\", \"inflation\", \"amp\", \"egg\", \"pic\", \"baby\", \"penis\", \"meat\", \"meme\", \"cry\", \"taste\", \"food\", \"pussy\", \"cow\", \"sex\", \"eat\", \"nice\", \"drop\", \"mother\", \"use\", \"open\", \"upvote\", \"glad\", \"stick\", \"try\", \"body\", \"mean\", \"also\", \"guy\", \"kill\", \"probably\", \"still\", \"com\", \"http\", \"suite_http\", \"reddit_enhancement\", \"gif\", \"png\", \"jpg\", \"sarcasm\", \"brave\", \"android\", \"sin\", \"disappoint\", \"upload\", \"bro\", \"submission\", \"batman\", \"apple\", \"entertainment\", \"controller\", \"https\", \"mensright\", \"spam\", \"flair\", \"ctrl\", \"moderator\", \"peta\", \"install\", \"imgur\", \"index\", \"activist\", \"blog\", \"upvoted\", \"digg\", \"user\", \"welcome\", \"website\", \"info\", \"site\", \"image\", \"youtube\", \"org\", \"reddit\", \"dog\", \"link\", \"air\", \"content\", \"awesome\", \"story\", \"account\", \"comment\", \"article\", \"post\", \"source\", \"call\", \"video\", \"edit\", \"kill\"], \"Freq\": [1530.0, 3077.0, 1919.0, 1792.0, 1356.0, 1578.0, 1668.0, 6231.0, 7580.0, 1087.0, 1368.0, 4861.0, 1530.0, 665.0, 535.0, 2008.0, 5100.0, 1557.0, 1063.0, 5440.0, 2186.0, 3315.0, 573.0, 508.0, 488.0, 3347.0, 565.0, 758.0, 569.0, 489.0, 430.89816161111577, 304.56993411225295, 278.4598069035228, 335.7749010166388, 170.96081199708874, 152.12035320025157, 132.36304128241434, 104.39864967075745, 95.53993013163151, 151.09290943036441, 92.51684049618497, 80.8387929672194, 78.93174033264503, 75.56185940758387, 204.182317207, 497.5184142060817, 705.3074536803626, 72.5022080021967, 72.22449640463877, 71.76392024420446, 70.87595904629525, 68.83793866972023, 67.04653265450474, 63.04138691430625, 59.89221372504668, 59.8366491202658, 56.812352366065674, 55.6416421711845, 120.2084232695293, 53.121521778245665, 126.67600769730252, 367.954681313255, 176.77238309545612, 256.7807155023174, 302.2930110060481, 406.72284148276384, 88.37112113436586, 209.790089517645, 362.3394620084532, 1214.6591973147667, 599.040741310772, 123.06701047544742, 1042.8393253283884, 224.57378431927415, 637.249355510345, 369.09795277031407, 248.05218836353114, 4723.309045746764, 444.059767373779, 349.2630231166207, 3361.041732989272, 707.9757432575409, 1089.007049173206, 737.7965535148232, 741.304254902194, 1916.6386431625247, 430.71820806154136, 1192.7950453231063, 997.4423746643282, 584.1901721301937, 653.488482678713, 671.2530365304706, 708.1839619570072, 426.43375361281863, 1070.8423261691025, 1332.3451788091386, 882.5080296543057, 1054.7294821934186, 853.704319087745, 1011.3497198219048, 985.1225578072492, 833.1203815329745, 1296.039652323311, 1254.356690356082, 879.8014836981673, 721.1113495393574, 823.4230208825527, 827.2404875131538, 871.8544823825742, 731.0862360767597, 786.5715052989449, 708.9426268081131, 489.2596020805091, 152.03787852824377, 169.95305216558873, 227.50394890137872, 105.22105483185388, 88.94841470819053, 84.97228924929328, 93.94763347054871, 79.21554563713435, 72.76791260055491, 64.01828612115717, 63.02388323217469, 61.97282799317287, 58.260493499328106, 56.87155807340407, 54.84838557307884, 55.851541864975545, 106.96411261109287, 53.733078491780645, 52.047792006209136, 126.57639740412448, 60.14328519446192, 49.51587312718957, 47.76919043675708, 47.070564566019236, 45.98084749284107, 45.27569445082232, 43.74376152336302, 43.41047949549494, 43.06515133991469, 117.2493377239639, 127.23815932670396, 69.99177261466258, 159.7871693861912, 203.6478838321124, 115.11980147091748, 529.082526782423, 113.97696371360948, 435.5073675065853, 96.6192512984741, 345.2658444058385, 79.72494473295679, 524.7399997292387, 231.53708803584834, 123.03523214928987, 488.72097058187865, 277.5072793387902, 389.3756753370931, 597.1050226824798, 216.82428449687015, 236.3897834586133, 192.71949923481242, 255.684637925459, 259.0741513489796, 1834.4613020070249, 1599.7477660673253, 272.99019707649364, 321.9357994078349, 440.3046519074406, 281.4998567660142, 281.58622522885616, 803.3548234777679, 610.1750304553589, 569.4016563696416, 723.9601303002988, 496.9920621610822, 369.4757987151598, 854.8286556707887, 454.38380698299915, 589.8272267042736, 511.3946851962615, 593.0255872545678, 349.18396545780826, 350.93362034230614, 419.180487755144, 408.4893075555898, 307.76559029290775, 379.59477910663884, 338.40734924845225, 330.9152988729504, 339.74821672015764, 335.2308780332751, 564.0575626509342, 431.8668012042266, 115.63305425998712, 99.87766588792742, 92.4867145646366, 92.28089282216803, 89.41557876436988, 75.15601268480009, 63.56140524560061, 62.31020621464221, 61.79095227940428, 56.41366887490906, 559.9359118425544, 50.22311835779454, 49.90068863573582, 80.13030588035299, 47.50384593627053, 46.341365152084755, 274.717216898283, 42.81451362124004, 42.14942147212929, 42.23011496596761, 42.052519385672596, 39.505858695611145, 38.680307999527244, 38.85728548867977, 37.36619407101041, 37.207420278796945, 37.076525787482986, 36.571816553939776, 342.20657309853016, 251.42238928188345, 263.382875381681, 1459.5792221843894, 99.87215783521462, 73.18631530044469, 149.6630661817022, 69.22790314518953, 300.27533258373967, 90.2980877328247, 119.64495085891366, 103.68851856283702, 163.24395253894454, 137.84861650221976, 142.59521222322314, 1093.612599653589, 2107.3739576656885, 168.75471755042184, 354.63801856910754, 211.82545733400744, 529.5687236790927, 173.9141981546064, 1994.8467774929636, 211.58660813909813, 822.2525408837533, 424.63489490301765, 434.8708597716462, 486.25097694070877, 375.0062133136071, 700.5133094595705, 251.1531832055457, 339.42790655177834, 371.1555837353, 669.969738426283, 661.9336147013342, 416.28339343258943, 834.7741807175028, 785.5703285574024, 419.3209175930065, 571.0270436225162, 497.1510377102775, 514.8754506079805, 536.3746321761736, 403.1506935690966, 436.09531658076895, 366.3754702617091, 352.2151847459038, 157.63030127419518, 1081.2929186675697, 150.39774690536146, 90.98232788837137, 73.36584927338365, 65.32739549466115, 57.442196535405884, 56.717474376719494, 55.12034795407456, 55.46921747163505, 206.8915306698134, 53.54316625481742, 43.49670196361075, 67.27221577861908, 37.63373015296002, 36.2014908137992, 34.97105520011372, 34.42042338989718, 180.87963382147305, 31.83746259182192, 31.274949920672746, 30.010658514521403, 29.66835868837027, 48.65279880248611, 29.348070047469236, 29.045556086045462, 27.896062074402618, 27.807395841112797, 27.20846890090634, 26.60549190261386, 315.00262109905435, 102.50961149936144, 315.2579301315459, 388.8968113258742, 56.293746112899015, 1363.028134767561, 1180.8532488657188, 2545.7509153054775, 616.9689856666247, 283.37429843127404, 76.02826009200695, 818.118279761211, 586.4246698500415, 487.4799484809671, 273.7864540168361, 289.71101309773593, 488.4985329104984, 1234.6866623778976, 361.78590894575234, 412.63810681124784, 359.91227542444443, 185.34402010043476, 970.2122759302766, 136.65277164164354, 278.7862973359478, 845.5062848367731, 964.4531140483678, 180.47174843193022, 308.1241930367291, 311.633842860692, 1138.045191433394, 1186.2642921999168, 1433.249554160856, 765.6354104267494, 1025.109352779379, 1087.627416678199, 448.6014210633337, 724.0515270732942, 799.9363156702898, 554.0474489735166, 679.7639036639696, 551.3745349352022, 487.5993992989926, 481.65184238775254, 394.75044003577403, 93.34781502723558, 59.76138301009002, 56.05901917428134, 54.710470400495616, 54.07195945739379, 51.99423404145131, 51.774797519823096, 54.46576271274955, 48.936901627101136, 48.99797936186688, 48.004201535496186, 42.44992697170228, 41.40383869396475, 40.15531802565749, 38.50136764058598, 37.272796531060514, 37.15275417951498, 37.20213214061558, 43.78275242267815, 35.10271707791716, 34.6525517908929, 34.464967288538844, 34.41960856409727, 33.14118512004577, 33.1888574930577, 32.715486720559, 37.16618325994007, 32.03821515611462, 31.879679557339045, 31.73276395124344, 56.78220577382075, 42.822133298744355, 119.04438198307179, 60.29747241815786, 197.65168968821467, 60.975399480426454, 130.9962894363151, 58.50705342356421, 93.30734666156151, 40.022200217513095, 78.74328037881116, 70.70697624107447, 53.29341347910779, 255.48938495856765, 112.70542477386122, 131.14689868640045, 139.07709411384192, 119.75904711089638, 261.47889282769927, 148.08761895536495, 185.89909669839037, 130.62339742404902, 137.4457325287918, 131.24896659760824, 85.62755140297116, 355.1827725480556, 144.18041204948827, 381.2621329832921, 192.9460778074696, 255.08209656047288, 406.6952070637356, 151.14567155482462, 539.5655820294314, 399.5645637323549, 134.84544165989166, 166.54098670342518, 532.9283905601446, 534.5820735711037, 138.34052155873428, 576.427950672818, 363.682336835601, 396.1420370926875, 204.29452188877832, 350.1584162253134, 325.70565639093, 341.112270252027, 245.4644599841252, 204.9429299865287, 194.64800890827956, 239.6281833563758, 315.48937780164425, 191.4264441015631, 218.4251402352648, 185.15728016068897, 203.0885783916454, 244.8939181279148, 201.9159445339484, 218.69948332464259, 243.7549389085085, 199.3380440907281, 663.4565454951347, 145.22084128399774, 130.02060875204302, 128.72062744177293, 125.04905719730033, 102.33835868819646, 72.50392834760227, 63.780701148594616, 53.87565380488289, 53.15845149425714, 50.58894456231633, 68.85766997610189, 49.65944502521363, 49.35734765840822, 48.999841070575236, 46.914738886024615, 44.79973481189718, 43.4429956170975, 43.31006756347703, 42.99521001566362, 42.409984527396084, 40.97566786245995, 38.15769411258652, 37.988414039597075, 36.79504881409332, 36.10078355592542, 36.03988520929189, 36.152514899914955, 33.589656813886144, 33.453712184413384, 487.61777204399294, 1812.5170152380672, 70.01421082424683, 437.46766108479295, 144.46392181053068, 1137.095387764544, 234.05795768862134, 67.37038080583743, 232.9988072850552, 66.39436540848116, 75.71383869630526, 56.03253160039833, 300.653814727357, 125.57683418108076, 118.65955862520006, 225.69770339956344, 161.86878264431058, 306.94903715997003, 113.01108223697814, 88.61547952051325, 107.82647442533344, 947.6313862016027, 229.6473980284473, 561.6880394858679, 659.7273019689247, 262.178933853421, 270.616276966419, 470.52787300254835, 376.84058475836156, 112.8356908288927, 402.72246677628505, 376.03229879673154, 183.80047487187122, 405.52442921912393, 271.0908501523381, 318.2983988697957, 257.3276544158127, 344.2173137541218, 263.9743111928584, 247.6335132857389, 247.35908958185485, 218.77615381828514, 217.230324833695, 224.00182745627316, 138.87052305450914, 78.2071796461438, 72.93614052173368, 64.80882833536415, 60.49146798003676, 54.84008338715177, 53.77660417436872, 52.21237966606562, 45.36002614701292, 44.55910671376434, 41.839453093037825, 40.70677395758994, 39.354759666696154, 38.80959063164175, 36.773386311919666, 36.707222376837784, 34.31769752843834, 47.15716471364934, 32.76314898493737, 32.122612072974675, 32.46949524504837, 32.4723252903664, 30.267404430927773, 29.903238716847397, 29.831577451951745, 29.20889772734787, 28.890321651753307, 28.756621940373176, 28.75298805589205, 28.768792463900464, 515.6029005737043, 51.26076696293103, 154.82262488336963, 217.63032551703793, 149.1066508172346, 72.0473933557927, 117.22544626019676, 156.17535997219065, 87.1165675485211, 176.3821891346453, 91.61590114645735, 44.826575891162726, 216.6197468931456, 183.53395281205664, 161.0841997989855, 83.03608730095159, 95.85177479786242, 227.28673244729336, 98.86887548213191, 98.3402748344558, 63.67960703697737, 72.28717658515616, 116.75774473324917, 72.04045775177387, 96.34757083572535, 87.48149724197137, 77.99434163699141, 71.4544191420798, 66.88932352864322, 66.66951005567878, 1530.0885510286776, 325.94451197052, 265.5385584838702, 264.37466576229144, 212.99979974619993, 137.0624500794772, 136.90214138191118, 96.1039335565321, 59.16966841123324, 59.01714711612448, 54.462437700950225, 53.639456624789695, 46.13019337839324, 45.98819714517, 43.7163622195856, 42.49336209705588, 195.51346065921368, 41.379973157644784, 38.2553986073581, 33.295785551614316, 32.059259104832805, 31.527244857188936, 31.35849768966824, 30.82710592607071, 30.31083480810896, 30.21297142339546, 29.89592060777384, 28.65559256199505, 28.589132862231473, 28.360535124031024, 74.9115594771386, 131.78381077404637, 29.796196122799344, 186.435953664057, 75.5655170790844, 108.7905204779399, 71.37921658929363, 168.71177485634558, 159.06393273342712, 78.30097875756886, 48.10395689989129, 556.5904259435182, 209.13667645838478, 181.6327524287116, 92.10415596491178, 95.58707488985314, 133.51572653978621, 179.84140849218056, 102.21356365631154, 172.32469766880115, 89.67083406838795, 124.75670270874555, 78.86856987402432, 96.18744804878972, 86.58719419602599, 86.79613922362064, 82.60482710206905], \"Total\": [1530.0, 3077.0, 1919.0, 1792.0, 1356.0, 1578.0, 1668.0, 6231.0, 7580.0, 1087.0, 1368.0, 4861.0, 1530.0, 665.0, 535.0, 2008.0, 5100.0, 1557.0, 1063.0, 5440.0, 2186.0, 3315.0, 573.0, 508.0, 488.0, 3347.0, 565.0, 758.0, 569.0, 489.0, 432.1200622367229, 305.44256504710637, 279.293576707272, 337.21090266811524, 171.79438251171433, 152.9540339691971, 133.19712949663315, 105.23623097953096, 96.38644658788617, 152.44779592781344, 93.35042641627047, 81.67322134241383, 79.76638431916646, 76.39540027775104, 206.45378314962196, 503.05983721353493, 713.322613217661, 73.33584282088057, 73.05904753159881, 72.59792289811352, 71.72253334881249, 69.67170214291296, 67.89027221566654, 63.87808340692604, 60.73162766262163, 60.67787065355421, 57.645940828655675, 56.475285567794025, 122.08528255514216, 53.95514979296851, 129.0251180905541, 379.8046861922897, 182.05722237941862, 270.418078382481, 320.36484156544947, 436.225546578539, 90.53881869755129, 226.5219135342901, 406.4353437154882, 1482.9934936194036, 700.5373404492224, 129.24558732149205, 1297.6091728458234, 247.10342840915723, 784.8321120210162, 434.1634107631746, 280.76937463071727, 7580.511741977389, 540.8113342815146, 413.5167992286117, 5440.4166111428885, 939.8916336273774, 1557.7006939835583, 1007.2108903752047, 1032.6098577767639, 3315.878239338249, 539.0632687167479, 2066.5585878484553, 1659.2446133395265, 860.7206147071237, 1036.729199350261, 1117.9810314399492, 1285.3388983832617, 575.0620570929584, 2781.254376157304, 4096.396844730048, 2022.2957066767547, 2793.119570247156, 1964.5256639288712, 2706.8339051478156, 2700.060888110662, 1946.3236560439195, 5340.70020952296, 5100.371488294167, 2872.6359436427383, 1784.6216016887997, 2991.949474721101, 3347.098006369796, 4861.625590157401, 2335.1055594545774, 6231.269874199643, 2335.5608967873773, 490.1705441149718, 152.87196345870726, 170.96543135791873, 228.8872747826434, 106.0886821032438, 89.7818180811285, 85.80527468755396, 94.88838078098864, 80.0482518023977, 73.65023134992772, 64.85102303995335, 63.856322423730475, 62.805969397072055, 59.09344725732676, 57.70943693753351, 55.6809979567841, 56.70159319693759, 108.62035802108845, 54.56588082762545, 52.880349992529354, 128.65622819218936, 61.148763183213454, 50.34923635876852, 48.601643772763325, 47.903619363114224, 46.81363794077582, 46.108334769950616, 44.57685140650552, 44.24314114554718, 43.90226298210811, 121.16651035748022, 132.02528933322787, 71.76496122910973, 169.3309287403283, 219.26866445319817, 121.33404069386498, 603.5727769805432, 121.5484423709233, 511.67549941976847, 102.95632736651004, 419.06977317784805, 83.94578103601049, 691.132778755468, 283.7745517937402, 138.4373165147435, 684.9413967563574, 356.8773355252034, 530.7859586430093, 893.8690999320905, 278.33579396502535, 309.82550951186397, 247.72914063297213, 361.7837672367771, 401.1067732329092, 6231.269874199643, 5340.70020952296, 448.61700474082653, 580.3990305164916, 953.102676250254, 486.4989220983193, 497.2506331695413, 2656.791384692298, 1976.5651095939552, 1911.243091744473, 2991.949474721101, 1623.940851036658, 909.9176000165153, 5100.371488294167, 1540.6253337645664, 2872.6359436427383, 2050.9840967854325, 4096.396844730048, 977.4232112132916, 999.9044318136778, 2018.1521454837814, 2641.5945366708, 931.1140539757306, 4861.625590157401, 2022.2957066767547, 1974.380740281151, 7580.511741977389, 5440.4166111428885, 565.1078765823293, 432.6983608466226, 116.46467431697057, 100.72331720485772, 93.3196809744286, 93.11203195226764, 90.26320538841904, 75.98744431097886, 64.39295377663696, 63.14254425672812, 62.622297307224606, 57.244667022951255, 569.197000079039, 51.054955957928485, 50.732955447197995, 81.51084217529674, 48.33533743799656, 47.17273052005912, 279.89208521700414, 43.645752658760976, 42.981410603498105, 43.065349621931176, 42.88514024030889, 40.337672911326386, 39.51186815667821, 39.713823306707376, 38.19809269741138, 38.038850634030055, 37.908733978989034, 37.40264702776766, 350.2283295390602, 266.03393672592733, 284.5816691733014, 1668.585848453513, 105.44228973704665, 76.64449926875861, 161.95287697247076, 73.23122765113067, 361.69532032345376, 98.97246795817394, 135.31786553682178, 117.43546195864467, 200.34240935113397, 168.34422653741933, 176.10768239878516, 2008.0762001928715, 4861.625590157401, 222.07947909891666, 573.1041611409679, 298.1107455974577, 987.2445939321441, 235.09970463069274, 6231.269874199643, 321.4811070650859, 2335.1055594545774, 988.5766887143548, 1033.7641204691997, 1314.5357917066785, 937.6796611858981, 2706.8339051478156, 483.7864497313583, 816.6874699256426, 958.8597334545077, 2781.254376157304, 2991.949474721101, 1267.8760284375762, 5340.70020952296, 5100.371488294167, 1464.2333334551743, 4096.396844730048, 2872.6359436427383, 5440.4166111428885, 7580.511741977389, 2050.9840967854325, 3347.098006369796, 1379.4842576888102, 1795.3013029578885, 158.46591328578165, 1087.2284533216437, 151.2322284363617, 91.81772108997517, 74.20133907731253, 66.16260026053386, 58.278698130971236, 57.55210815669146, 55.95516087698861, 56.34152276984949, 210.66047104047192, 54.53066652884383, 44.339336019313265, 68.73796441112589, 38.46883175107963, 37.03952022806654, 35.80553919174262, 35.25551451970635, 185.54248180998604, 32.672998622458465, 32.110239651752046, 30.84559897892206, 30.50368827164444, 50.02616436115502, 30.18410530701591, 29.881507312954483, 28.732548724854922, 28.64417149489839, 28.04383881816757, 27.44036676786227, 325.1693551970741, 105.9574513947135, 334.50410599512503, 422.0416194540494, 59.05302095269381, 1578.1112884244262, 1368.3803004128135, 3077.6217457121325, 704.7662708351213, 314.30547584779544, 81.39619003180472, 1063.5131508748907, 743.8685077042779, 612.0194742576992, 328.14210042668446, 353.35941891252025, 638.7330364201597, 1792.0484271346259, 458.4426415024292, 533.0681958191669, 459.69670981653115, 222.6968949670767, 1530.9365738975835, 158.18618529912894, 372.24601882521114, 1549.6829286257748, 2186.5563706863663, 230.92684560884518, 501.3899139734625, 529.3347488312256, 4096.396844730048, 5340.70020952296, 7580.511741977389, 2872.6359436427383, 5440.4166111428885, 6231.269874199643, 1101.29267559529, 3347.098006369796, 4861.625590157401, 2641.5945366708, 5100.371488294167, 3315.878239338249, 2050.9840967854325, 2781.254376157304, 1011.3634377525827, 94.18047317470743, 60.593434628439866, 56.89078758681752, 55.542100506725696, 54.90353719982272, 52.826607160860696, 52.60728622374912, 55.37440357848685, 49.768823101205506, 49.83248943943621, 48.83631235058421, 43.282150637093, 42.23572682853734, 40.98742347626538, 39.33452556521501, 38.104302652496585, 37.98495834473237, 38.03609808403161, 44.77649987758491, 35.93623512707677, 35.484533567726295, 35.29648113229523, 35.2516607571012, 33.97404288901961, 34.030425261033166, 33.54820717375565, 38.113693172395564, 32.87049486019513, 32.71226532175477, 32.56432845364951, 58.4336454117084, 44.302442448809934, 127.78928650481772, 63.23340331442113, 218.81369566203412, 64.38253360196484, 144.52034488232468, 61.84968637613763, 102.47949698705978, 41.67991488495996, 90.51672712655561, 81.44607450738904, 58.522338727882826, 390.04366222628283, 146.10724620104054, 176.47026143103204, 189.9034314520602, 158.93999120822542, 424.3620787310409, 208.842551765984, 281.3144781007974, 184.87434051496612, 197.7992266065518, 189.77276310198044, 107.76557725602166, 873.2360289023042, 235.85369870203857, 1135.3106637616647, 408.618014889155, 656.9936684725682, 1557.7006939835583, 307.8407826284651, 2793.119570247156, 1727.396772150095, 263.01024012413467, 386.25814390890196, 3315.878239338249, 3347.098006369796, 277.0337861926164, 5100.371488294167, 2066.5585878484553, 2641.5945366708, 625.8282061018714, 2656.791384692298, 2335.5608967873773, 2700.060888110662, 1187.7714675744476, 795.567949973204, 732.0794218301186, 1704.7733263304235, 6231.269874199643, 803.2692049767367, 1499.9199911697433, 718.3667656948719, 1136.8896002251024, 2991.949474721101, 1117.9810314399492, 2018.1521454837814, 4861.625590157401, 7580.511741977389, 665.0638998725655, 146.05603009470755, 130.8562427516321, 129.55591528442932, 125.88419050367494, 103.17363281683859, 73.33901746099654, 64.61583792537013, 54.71104747871512, 53.993796405491665, 51.43196311984803, 70.0125453920909, 50.49556772840199, 50.19298590498563, 49.850486118464374, 47.75015130128677, 45.63497031957055, 44.2784449937929, 44.14512171307684, 43.83127097948511, 43.245416392880124, 41.81090501113826, 38.993290005659915, 38.82391116694237, 37.63224194480124, 36.936431149998484, 36.87515846434569, 37.010126372505454, 34.42605537200565, 34.2890788400603, 508.1937064626486, 1919.458454542907, 71.9910514638663, 489.77698532563454, 155.87887943528432, 1356.9406463861512, 262.7837328195825, 70.849342450721, 261.6742198122626, 70.28782097582021, 83.2698174572106, 59.46264240031191, 443.73935055905287, 157.7920360031781, 161.48862593721265, 379.7104125304587, 250.68245325683586, 608.8542523115077, 159.22255318877876, 118.1755520367859, 162.84135873442227, 5100.371488294167, 540.4227233071041, 2335.5608967873773, 3347.098006369796, 763.8011379747109, 846.0619143901173, 2700.060888110662, 2008.0762001928715, 184.8167411194821, 2793.119570247156, 2656.791384692298, 539.7996356108763, 4861.625590157401, 1795.3013029578885, 4096.396844730048, 2018.1521454837814, 7580.511741977389, 2641.5945366708, 2706.8339051478156, 2781.254376157304, 1784.6216016887997, 2186.5563706863663, 5340.70020952296, 139.70508403494375, 79.04239819080644, 73.78506071944165, 65.64368580596273, 61.326111156262336, 55.67536081349588, 54.611343668854545, 53.04748553987227, 46.202369711548315, 45.395106708781015, 42.67410116171307, 41.54191430269052, 40.18951486072016, 39.64472308417379, 37.60855000188271, 37.591263051815965, 35.16522314471847, 48.351125887791675, 33.59813271303008, 32.957666504761384, 33.34038533695838, 33.367462641683126, 31.102020171486927, 30.738134704155996, 30.66622788638621, 30.043859082912704, 29.726578085868894, 29.59122971158756, 29.587956605725108, 29.60452482389655, 535.4532755132285, 52.987010508411466, 172.56448019162718, 297.3954992407239, 192.7028574162531, 91.79906770915832, 174.92259939349552, 273.40769150388314, 126.30201867990681, 345.4311447262737, 140.04961671541543, 53.16899500020431, 573.1041611409679, 456.4730617153019, 563.3743173818934, 220.60505603916695, 309.59284376565813, 2656.791384692298, 382.60423433558157, 459.69670981653115, 143.51361839693527, 220.0694720917407, 1974.380740281151, 331.21415072762096, 1976.5651095939552, 2018.1521454837814, 2186.5563706863663, 977.4232112132916, 1118.2169738152027, 1795.3013029578885, 1530.9271103374133, 326.7831013124647, 266.37668243295684, 265.21278990168054, 213.83820332698716, 137.9009507320956, 137.74052147260576, 96.94268461856839, 60.008203479914094, 59.858118885567045, 55.301990000891266, 54.47814873057062, 46.96864798147414, 46.82664319529145, 44.55743206671957, 43.33445305456943, 199.40741625114165, 42.22447099790772, 39.094108499355386, 34.134445570182706, 32.89881950658954, 32.36591272354975, 32.19731479234914, 31.665756491589395, 31.149377685021022, 31.052000724332174, 30.734546499168996, 29.49401657158211, 29.42812861999851, 29.199987232233042, 81.13164877224045, 148.37240979294387, 30.760941786959, 233.46006334244777, 91.985722826889, 146.89781260379033, 92.24130817001578, 281.1848200842605, 269.84779540787946, 110.09483013892527, 57.62945859477379, 1792.0484271346259, 488.71996099689943, 410.33407630184655, 157.3673440499128, 170.27419725088114, 345.47936401197495, 758.8658233606508, 305.2629489951543, 1578.1112884244262, 349.45908447906294, 1368.3803004128135, 278.000281147569, 1540.6253337645664, 608.8542523115077, 1549.6829286257748, 977.4232112132916], \"Category\": [\"Default\", \"Default\", \"Default\", \"Default\", \"Default\", \"Default\", \"Default\", \"Default\", \"Default\", \"Default\", \"Default\", \"Default\", \"Default\", \"Default\", \"Default\", \"Default\", \"Default\", \"Default\", \"Default\", \"Default\", \"Default\", \"Default\", \"Default\", \"Default\", \"Default\", \"Default\", \"Default\", \"Default\", \"Default\", \"Default\", \"Topic1\", \"Topic1\", \"Topic1\", \"Topic1\", \"Topic1\", \"Topic1\", \"Topic1\", \"Topic1\", \"Topic1\", \"Topic1\", \"Topic1\", \"Topic1\", \"Topic1\", \"Topic1\", \"Topic1\", \"Topic1\", \"Topic1\", \"Topic1\", \"Topic1\", \"Topic1\", \"Topic1\", \"Topic1\", \"Topic1\", \"Topic1\", \"Topic1\", \"Topic1\", \"Topic1\", \"Topic1\", \"Topic1\", \"Topic1\", \"Topic1\", \"Topic1\", \"Topic1\", \"Topic1\", \"Topic1\", \"Topic1\", \"Topic1\", \"Topic1\", \"Topic1\", \"Topic1\", \"Topic1\", \"Topic1\", \"Topic1\", \"Topic1\", \"Topic1\", \"Topic1\", \"Topic1\", \"Topic1\", \"Topic1\", \"Topic1\", \"Topic1\", \"Topic1\", \"Topic1\", \"Topic1\", \"Topic1\", \"Topic1\", \"Topic1\", \"Topic1\", \"Topic1\", \"Topic1\", \"Topic1\", \"Topic1\", \"Topic1\", \"Topic1\", \"Topic1\", \"Topic1\", \"Topic1\", \"Topic1\", \"Topic1\", \"Topic1\", \"Topic1\", \"Topic1\", \"Topic1\", \"Topic1\", \"Topic1\", \"Topic1\", \"Topic1\", \"Topic1\", \"Topic1\", \"Topic1\", \"Topic1\", \"Topic1\", \"Topic2\", \"Topic2\", \"Topic2\", \"Topic2\", \"Topic2\", \"Topic2\", \"Topic2\", \"Topic2\", \"Topic2\", \"Topic2\", \"Topic2\", \"Topic2\", \"Topic2\", \"Topic2\", \"Topic2\", \"Topic2\", \"Topic2\", \"Topic2\", \"Topic2\", \"Topic2\", \"Topic2\", \"Topic2\", \"Topic2\", \"Topic2\", \"Topic2\", \"Topic2\", \"Topic2\", \"Topic2\", \"Topic2\", \"Topic2\", \"Topic2\", \"Topic2\", \"Topic2\", \"Topic2\", \"Topic2\", \"Topic2\", \"Topic2\", \"Topic2\", \"Topic2\", \"Topic2\", \"Topic2\", \"Topic2\", \"Topic2\", \"Topic2\", \"Topic2\", \"Topic2\", \"Topic2\", \"Topic2\", \"Topic2\", \"Topic2\", \"Topic2\", \"Topic2\", \"Topic2\", \"Topic2\", \"Topic2\", \"Topic2\", \"Topic2\", \"Topic2\", \"Topic2\", \"Topic2\", \"Topic2\", \"Topic2\", \"Topic2\", \"Topic2\", \"Topic2\", \"Topic2\", \"Topic2\", \"Topic2\", \"Topic2\", \"Topic2\", \"Topic2\", \"Topic2\", \"Topic2\", \"Topic2\", \"Topic2\", \"Topic2\", \"Topic2\", \"Topic2\", \"Topic2\", \"Topic2\", \"Topic2\", \"Topic2\", \"Topic3\", \"Topic3\", \"Topic3\", \"Topic3\", \"Topic3\", \"Topic3\", \"Topic3\", \"Topic3\", \"Topic3\", \"Topic3\", \"Topic3\", \"Topic3\", \"Topic3\", \"Topic3\", \"Topic3\", \"Topic3\", \"Topic3\", \"Topic3\", \"Topic3\", \"Topic3\", \"Topic3\", \"Topic3\", \"Topic3\", \"Topic3\", \"Topic3\", \"Topic3\", \"Topic3\", \"Topic3\", \"Topic3\", \"Topic3\", \"Topic3\", \"Topic3\", \"Topic3\", \"Topic3\", \"Topic3\", \"Topic3\", \"Topic3\", \"Topic3\", \"Topic3\", \"Topic3\", \"Topic3\", \"Topic3\", \"Topic3\", \"Topic3\", \"Topic3\", \"Topic3\", \"Topic3\", \"Topic3\", \"Topic3\", \"Topic3\", \"Topic3\", \"Topic3\", \"Topic3\", \"Topic3\", \"Topic3\", \"Topic3\", \"Topic3\", \"Topic3\", \"Topic3\", \"Topic3\", \"Topic3\", \"Topic3\", \"Topic3\", \"Topic3\", \"Topic3\", \"Topic3\", \"Topic3\", \"Topic3\", \"Topic3\", \"Topic3\", \"Topic3\", \"Topic3\", \"Topic3\", \"Topic3\", \"Topic3\", \"Topic3\", \"Topic3\", \"Topic4\", \"Topic4\", \"Topic4\", \"Topic4\", \"Topic4\", \"Topic4\", \"Topic4\", \"Topic4\", \"Topic4\", \"Topic4\", \"Topic4\", \"Topic4\", \"Topic4\", \"Topic4\", \"Topic4\", \"Topic4\", \"Topic4\", \"Topic4\", \"Topic4\", \"Topic4\", \"Topic4\", \"Topic4\", \"Topic4\", \"Topic4\", \"Topic4\", \"Topic4\", \"Topic4\", \"Topic4\", \"Topic4\", \"Topic4\", \"Topic4\", \"Topic4\", \"Topic4\", \"Topic4\", \"Topic4\", \"Topic4\", \"Topic4\", \"Topic4\", \"Topic4\", \"Topic4\", \"Topic4\", \"Topic4\", \"Topic4\", \"Topic4\", \"Topic4\", \"Topic4\", \"Topic4\", \"Topic4\", \"Topic4\", \"Topic4\", \"Topic4\", \"Topic4\", \"Topic4\", \"Topic4\", \"Topic4\", \"Topic4\", \"Topic4\", \"Topic4\", \"Topic4\", \"Topic4\", \"Topic4\", \"Topic4\", \"Topic4\", \"Topic4\", \"Topic4\", \"Topic4\", \"Topic4\", \"Topic4\", \"Topic4\", \"Topic4\", \"Topic4\", \"Topic4\", \"Topic4\", \"Topic4\", \"Topic4\", \"Topic5\", \"Topic5\", \"Topic5\", \"Topic5\", \"Topic5\", \"Topic5\", \"Topic5\", \"Topic5\", \"Topic5\", \"Topic5\", \"Topic5\", \"Topic5\", \"Topic5\", \"Topic5\", \"Topic5\", \"Topic5\", \"Topic5\", \"Topic5\", \"Topic5\", \"Topic5\", \"Topic5\", \"Topic5\", \"Topic5\", \"Topic5\", \"Topic5\", \"Topic5\", \"Topic5\", \"Topic5\", \"Topic5\", \"Topic5\", \"Topic5\", \"Topic5\", \"Topic5\", \"Topic5\", \"Topic5\", \"Topic5\", \"Topic5\", \"Topic5\", \"Topic5\", \"Topic5\", \"Topic5\", \"Topic5\", \"Topic5\", \"Topic5\", \"Topic5\", \"Topic5\", \"Topic5\", \"Topic5\", \"Topic5\", \"Topic5\", \"Topic5\", \"Topic5\", \"Topic5\", \"Topic5\", \"Topic5\", \"Topic5\", \"Topic5\", \"Topic5\", \"Topic5\", \"Topic5\", \"Topic5\", \"Topic5\", \"Topic5\", \"Topic5\", \"Topic5\", \"Topic5\", \"Topic5\", \"Topic5\", \"Topic5\", \"Topic5\", \"Topic5\", \"Topic5\", \"Topic5\", \"Topic5\", \"Topic5\", \"Topic5\", \"Topic5\", \"Topic5\", \"Topic5\", \"Topic5\", \"Topic5\", \"Topic5\", \"Topic5\", \"Topic5\", \"Topic5\", \"Topic5\", \"Topic5\", \"Topic5\", \"Topic5\", \"Topic5\", \"Topic6\", \"Topic6\", \"Topic6\", \"Topic6\", \"Topic6\", \"Topic6\", \"Topic6\", \"Topic6\", \"Topic6\", \"Topic6\", \"Topic6\", \"Topic6\", \"Topic6\", \"Topic6\", \"Topic6\", \"Topic6\", \"Topic6\", \"Topic6\", \"Topic6\", \"Topic6\", \"Topic6\", \"Topic6\", \"Topic6\", \"Topic6\", \"Topic6\", \"Topic6\", \"Topic6\", \"Topic6\", \"Topic6\", \"Topic6\", \"Topic6\", \"Topic6\", \"Topic6\", \"Topic6\", \"Topic6\", \"Topic6\", \"Topic6\", \"Topic6\", \"Topic6\", \"Topic6\", \"Topic6\", \"Topic6\", \"Topic6\", \"Topic6\", \"Topic6\", \"Topic6\", \"Topic6\", \"Topic6\", \"Topic6\", \"Topic6\", \"Topic6\", \"Topic6\", \"Topic6\", \"Topic6\", \"Topic6\", \"Topic6\", \"Topic6\", \"Topic6\", \"Topic6\", \"Topic6\", \"Topic6\", \"Topic6\", \"Topic6\", \"Topic6\", \"Topic6\", \"Topic6\", \"Topic6\", \"Topic6\", \"Topic6\", \"Topic6\", \"Topic6\", \"Topic6\", \"Topic6\", \"Topic6\", \"Topic7\", \"Topic7\", \"Topic7\", \"Topic7\", \"Topic7\", \"Topic7\", \"Topic7\", \"Topic7\", \"Topic7\", \"Topic7\", \"Topic7\", \"Topic7\", \"Topic7\", \"Topic7\", \"Topic7\", \"Topic7\", \"Topic7\", \"Topic7\", \"Topic7\", \"Topic7\", \"Topic7\", \"Topic7\", \"Topic7\", \"Topic7\", \"Topic7\", \"Topic7\", \"Topic7\", \"Topic7\", \"Topic7\", \"Topic7\", \"Topic7\", \"Topic7\", \"Topic7\", \"Topic7\", \"Topic7\", \"Topic7\", \"Topic7\", \"Topic7\", \"Topic7\", \"Topic7\", \"Topic7\", \"Topic7\", \"Topic7\", \"Topic7\", \"Topic7\", \"Topic7\", \"Topic7\", \"Topic7\", \"Topic7\", \"Topic7\", \"Topic7\", \"Topic7\", \"Topic7\", \"Topic7\", \"Topic7\", \"Topic7\", \"Topic7\", \"Topic7\", \"Topic7\", \"Topic7\", \"Topic8\", \"Topic8\", \"Topic8\", \"Topic8\", \"Topic8\", \"Topic8\", \"Topic8\", \"Topic8\", \"Topic8\", \"Topic8\", \"Topic8\", \"Topic8\", \"Topic8\", \"Topic8\", \"Topic8\", \"Topic8\", \"Topic8\", \"Topic8\", \"Topic8\", \"Topic8\", \"Topic8\", \"Topic8\", \"Topic8\", \"Topic8\", \"Topic8\", \"Topic8\", \"Topic8\", \"Topic8\", \"Topic8\", \"Topic8\", \"Topic8\", \"Topic8\", \"Topic8\", \"Topic8\", \"Topic8\", \"Topic8\", \"Topic8\", \"Topic8\", \"Topic8\", \"Topic8\", \"Topic8\", \"Topic8\", \"Topic8\", \"Topic8\", \"Topic8\", \"Topic8\", \"Topic8\", \"Topic8\", \"Topic8\", \"Topic8\", \"Topic8\", \"Topic8\", \"Topic8\", \"Topic8\", \"Topic8\", \"Topic8\", \"Topic8\"], \"logprob\": [30.0, 29.0, 28.0, 27.0, 26.0, 25.0, 24.0, 23.0, 22.0, 21.0, 20.0, 19.0, 18.0, 17.0, 16.0, 15.0, 14.0, 13.0, 12.0, 11.0, 10.0, 9.0, 8.0, 7.0, 6.0, 5.0, 4.0, 3.0, 2.0, 1.0, -5.9141, -6.2611, -6.3507, -6.1635, -6.8385, -6.9553, -7.0944, -7.3317, -7.4204, -6.9621, -7.4526, -7.5875, -7.6114, -7.655, -6.6609, -5.7703, -5.4213, -7.6963, -7.7002, -7.7066, -7.719, -7.7482, -7.7746, -7.8362, -7.8874, -7.8883, -7.9402, -7.961, -7.1907, -8.0074, -7.1383, -6.072, -6.8051, -6.4317, -6.2686, -5.9718, -7.4984, -6.6338, -6.0874, -4.8777, -5.5846, -7.1672, -5.0302, -6.5657, -5.5228, -6.0689, -6.4663, -3.5197, -5.884, -6.1241, -3.8599, -5.4175, -4.9869, -5.3763, -5.3715, -4.4216, -5.9145, -4.8959, -5.0748, -5.6097, -5.4976, -5.4708, -5.4172, -5.9245, -5.0037, -4.7853, -5.1972, -5.0189, -5.2304, -5.0609, -5.0872, -5.2548, -4.8129, -4.8456, -5.2003, -5.3992, -5.2665, -5.2619, -5.2093, -5.3854, -5.3123, -5.4162, -5.3212, -6.49, -6.3786, -6.087, -6.8581, -7.0261, -7.0718, -6.9714, -7.142, -7.2269, -7.355, -7.3706, -7.3874, -7.4492, -7.4733, -7.5096, -7.4914, -6.8416, -7.5301, -7.562, -6.6733, -7.4174, -7.6118, -7.6478, -7.6625, -7.6859, -7.7014, -7.7358, -7.7434, -7.7514, -6.7498, -6.6681, -7.2658, -6.4403, -6.1977, -6.7682, -5.243, -6.7781, -5.4376, -6.9434, -5.6698, -7.1356, -5.2512, -6.0694, -6.7017, -5.3223, -5.8883, -5.5496, -5.122, -6.1351, -6.0487, -6.2529, -5.9702, -5.957, -3.9996, -4.1365, -5.9047, -5.7398, -5.4267, -5.874, -5.8737, -4.8253, -5.1004, -5.1696, -4.9294, -5.3056, -5.6021, -4.7632, -5.3952, -5.1343, -5.277, -5.1289, -5.6585, -5.6535, -5.4758, -5.5017, -5.7848, -5.575, -5.6899, -5.7123, -5.6859, -5.6993, -5.0681, -5.3351, -6.6528, -6.7993, -6.8762, -6.8784, -6.9099, -7.0837, -7.2512, -7.2711, -7.2795, -7.3705, -5.0754, -7.4867, -7.4932, -7.0196, -7.5424, -7.5672, -5.7875, -7.6463, -7.662, -7.6601, -7.6643, -7.7268, -7.7479, -7.7433, -7.7825, -7.7867, -7.7902, -7.8039, -5.5678, -5.8761, -5.8296, -4.1173, -6.7993, -7.1102, -6.3948, -7.1658, -5.6985, -6.9001, -6.6187, -6.7618, -6.308, -6.4771, -6.4432, -4.406, -3.75, -6.2748, -5.5321, -6.0475, -5.1312, -6.2447, -3.8049, -6.0486, -4.6912, -5.352, -5.3282, -5.2165, -5.4763, -4.8514, -5.8772, -5.576, -5.4866, -4.896, -4.9081, -5.3719, -4.6761, -4.7368, -5.3646, -5.0558, -5.1943, -5.1593, -5.1184, -5.4039, -5.3254, -5.4996, -5.539, -6.3359, -4.4102, -6.3828, -6.8855, -7.1007, -7.2167, -7.3453, -7.358, -7.3866, -7.3803, -6.0639, -7.4156, -7.6234, -7.1874, -7.7682, -7.807, -7.8416, -7.8575, -6.1983, -7.9355, -7.9533, -7.9946, -8.006, -7.5114, -8.0169, -8.0273, -8.0676, -8.0708, -8.0926, -8.115, -5.6435, -6.7662, -5.6427, -5.4328, -7.3655, -4.1787, -4.3221, -3.5539, -4.9713, -5.7494, -7.065, -4.6891, -5.0221, -5.2069, -5.7838, -5.7272, -5.2048, -4.2776, -5.5051, -5.3736, -5.5103, -6.1739, -4.5186, -6.4787, -5.7657, -4.6562, -4.5246, -6.2006, -5.6656, -5.6543, -4.3591, -4.3176, -4.1284, -4.7554, -4.4636, -4.4044, -5.29, -4.8113, -4.7116, -5.0789, -4.8744, -5.0837, -5.2066, -5.2189, -5.4179, -6.6767, -7.1226, -7.1866, -7.211, -7.2227, -7.2619, -7.2661, -7.2154, -7.3225, -7.3212, -7.3417, -7.4647, -7.4896, -7.5203, -7.5623, -7.5947, -7.598, -7.5966, -7.4338, -7.6547, -7.6676, -7.6731, -7.6744, -7.7122, -7.7108, -7.7252, -7.5976, -7.7461, -7.751, -7.7557, -7.1738, -7.456, -6.4335, -7.1137, -5.9265, -7.1025, -6.3378, -7.1439, -6.6771, -7.5236, -6.8468, -6.9545, -7.2372, -5.6698, -6.4882, -6.3367, -6.278, -6.4275, -5.6467, -6.2152, -5.9878, -6.3407, -6.2898, -6.3359, -6.763, -5.3404, -6.2419, -5.2695, -5.9506, -5.6714, -5.2049, -6.1948, -4.9222, -5.2226, -6.3089, -6.0978, -4.9346, -4.9315, -6.2833, -4.8562, -5.3167, -5.2312, -5.8934, -5.3546, -5.427, -5.3808, -5.7099, -5.8903, -5.9418, -5.7339, -5.4589, -5.9585, -5.8266, -5.9918, -5.8994, -5.7122, -5.9052, -5.8253, -5.7168, -5.918, -4.435, -5.9542, -6.0648, -6.0749, -6.1038, -6.3042, -6.6489, -6.777, -6.9458, -6.9592, -7.0088, -6.7005, -7.0273, -7.0334, -7.0407, -7.0842, -7.1303, -7.161, -7.1641, -7.1714, -7.1851, -7.2195, -7.2908, -7.2952, -7.3271, -7.3462, -7.3479, -7.3448, -7.4183, -7.4223, -4.743, -3.43, -6.6838, -4.8515, -5.9595, -3.8963, -5.4769, -6.7223, -5.4815, -6.7369, -6.6055, -6.9066, -5.2265, -6.0996, -6.1562, -5.5133, -5.8457, -5.2058, -6.205, -6.4482, -6.252, -4.0785, -5.496, -4.6016, -4.4407, -5.3635, -5.3318, -4.7786, -5.0007, -6.2066, -4.9342, -5.0028, -5.7186, -4.9273, -5.33, -5.1695, -5.3821, -5.0912, -5.3566, -5.4205, -5.4217, -5.5444, -5.5515, -5.5208, -5.3253, -5.8994, -5.9692, -6.0874, -6.1563, -6.2544, -6.274, -6.3035, -6.4442, -6.462, -6.525, -6.5524, -6.5862, -6.6001, -6.654, -6.6558, -6.7231, -6.4053, -6.7695, -6.7892, -6.7785, -6.7784, -6.8487, -6.8608, -6.8632, -6.8843, -6.8953, -6.8999, -6.9001, -6.8995, -4.0135, -6.3219, -5.2165, -4.876, -5.2541, -5.9815, -5.4947, -5.2078, -5.7916, -5.0862, -5.7412, -6.456, -4.8807, -5.0464, -5.1769, -5.8395, -5.696, -4.8326, -5.665, -5.6704, -6.1049, -5.9782, -5.4987, -5.9816, -5.6908, -5.7874, -5.9022, -5.9897, -6.0558, -6.0591, -2.8809, -4.4272, -4.6322, -4.6366, -4.8527, -5.2935, -5.2947, -5.6485, -6.1335, -6.1361, -6.2164, -6.2317, -6.3825, -6.3856, -6.4362, -6.4646, -4.9383, -6.4912, -6.5697, -6.7085, -6.7464, -6.7631, -6.7685, -6.7856, -6.8024, -6.8057, -6.8162, -6.8586, -6.8609, -6.869, -5.8976, -5.3328, -6.8196, -4.9859, -5.8889, -5.5245, -5.9459, -5.0858, -5.1446, -5.8534, -6.3406, -3.8921, -4.871, -5.012, -5.691, -5.6539, -5.3197, -5.0219, -5.5869, -5.0646, -5.7178, -5.3876, -5.8462, -5.6477, -5.7528, -5.7504, -5.7999], \"loglift\": [30.0, 29.0, 28.0, 27.0, 26.0, 25.0, 24.0, 23.0, 22.0, 21.0, 20.0, 19.0, 18.0, 17.0, 16.0, 15.0, 14.0, 13.0, 12.0, 11.0, 10.0, 9.0, 8.0, 7.0, 6.0, 5.0, 4.0, 3.0, 2.0, 1.0, 1.3613, 1.3613, 1.3611, 1.3598, 1.3592, 1.3586, 1.3578, 1.3561, 1.3553, 1.3552, 1.3551, 1.3538, 1.3536, 1.3531, 1.3531, 1.353, 1.3528, 1.3527, 1.3526, 1.3526, 1.3522, 1.3521, 1.3516, 1.3509, 1.3502, 1.3502, 1.3495, 1.3492, 1.3486, 1.3485, 1.3457, 1.3324, 1.3347, 1.3124, 1.306, 1.2941, 1.3399, 1.2874, 1.2493, 1.1645, 1.2076, 1.3151, 1.1455, 1.2685, 1.1558, 1.2018, 1.2402, 0.891, 1.167, 1.1952, 0.8825, 1.0808, 1.0062, 1.0528, 1.0327, 0.816, 1.1397, 0.8145, 0.8552, 0.9766, 0.9026, 0.854, 0.768, 1.0651, 0.4097, 0.2409, 0.5349, 0.3902, 0.5307, 0.3796, 0.3558, 0.5156, -0.0519, -0.0386, 0.1808, 0.4579, 0.0739, -0.0336, -0.3544, 0.2028, -0.7055, 0.1719, 1.8281, 1.8245, 1.824, 1.8239, 1.8217, 1.8206, 1.8202, 1.82, 1.8195, 1.8179, 1.817, 1.8168, 1.8166, 1.8157, 1.8153, 1.8149, 1.8148, 1.8146, 1.8145, 1.8141, 1.8136, 1.8133, 1.8132, 1.8126, 1.8124, 1.812, 1.8117, 1.8111, 1.8109, 1.8107, 1.7971, 1.793, 1.8049, 1.7719, 1.756, 1.7774, 1.6982, 1.7656, 1.6687, 1.7664, 1.6362, 1.7783, 1.5545, 1.6265, 1.712, 1.4924, 1.5784, 1.5201, 1.4265, 1.5802, 1.5594, 1.5788, 1.4828, 1.3928, 0.6071, 0.6244, 1.3332, 1.2406, 1.0577, 1.2828, 1.2613, 0.6338, 0.6546, 0.619, 0.411, 0.6459, 0.9287, 0.0438, 0.6089, 0.2468, 0.441, -0.1027, 0.8006, 0.7829, 0.2583, -0.0367, 0.7229, -0.7201, 0.0422, 0.0438, -1.2752, -0.9569, 1.939, 1.9389, 1.9337, 1.9324, 1.9319, 1.9319, 1.9314, 1.9298, 1.9278, 1.9276, 1.9275, 1.9262, 1.9244, 1.9244, 1.9243, 1.9238, 1.9235, 1.9231, 1.9222, 1.9216, 1.9213, 1.9213, 1.9212, 1.92, 1.9196, 1.919, 1.9188, 1.9187, 1.9187, 1.9184, 1.9177, 1.8844, 1.8634, 1.807, 1.8866, 1.8947, 1.8619, 1.8846, 1.7547, 1.8491, 1.8177, 1.8164, 1.7361, 1.741, 1.7298, 1.3332, 1.1049, 1.6663, 1.4609, 1.5991, 1.318, 1.6394, 0.8018, 1.5225, 0.8971, 1.0958, 1.0749, 0.9463, 1.0244, 0.5891, 1.2853, 1.0629, 0.9917, 0.5174, 0.4323, 0.8271, 0.0849, 0.0702, 0.6904, -0.0296, 0.1868, -0.4168, -0.7077, 0.3141, -0.0971, 0.615, 0.3122, 1.9427, 1.9425, 1.9424, 1.9388, 1.9366, 1.9352, 1.9335, 1.9333, 1.9329, 1.9323, 1.9299, 1.9297, 1.9288, 1.9264, 1.926, 1.9251, 1.9244, 1.924, 1.9225, 1.922, 1.9216, 1.9205, 1.9202, 1.9201, 1.9199, 1.9196, 1.9184, 1.9183, 1.9177, 1.917, 1.9162, 1.9149, 1.8887, 1.8661, 1.9001, 1.8014, 1.8005, 1.7582, 1.8149, 1.8443, 1.8797, 1.6856, 1.7101, 1.7204, 1.7668, 1.7493, 1.6798, 1.5754, 1.7112, 1.6919, 1.7032, 1.7643, 1.4918, 1.8016, 1.6588, 1.3421, 1.1294, 1.7014, 1.4611, 1.4181, 0.6671, 0.4434, 0.2823, 0.6257, 0.2789, 0.2024, 1.0498, 0.417, 0.1433, 0.3861, -0.0674, 0.1539, 0.5114, 0.1945, 1.0071, 2.1222, 2.1172, 2.1163, 2.116, 2.1158, 2.1152, 2.1151, 2.1145, 2.1142, 2.1142, 2.1139, 2.1116, 2.1112, 2.1105, 2.1096, 2.109, 2.1089, 2.1089, 2.1086, 2.1076, 2.1073, 2.1072, 2.1072, 2.1062, 2.106, 2.1059, 2.1059, 2.1054, 2.1053, 2.1052, 2.1024, 2.0971, 2.0602, 2.0835, 2.0293, 2.0767, 2.0328, 2.0755, 2.0373, 2.0905, 1.9917, 1.9897, 2.0375, 1.708, 1.8715, 1.8342, 1.8196, 1.848, 1.6468, 1.7873, 1.7168, 1.7837, 1.767, 1.7623, 1.9011, 1.2315, 1.6389, 1.0399, 1.3807, 1.185, 0.7882, 1.4197, 0.4869, 0.6671, 1.463, 1.2898, 0.303, 0.2967, 1.4366, -0.0492, 0.3937, 0.2337, 1.0115, 0.1046, 0.161, 0.0622, 0.5544, 0.7747, 0.8064, 0.169, -0.8522, 0.6969, 0.2043, 0.7753, 0.4086, -0.3718, 0.4196, -0.0912, -0.8619, -1.5073, 2.4091, 2.4058, 2.4052, 2.4051, 2.4049, 2.4034, 2.4001, 2.3986, 2.3962, 2.396, 2.395, 2.3949, 2.3949, 2.3948, 2.3944, 2.3939, 2.3931, 2.3925, 2.3925, 2.3923, 2.3921, 2.3914, 2.3899, 2.3898, 2.3891, 2.3887, 2.3887, 2.3881, 2.387, 2.3869, 2.3702, 2.3542, 2.3837, 2.2986, 2.3355, 2.2348, 2.2958, 2.3612, 2.2955, 2.3546, 2.3164, 2.3522, 2.0223, 2.1832, 2.1034, 1.8914, 1.9742, 1.7267, 2.0688, 2.1237, 1.9993, 0.7285, 1.5558, 0.9865, 0.7875, 1.3423, 1.2717, 0.6644, 0.7385, 1.9181, 0.4749, 0.4564, 1.3342, -0.0724, 0.5211, -0.1433, 0.352, -0.6805, 0.1083, 0.02, -0.0082, 0.3127, 0.1024, -0.7599, 3.0793, 3.0746, 3.0737, 3.0725, 3.0716, 3.0701, 3.0699, 3.0694, 3.0669, 3.0667, 3.0655, 3.0649, 3.0643, 3.064, 3.0628, 3.0615, 3.0609, 3.0603, 3.0601, 3.0596, 3.0588, 3.0581, 3.0581, 3.0577, 3.0577, 3.0571, 3.0567, 3.0566, 3.0566, 3.0566, 3.0475, 3.0521, 2.9768, 2.773, 2.8288, 2.843, 2.685, 2.5253, 2.7138, 2.4131, 2.6609, 2.9146, 2.1123, 2.1741, 1.8332, 2.1082, 1.9128, 0.6266, 1.732, 1.5431, 2.2727, 1.972, 0.2573, 1.5597, 0.0641, -0.0533, -0.2482, 0.4694, 0.2688, -0.2079, 3.1296, 3.1275, 3.127, 3.1269, 3.1262, 3.124, 3.124, 3.1214, 3.116, 3.116, 3.1148, 3.1146, 3.1121, 3.112, 3.1111, 3.1105, 3.1104, 3.1099, 3.1084, 3.1052, 3.1043, 3.1039, 3.1037, 3.1033, 3.1028, 3.1027, 3.1024, 3.1013, 3.1012, 3.1009, 3.0503, 3.0116, 3.0982, 2.9052, 2.9335, 2.8298, 2.8737, 2.6193, 2.6016, 2.7893, 2.9494, 1.9608, 2.2813, 2.3151, 2.5945, 2.5527, 2.1794, 1.6904, 2.036, 0.9155, 1.7699, 0.7351, 1.8703, 0.3565, 1.1797, 0.2479, 0.6593]}, \"token.table\": {\"Topic\": [2, 1, 4, 5, 6, 8, 2, 5, 8, 1, 6, 1, 2, 3, 4, 5, 6, 7, 8, 1, 6, 2, 5, 1, 6, 8, 1, 2, 3, 4, 5, 7, 8, 1, 2, 3, 4, 5, 6, 7, 8, 1, 3, 4, 6, 3, 6, 7, 8, 7, 5, 8, 2, 3, 5, 8, 4, 1, 2, 4, 5, 8, 1, 8, 2, 4, 5, 2, 3, 4, 5, 5, 6, 2, 4, 5, 6, 8, 1, 4, 6, 1, 2, 3, 4, 1, 3, 4, 1, 2, 4, 5, 6, 1, 4, 5, 8, 1, 7, 1, 2, 3, 4, 5, 6, 1, 2, 3, 4, 5, 6, 7, 2, 4, 6, 8, 4, 6, 1, 8, 6, 1, 2, 3, 4, 5, 6, 8, 7, 3, 3, 5, 1, 3, 1, 4, 6, 3, 2, 8, 1, 2, 3, 6, 7, 7, 7, 8, 7, 8, 1, 8, 1, 1, 5, 1, 1, 3, 7, 8, 1, 2, 3, 4, 5, 6, 7, 8, 1, 5, 2, 5, 1, 4, 5, 7, 1, 2, 6, 1, 3, 8, 2, 4, 1, 6, 1, 6, 3, 6, 7, 3, 3, 2, 3, 2, 2, 3, 5, 1, 2, 3, 4, 5, 6, 5, 6, 4, 4, 4, 8, 1, 3, 5, 8, 8, 4, 1, 2, 3, 4, 5, 6, 7, 8, 4, 6, 8, 3, 4, 6, 2, 5, 5, 6, 2, 5, 1, 2, 4, 8, 5, 8, 2, 4, 4, 1, 2, 3, 5, 2, 3, 5, 1, 5, 8, 3, 7, 2, 3, 5, 2, 1, 3, 6, 7, 8, 4, 1, 1, 1, 2, 4, 5, 7, 5, 5, 6, 1, 3, 4, 5, 6, 8, 3, 4, 8, 1, 8, 4, 2, 3, 4, 4, 6, 1, 8, 6, 4, 5, 2, 4, 6, 4, 1, 4, 5, 6, 1, 2, 3, 7, 1, 2, 4, 5, 7, 2, 4, 6, 3, 1, 2, 3, 7, 8, 1, 2, 3, 4, 5, 6, 7, 8, 2, 7, 5, 8, 2, 1, 2, 3, 4, 5, 6, 7, 8, 1, 2, 3, 4, 5, 6, 7, 2, 3, 5, 3, 4, 1, 2, 1, 2, 4, 5, 6, 6, 1, 2, 3, 4, 5, 6, 8, 6, 6, 3, 1, 3, 4, 5, 7, 6, 1, 2, 2, 1, 2, 3, 4, 5, 6, 7, 2, 3, 4, 6, 7, 2, 3, 1, 5, 1, 2, 3, 4, 5, 6, 7, 8, 1, 1, 2, 3, 4, 5, 6, 7, 8, 7, 8, 3, 7, 1, 1, 2, 3, 7, 1, 2, 3, 4, 5, 6, 7, 8, 7, 2, 1, 3, 4, 6, 1, 4, 5, 6, 7, 1, 2, 3, 4, 6, 1, 2, 3, 4, 6, 7, 1, 3, 4, 6, 5, 7, 4, 5, 6, 7, 1, 5, 6, 3, 2, 3, 6, 2, 6, 1, 2, 3, 4, 5, 6, 7, 8, 1, 2, 3, 4, 5, 6, 7, 8, 1, 2, 6, 7, 7, 1, 2, 3, 4, 5, 6, 7, 8, 1, 2, 3, 4, 5, 6, 7, 2, 5, 1, 2, 3, 4, 5, 6, 4, 3, 7, 1, 3, 4, 5, 6, 7, 2, 6, 1, 2, 3, 4, 5, 6, 2, 3, 5, 5, 8, 1, 5, 3, 3, 4, 6, 7, 1, 2, 3, 5, 6, 8, 6, 7, 4, 1, 2, 3, 5, 2, 1, 2, 4, 1, 3, 5, 8, 8, 2, 3, 5, 7, 8, 3, 3, 4, 8, 1, 2, 3, 4, 5, 6, 1, 2, 4, 5, 2, 2, 6, 7, 8, 6, 8, 8, 7, 5, 8, 8, 1, 2, 4, 5, 6, 7, 2, 6, 7, 1, 2, 3, 1, 4, 5, 6, 8, 3, 5, 1, 2, 3, 4, 5, 6, 1, 2, 3, 4, 6, 7, 8, 6, 1, 2, 3, 4, 5, 6, 7, 8, 4, 6, 1, 2, 5, 6, 2, 1, 2, 3, 4, 5, 6, 7, 1, 6, 2, 6, 2, 6, 2, 2, 1, 2, 4, 6, 1, 2, 3, 4, 5, 6, 7, 3, 1, 3, 4, 5, 8, 4, 5, 6, 8, 1, 2, 3, 4, 5, 8, 3, 6, 1, 2, 3, 4, 5, 6, 8, 1, 2, 3, 4, 5, 6, 7, 1, 3, 4, 5, 6, 7, 8, 1, 1, 4, 1, 2, 3, 4, 5, 6, 8, 3, 6, 1, 2, 3, 4, 6, 7, 1, 2, 3, 4, 5, 6, 7, 1, 6, 4, 7, 1, 2, 3, 4, 5, 6, 7, 2, 7, 4, 7, 8, 1, 7, 3, 6, 8, 8, 1, 1, 2, 3, 5, 6, 5, 1, 8, 1, 2, 3, 4, 6, 7, 1, 2, 3, 4, 5, 6, 8, 4, 6, 1, 1, 2, 3, 4, 5, 6, 8, 3, 6, 1, 2, 3, 4, 5, 6, 7, 8, 1, 2, 3, 4, 5, 6, 7, 8, 1, 3, 4, 5, 8, 1, 3, 4, 6, 7, 1, 6, 2, 7, 8, 1, 2, 3, 4, 5, 6, 8, 1, 2, 3, 5, 6, 2, 3, 6, 1, 2, 3, 4, 5, 7, 5, 2, 3, 8, 5, 3, 1, 3, 6, 1, 2, 3, 3, 3, 7, 1, 2, 3, 4, 5, 6, 1, 2, 3, 4, 5, 6, 3, 5, 8, 1, 5, 6, 8, 4, 6, 7, 1, 4, 5, 6, 7, 8, 1, 4, 5, 6, 1, 4, 5, 6, 1, 6, 6, 3, 8, 1, 2, 3, 4, 5, 6, 7, 8, 1, 2, 3, 4, 2, 5, 2, 2, 3, 4, 5, 6, 8, 4, 1, 2, 3, 5, 6, 2, 3, 1, 2, 3, 1, 2, 3, 4, 5, 6, 7, 1, 2, 3, 4, 5, 6, 1, 2, 5, 7, 8, 5, 3, 5, 2, 2, 5, 1, 2, 3, 5, 8, 1, 2, 4, 5, 4, 6, 1, 3, 6, 7, 1, 2, 3, 4, 5, 6, 8, 4, 5, 8, 1, 2, 3, 5, 2, 2, 3, 7, 5, 5, 2, 3, 7, 3, 7, 1, 3, 5, 7, 8, 1, 2, 3, 4, 5, 1, 2, 3, 4, 5, 6, 7, 1, 2, 3, 4, 5, 6, 7, 8, 1, 2, 3, 4, 5, 6, 7, 7, 4, 8, 8, 1, 2, 3, 4, 6, 7, 2, 3, 1, 2, 4, 5, 6, 1, 4, 6, 3, 1, 2, 3, 4, 5, 6, 7, 8, 5, 1, 3, 4, 5, 1, 2, 3, 4, 5, 6, 4, 7, 7, 8, 1, 2, 3, 4, 5, 6, 7, 8, 6, 2, 5, 8, 5, 5, 1, 2, 3, 4, 5, 6, 7, 8, 1, 3, 7, 2, 3, 6, 7, 3, 7, 1, 2, 3, 4, 5, 6, 4, 5, 1, 2, 3, 4, 5, 6, 7, 8, 3, 4, 6, 1, 4, 5, 7, 4, 8, 1, 7, 1, 1, 4, 5, 8, 3, 1, 7, 7, 7, 5, 2, 4, 7, 8, 1, 4, 6, 1, 2, 3, 4, 5, 6, 7, 8, 2, 5, 7, 8, 3, 5, 8, 2, 4, 1, 2, 3, 4, 5, 1, 2, 3, 4, 5, 6, 8, 1, 2, 3, 4, 5, 7, 6, 3, 1, 2, 3, 4, 6, 7, 1, 2, 3, 4, 5, 6, 7, 8, 1, 2, 3, 4, 5, 6, 7, 8, 1, 2, 3, 4, 5, 6, 8, 1, 2, 3, 4, 5, 6, 4, 5, 8, 4, 8, 5, 2, 5, 8, 1, 2, 3, 4, 5, 6, 8, 1, 2, 3, 4, 5, 6, 8, 6, 5, 1, 2, 3, 4, 5, 7, 1, 2, 3, 4, 5, 6, 7, 8, 1, 2, 3, 4, 5, 6, 5, 1, 2, 6, 7, 1, 6, 3, 5, 1, 2, 3, 4, 5, 6, 7, 2, 5, 6, 7, 1, 2, 5, 1, 2, 3, 4, 6, 7, 8, 3, 5, 8, 1, 2, 3, 4, 5, 6, 7, 1, 2, 3, 4, 5, 6, 7, 8, 4, 5, 8, 2, 1, 2, 3, 4, 5, 6, 7, 8, 4, 3, 6, 5, 8, 1, 2, 3, 6, 2, 4, 6, 7, 8, 7, 1, 2, 3, 4, 5, 8, 1, 2, 3, 4, 5, 6, 7, 8, 4, 5, 3, 5, 8, 5, 4, 6, 7, 4, 8, 1, 2, 3, 4, 5, 6, 7, 8, 5, 8, 6, 7, 2, 1, 7, 2, 3, 1, 2, 4, 6, 8, 7, 2, 1, 3, 5, 6, 7, 1, 2, 3, 4, 5, 6, 7, 2, 3, 5, 7, 8, 1, 4, 1, 2, 3, 4, 5, 6, 7, 8, 1, 2, 3, 4, 5, 6, 7, 5, 1, 8, 1, 4, 4, 8, 1, 2, 3, 4, 5, 6, 7, 8, 3, 1, 2, 4, 6, 2, 3, 6, 7, 1, 2, 3, 4, 5, 6, 7, 8, 1, 2, 3, 4, 5, 6, 1, 2, 3, 4, 5, 6, 1, 2, 3, 4, 5, 6, 1, 2, 3, 5, 6, 8, 3], \"Freq\": [0.9906150910828473, 0.27844846641165505, 0.31448297382963397, 0.032758643107253536, 0.039310371728704246, 0.3341381596939861, 0.9719020595427978, 0.9832942433982157, 0.9589045288722452, 0.013890615287122446, 0.9723430700985712, 0.19509125259076132, 0.09494055022221026, 0.1974068757669128, 0.16498815130079222, 0.23156231761514698, 0.07931009378318785, 0.0248929491436283, 0.012157021674795217, 0.19646111923782786, 0.798519387869881, 0.9811367204581203, 0.9884562335877541, 0.3367916026033317, 0.07625470247622604, 0.5846193856510663, 0.11463032160798763, 0.5671184332184651, 0.0864755057744468, 0.03418799065501386, 0.1528404288106502, 0.006033174821473033, 0.042232223750311236, 0.2467603847977586, 0.20761566512100574, 0.16847094544425287, 0.07234340598488505, 0.10851510897732758, 0.12734421464462642, 0.0431087419225, 0.02576614459735632, 0.27594902762098283, 0.005410765247470252, 0.10280453970193479, 0.6114164729641385, 0.0037351531710829726, 0.007470306342165945, 0.9636695181394069, 0.024278495612039323, 0.9842035064978037, 0.9843421470399203, 0.9856641187270261, 0.08386145205834943, 0.7111451134548031, 0.05367132931734363, 0.14759615562269499, 0.9761894477838396, 0.1407141832697614, 0.8521025542446663, 0.001954363656524464, 0.001954363656524464, 0.003908727313048928, 0.015044575855803077, 0.9829122892458011, 0.9754063654618987, 0.013934376649455696, 0.9703769193947079, 0.778979140244021, 0.09807291334007459, 0.07005208095719614, 0.05043749828918122, 0.9740697795218469, 0.9929761592767351, 0.21747896499326339, 0.3662803620939173, 0.1488013971006539, 0.005723130657717458, 0.2575408795972856, 0.35301866883857624, 0.6142923728942457, 0.03191129209840237, 0.08327825801289795, 0.008059186259312704, 0.1584973297664832, 0.7495043221160815, 0.11069910045211044, 0.8855928036168835, 0.9780589105113916, 0.7407896152173666, 0.05042934000306017, 0.11477022207593005, 0.05216828276178639, 0.04173462620942911, 0.2547185423119795, 0.29813647566061235, 0.057890577798177155, 0.3878668712477869, 0.26563952783984207, 0.7330305958112097, 0.8037859332579833, 0.038532403320133427, 0.07244091824185085, 0.07012897404264284, 0.006165184531221349, 0.009247776796832023, 0.22407671102073531, 0.10558588477416847, 0.17128376863365108, 0.21879741678202688, 0.14078117969889128, 0.12318353223652988, 0.016424470964870652, 0.030572365920263665, 0.06878782332059324, 0.8904201574276792, 0.007643091480065916, 0.9775112540778804, 0.9762320196044137, 0.9903590392906557, 0.9692057252253997, 0.980605418349059, 0.03540443589208799, 0.3004319274271467, 0.42991100726106846, 0.13959463294594693, 0.08294753551860615, 0.002023110622405028, 0.01011555311202514, 0.9720559580985305, 0.9852046850054411, 0.02399237145181518, 0.9596948580726072, 0.9719587826075761, 0.011044986165995183, 0.20722330647223752, 0.7896298625573682, 0.0021812979628656583, 0.9980395308077645, 0.06162823109926458, 0.9244234664889687, 0.20530523786684718, 0.2777659100551462, 0.2475739633100216, 0.051326309466711795, 0.21738201656489703, 0.9842712640168284, 0.9868121639187856, 0.9831989057920796, 0.9869549992631075, 0.9823467338488492, 0.9881146128097655, 0.009687398164801624, 0.986886601178466, 0.03162885271341826, 0.9488655814025478, 0.9962461187407132, 0.9883326098690194, 0.005607560907058266, 0.0014018902267645666, 0.002803780453529133, 0.28105470584593784, 0.29468553453592555, 0.04283974731139006, 0.17914803421126752, 0.08503040754230451, 0.03050709278235353, 0.02401622197759746, 0.06231235972565827, 0.9905030051828431, 0.006559622550879755, 0.04850469219448519, 0.9539256131582087, 0.8209887105821633, 0.12203886238383509, 0.055472210174470495, 0.0018490736724823499, 0.9722217975572589, 0.01647833555181795, 0.0054927785172726494, 0.9959906542717725, 0.9434886506926538, 0.052624864978873115, 0.9814963027530741, 0.9654241243979171, 0.9915841847807306, 0.9870035849890875, 0.3510417217348671, 0.6462358968300962, 0.9900626879884074, 0.9829392612853707, 0.978376076172785, 0.9880570541856749, 0.985552675953191, 0.9378976626628576, 0.05759020735649125, 0.9876209171941528, 0.645713354358161, 0.16953091929094574, 0.18448952981661743, 0.38575238438245407, 0.0207115374165076, 0.09579086055134765, 0.02847836394769795, 0.43235334356959615, 0.03883413265595175, 0.9697204706338753, 0.9855376577666138, 0.991094082054445, 0.9643881379463467, 0.9337046361789635, 0.06142793659072128, 0.062274969017879295, 0.006919441001986588, 0.9064467712602431, 0.013838882003973176, 0.9993944124895607, 0.9918520777674037, 0.43663248509340746, 0.1671367836484391, 0.08653531697774214, 0.17307063395548428, 0.04994324008429689, 0.06279991574956144, 0.0019779501023483915, 0.021757451125832307, 0.8636906725132221, 0.02661409262329811, 0.10899104598112559, 0.8868008634628249, 0.10346010073732957, 0.0073900071955235415, 0.9911713603880165, 0.9782263528756264, 0.970601114141396, 0.02257211893352084, 0.9871267157800145, 0.007772651305354445, 0.9903921391735652, 0.21142369531748714, 0.22316945616845865, 0.5637965208466323, 0.9735174397617827, 0.9720134684904396, 0.09544854386987424, 0.9003979305058136, 0.9704999047162415, 0.42554465617411286, 0.07471394726721066, 0.0064968649797574485, 0.49051330597168735, 0.8764477461133953, 0.11597607226453245, 0.006627204129401854, 0.1984843377315907, 0.773404488402405, 0.02737715003194354, 0.15046363016583741, 0.8463579196828355, 0.8884887622543636, 0.05056440110390687, 0.05056440110390687, 0.9896294017609085, 0.41695974013364906, 0.0036575415801197286, 0.007315083160239457, 0.5705764864986776, 0.9789755064981245, 0.9970598516985706, 0.9910123476297332, 0.9953759692249532, 0.8192888271105379, 0.012137612253489449, 0.10316970415466031, 0.059339437683726196, 0.0053944943348842, 0.9902062883201981, 0.9826583167575001, 0.9901859162953178, 0.23799949672538828, 0.010818158942063104, 0.016227238413094657, 0.7085894107051334, 0.016227238413094657, 0.005409079471031552, 0.9483860816128074, 0.047419304080640365, 0.9752627279025119, 0.9899259923614445, 0.9912231097841564, 0.9839518629037415, 0.9812136317496474, 0.019989539729264018, 0.979487446733937, 0.9834876272285848, 0.972706757001082, 0.5708790764979007, 0.4276477669822984, 0.9953773929248937, 0.9483003425829896, 0.03386786937796391, 0.001839539789351267, 0.9942712561443597, 0.0027593096840269004, 0.9902684752887967, 0.012583365487794845, 0.1321253376218459, 0.7550019292676907, 0.10066692390235876, 0.9105498917944672, 0.00809377681595082, 0.02428133044785246, 0.05665643771165574, 0.5031616318906702, 0.058928839770979395, 0.036263901397525784, 0.022664938373453614, 0.37623797699933, 0.004746975049760906, 0.9826238353005075, 0.009493950099521812, 0.9858584924353714, 0.3307971765794524, 0.21030813875249954, 0.054767744466796754, 0.40309059927562413, 0.0021907097786718704, 0.10776397991819654, 0.07291814210033658, 0.03420054452493663, 0.5459181258131394, 0.06452932929233325, 0.1109904463828132, 0.008388812808003323, 0.05614051648432993, 0.01887254990241909, 0.9625000450233735, 0.9835431878180403, 0.9710009156072459, 0.9877696524528414, 0.26461290341739924, 0.15445216680157212, 0.10978217738347036, 0.2097218147256641, 0.14990945601329056, 0.09993963734219372, 0.010599658505990242, 0.0007571184647135888, 0.3377636666954897, 0.0404612725728972, 0.10643073872436003, 0.21462066321275908, 0.1785573550499594, 0.09499603125810648, 0.027267379342604637, 0.21683917732148567, 0.12086118080213956, 0.6611817537999399, 0.9782570658948505, 0.9697935030256232, 0.9843044662890152, 0.015500857736834885, 0.3686553062874843, 0.06483887296513542, 0.14449805975087324, 0.08151172601331311, 0.3408672178738548, 0.9624055564142407, 0.06300602137118982, 0.3510335476394862, 0.28002676164973256, 0.10701022677329065, 0.17501672603108284, 0.020001911546409467, 0.0030002867319614203, 0.9787782543752594, 0.9927696919187603, 0.992818771016183, 0.11580348864284239, 0.018284761364659324, 0.8350041023194424, 0.030474602274432206, 0.964567569392254, 0.9712011931723435, 0.23561649302219465, 0.7617190733320266, 0.9877067430357807, 0.3804038518134527, 0.015707878979729646, 0.2861565779350748, 0.18781159649676749, 0.012976073939776664, 0.0901495663184484, 0.02663509913954157, 0.017569648862222238, 0.9241635301528897, 0.0070278595448888944, 0.03162536795200003, 0.017569648862222238, 0.9477966722475991, 0.0494502611607443, 0.26329171420276387, 0.7319509654836837, 0.33735132739006, 0.0646701161202289, 0.11533948545154225, 0.24667982437613084, 0.14534108571350413, 0.0626700094360981, 0.016667555701089923, 0.011333937876741147, 0.9937626099525481, 0.5508274906256583, 0.03345421200127585, 0.12370278391169444, 0.1384848775866768, 0.09958463107356533, 0.025674162698653562, 0.021784138047342416, 0.007002044372360063, 0.9901942464372672, 0.9628132097328299, 0.9793368549999766, 0.9590180812857232, 0.9882528006939795, 0.30686289183332455, 0.11869225061477646, 0.06079359177830014, 0.5095081977609917, 0.06577609640321656, 0.5775963465407455, 0.174717756071044, 0.0020555030126005176, 0.11921917473083003, 0.004111006025201035, 0.0020555030126005176, 0.051387575315012944, 0.9668643324137849, 0.9942961191903394, 0.7175991923952696, 0.12202091530607824, 0.13461037482178473, 0.02517891903141297, 0.9270626259662553, 0.013243751799517933, 0.05738959113124437, 0.9745266427758279, 0.9782748667734915, 0.17026133920780162, 0.0003249262198622169, 0.0009747786595866505, 0.8272621557692041, 0.0009747786595866505, 0.13131528113852461, 0.05252611245540985, 0.0018759325876932088, 0.7747601587172953, 0.03376678657847776, 0.0037518651753864177, 0.1527479839530276, 0.12377853872055686, 0.12641212465078147, 0.5951904202307627, 0.9074985995661478, 0.0780643956616041, 0.7957263134325394, 0.003267869870359505, 0.158491688712436, 0.03921443844431406, 0.054702929230632566, 0.0005209802783869769, 0.944537244715589, 0.9793602111279346, 0.005710560315415445, 0.9765058139360411, 0.017131680946246335, 0.9759623769654563, 0.9815942483831238, 0.6230450081418907, 0.044851853222156006, 0.07070762743257536, 0.18903736960985165, 0.026251525856497194, 0.04537952208359314, 0.0005276688614371295, 0.9960801984213016, 0.43471053378456675, 0.09671545833614482, 0.1364196991267727, 0.1888496581195249, 0.09875157324848473, 0.016288919298719128, 0.027487551316588532, 0.0005090287280849728, 0.4250467703440098, 0.013935959683410156, 0.11845565730898633, 0.445950709869125, 0.9759863533926085, 0.617783570676574, 0.061576166669637694, 0.09466186816377138, 0.18840468906381683, 0.011028567164711229, 0.008087615920788235, 0.011947614428437165, 0.00643333084608155, 0.3777138691941662, 0.07160452496571872, 0.09165379195611996, 0.11027096844720682, 0.19333221740744053, 0.1442831178059232, 0.0110987013696864, 0.7328754532137685, 0.2656438018075613, 0.2267428203218947, 0.011451657592014884, 0.12482306775296223, 0.07329060858889526, 0.40653384451652835, 0.1557425432514024, 0.9878126854978779, 0.909343798904098, 0.08083055990258649, 0.3233394800510314, 0.09192536844449407, 0.4408758964203597, 0.008689462688783022, 0.09924281070873242, 0.035672531038161884, 0.042681647522293135, 0.9389962454904489, 0.4019370811806314, 0.07462675448630615, 0.018329378294882213, 0.08510068494052456, 0.07724523709986075, 0.34302122237565286, 0.9529960769044742, 0.03573735288391778, 0.9874658394153784, 0.9056370806785321, 0.08543746044137095, 0.9855042247691396, 0.9836591216062208, 0.9819053180359235, 0.00619238657952792, 0.17338682422678175, 0.7368940029638225, 0.08050102553386296, 0.4003082717850898, 0.10806801253513831, 0.09284716569920333, 0.3881315943163418, 0.004566254050780492, 0.004566254050780492, 0.9934566151860461, 0.9893601670610974, 0.9719348355036508, 0.9330035876904399, 0.03438588161021277, 0.01146196053673759, 0.018339136858780147, 0.9930637208421593, 0.989941878004888, 0.0039756701927907145, 0.005963505289186072, 0.9503802465325474, 0.0036979776129671105, 0.044375731355605325, 0.9976036052374817, 0.9667653728885032, 0.2935179356074383, 0.5188239566018803, 0.04340758202645214, 0.1240216629327204, 0.0206702771554534, 0.987045204882531, 0.9422209925076227, 0.013655376703009025, 0.02731075340601805, 0.19488652132254314, 0.23525587216792707, 0.17539786919028882, 0.12667623885965304, 0.257528617461932, 0.011136372647002464, 0.0028299797500164156, 0.042449696250246235, 0.8206941275047606, 0.13300904825077153, 0.9869047508372156, 0.994353061023795, 0.3557561026388761, 0.05188109830150276, 0.5892210449956385, 0.9810347507405345, 0.9832502782256486, 0.9854517211907398, 0.9795799855767797, 0.21682259712900792, 0.7697202198079781, 0.9761002981062741, 0.09237035918898313, 0.00782799654143925, 0.7640124624444707, 0.10802635227186164, 0.0015655993082878499, 0.023483989624317747, 0.9865898568657275, 0.9876240432602074, 0.9888055552604321, 0.8116385533202322, 0.18347873104884369, 0.003822473563517577, 0.02128365192934896, 0.8754675493605538, 0.031216022829711806, 0.07236441655978645, 0.9946237936034455, 0.975262023151238, 0.9759091108315905, 0.7532783298299776, 0.0021279048865253604, 0.06064528926597277, 0.055325527049659366, 0.0021279048865253604, 0.12554638830499626, 0.22405852192537118, 0.3570612974975093, 0.11458700664676517, 0.11049461355223784, 0.03580843957711412, 0.07263997742786006, 0.08491715671144205, 0.9957090706108721, 0.32516380870510575, 0.14476136528688266, 0.13939079186983136, 0.2778051158456534, 0.03466461023733109, 0.07762919757374147, 0.00024411697350233165, 0.00024411697350233165, 0.24539762666793236, 0.7531168542567579, 0.9948242920867817, 0.9976119656127332, 0.08406407283884164, 0.9126956479645665, 0.9794483718874396, 0.6785012349201337, 0.05460540760487377, 0.09759264337892334, 0.04995813887254409, 0.05925267633720346, 0.026721795210895675, 0.03136906394322536, 0.9829194599750359, 0.008190995499791966, 0.9303654970888137, 0.06840922772711865, 0.9912920221728854, 0.9860858829287276, 0.9961235294382967, 0.9868772611431427, 0.27640503745870454, 0.6085368969856964, 0.10699549837111144, 0.006687218648194465, 0.3666693619457963, 0.12019452113575896, 0.369712261215056, 0.05477218684667497, 0.038796965683061437, 0.014453771528983672, 0.03499334159648678, 0.9751396515077616, 0.41150215490589276, 0.007219336050980575, 0.06858369248431545, 0.49813418751765964, 0.010829004076470862, 0.4606003033025446, 0.0926074683888714, 0.002437038641812405, 0.44354103280985774, 0.39421824361960645, 0.04275912166244408, 0.3869179057747989, 0.030244256785631182, 0.14392094608334838, 0.0020858108128021502, 0.07056761018459098, 0.923794169689191, 0.3035673362125763, 0.019267320351997085, 0.14514714665171138, 0.1472879600241555, 0.13958103188335666, 0.24062742306271917, 0.004709789419377066, 0.38252951323456535, 0.07019613748015736, 0.3281077886712973, 0.07019613748015736, 0.12540658268926988, 0.021295457437800546, 0.003154882583377859, 0.18941607900347035, 0.5368477105445951, 0.012155042502896493, 0.0020258404171494154, 0.17523519608342444, 0.0060775212514482466, 0.07698193585167779, 0.9862537609130766, 0.0538109986615899, 0.9416924765778233, 0.2458644439680616, 0.16763484816004198, 0.15410642181730175, 0.13332362192845446, 0.11293295033939671, 0.18586881410025707, 0.00019606414989478595, 0.9825215307063391, 0.014291222264819478, 0.10507569383060957, 0.038345158412118184, 0.5448000428942505, 0.10208775940888606, 0.1877418794982929, 0.02191151909263896, 0.1001876229970487, 0.21889732755657698, 0.24078706031223468, 0.09934571019875417, 0.20626863558215908, 0.08840084382092532, 0.044621378309609924, 0.9917571349415575, 0.9746474924392222, 0.9829298877526521, 0.9597969452538829, 0.20844241254700532, 0.30861619333415835, 0.16543851675454063, 0.1355887537927122, 0.07386551512588053, 0.05919359773786316, 0.04856910583619541, 0.2069737795180731, 0.7843216908053297, 0.32585840936296734, 0.6688672613239856, 0.9726792778564742, 0.9516765914339771, 0.03868604030219419, 0.972689747016155, 0.9417677677860185, 0.05045184470282242, 0.9631011028007237, 0.9953683979326606, 0.6001890739914953, 0.16905474662353595, 0.049195825737007814, 0.18068285088864688, 0.0008944695588546876, 0.9826703488004445, 0.9689190612400366, 0.028962254547935874, 0.6233994224559292, 0.01292019528406071, 0.006460097642030355, 0.0032300488210151774, 0.0419906346731973, 0.310084686817457, 0.42798637185202204, 0.16338495348012366, 0.15208159191860568, 0.12485076633858506, 0.09710615159667726, 0.01849640982793853, 0.015927464018502622, 0.10655149654649192, 0.8904660782813968, 0.9822973377586103, 0.3500339663173747, 0.2977119982579764, 0.09156344410394705, 0.12766560206493188, 0.08005261113087941, 0.04185757444751865, 0.010987613292473646, 0.9930622717090427, 0.9916012710064857, 0.40400721324773425, 0.16642183402853963, 0.07900834544789255, 0.1636201196509548, 0.05603428755169685, 0.1227150897382161, 0.0033620572531018107, 0.005043085879652716, 0.3865700790940564, 0.013659720109330614, 0.0013659720109330613, 0.21035968968369145, 0.266364542131947, 0.035515272284259596, 0.04097916032799184, 0.04507707636079102, 0.7995350917268118, 0.0018550698183916747, 0.13356502692420058, 0.06307237382531694, 0.0018550698183916747, 0.34790368313353176, 0.13845146573681366, 0.20590217981372286, 0.01952520670647372, 0.28577802543111536, 0.9426752277943159, 0.05306449957782573, 0.965613350213787, 0.008253105557382795, 0.024759316672148386, 0.8550579182772596, 0.01712970787867632, 0.0214121348483454, 0.05138912363602896, 0.03854184272702172, 0.00285495131311272, 0.0142747565655636, 0.18109823185371265, 0.1443891308022844, 0.1297054903817131, 0.47232376686171, 0.07097092869942793, 0.10004553392279492, 0.0061252367707833625, 0.8922428229441098, 0.4626190306214792, 0.005227333679338747, 0.10454667358677495, 0.0026136668396693737, 0.16204734405950116, 0.258753017127268, 0.9713297916235216, 0.03470447317687231, 0.12146565611905306, 0.8329073562449353, 0.9845521140887319, 0.97602837437165, 0.8439802219668862, 0.13542376054482985, 0.019346251506404268, 0.7327164619170086, 0.26608131679371044, 0.0009928407343048897, 0.9870051648672675, 0.22314147582729751, 0.7732111604248216, 0.12629849386856862, 0.2943220301841866, 0.3201594603148595, 0.1746032545476527, 0.05055149373392518, 0.03402195768759409, 0.2205532146893592, 0.23022660129854164, 0.42079231749943535, 0.09286451144815125, 0.025150805183874296, 0.010640725270100664, 0.981464525025425, 0.012268306562817813, 0.9661213223047547, 0.9985510695045462, 0.1193298287176256, 0.7096984550048259, 0.16329344982411922, 0.9607705679869637, 0.09851390031785254, 0.8982149734863026, 0.09807137582163043, 0.19984355827803937, 0.13692984548680476, 0.4255927629995283, 0.012952823221724774, 0.1276778288998585, 0.15697075665561983, 0.0014739038183626274, 0.0036847595459065683, 0.8379143207391536, 0.001967753609072879, 0.001967753609072879, 0.03541956496331182, 0.9602637612275648, 0.042343371105901785, 0.9456686213651398, 0.9740600621622564, 0.989234798610143, 0.9934666822287114, 0.11761512118995797, 0.3060456294838173, 0.13547291445963744, 0.20998301741243805, 0.09359946817211315, 0.11515197729069183, 0.020936723143762152, 0.0012315719496330678, 0.11137626087680029, 0.779633826137602, 0.03592782608929042, 0.07185565217858084, 0.9448953076101211, 0.05315036105306931, 0.990637623134922, 0.0014615819881334444, 0.0014615819881334444, 0.863064163992799, 0.008038700934733944, 0.03507796771520267, 0.09134887425834028, 0.9725860736405253, 0.005127631067210381, 0.17946708735236333, 0.1589565630835218, 0.6537729610693236, 0.0025638155336051905, 0.9871673122028171, 0.9960101694381086, 0.015148612891520048, 0.961936918611523, 0.015148612891520048, 0.44266900931679476, 0.0912166443440668, 0.14487349395822374, 0.11715078832424265, 0.05991681540247525, 0.0849566785557485, 0.05991681540247525, 0.15166208456402563, 0.40553122611685116, 0.22419612500769007, 0.04725702634966016, 0.16704809314298477, 0.002198001225565589, 0.015166894489266065, 0.22750341733899096, 0.692621515009817, 0.050556314964220216, 0.015166894489266065, 0.970742143646445, 0.1948674199564646, 0.798028481726474, 0.9870593954417037, 0.2872977728563299, 0.7086678397122805, 0.10175799714856266, 0.24167524322783634, 0.016959666191427112, 0.610547982891376, 0.029679415834997447, 0.06080980406619966, 0.7076049927703233, 0.08568654209328133, 0.14649634615948098, 0.9904068126368492, 0.9831994610969869, 0.16422751121651846, 0.007140326574631238, 0.17136783779114972, 0.6569100448660739, 0.05255924108322754, 0.7139296913805074, 0.0014599789189785428, 0.18687730162925348, 0.017519747027742515, 0.024819641622635228, 0.0029199578379570856, 0.9745045686037161, 0.8727668631848173, 0.12152449993712645, 0.004991454396694066, 0.009982908793388132, 0.8136070666611328, 0.16970944948759825, 0.9826196387085926, 0.1686502328685078, 0.8294273747631531, 0.9838188390179295, 0.98287519449502, 0.9710189512568279, 0.01229802686772414, 0.9838421494179311, 0.0017568609811034483, 0.9524493042093086, 0.039141752227779804, 0.04742514074669168, 0.16862272265490375, 0.6902992708685122, 0.05796406091262316, 0.03161676049779445, 0.057357071654279806, 0.023506996579622873, 0.0056416791791094895, 0.7691489280852604, 0.1448030989304769, 0.25894183259026327, 0.09834809987803268, 0.24400288071005574, 0.02489825313367916, 0.23777831742663597, 0.1332056542651835, 0.002489825313367916, 0.38507804578441257, 0.06507854928756178, 0.24089849736279778, 0.17330309810278885, 0.040269599559154254, 0.08880884902777768, 0.0010786499881916317, 0.005393249940958159, 0.13746973257836392, 0.3307865440166882, 0.17828105943756573, 0.17076318343718644, 0.1482095554360486, 0.03221946857305404, 0.0021479645715369363, 0.9755579641972216, 0.689155483356378, 0.31081749330324093, 0.9954271062789614, 0.18912148105900742, 0.004502892406166843, 0.7609888166421965, 0.04052603165550159, 0.004502892406166843, 0.965255492643873, 0.33905569442353656, 0.6594477726402729, 0.9887946866792297, 0.006321664550599075, 0.8660680434320733, 0.12011162646138243, 0.006321664550599075, 0.018875501191035492, 0.9720883113383278, 0.009437750595517746, 0.9686347507740203, 0.21989444028691668, 0.24914868954903419, 0.19649104087722266, 0.23793456066522248, 0.036080240756611606, 0.03803052404075277, 0.02194068694658814, 0.0009751416420705839, 0.9843524465172707, 0.8832872186511892, 0.03205477809621251, 0.042739704128283346, 0.03561642010690279, 0.6272248649745218, 0.04022283703243426, 0.0025139273145271413, 0.0301671277743257, 0.257677549739032, 0.04147980068969784, 0.9824281352916029, 0.9878696643608968, 0.9709425269952583, 0.9902758560661128, 0.2426648096983824, 0.29958618481281774, 0.15634654019918925, 0.22206825949250117, 0.03295448032940995, 0.04194206587379449, 0.004306551406684255, 0.00018724136550801108, 0.9711271478939217, 0.7790766944367795, 0.19376000690655656, 0.02422000086331957, 0.9644935662542066, 0.973947322980104, 0.24707970857923867, 0.04391864227466516, 0.1302620954541089, 0.21630678235957534, 0.15983995657786298, 0.19718574082502724, 0.000597532547954628, 0.005079026657614338, 0.0017448835094987687, 0.619433645872063, 0.3786397215612328, 0.0831629351832158, 0.8197489325202699, 0.01188041931188797, 0.0831629351832158, 0.9820258225657459, 0.9801285160188676, 0.3259442673902584, 0.020902237588152843, 0.01567667819111463, 0.633599076890883, 0.0026127796985191054, 0.0013063898492595527, 0.9747160913766515, 0.01454800136383062, 0.2501517946277478, 0.029066933882801682, 0.12419508113560719, 0.17263997094027667, 0.3355909639196194, 0.07839263986573787, 0.0008808161782667177, 0.007927345604400459, 0.1082593924239808, 0.7794676254526618, 0.1082593924239808, 0.3764111996296202, 0.07984479992143459, 0.5132879994949366, 0.030417066636736986, 0.9794019939756657, 0.9764567242359582, 0.9879531030077773, 0.9949530538576006, 0.9964090643020904, 0.007112759498897115, 0.34852521544595866, 0.04267655699338269, 0.6010281776568062, 0.9938975655939, 0.98882837109719, 0.9704023583055801, 0.9837374804509313, 0.9802538135556879, 0.9863452180708109, 0.9421470489588625, 0.009712856174833633, 0.0291385685245009, 0.019425712349667265, 0.05526851452202684, 0.2824835186681372, 0.6632221742643221, 0.10390400426467436, 0.007556654855612681, 0.13790895111493143, 0.5894190787377891, 0.0018891637139031702, 0.09256902198125534, 0.051007420275385594, 0.017002473425128534, 0.3381291544453605, 0.36330898509554693, 0.014388474657249382, 0.2841723744806753, 0.09140195699126047, 0.9048793742134786, 0.9886945031745233, 0.9850823726729583, 0.009206377314700543, 0.8499104043598928, 0.0023032802286175958, 0.0023032802286175958, 0.0046065604572351915, 0.13819681371705575, 0.629865542910577, 0.09066977187380434, 0.06366175471990518, 0.10513835249196461, 0.04244116981327012, 0.06752004288474792, 0.0009645720412106845, 0.023150399592986187, 0.7596224866448592, 0.005787599898246547, 0.0028937999491232733, 0.17941559684564296, 0.028937999491232734, 0.9904692418276552, 0.9860053120982881, 0.3998737269807023, 0.004544019624780708, 0.01817607849912283, 0.21811294198947398, 0.027264117748684247, 0.327169412984211, 0.25733841959498477, 0.11585798977436544, 0.1960673673104646, 0.17490100379399398, 0.0673981575129722, 0.15094959244640882, 0.037319640936935024, 0.0005570095662229108, 0.2956405074959281, 0.26004499488772265, 0.010876406630284979, 0.39056187445114243, 0.0019775284782336325, 0.008898878152051346, 0.030651691412621303, 0.0029662927173504487, 0.49152299196735844, 0.0026355120212726993, 0.015813072127636198, 0.21611198574436136, 0.005271024042545399, 0.032943900265908745, 0.23719608191454294, 0.004032970839508423, 0.14921992106181167, 0.020164854197542117, 0.7877736373173121, 0.010754588905355796, 0.02688647226338949, 0.975517834160276, 0.02155840517481273, 0.9874895827505301, 0.9687259729905643, 0.027677884942587553, 0.970779709870725, 0.12278062583719451, 0.871742443444081, 0.9985859031296719, 0.14300506313068628, 0.5547907268443492, 0.04479676676382944, 0.09476239123117766, 0.15678868367340304, 0.005168857703518781, 0.0034459051356791875, 0.275465267459197, 0.0507436019003784, 0.2653165470791214, 0.21819748817162712, 0.10656156399079465, 0.08263958023775911, 0.0007249085985768343, 0.9842900748826202, 0.991495370532425, 0.04477308636251197, 0.3204810392264015, 0.011782391148029467, 0.0023564782296058933, 0.6150408179271382, 0.004712956459211787, 0.3648065880059627, 0.12036765594105368, 0.07222059356463222, 0.1374043087819413, 0.12629344823353633, 0.1744405106099578, 0.004073982201081817, 0.0003703620182801652, 0.3050960089409288, 0.1470998614536621, 0.09988262197470885, 0.40770270242403883, 0.005448143016802301, 0.03359688193694752, 0.9632688276365038, 0.07125776843527043, 0.039587649130705796, 0.197938245653529, 0.6888250948742809, 0.0015036149160879315, 0.9968966893662986, 0.03106432580557786, 0.9474619370701247, 0.6008758395143192, 0.1301797204965827, 0.0777462219632369, 0.17779174790042546, 0.00421878723831518, 0.00421878723831518, 0.00421878723831518, 0.8175504058892066, 0.14448089069593736, 0.010571772489946637, 0.02466746914320882, 0.20400037778642657, 0.04533341728587257, 0.7423347080561634, 0.13346598792549638, 0.003673375814463203, 0.4150914670343419, 0.2265248418918975, 0.14815949118334917, 0.039182675354274166, 0.031835923725347756, 0.9261953402994962, 0.024698542407986565, 0.04939708481597313, 0.27507148999456854, 0.2419826959368987, 0.2212604208704792, 0.11497520359432756, 0.08188640953665771, 0.05013453645101493, 0.014706130692297712, 0.1793638740435723, 0.07816315611990536, 0.4333941314332647, 0.16455401288401128, 0.050188973929623446, 0.08351116153863573, 0.010901703353565748, 0.0002056925161050141, 0.9217100448605239, 0.04264982212722218, 0.03317208387672836, 0.9897379995522585, 0.5781273803294347, 0.01749159523166782, 0.07569638626118315, 0.16617015470084429, 0.16074172859446462, 0.0006031584562644076, 0.0006031584562644076, 0.0003015792281322038, 0.9838097385808521, 0.9916288450236411, 0.9762669910912554, 0.9312204743823626, 0.06260305710133529, 0.09357731875741308, 0.1531265216030396, 0.740111521081358, 0.012760543466919965, 0.14818347604208262, 0.830725547508645, 0.004490408364911594, 0.008980816729823189, 0.004490408364911594, 0.9739760164022976, 0.06231742133024225, 0.20452897257105146, 0.24287815492812362, 0.14380943383902056, 0.32596805003511325, 0.017576708580324736, 0.3535285701280722, 0.16764750245328353, 0.1316868599330928, 0.1848680918291495, 0.03494766667455155, 0.06685640581218558, 0.05925908696989176, 0.001519463768458763, 0.962778319154675, 0.9751798034891918, 0.01711342828184444, 0.975465412065133, 0.9793767114212825, 0.9727601374425263, 0.7831250307266263, 0.002175347307573962, 0.2131840361422483, 0.10783676036756606, 0.88965327303242, 0.21078056908290435, 0.3022442803099503, 0.05006038515718978, 0.057964656497798694, 0.13173785567681523, 0.14152409638423577, 0.08544140925324872, 0.01957248141484112, 0.19703584134013327, 0.7967101410709736, 0.9886246826364822, 0.9821974418001476, 0.983352039223384, 0.9917639117726182, 0.9800201033431185, 0.1873853516808739, 0.8120031906171201, 0.04106072989568161, 0.10018818094546314, 0.21187336626171713, 0.5042257631189702, 0.14289134003697201, 0.9912962709545832, 0.9876265699536732, 0.8906705718324691, 0.05658956671863754, 0.0024604159442885884, 0.041827071052906006, 0.007381247832865766, 0.30633885297838603, 0.20538627642869062, 0.1730118294662021, 0.26665404702436785, 0.01705750431356922, 0.030981997630768587, 0.0006962246658599682, 0.8232519310181463, 0.019089899849696147, 0.12169811154181294, 0.004772474962424037, 0.02863484977454422, 0.9954204818822243, 0.9775023862249674, 0.2872130229088095, 0.0035458397889976483, 0.061461223009292576, 0.19856702818386832, 0.05909732981662747, 0.3203075276061209, 0.06382511620195767, 0.007091679577995297, 0.3130479463937996, 0.11905243378587728, 0.35201834738126303, 0.1421777266795369, 0.03640092399927902, 0.037257416328673826, 0.0004282461646974003, 0.9902398270540731, 0.2518757723084388, 0.7420124103140494, 0.9974079837188644, 0.002314171655960242, 0.17394003665232846, 0.8262151740985602, 0.3734990898692733, 0.10196414322840695, 0.2589741463880916, 0.09494487249891517, 0.06760666018405244, 0.09161995478494538, 0.00812757663414838, 0.002955482412417593, 0.9983860330664156, 0.11493233569604938, 0.04732507940425563, 0.16000383989057854, 0.678326138127664, 0.022773775790571008, 0.8749924382693071, 0.10128337127911842, 0.0005993098892255528, 0.014543516495857885, 0.6678830267713198, 0.0861423669370044, 0.14655389699672178, 0.022374640762858285, 0.051461673754574055, 0.008949856305143314, 0.0011187320381429143, 0.5772882544995066, 0.1383943342723042, 0.1016182174726709, 0.004355066463114467, 0.17613824361929623, 0.002419481368396926, 0.13757363558131536, 0.1887638255650606, 0.39992335924800976, 0.07038651122764972, 0.20049491076966888, 0.002132924582656052, 0.0010492049019673849, 0.46165015686564936, 0.2014473411777379, 0.27384247941348744, 0.0010492049019673849, 0.06085388431410833, 0.6991073472626279, 0.0025678874095964297, 0.03659239558674912, 0.2612825439264367, 0.28157543783738126, 0.7084801339134108, 0.97716662646204], \"Term\": [\"abortion\", \"account\", \"account\", \"account\", \"account\", \"account\", \"accusation\", \"achieve\", \"activist\", \"actor\", \"actor\", \"actually\", \"actually\", \"actually\", \"actually\", \"actually\", \"actually\", \"actually\", \"actually\", \"ad\", \"ad\", \"advocate\", \"agreement\", \"air\", \"air\", \"air\", \"allow\", \"allow\", \"allow\", \"allow\", \"allow\", \"allow\", \"allow\", \"also\", \"also\", \"also\", \"also\", \"also\", \"also\", \"also\", \"also\", \"amazing\", \"amazing\", \"amazing\", \"amazing\", \"amp\", \"amp\", \"amp\", \"amp\", \"anal\", \"analogy\", \"android\", \"animal\", \"animal\", \"animal\", \"animal\", \"annoy\", \"answer\", \"answer\", \"answer\", \"answer\", \"answer\", \"apple\", \"apple\", \"approve\", \"approve\", \"archaeology\", \"argument\", \"argument\", \"argument\", \"argument\", \"armed\", \"arrow\", \"article\", \"article\", \"article\", \"article\", \"article\", \"ass\", \"ass\", \"ass\", \"asshole\", \"asshole\", \"asshole\", \"asshole\", \"attractive\", \"attractive\", \"award\", \"away\", \"away\", \"away\", \"away\", \"away\", \"awesome\", \"awesome\", \"awesome\", \"awesome\", \"baby\", \"baby\", \"back\", \"back\", \"back\", \"back\", \"back\", \"back\", \"bad\", \"bad\", \"bad\", \"bad\", \"bad\", \"bad\", \"bad\", \"ball\", \"ball\", \"ball\", \"ball\", \"ballot\", \"bang\", \"bathroom\", \"batman\", \"beard\", \"believe\", \"believe\", \"believe\", \"believe\", \"believe\", \"believe\", \"believe\", \"bench\", \"bigot\", \"billion\", \"billion\", \"bird\", \"bird\", \"bitch\", \"bitch\", \"bitch\", \"black\", \"blog\", \"blog\", \"body\", \"body\", \"body\", \"body\", \"body\", \"boner\", \"boob\", \"brave\", \"bread\", \"bro\", \"brother\", \"brother\", \"buck\", \"budget\", \"budget\", \"bus\", \"buy\", \"buy\", \"buy\", \"buy\", \"call\", \"call\", \"call\", \"call\", \"call\", \"call\", \"call\", \"call\", \"camera\", \"camera\", \"capital\", \"capital\", \"car\", \"car\", \"car\", \"car\", \"card\", \"card\", \"card\", \"cash\", \"cat\", \"cat\", \"cell\", \"cereal\", \"chair\", \"champion\", \"character\", \"character\", \"cheer\", \"cheese\", \"chicken\", \"church\", \"circumstance\", \"citizen\", \"citizen\", \"civilian\", \"claim\", \"claim\", \"claim\", \"class\", \"class\", \"class\", \"class\", \"class\", \"class\", \"cloud\", \"coach\", \"cock\", \"cod\", \"coin\", \"coin\", \"color\", \"color\", \"color\", \"color\", \"com\", \"com_askreddit\", \"come\", \"come\", \"come\", \"come\", \"come\", \"come\", \"come\", \"come\", \"comment\", \"comment\", \"comment\", \"confirm\", \"confirm\", \"confirm\", \"conflict\", \"congressional\", \"connect\", \"connect\", \"conservative\", \"conservative\", \"console\", \"content\", \"content\", \"content\", \"contrary\", \"controller\", \"cop\", \"cop\", \"corrupt\", \"cost\", \"cost\", \"cost\", \"cost\", \"country\", \"country\", \"country\", \"court\", \"court\", \"court\", \"cow\", \"cow\", \"criminal\", \"criminal\", \"criminal\", \"criticize\", \"cry\", \"cry\", \"cry\", \"cry\", \"ctrl\", \"cunt\", \"customer\", \"dad\", \"day\", \"day\", \"day\", \"day\", \"day\", \"declare\", \"decline\", \"defensive\", \"design\", \"design\", \"design\", \"design\", \"design\", \"design\", \"dick\", \"dick\", \"digg\", \"dinner\", \"disappoint\", \"disgust\", \"dislike\", \"disrespectful\", \"disrespectful\", \"dive\", \"dlc\", \"dog\", \"dog\", \"dota\", \"douchebag\", \"douchebag\", \"downvote\", \"downvote\", \"downvote\", \"drama\", \"dream\", \"dream\", \"dream\", \"dream\", \"drink\", \"drink\", \"drink\", \"drink\", \"drop\", \"drop\", \"drop\", \"drop\", \"drop\", \"dumb\", \"dumb\", \"dumb\", \"ear\", \"eat\", \"eat\", \"eat\", \"eat\", \"eat\", \"edit\", \"edit\", \"edit\", \"edit\", \"edit\", \"edit\", \"edit\", \"edit\", \"egg\", \"egg\", \"employer\", \"entertainment\", \"european\", \"even\", \"even\", \"even\", \"even\", \"even\", \"even\", \"even\", \"even\", \"ever\", \"ever\", \"ever\", \"ever\", \"ever\", \"ever\", \"ever\", \"evidence\", \"evidence\", \"evidence\", \"evolution\", \"expansion\", \"extra\", \"extra\", \"face\", \"face\", \"face\", \"face\", \"face\", \"facial\", \"fact\", \"fact\", \"fact\", \"fact\", \"fact\", \"fact\", \"fact\", \"fag\", \"faggot\", \"faith\", \"fan\", \"fan\", \"fan\", \"fan\", \"fappe\", \"fart\", \"fat\", \"fat\", \"federal\", \"feel\", \"feel\", \"feel\", \"feel\", \"feel\", \"feel\", \"feel\", \"female\", \"female\", \"female\", \"female\", \"female\", \"feminist\", \"feminist\", \"film\", \"film\", \"find\", \"find\", \"find\", \"find\", \"find\", \"find\", \"find\", \"find\", \"finish\", \"first\", \"first\", \"first\", \"first\", \"first\", \"first\", \"first\", \"first\", \"fish\", \"flair\", \"flash\", \"float\", \"floor\", \"food\", \"food\", \"food\", \"food\", \"force\", \"force\", \"force\", \"force\", \"force\", \"force\", \"force\", \"force\", \"fox\", \"freedom\", \"friend\", \"friend\", \"friend\", \"friend\", \"front\", \"front\", \"front\", \"front_page\", \"fruit\", \"fuck\", \"fuck\", \"fuck\", \"fuck\", \"fuck\", \"fucking\", \"fucking\", \"fucking\", \"fucking\", \"fucking\", \"fucking\", \"fun\", \"fun\", \"fun\", \"fun\", \"fund\", \"fund\", \"funny\", \"funny\", \"funny\", \"funny\", \"game\", \"game\", \"game\", \"gang\", \"gay\", \"gay\", \"gay\", \"genetic\", \"genius\", \"get\", \"get\", \"get\", \"get\", \"get\", \"get\", \"get\", \"gif\", \"give\", \"give\", \"give\", \"give\", \"give\", \"give\", \"give\", \"give\", \"glad\", \"glad\", \"glad\", \"glad\", \"glove\", \"go\", \"go\", \"go\", \"go\", \"go\", \"go\", \"go\", \"go\", \"good\", \"good\", \"good\", \"good\", \"good\", \"good\", \"good\", \"government\", \"government\", \"great\", \"great\", \"great\", \"great\", \"great\", \"great\", \"gtfo\", \"guilty\", \"guilty\", \"guy\", \"guy\", \"guy\", \"guy\", \"guy\", \"guy\", \"haha\", \"haha\", \"hard\", \"hard\", \"hard\", \"hard\", \"hard\", \"hard\", \"harm\", \"harm\", \"hat\", \"hatred\", \"hatred\", \"heat\", \"helmet\", \"hence\", \"hero\", \"hero\", \"hero\", \"hero\", \"high\", \"high\", \"high\", \"high\", \"high\", \"high\", \"hilarious\", \"hitler\", \"hivemind\", \"home\", \"home\", \"home\", \"home\", \"homosexual\", \"hour\", \"hour\", \"hour\", \"house\", \"house\", \"house\", \"http\", \"https\", \"human\", \"human\", \"human\", \"human\", \"human\", \"human_being\", \"humanity\", \"humanity\", \"humanity\", \"idea\", \"idea\", \"idea\", \"idea\", \"idea\", \"idea\", \"idiot\", \"idiot\", \"idiot\", \"idiot\", \"ignorance\", \"illegal\", \"image\", \"image\", \"image\", \"imaginary\", \"imgur\", \"index\", \"inflation\", \"info\", \"info\", \"install\", \"internet\", \"internet\", \"internet\", \"internet\", \"internet\", \"internet\", \"israeli\", \"jack\", \"japanese\", \"job\", \"job\", \"job\", \"joke\", \"joke\", \"joke\", \"joke\", \"jpg\", \"judgement\", \"judgment\", \"kid\", \"kid\", \"kid\", \"kid\", \"kid\", \"kid\", \"kill\", \"kill\", \"kill\", \"kill\", \"kill\", \"kill\", \"kill\", \"knee\", \"know\", \"know\", \"know\", \"know\", \"know\", \"know\", \"know\", \"know\", \"lane\", \"lane\", \"laptop\", \"law\", \"league\", \"league\", \"leather\", \"leave\", \"leave\", \"leave\", \"leave\", \"leave\", \"leave\", \"leave\", \"leg\", \"leg\", \"legal\", \"legal\", \"legally\", \"lesson\", \"liberal\", \"libertarian\", \"lie\", \"lie\", \"lie\", \"lie\", \"life\", \"life\", \"life\", \"life\", \"life\", \"life\", \"life\", \"lifestyle\", \"light\", \"light\", \"light\", \"light\", \"light\", \"link\", \"link\", \"link\", \"link\", \"live\", \"live\", \"live\", \"live\", \"live\", \"live\", \"lol\", \"lol\", \"look\", \"look\", \"look\", \"look\", \"look\", \"look\", \"look\", \"lot\", \"lot\", \"lot\", \"lot\", \"lot\", \"lot\", \"lot\", \"love\", \"love\", \"love\", \"love\", \"love\", \"love\", \"love\", \"lunch\", \"m\", \"m\", \"make\", \"make\", \"make\", \"make\", \"make\", \"make\", \"make\", \"male\", \"male\", \"man\", \"man\", \"man\", \"man\", \"man\", \"man\", \"many\", \"many\", \"many\", \"many\", \"many\", \"many\", \"many\", \"marketing\", \"mask\", \"masturbate\", \"mcdonald\", \"mean\", \"mean\", \"mean\", \"mean\", \"mean\", \"mean\", \"mean\", \"meat\", \"meat\", \"meme\", \"meme\", \"mensright\", \"middle\", \"middle\", \"mock\", \"mode\", \"mode\", \"moderator\", \"mom\", \"money\", \"money\", \"money\", \"money\", \"money\", \"monopoly\", \"month\", \"month\", \"mother\", \"mother\", \"mother\", \"mother\", \"mother\", \"mother\", \"much\", \"much\", \"much\", \"much\", \"much\", \"much\", \"much\", \"music\", \"music\", \"nail\", \"need\", \"need\", \"need\", \"need\", \"need\", \"need\", \"need\", \"neighborhood\", \"nerd\", \"never\", \"never\", \"never\", \"never\", \"never\", \"never\", \"never\", \"never\", \"new\", \"new\", \"new\", \"new\", \"new\", \"new\", \"new\", \"new\", \"next\", \"next\", \"next\", \"next\", \"next\", \"nice\", \"nice\", \"nice\", \"nice\", \"nice\", \"night\", \"night\", \"obama\", \"obama\", \"obama\", \"old\", \"old\", \"old\", \"old\", \"old\", \"old\", \"old\", \"one\", \"one\", \"one\", \"one\", \"one\", \"op\", \"op\", \"op\", \"open\", \"open\", \"open\", \"open\", \"open\", \"open\", \"oppression\", \"org\", \"org\", \"org\", \"ownership\", \"package\", \"parent\", \"parent\", \"parent\", \"pay\", \"pay\", \"pay\", \"peace\", \"penis\", \"penis\", \"people\", \"people\", \"people\", \"people\", \"people\", \"people\", \"person\", \"person\", \"person\", \"person\", \"person\", \"person\", \"perspective\", \"perspective\", \"peta\", \"phone\", \"photo\", \"photo\", \"photo\", \"physics\", \"pic\", \"pic\", \"picture\", \"picture\", \"picture\", \"picture\", \"picture\", \"picture\", \"play\", \"play\", \"play\", \"play\", \"player\", \"player\", \"player\", \"player\", \"playing\", \"playing\", \"playoff\", \"pleasure\", \"png\", \"point\", \"point\", \"point\", \"point\", \"point\", \"point\", \"point\", \"point\", \"police\", \"police\", \"police\", \"police\", \"policy\", \"policy\", \"politician\", \"post\", \"post\", \"post\", \"post\", \"post\", \"post\", \"posting\", \"power\", \"power\", \"power\", \"power\", \"power\", \"principle\", \"prison\", \"private\", \"private\", \"private\", \"probably\", \"probably\", \"probably\", \"probably\", \"probably\", \"probably\", \"probably\", \"problem\", \"problem\", \"problem\", \"problem\", \"problem\", \"problem\", \"program\", \"program\", \"program\", \"program\", \"program\", \"progress\", \"project\", \"project\", \"pronounce\", \"proof\", \"proof\", \"provide\", \"provide\", \"provide\", \"provide\", \"provide\", \"public\", \"public\", \"public\", \"public\", \"pun\", \"pursue\", \"pussy\", \"pussy\", \"pussy\", \"pussy\", \"question\", \"question\", \"question\", \"question\", \"question\", \"question\", \"question\", \"queue\", \"quote\", \"quote\", \"race\", \"race\", \"race\", \"race\", \"racial\", \"racist\", \"racist\", \"radical\", \"rain\", \"ram\", \"rape\", \"rape\", \"rape\", \"rapist\", \"rapist\", \"rate\", \"rate\", \"rate\", \"rate\", \"rate\", \"read\", \"read\", \"read\", \"read\", \"read\", \"real\", \"real\", \"real\", \"real\", \"real\", \"real\", \"real\", \"really\", \"really\", \"really\", \"really\", \"really\", \"really\", \"really\", \"really\", \"reason\", \"reason\", \"reason\", \"reason\", \"reason\", \"reason\", \"reason\", \"recession\", \"reddit\", \"reddit\", \"reddit_enhancement\", \"relationship\", \"relationship\", \"relationship\", \"relationship\", \"relationship\", \"relax\", \"religion\", \"religion\", \"rent\", \"retard\", \"retard\", \"retard\", \"retard\", \"retarded\", \"retarded\", \"retarded\", \"rhetoric\", \"right\", \"right\", \"right\", \"right\", \"right\", \"right\", \"right\", \"right\", \"river\", \"room\", \"room\", \"room\", \"room\", \"run\", \"run\", \"run\", \"run\", \"run\", \"run\", \"russian\", \"salt\", \"sand\", \"sarcasm\", \"say\", \"say\", \"say\", \"say\", \"say\", \"say\", \"say\", \"say\", \"sc\", \"science\", \"science\", \"science\", \"scumbag\", \"secure\", \"see\", \"see\", \"see\", \"see\", \"see\", \"see\", \"see\", \"see\", \"sex\", \"sex\", \"sex\", \"sexual\", \"sexual\", \"sexual\", \"sexual\", \"sexuality\", \"sharp\", \"shit\", \"shit\", \"shit\", \"shit\", \"shit\", \"shit\", \"shoe\", \"shoe\", \"show\", \"show\", \"show\", \"show\", \"show\", \"show\", \"show\", \"show\", \"shut\", \"shut\", \"shut\", \"sign\", \"sign\", \"sign\", \"sign\", \"signature\", \"sin\", \"sink\", \"sir\", \"sit\", \"site\", \"site\", \"site\", \"site\", \"slave\", \"slowly\", \"slut\", \"snake\", \"socialism\", \"socialist\", \"soldier\", \"soldier\", \"soldier\", \"soldier\", \"song\", \"song\", \"song\", \"sorry\", \"sorry\", \"sorry\", \"sorry\", \"sorry\", \"sorry\", \"sorry\", \"sorry\", \"source\", \"source\", \"source\", \"source\", \"space\", \"space\", \"spam\", \"speech\", \"speech\", \"spend\", \"spend\", \"spend\", \"spend\", \"spend\", \"start\", \"start\", \"start\", \"start\", \"start\", \"start\", \"start\", \"state\", \"state\", \"state\", \"state\", \"state\", \"state\", \"steam\", \"stereotype\", \"stick\", \"stick\", \"stick\", \"stick\", \"stick\", \"stick\", \"still\", \"still\", \"still\", \"still\", \"still\", \"still\", \"still\", \"still\", \"stop\", \"stop\", \"stop\", \"stop\", \"stop\", \"stop\", \"stop\", \"stop\", \"story\", \"story\", \"story\", \"story\", \"story\", \"story\", \"story\", \"stupid\", \"stupid\", \"stupid\", \"stupid\", \"stupid\", \"stupid\", \"sub\", \"sub\", \"submission\", \"subreddit\", \"subreddit\", \"subtle\", \"successful\", \"successful\", \"suite_http\", \"support\", \"support\", \"support\", \"support\", \"support\", \"support\", \"support\", \"sure\", \"sure\", \"sure\", \"sure\", \"sure\", \"sure\", \"sure\", \"sword\", \"sympathy\", \"system\", \"system\", \"system\", \"system\", \"system\", \"system\", \"take\", \"take\", \"take\", \"take\", \"take\", \"take\", \"take\", \"take\", \"talk\", \"talk\", \"talk\", \"talk\", \"talk\", \"talk\", \"task\", \"taste\", \"taste\", \"taste\", \"taste\", \"team\", \"team\", \"technology\", \"technology\", \"tell\", \"tell\", \"tell\", \"tell\", \"tell\", \"tell\", \"tell\", \"term\", \"term\", \"term\", \"term\", \"test\", \"test\", \"test\", \"thank\", \"thank\", \"thank\", \"thank\", \"thank\", \"thank\", \"thank\", \"theory\", \"theory\", \"theory\", \"thing\", \"thing\", \"thing\", \"thing\", \"thing\", \"thing\", \"thing\", \"think\", \"think\", \"think\", \"think\", \"think\", \"think\", \"think\", \"think\", \"thread\", \"thread\", \"thread\", \"threat\", \"time\", \"time\", \"time\", \"time\", \"time\", \"time\", \"time\", \"time\", \"tit\", \"tooth\", \"tower\", \"travel\", \"travel\", \"treat\", \"treat\", \"treat\", \"treat\", \"troll\", \"troll\", \"troll\", \"troll\", \"troll\", \"trolling\", \"true\", \"true\", \"true\", \"true\", \"true\", \"true\", \"try\", \"try\", \"try\", \"try\", \"try\", \"try\", \"try\", \"try\", \"tumblr\", \"typically\", \"university\", \"university\", \"upload\", \"upper\", \"upvote\", \"upvote\", \"upvote\", \"upvoted\", \"upvoted\", \"use\", \"use\", \"use\", \"use\", \"use\", \"use\", \"use\", \"use\", \"user\", \"user\", \"username\", \"vacation\", \"vaccine\", \"valve\", \"vegetable\", \"victim\", \"victim\", \"video\", \"video\", \"video\", \"video\", \"video\", \"volunteer\", \"voting\", \"walk\", \"walk\", \"walk\", \"walk\", \"walk\", \"want\", \"want\", \"want\", \"want\", \"want\", \"want\", \"want\", \"war\", \"war\", \"war\", \"war\", \"war\", \"warm\", \"wat\", \"watch\", \"watch\", \"watch\", \"watch\", \"watch\", \"watch\", \"watch\", \"watch\", \"way\", \"way\", \"way\", \"way\", \"way\", \"way\", \"way\", \"wealthy\", \"website\", \"website\", \"week\", \"week\", \"welcome\", \"welcome\", \"well\", \"well\", \"well\", \"well\", \"well\", \"well\", \"well\", \"well\", \"white\", \"win\", \"win\", \"win\", \"win\", \"woman\", \"woman\", \"woman\", \"woman\", \"word\", \"word\", \"word\", \"word\", \"word\", \"word\", \"word\", \"word\", \"work\", \"work\", \"work\", \"work\", \"work\", \"work\", \"world\", \"world\", \"world\", \"world\", \"world\", \"world\", \"wrong\", \"wrong\", \"wrong\", \"wrong\", \"wrong\", \"wrong\", \"year\", \"year\", \"year\", \"year\", \"youtube\", \"youtube\", \"zombie\"]}, \"R\": 30, \"lambda.step\": 0.01, \"plot.opts\": {\"xlab\": \"PC1\", \"ylab\": \"PC2\"}, \"topic.order\": [4, 8, 5, 7, 1, 6, 2, 3]};\n",
              "\n",
              "function LDAvis_load_lib(url, callback){\n",
              "  var s = document.createElement('script');\n",
              "  s.src = url;\n",
              "  s.async = true;\n",
              "  s.onreadystatechange = s.onload = callback;\n",
              "  s.onerror = function(){console.warn(\"failed to load library \" + url);};\n",
              "  document.getElementsByTagName(\"head\")[0].appendChild(s);\n",
              "}\n",
              "\n",
              "if(typeof(LDAvis) !== \"undefined\"){\n",
              "   // already loaded: just create the visualization\n",
              "   !function(LDAvis){\n",
              "       new LDAvis(\"#\" + \"ldavis_el10551399232835492649277580262\", ldavis_el10551399232835492649277580262_data);\n",
              "   }(LDAvis);\n",
              "}else if(typeof define === \"function\" && define.amd){\n",
              "   // require.js is available: use it to load d3/LDAvis\n",
              "   require.config({paths: {d3: \"https://d3js.org/d3.v5\"}});\n",
              "   require([\"d3\"], function(d3){\n",
              "      window.d3 = d3;\n",
              "      LDAvis_load_lib(\"https://cdn.jsdelivr.net/gh/bmabey/pyLDAvis/pyLDAvis/js/ldavis.v3.0.0.js\", function(){\n",
              "        new LDAvis(\"#\" + \"ldavis_el10551399232835492649277580262\", ldavis_el10551399232835492649277580262_data);\n",
              "      });\n",
              "    });\n",
              "}else{\n",
              "    // require.js not available: dynamically load d3 & LDAvis\n",
              "    LDAvis_load_lib(\"https://d3js.org/d3.v5.js\", function(){\n",
              "         LDAvis_load_lib(\"https://cdn.jsdelivr.net/gh/bmabey/pyLDAvis/pyLDAvis/js/ldavis.v3.0.0.js\", function(){\n",
              "                 new LDAvis(\"#\" + \"ldavis_el10551399232835492649277580262\", ldavis_el10551399232835492649277580262_data);\n",
              "            })\n",
              "         });\n",
              "}\n",
              "</script>"
            ]
          },
          "metadata": {},
          "execution_count": 36
        }
      ]
    },
    {
      "cell_type": "code",
      "source": [
        "# Let's Extend the number of topics and get more Remarkable ones now!"
      ],
      "metadata": {
        "id": "y-0yV8fUWiYh"
      },
      "execution_count": null,
      "outputs": []
    },
    {
      "cell_type": "code",
      "source": [
        "lda_model = gensim.models.ldamodel.LdaModel(corpus=corpus,\n",
        "                                           id2word=id2word,\n",
        "                                           num_topics=20, \n",
        "                                           random_state=100,\n",
        "                                           update_every=1,\n",
        "                                           chunksize=100,\n",
        "                                           passes=10,\n",
        "                                           alpha='auto',\n",
        "                                           per_word_topics=True)"
      ],
      "metadata": {
        "id": "URxdMlMqOhrq"
      },
      "execution_count": 37,
      "outputs": []
    },
    {
      "cell_type": "code",
      "source": [
        "# Print the Keyword in the 10 topics\n",
        "pprint(lda_model.print_topics())\n",
        "doc_lda = lda_model[corpus]"
      ],
      "metadata": {
        "colab": {
          "base_uri": "https://localhost:8080/"
        },
        "id": "j6ZsAmC1Ojcf",
        "outputId": "f9c4d086-c8b7-4f38-8dd1-683a3806194e"
      },
      "execution_count": 38,
      "outputs": [
        {
          "output_type": "stream",
          "name": "stdout",
          "text": [
            "[(0,\n",
            "  '0.095*\"need\" + 0.036*\"stupid\" + 0.034*\"thank\" + 0.032*\"support\" + '\n",
            "  '0.027*\"free\" + 0.023*\"gun\" + 0.021*\"spend\" + 0.019*\"poor\" + 0.019*\"realize\" '\n",
            "  '+ 0.018*\"other\"'),\n",
            " (1,\n",
            "  '0.083*\"work\" + 0.051*\"life\" + 0.038*\"job\" + 0.037*\"pay\" + 0.030*\"end\" + '\n",
            "  '0.026*\"already\" + 0.019*\"hour\" + 0.018*\"player\" + 0.017*\"business\" + '\n",
            "  '0.017*\"walk\"'),\n",
            " (2,\n",
            "  '0.053*\"play\" + 0.042*\"believe\" + 0.032*\"story\" + 0.031*\"state\" + '\n",
            "  '0.028*\"die\" + 0.021*\"week\" + 0.020*\"far\" + 0.018*\"learn\" + 0.017*\"break\" + '\n",
            "  '0.016*\"full\"'),\n",
            " (3,\n",
            "  '0.066*\"well\" + 0.063*\"really\" + 0.045*\"give\" + 0.044*\"actually\" + '\n",
            "  '0.030*\"downvote\" + 0.021*\"fact\" + 0.021*\"girl\" + 0.020*\"enough\" + '\n",
            "  '0.019*\"less\" + 0.018*\"change\"'),\n",
            " (4,\n",
            "  '0.213*\"say\" + 0.086*\"man\" + 0.032*\"real\" + 0.027*\"true\" + 0.021*\"answer\" + '\n",
            "  '0.014*\"fun\" + 0.013*\"totally\" + 0.013*\"mom\" + 0.010*\"science\" + '\n",
            "  '0.010*\"correct\"'),\n",
            " (5,\n",
            "  '0.044*\"live\" + 0.043*\"read\" + 0.024*\"fucking\" + 0.022*\"human\" + 0.021*\"sex\" '\n",
            "  '+ 0.021*\"animal\" + 0.019*\"experience\" + 0.019*\"hope\" + 0.018*\"opinion\" + '\n",
            "  '0.015*\"wife\"'),\n",
            " (6,\n",
            "  '0.096*\"good\" + 0.081*\"look\" + 0.055*\"bad\" + 0.050*\"day\" + 0.042*\"lot\" + '\n",
            "  '0.022*\"seriously\" + 0.021*\"turn\" + 0.016*\"eat\" + 0.015*\"food\" + '\n",
            "  '0.014*\"cost\"'),\n",
            " (7,\n",
            "  '0.032*\"amp\" + 0.024*\"class\" + 0.022*\"top\" + 0.021*\"water\" + 0.018*\"http\" + '\n",
            "  '0.017*\"respect\" + 0.017*\"imagine\" + 0.015*\"mother\" + 0.011*\"cut\" + '\n",
            "  '0.011*\"respond\"'),\n",
            " (8,\n",
            "  '0.108*\"make\" + 0.101*\"think\" + 0.065*\"thing\" + 0.041*\"also\" + 0.040*\"much\" '\n",
            "  '+ 0.028*\"post\" + 0.026*\"first\" + 0.025*\"pretty\" + 0.023*\"talk\" + '\n",
            "  '0.022*\"ever\"'),\n",
            " (9,\n",
            "  '0.118*\"take\" + 0.075*\"edit\" + 0.064*\"sure\" + 0.034*\"hard\" + 0.025*\"win\" + '\n",
            "  '0.020*\"remember\" + 0.020*\"s\" + 0.017*\"decide\" + 0.016*\"example\" + '\n",
            "  '0.016*\"drive\"'),\n",
            " (10,\n",
            "  '0.044*\"long\" + 0.033*\"internet\" + 0.026*\"whole\" + 0.024*\"picture\" + '\n",
            "  '0.024*\"second\" + 0.019*\"fat\" + 0.018*\"view\" + 0.017*\"awesome\" + '\n",
            "  '0.017*\"phone\" + 0.013*\"term\"'),\n",
            " (11,\n",
            "  '0.038*\"reddit\" + 0.020*\"put\" + 0.019*\"kill\" + 0.019*\"friend\" + 0.016*\"care\" '\n",
            "  '+ 0.014*\"big\" + 0.014*\"become\" + 0.013*\"help\" + 0.011*\"last\" + '\n",
            "  '0.010*\"else\"'),\n",
            " (12,\n",
            "  '0.092*\"use\" + 0.072*\"game\" + 0.058*\"call\" + 0.044*\"happen\" + 0.033*\"word\" + '\n",
            "  '0.023*\"video\" + 0.022*\"different\" + 0.019*\"stuff\" + 0.018*\"consider\" + '\n",
            "  '0.014*\"speak\"'),\n",
            " (13,\n",
            "  '0.031*\"child\" + 0.028*\"high\" + 0.024*\"car\" + 0.019*\"case\" + 0.018*\"mind\" + '\n",
            "  '0.017*\"parent\" + 0.016*\"one\" + 0.016*\"low\" + 0.015*\"cop\" + 0.015*\"site\"'),\n",
            " (14,\n",
            "  '0.120*\"time\" + 0.060*\"try\" + 0.050*\"tell\" + 0.036*\"probably\" + 0.033*\"stop\" '\n",
            "  '+ 0.029*\"little\" + 0.027*\"buy\" + 0.025*\"hear\" + 0.021*\"funny\" + '\n",
            "  '0.020*\"joke\"'),\n",
            " (15,\n",
            "  '0.178*\"people\" + 0.088*\"see\" + 0.062*\"mean\" + 0.056*\"come\" + 0.027*\"sound\" '\n",
            "  '+ 0.025*\"reason\" + 0.020*\"watch\" + 0.018*\"wait\" + 0.014*\"movie\" + '\n",
            "  '0.013*\"white\"'),\n",
            " (16,\n",
            "  '0.117*\"fuck\" + 0.057*\"year\" + 0.055*\"shit\" + 0.039*\"keep\" + 0.038*\"ask\" + '\n",
            "  '0.032*\"maybe\" + 0.029*\"hate\" + 0.025*\"new\" + 0.023*\"old\" + '\n",
            "  '0.023*\"question\"'),\n",
            " (17,\n",
            "  '0.075*\"even\" + 0.057*\"guy\" + 0.054*\"comment\" + 0.050*\"still\" + 0.041*\"find\" '\n",
            "  '+ 0.033*\"let\" + 0.030*\"show\" + 0.025*\"seem\" + 0.024*\"great\" + '\n",
            "  '0.021*\"understand\"'),\n",
            " (18,\n",
            "  '0.117*\"get\" + 0.085*\"go\" + 0.064*\"know\" + 0.043*\"want\" + 0.035*\"way\" + '\n",
            "  '0.034*\"right\" + 0.026*\"woman\" + 0.025*\"never\" + 0.023*\"point\" + '\n",
            "  '0.021*\"back\"'),\n",
            " (19,\n",
            "  '0.133*\"com\" + 0.045*\"suite_http\" + 0.045*\"reddit_enhancement\" + '\n",
            "  '0.045*\"team\" + 0.034*\"agree\" + 0.015*\"gif\" + 0.015*\"chance\" + '\n",
            "  '0.014*\"history\" + 0.013*\"smart\" + 0.012*\"cover\"')]\n"
          ]
        }
      ]
    },
    {
      "cell_type": "code",
      "source": [
        "# Compute Perplexity\n",
        "print('\\nPerplexity: ', lda_model.log_perplexity(corpus))  # a measure of how good the model is. lower the better.\n",
        "\n",
        "# Compute Coherence Score\n",
        "coherence_model_lda = CoherenceModel(model=lda_model, texts=data_lemmatized, dictionary=id2word, coherence='c_v')\n",
        "coherence_lda = coherence_model_lda.get_coherence()\n",
        "print('\\nCoherence Score: ', coherence_lda)"
      ],
      "metadata": {
        "colab": {
          "base_uri": "https://localhost:8080/"
        },
        "id": "AH2aQyNrOqut",
        "outputId": "d1a33506-ce1e-45ad-8c1c-06c1bc6a0cf7"
      },
      "execution_count": 39,
      "outputs": [
        {
          "output_type": "stream",
          "name": "stdout",
          "text": [
            "\n",
            "Perplexity:  -9.231317829827814\n",
            "\n",
            "Coherence Score:  0.4022807987143701\n"
          ]
        }
      ]
    },
    {
      "cell_type": "code",
      "source": [
        "pyLDAvis.enable_notebook()\n",
        "vis = pyLDAvis.gensim.prepare(lda_model, corpus, id2word)\n",
        "vis"
      ],
      "metadata": {
        "colab": {
          "base_uri": "https://localhost:8080/",
          "height": 916
        },
        "id": "c0AzetrtOsd8",
        "outputId": "c6fdaec4-db65-4cc7-95df-b8bef0fe9085"
      },
      "execution_count": 40,
      "outputs": [
        {
          "output_type": "stream",
          "name": "stderr",
          "text": [
            "/usr/local/lib/python3.7/dist-packages/pyLDAvis/_prepare.py:248: FutureWarning: In a future version of pandas all arguments of DataFrame.drop except for the argument 'labels' will be keyword-only\n",
            "  by='saliency', ascending=False).head(R).drop('saliency', 1)\n"
          ]
        },
        {
          "output_type": "execute_result",
          "data": {
            "text/plain": [
              "PreparedData(topic_coordinates=              x         y  topics  cluster       Freq\n",
              "topic                                                \n",
              "18    -0.351719 -0.262217       1        1  10.752091\n",
              "11    -0.203242  0.369651       2        1   9.364605\n",
              "8     -0.115340  0.047754       3        1   7.857336\n",
              "3     -0.041574  0.015256       4        1   6.532763\n",
              "17    -0.024243  0.016747       5        1   5.881435\n",
              "15    -0.007529  0.001352       6        1   5.749781\n",
              "14     0.023937 -0.010685       7        1   4.826078\n",
              "6      0.033428 -0.010521       8        1   4.698258\n",
              "12     0.037061 -0.009737       9        1   4.490411\n",
              "16     0.033811 -0.011873      10        1   4.490027\n",
              "1      0.039101 -0.012126      11        1   4.157075\n",
              "2      0.048509 -0.012635      12        1   3.992348\n",
              "13     0.057543 -0.013368      13        1   3.951345\n",
              "4      0.052205 -0.011710      14        1   3.932619\n",
              "9      0.060519 -0.016333      15        1   3.611447\n",
              "5      0.066009 -0.017669      16        1   3.570209\n",
              "0      0.064021 -0.013278      17        1   3.444839\n",
              "10     0.070930 -0.014983      18        1   3.337436\n",
              "7      0.075929 -0.016311      19        1   3.132764\n",
              "19     0.080644 -0.017314      20        1   2.227132, topic_info=          Term         Freq        Total Category  logprob  loglift\n",
              "130     people  6390.000000  6390.000000  Default  30.0000  30.0000\n",
              "122        get  7854.000000  7854.000000  Default  29.0000  29.0000\n",
              "25         say  5228.000000  5228.000000  Default  28.0000  28.0000\n",
              "17        make  5302.000000  5302.000000  Default  27.0000  27.0000\n",
              "303         go  5706.000000  5706.000000  Default  26.0000  26.0000\n",
              "...        ...          ...          ...      ...      ...      ...\n",
              "2680     reach    94.071668    94.975849  Topic20  -4.9956   3.7949\n",
              "747   property    93.295911    94.200092  Topic20  -5.0038   3.7948\n",
              "4189      dota    89.629436    90.533616  Topic20  -5.0439   3.7944\n",
              "2317  friendly    84.456521    85.360701  Topic20  -5.1034   3.7938\n",
              "4190    esport    81.768021    82.672253  Topic20  -5.1357   3.7935\n",
              "\n",
              "[630 rows x 6 columns], token_table=      Topic      Freq     Term\n",
              "term                          \n",
              "2821      1  0.997599     able\n",
              "506      15  0.997668  account\n",
              "671       9  0.997958      act\n",
              "929       6  0.994645   action\n",
              "252      12  0.996189   actual\n",
              "...     ...       ...      ...\n",
              "2170     13  0.996327    worry\n",
              "862       2  0.996775    write\n",
              "734       3  0.999550    wrong\n",
              "342      10  0.999447     year\n",
              "2601     11  0.996362    young\n",
              "\n",
              "[600 rows x 3 columns], R=30, lambda_step=0.01, plot_opts={'xlab': 'PC1', 'ylab': 'PC2'}, topic_order=[19, 12, 9, 4, 18, 16, 15, 7, 13, 17, 2, 3, 14, 5, 10, 6, 1, 11, 8, 20])"
            ],
            "text/html": [
              "\n",
              "<link rel=\"stylesheet\" type=\"text/css\" href=\"https://cdn.jsdelivr.net/gh/bmabey/pyLDAvis/pyLDAvis/js/ldavis.v1.0.0.css\">\n",
              "\n",
              "\n",
              "<div id=\"ldavis_el10551399232830622248851565921\"></div>\n",
              "<script type=\"text/javascript\">\n",
              "\n",
              "var ldavis_el10551399232830622248851565921_data = {\"mdsDat\": {\"x\": [-0.3517189683279045, -0.20324238601521238, -0.1153396112940456, -0.04157359643802145, -0.02424297508128846, -0.007529109102002007, 0.023937070700739024, 0.03342823032753304, 0.03706103267073326, 0.03381097084790157, 0.039101284022662205, 0.04850863386884725, 0.0575430295074157, 0.05220526598738133, 0.060519248065173684, 0.06600878411768715, 0.0640207153345915, 0.07092997497564317, 0.0759285088426751, 0.08064389698949036], \"y\": [-0.262217229340355, 0.3696509066809025, 0.04775411568200184, 0.015255664429231435, 0.016747392702408773, 0.0013518481691137624, -0.010684763640882946, -0.010520746597988975, -0.009736821085679937, -0.01187315148155214, -0.012126225704819376, -0.012635341720488916, -0.01336814076265786, -0.011710135042298137, -0.016332636014507667, -0.017668981416182276, -0.013277603871536052, -0.01498296642818376, -0.016311081377669564, -0.01731410317885596], \"topics\": [1, 2, 3, 4, 5, 6, 7, 8, 9, 10, 11, 12, 13, 14, 15, 16, 17, 18, 19, 20], \"cluster\": [1, 1, 1, 1, 1, 1, 1, 1, 1, 1, 1, 1, 1, 1, 1, 1, 1, 1, 1, 1], \"Freq\": [10.75209113759607, 9.364604974120248, 7.85733646756592, 6.532763060751605, 5.881434714691162, 5.749781407795164, 4.82607832506572, 4.698258319714849, 4.490410921273179, 4.490026730546307, 4.157075113387833, 3.992348026538142, 3.951344686238032, 3.9326191479450476, 3.6114465945630796, 3.5702094469451717, 3.4448388643957393, 3.337436383392458, 3.132763736399157, 2.2271319410751147]}, \"tinfo\": {\"Term\": [\"people\", \"get\", \"say\", \"make\", \"go\", \"think\", \"time\", \"fuck\", \"know\", \"see\", \"take\", \"good\", \"thing\", \"use\", \"even\", \"well\", \"look\", \"really\", \"com\", \"need\", \"man\", \"work\", \"want\", \"mean\", \"game\", \"guy\", \"come\", \"edit\", \"comment\", \"try\", \"get\", \"go\", \"know\", \"want\", \"way\", \"right\", \"woman\", \"never\", \"point\", \"back\", \"feel\", \"money\", \"many\", \"start\", \"always\", \"problem\", \"world\", \"love\", \"run\", \"leave\", \"lose\", \"country\", \"away\", \"line\", \"head\", \"school\", \"easy\", \"able\", \"stand\", \"course\", \"reddit\", \"put\", \"kill\", \"friend\", \"care\", \"big\", \"become\", \"help\", \"last\", \"else\", \"dog\", \"war\", \"law\", \"cause\", \"matter\", \"throw\", \"lie\", \"situation\", \"guess\", \"deserve\", \"system\", \"write\", \"exist\", \"however\", \"month\", \"book\", \"family\", \"order\", \"subreddit\", \"sell\", \"make\", \"think\", \"thing\", \"also\", \"much\", \"post\", \"first\", \"pretty\", \"talk\", \"ever\", \"wrong\", \"person\", \"place\", \"kid\", \"idea\", \"base\", \"completely\", \"bring\", \"op\", \"ass\", \"sense\", \"exactly\", \"hold\", \"gay\", \"rather\", \"home\", \"male\", \"happy\", \"follow\", \"language\", \"well\", \"really\", \"give\", \"actually\", \"downvote\", \"fact\", \"girl\", \"enough\", \"less\", \"change\", \"least\", \"do\", \"issue\", \"instead\", \"government\", \"kind\", \"hand\", \"bitch\", \"vote\", \"claim\", \"suck\", \"damn\", \"bit\", \"huge\", \"religion\", \"m\", \"assume\", \"company\", \"basically\", \"response\", \"even\", \"guy\", \"comment\", \"still\", \"find\", \"let\", \"show\", \"seem\", \"great\", \"understand\", \"part\", \"name\", \"allow\", \"face\", \"com_askreddit\", \"pick\", \"nice\", \"upvote\", \"explain\", \"obviously\", \"thread\", \"argument\", \"title\", \"small\", \"difference\", \"though\", \"fair\", \"moment\", \"prove\", \"hot\", \"people\", \"see\", \"mean\", \"come\", \"sound\", \"reason\", \"watch\", \"wait\", \"movie\", \"white\", \"type\", \"black\", \"entire\", \"set\", \"shoot\", \"article\", \"group\", \"racist\", \"fire\", \"grow\", \"together\", \"deal\", \"send\", \"local\", \"terrible\", \"action\", \"extremely\", \"dad\", \"brain\", \"scream\", \"time\", \"try\", \"tell\", \"probably\", \"stop\", \"little\", \"buy\", \"hear\", \"funny\", \"joke\", \"rape\", \"next\", \"sorry\", \"death\", \"fail\", \"check\", \"beat\", \"culture\", \"cry\", \"eye\", \"blow\", \"forget\", \"apparently\", \"sad\", \"brother\", \"short\", \"perhaps\", \"atheist\", \"dream\", \"meet\", \"good\", \"look\", \"bad\", \"day\", \"lot\", \"seriously\", \"turn\", \"eat\", \"food\", \"cost\", \"mention\", \"asshole\", \"possible\", \"notice\", \"stay\", \"large\", \"early\", \"space\", \"light\", \"feed\", \"penis\", \"steal\", \"single\", \"product\", \"strike\", \"speed\", \"complete\", \"burn\", \"advice\", \"morning\", \"use\", \"game\", \"call\", \"happen\", \"word\", \"video\", \"different\", \"stuff\", \"consider\", \"speak\", \"almost\", \"clearly\", \"pull\", \"idiot\", \"body\", \"act\", \"community\", \"dead\", \"definitely\", \"pass\", \"clear\", \"finish\", \"drop\", \"offensive\", \"form\", \"receive\", \"standard\", \"quit\", \"afraid\", \"bet\", \"fuck\", \"year\", \"shit\", \"keep\", \"ask\", \"maybe\", \"hate\", \"new\", \"old\", \"question\", \"dude\", \"force\", \"side\", \"bullshit\", \"rule\", \"choose\", \"today\", \"price\", \"sort\", \"choice\", \"trash\", \"market\", \"server\", \"judge\", \"simple\", \"dumb\", \"race\", \"alive\", \"economic\", \"silly\", \"work\", \"life\", \"job\", \"pay\", \"end\", \"already\", \"hour\", \"player\", \"business\", \"walk\", \"open\", \"move\", \"often\", \"society\", \"drug\", \"minute\", \"crazy\", \"young\", \"due\", \"normal\", \"rich\", \"service\", \"result\", \"ignore\", \"window\", \"average\", \"ignorant\", \"future\", \"doubt\", \"taxis\", \"play\", \"believe\", \"story\", \"state\", \"die\", \"week\", \"far\", \"learn\", \"break\", \"full\", \"link\", \"half\", \"fan\", \"truth\", \"ball\", \"wish\", \"include\", \"image\", \"age\", \"source\", \"stick\", \"land\", \"actual\", \"cool\", \"skill\", \"count\", \"arm\", \"ban\", \"tax\", \"goal\", \"child\", \"high\", \"car\", \"case\", \"mind\", \"parent\", \"one\", \"low\", \"cop\", \"site\", \"add\", \"wear\", \"like\", \"number\", \"amount\", \"build\", \"level\", \"compare\", \"fix\", \"program\", \"area\", \"worry\", \"crime\", \"provide\", \"information\", \"begin\", \"alone\", \"study\", \"charge\", \"statement\", \"say\", \"man\", \"real\", \"true\", \"answer\", \"fun\", \"totally\", \"mom\", \"science\", \"correct\", \"sometimes\", \"miss\", \"fast\", \"serious\", \"content\", \"excuse\", \"weight\", \"search\", \"obvious\", \"knee\", \"total\", \"lane\", \"waste\", \"relate\", \"png\", \"paper\", \"delete\", \"scene\", \"justify\", \"pop\", \"take\", \"edit\", \"sure\", \"hard\", \"win\", \"remember\", \"s\", \"decide\", \"example\", \"drive\", \"account\", \"honestly\", \"angry\", \"hero\", \"step\", \"arrow\", \"draw\", \"hurt\", \"blood\", \"massive\", \"slow\", \"increase\", \"mile\", \"trust\", \"label\", \"main\", \"supply\", \"engage\", \"educate\", \"truly\", \"live\", \"read\", \"fucking\", \"human\", \"sex\", \"animal\", \"experience\", \"hope\", \"opinion\", \"wife\", \"listen\", \"cat\", \"sign\", \"drink\", \"ground\", \"apple\", \"city\", \"beer\", \"clean\", \"boy\", \"nigger\", \"illegal\", \"subject\", \"pet\", \"jump\", \"thinking\", \"sleep\", \"arrest\", \"target\", \"thus\", \"need\", \"stupid\", \"thank\", \"support\", \"free\", \"gun\", \"spend\", \"poor\", \"realize\", \"other\", \"important\", \"couple\", \"rest\", \"hit\", \"literally\", \"sit\", \"usually\", \"suggest\", \"ridiculous\", \"late\", \"necessary\", \"carry\", \"shirt\", \"ago\", \"military\", \"fake\", \"key\", \"pathetic\", \"religious\", \"criminal\", \"long\", \"internet\", \"whole\", \"picture\", \"second\", \"fat\", \"view\", \"awesome\", \"phone\", \"term\", \"continue\", \"original\", \"character\", \"meme\", \"random\", \"porn\", \"mad\", \"music\", \"benefit\", \"ad\", \"fit\", \"honest\", \"camera\", \"soldier\", \"mouth\", \"driver\", \"sub\", \"film\", \"teach\", \"college\", \"amp\", \"class\", \"top\", \"water\", \"http\", \"respect\", \"imagine\", \"mother\", \"cut\", \"respond\", \"test\", \"cunt\", \"evil\", \"political\", \"design\", \"require\", \"sentence\", \"strong\", \"skin\", \"decent\", \"click\", \"faggot\", \"otherwise\", \"extra\", \"building\", \"weapon\", \"page\", \"oil\", \"blue\", \"threaten\", \"com\", \"suite_http\", \"reddit_enhancement\", \"team\", \"agree\", \"gif\", \"chance\", \"history\", \"smart\", \"cover\", \"road\", \"dangerous\", \"wonder\", \"member\", \"style\", \"pussy\", \"address\", \"photo\", \"damage\", \"load\", \"practice\", \"audience\", \"valve\", \"context\", \"vehicle\", \"reach\", \"property\", \"dota\", \"friendly\", \"esport\"], \"Freq\": [6390.0, 7854.0, 5228.0, 5302.0, 5706.0, 4930.0, 3603.0, 3275.0, 4283.0, 3142.0, 2653.0, 2829.0, 3200.0, 2580.0, 2742.0, 2678.0, 2376.0, 2589.0, 1853.0, 2044.0, 2123.0, 2151.0, 2915.0, 2232.0, 2028.0, 2083.0, 2003.0, 1701.0, 1966.0, 1811.0, 7853.880797730706, 5705.935813507206, 4282.85847262456, 2914.299930646727, 2342.9674562334326, 2305.636332885262, 1725.5409087250316, 1646.9784625692291, 1546.3313432083335, 1400.8460539752728, 1286.9075838157714, 1282.7681527909526, 1224.1909166201247, 1003.6101640734147, 986.5654774983648, 873.6177434949788, 843.3916351504413, 818.0892723932186, 802.5327836410145, 790.2319815129715, 685.2643200832638, 618.2438595281875, 616.7707230447489, 551.2273361697197, 522.759279853674, 505.4546758072758, 477.1343268592348, 439.16259662478035, 437.6714302806821, 432.43014666212895, 2223.824644875931, 1150.901392767491, 1124.2527179758756, 1088.311978664201, 962.7343919218595, 837.6028639019537, 790.3246671877683, 769.5651650053844, 665.8028162575517, 602.4945372918811, 583.0653732711872, 553.0347623476504, 543.9993925115456, 543.1831513154937, 536.333115420459, 515.9766173602121, 498.93178553430727, 495.2166797330717, 451.6307279704059, 439.5737525383801, 439.1668838440291, 423.472692791586, 416.77968916186273, 411.97090942409267, 408.2096192633712, 400.5921936309041, 377.4406573246007, 367.6612484761304, 367.35915867631127, 360.61621497607734, 5301.180575826857, 4929.5045206008435, 3200.0138770034323, 1992.6182058423226, 1957.4972277959616, 1372.028852248994, 1265.084008097727, 1217.2546816637446, 1123.9794435343867, 1082.1550544484626, 1056.5810709337438, 950.0604077453835, 920.890111342523, 872.0396998559274, 646.4278108328743, 553.3160248639646, 534.0916942343434, 518.4344935002608, 511.52611646570136, 495.8187703077093, 484.26034143613333, 468.6092604532383, 381.5395413675767, 378.7057312094837, 369.4660258260885, 363.66427335141225, 307.6488434735545, 277.2403935300645, 261.2693500335901, 256.43931357396207, 2677.821940431094, 2588.927582392679, 1852.0476070301418, 1783.192754185119, 1240.63598522735, 864.8915417062054, 856.75871341427, 804.6706566664241, 777.0334086502214, 736.3889361000678, 726.6194874639501, 679.3884363006646, 661.9663389668884, 659.2918988638277, 655.0755377608933, 571.7353304399603, 564.1439667229411, 552.365137733388, 540.8561677013334, 470.29357507672745, 468.6471202777835, 427.3116538752929, 409.8449028009768, 387.90670233380433, 387.69178722202133, 379.26965888827056, 341.99403767161726, 341.94114425276325, 332.3539937529831, 327.0866749709092, 2741.1965025750883, 2082.1693808891714, 1965.8525158067935, 1820.119779556529, 1522.9031420173233, 1210.4242232590714, 1097.8299108153776, 911.0459932680387, 869.1427824563303, 784.6491718863891, 769.4910184919928, 714.4899220915357, 613.4946151973255, 566.0853465375973, 553.1706247323268, 520.8372942935599, 506.39306259646804, 426.20499741687865, 424.25682256494963, 385.43871477070144, 353.90740104044164, 334.00797892903944, 315.77658474802774, 311.04974214461424, 281.22734172829104, 274.61883139141753, 263.8863156552637, 263.35786523591, 261.6730353272479, 252.94993705558386, 6389.420001675297, 3141.6592755035144, 2231.9848462020946, 2002.9710743492585, 961.5558597017056, 912.6502026951467, 721.0506604165008, 655.7532182506338, 495.4564780292306, 452.4315844938487, 436.04073509131837, 400.2382797274184, 389.0471299611246, 388.94967757667564, 380.58117129137025, 368.54563471249475, 364.1076745134139, 352.45228912559026, 332.5437963151164, 329.8139264346872, 313.5422523418089, 310.778026819674, 264.6848870689705, 258.5017738988533, 254.84187875071524, 219.283388546787, 216.73991807454163, 198.1333303013089, 164.87673493142654, 159.03081169028673, 3602.443271357669, 1810.5801146119154, 1503.0667982422067, 1080.9309090964111, 994.0588306095532, 885.0557099252345, 822.4123817490831, 739.258404075182, 619.0777547435762, 602.354099256694, 588.2946132994268, 564.2756842918021, 537.2124950250488, 401.7778369593782, 351.84805279337064, 338.8994416014317, 307.5600212453278, 298.89751508641393, 272.70861865047095, 268.57067887451535, 260.0349350777175, 259.882898785912, 251.64009133511493, 220.22995446763807, 214.8062841652898, 212.8780179746729, 212.38089857183598, 195.74638908778732, 189.47640680353572, 188.54913970389245, 2828.6046470065244, 2375.457021293098, 1613.9988001825088, 1460.4956184447797, 1236.7335504705295, 649.3895262824685, 604.0348612051796, 474.6967812549728, 449.13749486672344, 417.66511696460196, 377.6257704370704, 358.6362246579469, 353.83814766658594, 342.5831122653588, 335.33632345617366, 324.881550124996, 276.48556148505634, 269.3552687683753, 246.5139787662066, 228.8310407081429, 225.80246999950043, 217.94389920241844, 215.24921022725013, 202.1966095336824, 194.7332679787033, 194.03562951756854, 181.55294758878264, 176.962056685989, 164.91678126486454, 153.78405856835505, 2579.648429856111, 2027.4166762090917, 1630.4516552402, 1224.52986169201, 923.1934972690867, 652.0478864224661, 603.3897467153067, 525.7490723898044, 492.77261878280694, 400.0276675856688, 398.03903397589164, 396.8444130926988, 363.32836908699636, 362.8060046563258, 340.38609406000046, 338.7969985088175, 337.9305062167304, 333.48263077046374, 271.325517812775, 268.01854954937534, 220.45297991478014, 216.93093500048911, 202.98060223752836, 201.42774646909677, 195.5677461932501, 194.75006081059408, 188.86362128380958, 153.40260888730228, 137.60412550387605, 136.26475428929024, 3274.8669872953956, 1593.9854899230306, 1530.0170589181314, 1103.6339954245377, 1063.4027964830318, 907.7867986156826, 808.3462442253227, 707.1983770902409, 656.7734614953745, 639.0165738232756, 608.1875477328157, 517.7927757495714, 515.7705679333453, 321.73293473032203, 320.77507016796307, 313.0644992350977, 305.2182462637149, 293.551078521173, 211.15811496047195, 207.55482906394192, 201.93933077737395, 198.88394038317793, 192.07317963785292, 177.16765039666313, 175.636706033611, 170.27265926485708, 170.1171429602744, 166.86654163164675, 158.69796878784442, 153.98124982893577, 2150.2180304947083, 1316.4537127563494, 979.6683834054179, 955.6795844072892, 787.509359512544, 669.5242650109925, 495.88075539662657, 475.4018947329098, 444.31401446013473, 430.5339111207082, 411.18454969548424, 401.49979322917244, 396.9437403709393, 329.51621671229094, 323.3792853473007, 288.37933060384034, 288.3540808133936, 283.1346229345799, 258.15479986451385, 249.42421968982234, 231.5465465292225, 231.51793815420913, 230.34673447714107, 220.75048517102692, 214.4958342088532, 211.99320545715483, 204.1568061389837, 175.0756922259944, 174.7468408882139, 163.0036586822358, 1331.3843143934118, 1039.9756315731734, 809.6094333511035, 764.5250896983756, 703.0144205497547, 512.9597103744378, 492.9013346289012, 448.43934970154675, 432.7793004856417, 407.48420071801496, 404.81975353066144, 391.281432416762, 330.0612437500286, 327.4537648949194, 275.9323013638909, 270.677477423613, 269.5969355128371, 269.2793051536682, 263.49034798666986, 235.89498066763323, 232.15883268338771, 231.335193585759, 226.96879716821215, 225.33595249745815, 208.2431555268653, 198.5821385540513, 197.64231190467223, 193.7135738294037, 183.99078508451873, 172.19688999599515, 765.7555039341512, 680.0183913068926, 591.5260100299716, 474.0030353345316, 454.57247513338416, 419.41863888543475, 397.1874278422757, 389.79086542366656, 379.5021069106656, 370.81366781207913, 369.02127791455973, 352.86418393694726, 339.46309354328633, 332.28113193708083, 319.3841834990142, 317.78184301530484, 298.7875811481934, 292.14193783942494, 286.74552205517205, 281.76817958255555, 274.8787907234831, 230.95541997148945, 219.39602897280415, 206.9592182997748, 204.39381533035004, 203.1208172749228, 200.73186743496055, 197.0906125331472, 196.67937086502857, 196.54095058502463, 5227.288271486647, 2122.485483070642, 786.1312472250177, 666.1235223625326, 513.6264171753402, 335.50046591097214, 328.0807370575023, 306.95013431305017, 252.4910164671333, 244.5933298303834, 229.61894219543308, 228.7706414181452, 226.74415527589383, 221.83245903145493, 221.09965900399558, 196.92166966417696, 196.00100091262487, 192.47396505258365, 190.28404523503568, 181.02703614802323, 181.017950149991, 178.8642143195751, 178.5551646682677, 174.02602894223466, 149.8822463849449, 142.79850516688555, 142.17772006611025, 141.5688210508111, 139.32571100075745, 138.88973167127912, 2652.182329312771, 1700.765930613476, 1451.7866837385893, 774.6662874507989, 553.6974556432058, 454.8944086146369, 450.0461405238583, 382.32513350510146, 358.6115088378202, 352.59009118927844, 247.68153624004495, 234.267332603457, 210.77659123857208, 209.8986392586579, 201.43705037853064, 182.17701948938375, 172.28862482375197, 151.75064640290955, 144.66435119451015, 142.48396558643734, 139.60201605552672, 135.6346701826816, 127.96639724222908, 116.53655399997982, 114.75189225862171, 113.93994673419684, 111.5455780422449, 110.84785548730486, 110.65507339564839, 104.73885255158575, 973.2746542059488, 955.8761860609069, 523.6975351108372, 500.1561973231901, 473.29422120389984, 464.66807354685227, 432.0404466550519, 414.40972888991405, 408.65611392688, 342.0386970301326, 311.63109594758015, 276.7089664875501, 256.8477849611532, 243.7257644313158, 205.07680882122244, 200.8645245213625, 194.34300416236255, 184.39248168364392, 181.98538204262647, 159.55999205875878, 157.45842559156927, 149.82012737296398, 149.6046033777606, 149.24815665470953, 149.15475462289646, 147.06350159934416, 142.47067820608544, 133.89225875902898, 129.92411462897144, 129.79909784588818, 2043.1138578285759, 764.65494204625, 737.3457483012354, 678.4287285044813, 570.3185905168716, 488.75245896882006, 445.22420164342117, 413.80290701667735, 409.07927298958367, 384.2496096809958, 345.9148389394688, 329.68506321735276, 311.8147279946987, 310.8425460701351, 299.93328090786474, 276.94930960830345, 258.59440514817436, 241.35987057701337, 222.28264740104967, 199.16724713265293, 192.9242910221905, 164.9415438345891, 150.5020373022223, 148.30583800892566, 143.1133725824899, 142.63397921162723, 138.7135455761163, 137.01474005633057, 130.97227118915714, 130.65129737975488, 909.9276506477934, 681.0602244254794, 549.0357033960242, 504.3469939511035, 496.7597630929666, 385.3452606331653, 370.99174053140024, 347.84405797009214, 343.9922278485582, 276.69117435214974, 275.7577024374102, 254.59975577599326, 231.52958934633867, 229.3273242326347, 218.40996466554887, 213.15477442681208, 196.36267752070162, 196.16031308491347, 188.20757698337923, 180.39912641418707, 175.47363191458524, 173.8319620683125, 172.5401041344792, 172.39731228135068, 172.34586764142446, 172.06829548731278, 171.3686134671399, 169.99896782361427, 168.60276572757766, 168.3108775311336, 616.3141783860437, 467.62037571393176, 422.44041677043293, 405.8637833198831, 359.1278826559851, 339.5126743821481, 334.50551007640564, 288.87734158992697, 220.8040446133932, 211.70456239063037, 188.9728092239128, 187.50967774282168, 183.29738206107675, 175.8535165145641, 175.08545124003913, 172.5877687374594, 165.57579765163894, 158.1099358781135, 156.88927274048447, 154.37456501252652, 154.19353315080375, 145.1680970018385, 143.29071538453815, 135.30010338901943, 134.18011669108716, 133.58740213355978, 130.55802275285654, 130.4303881889111, 127.75247501168529, 118.90342748115782, 1852.9855465859187, 631.3622922191948, 629.7556715991137, 619.1108002868707, 470.94970481942306, 209.1332101315783, 208.32302606598418, 194.44064177786728, 186.02360512574245, 169.39432054627102, 165.9847953975239, 157.7007290223221, 154.8155898692794, 152.25197678109402, 136.58778819322313, 134.1589188367835, 132.6979674657498, 116.01828829047801, 111.79272796971453, 107.29144073126601, 105.60324118934211, 100.83430466685338, 100.70506252853565, 96.9740825120226, 96.09573046762429, 94.07166835561601, 93.29591131995538, 89.62943586826978, 84.45652057659531, 81.7680213175946], \"Total\": [6390.0, 7854.0, 5228.0, 5302.0, 5706.0, 4930.0, 3603.0, 3275.0, 4283.0, 3142.0, 2653.0, 2829.0, 3200.0, 2580.0, 2742.0, 2678.0, 2376.0, 2589.0, 1853.0, 2044.0, 2123.0, 2151.0, 2915.0, 2232.0, 2028.0, 2083.0, 2003.0, 1701.0, 1966.0, 1811.0, 7854.774745318142, 5706.829761094642, 4283.752420211996, 2915.193878234165, 2343.8614038208707, 2306.5302804727003, 1726.4348563124686, 1647.872410156666, 1547.2252907957704, 1401.7400015627097, 1287.8015314032084, 1283.6621003783896, 1225.0848642075616, 1004.504111660852, 987.4594250858021, 874.5116910824161, 844.2855827378786, 818.9832199806559, 803.4267312284518, 791.1259291004088, 686.1582676707011, 619.1378071156248, 617.6646706321862, 552.121283757157, 523.6532274411113, 506.34862339471294, 478.02827444667196, 440.0565442122175, 438.56537786811924, 433.3240942495661, 2224.7204262068294, 1151.7971740983885, 1125.1484993067731, 1089.2077599950985, 963.6301732527572, 838.4986452328515, 791.2204485186661, 770.4609463362822, 666.6985975884495, 603.3903186227789, 583.961154602085, 553.9305436785481, 544.8951738424433, 544.0789326463914, 537.2288967513567, 516.8723986911099, 499.827566865205, 496.1124610639694, 452.52650930130363, 440.4695338692778, 440.0626651749268, 424.3684741224837, 417.67547049276044, 412.8666907549904, 409.10540059426893, 401.4879749618018, 378.3364386554984, 368.55702980702813, 368.254940007209, 361.51199630697505, 5302.075350465522, 4930.399295239508, 3200.9086516420994, 1993.5129804809887, 1958.3920024346278, 1372.9236268876602, 1265.9787827363932, 1218.1494563024107, 1124.874218173053, 1083.0498290871287, 1057.47584557241, 950.9551823840496, 921.7848859811892, 872.9344744945936, 647.3225854715405, 554.2107995026307, 534.9864688730096, 519.329268138927, 512.4208911043675, 496.71354494637535, 485.15511607479937, 469.5040350919043, 382.43431600624274, 379.60050584814974, 370.36080046475456, 364.5590479900783, 308.5436181201778, 278.13516816873056, 262.16412467225615, 257.3340882126281, 2678.7171597744505, 2589.8228017360357, 1852.9428263734974, 1784.0879735284745, 1241.5312045707055, 865.7867610495612, 857.6539327576257, 805.5658760097798, 777.9286279935772, 737.2841554434235, 727.5147068073059, 680.2836556440203, 662.8615583102442, 660.1871182071834, 655.9707571042491, 572.630549783316, 565.0391860662968, 553.2603570767437, 541.7513870446892, 471.18879442008307, 469.5423396211391, 428.2068732186485, 410.7401221443324, 388.80192167715995, 388.58700656537695, 380.1648782316262, 342.8892570149729, 342.8363635961189, 333.24921309633874, 327.9818943142648, 2742.093088308513, 2083.065966622596, 1966.7491015402175, 1821.016365289953, 1523.7997277507473, 1211.3208089924954, 1098.7264965488016, 911.9425790014627, 870.0393681897543, 785.5457576198131, 770.3876042254168, 715.3865078249597, 614.3912009307495, 566.9819322710213, 554.067210563653, 521.7338800269839, 507.289648329892, 427.1015831503026, 425.15340829837356, 386.33530050412537, 354.8039867738656, 334.9045646624634, 316.6731704814517, 311.9463278780382, 282.12392746171497, 275.51541712484146, 264.7829013886876, 264.25445096933396, 262.5696210606718, 253.8465227890078, 6390.315564639311, 3142.554838467531, 2232.8804091661113, 2003.8666373132742, 962.4514226657213, 913.5457656591625, 721.9462233805166, 656.6487812146496, 496.3520409932463, 453.3271474578644, 436.9362980553341, 401.1338426914341, 389.9426929251403, 389.84524054069135, 381.47673425538596, 369.44119767651046, 365.0032374774296, 353.34785208960596, 333.43935927913213, 330.7094893987029, 314.4378153058246, 311.6735897836897, 265.5804500329862, 259.3973368925494, 255.73744171473092, 220.17895151080268, 217.63548103855732, 199.02889326532457, 165.77229789544222, 159.9263746543024, 3603.3394869212825, 1811.4763301755283, 1503.9630138058196, 1081.827124660024, 994.9550461731662, 885.9519254888476, 823.3085973126962, 740.1546196387951, 619.9739703071892, 603.250314820307, 589.1908288630399, 565.1718998554152, 538.1087105886619, 402.67405252299113, 352.7442683569836, 339.79565716504464, 308.45623680894073, 299.7937306500269, 273.6048342140839, 269.4668944381283, 260.9311506413304, 260.77911434952495, 252.53630689872787, 221.126170031251, 215.70249972890275, 213.77423353828584, 213.27711413544893, 196.64260465140026, 190.37262236714867, 189.4453552675054, 2829.5005862986254, 2376.352960585199, 1614.894739474609, 1461.3915577368798, 1237.6294897626296, 650.2854655745688, 604.9308004972798, 475.59272054707304, 450.0334341588237, 418.5610562567022, 378.52170972917065, 359.53216395004716, 354.7340869586862, 343.47905155745906, 336.2322627482739, 325.77748941709626, 277.3815007771566, 270.25120806047556, 247.4099180583068, 229.7269800002431, 226.69840929160063, 218.83983849451863, 216.14514951935033, 203.0925488257826, 195.6292072708035, 194.93156880966873, 182.44888688088284, 177.8579959780892, 165.81272056077916, 154.67999786045525, 2580.5451695900256, 2028.3134159430058, 1631.348394974114, 1225.426601425924, 924.0902370030007, 652.9446261563801, 604.2864864492207, 526.6458121237183, 493.66935851672093, 400.92440731958277, 398.93577370980563, 397.74115283042715, 364.22510882091035, 363.7027443902398, 341.28283379391445, 339.6937382427315, 338.8272459506444, 334.37937050437773, 272.222257546689, 268.9152892832893, 221.3497196486941, 217.82767473440308, 203.87734197144232, 202.32448620301074, 196.46448592716405, 195.64680054450804, 189.76036101772354, 154.29934862121624, 138.50086523779, 137.1614940232042, 3275.7633165778543, 1594.8818192054891, 1530.91338820059, 1104.5303247069962, 1064.2991257654903, 908.683127898141, 809.2425735077811, 708.0947063726993, 657.6697907778329, 639.912903105734, 609.0838770152741, 518.6891050320298, 516.6668972158037, 322.6292640127804, 321.67139945042146, 313.9608285175561, 306.1145755461733, 294.4474078036314, 212.05444424293034, 208.45115834640032, 202.83566011708098, 199.78026966563633, 192.9695089203113, 178.06397967912153, 176.5330353160694, 171.16898854731548, 171.0134722427328, 167.76287091410515, 159.59429807325233, 154.87757911139417, 2151.1166954419837, 1317.3523777036244, 980.5670483526931, 956.5782493545644, 788.4080244598192, 670.4229299582677, 496.77942034390156, 476.3005596801848, 445.2126794074097, 431.4325760679832, 412.08321464275923, 402.39845817644743, 397.8424053182143, 330.41488165956594, 324.2779502945757, 289.27799555111534, 289.2527457606686, 284.0332878818549, 259.05346481178884, 250.32288464267228, 232.44521147649752, 232.41660310148416, 231.2453994244161, 221.64915011830195, 215.39449915612823, 212.89187040442985, 205.05547108625873, 175.97435717326942, 175.64550583548893, 163.90232364487255, 1332.2838727631959, 1040.8751899429574, 810.5089917208876, 765.4246480681597, 703.9139789195389, 513.8592687471714, 493.80089299868524, 449.33890807133076, 433.67885885542574, 408.383759087799, 405.71931190044546, 392.18099078654603, 330.9608021198126, 328.3533232647034, 276.8318597336749, 271.57703579339704, 270.4964938826211, 270.1788635234522, 264.3899063564539, 236.79453903741728, 233.05839105317176, 232.23475195554303, 227.8683555379962, 226.2355108672422, 209.14271389664935, 199.48169692383536, 198.5418702791922, 194.61313219918776, 184.89034345430278, 173.0964483657792, 766.6517453349742, 680.9146327077156, 592.4222514307946, 474.8992767353545, 455.46871653420703, 420.3148802862576, 398.0836692430986, 390.68710682448943, 380.39834831148846, 371.709909212902, 369.9175193153826, 353.76042533777013, 340.3593349441092, 333.1773733379037, 320.2804248998371, 318.6780844161277, 299.68382254901627, 293.0381792402478, 287.6417634559949, 282.6644209833784, 275.775032124306, 231.85166137231235, 220.29227037362705, 207.8554597005977, 205.29005673117294, 204.01705867574572, 201.62810883578345, 197.9868539339701, 197.57561226585148, 197.43719198584753, 5228.184292666468, 2123.3815042504634, 787.0272684048385, 667.0195435423535, 514.5224383551611, 336.39648709079296, 328.9767582373231, 307.846155492871, 253.38703765322583, 245.48935101020425, 230.51496337525393, 229.66666259796605, 227.64017645571468, 222.72848021127578, 221.99568018381643, 197.8176908439978, 196.89702213774012, 193.3699862324045, 191.18006641485653, 181.92305732784408, 181.91397137412093, 179.7602355215938, 179.45118584808856, 174.92205012500503, 150.77826756476574, 143.6945263467064, 143.0737412459311, 142.46484223063194, 140.2217321805783, 139.78575285109997, 2653.0804768067387, 1701.664078107444, 1452.6848312325574, 775.5644349447671, 554.595603137174, 455.79255610860497, 450.94428801782635, 383.2232809990695, 359.5096563317883, 353.4882386832465, 248.57968373401303, 235.16548009742507, 211.6747387722689, 210.796786752626, 202.33519787249872, 183.07516698335183, 173.18677231772006, 152.64879389687763, 145.56249868847823, 143.38211310290583, 140.5001635494948, 136.53281767664967, 128.86454476493304, 117.4347014939479, 115.65003975258979, 114.83809422816492, 112.44372555218268, 111.74600299037728, 111.55322090318087, 105.63700004555383, 974.1708477985735, 956.7723796535316, 524.5937287034619, 501.0523909158147, 474.19041479652446, 465.5642671394769, 432.9366402476765, 415.3059224825387, 409.5523075195046, 342.9348906227572, 312.5272895402048, 277.6051600801747, 257.7439785537778, 244.6219580239405, 205.97300241384713, 201.7607181139872, 195.23919775498723, 185.28867531310252, 182.88157563525115, 160.45618565138346, 158.35461918419395, 150.71632096558866, 150.5007969703853, 150.1443502529413, 150.05094821552115, 147.95969519196885, 143.36687179871012, 134.78845236784827, 130.82030822159612, 130.69529143851287, 2044.0125125792295, 765.5535967969035, 738.244403051889, 679.3273832551349, 571.2172452675252, 489.65111371947364, 446.12285639407474, 414.70156176733093, 409.97792774023725, 385.14826443164935, 346.81349369012236, 330.58371796800634, 312.7133827453523, 311.74120082078866, 300.8319356585183, 277.84796435895703, 259.49305989882794, 242.258525327667, 223.1813021517033, 200.06590188330657, 193.82294577284412, 165.84019858524275, 151.40069205287594, 149.2044927595793, 144.01202733314352, 143.53263396228087, 139.61220032676994, 137.9133948069842, 131.87092593981077, 131.5499521304085, 910.8247241209885, 681.9572978986746, 549.9327768692194, 505.2440674242987, 497.65683656616176, 386.2423341063605, 371.8888140045954, 348.7411314432873, 344.88930132175335, 277.5882478253449, 276.6547759106054, 255.49682924918844, 232.42666281953385, 230.2243977058299, 219.30703813874405, 214.05184790000726, 197.2597509938968, 197.05738655810865, 189.1046504565744, 181.29619988738224, 176.37070538778042, 174.72903554150767, 173.43717760767439, 173.2943857755421, 173.24294111461964, 172.96536896050796, 172.2656869403351, 170.89604129680944, 169.49983920077284, 169.20795100432878, 617.2120313747082, 468.51822870259616, 423.33826975909733, 406.7616363085475, 360.0257356446495, 340.4105273708125, 335.40336306507004, 289.77519457859137, 221.70189760205758, 212.60241537929477, 189.8706622125772, 188.40753073148608, 184.19523504974114, 176.7513695032285, 175.98330422870353, 173.4856217261238, 166.47365064030333, 159.0077888667779, 157.78712572914887, 155.2724180011909, 155.09138613946814, 146.0659499905029, 144.18856837320254, 136.19795637768382, 135.07796974018598, 134.48525512222417, 131.45587574152094, 131.3282411775755, 128.6503280003497, 119.80128050792804, 1853.8897271390135, 632.2664732452729, 630.6598522896256, 620.0149808399655, 471.8538853725179, 210.03739068467308, 209.22720661907897, 195.34482233096207, 186.92778567883724, 170.2985010993658, 166.88897596578553, 158.60490957541688, 155.71977042237418, 153.1561573341888, 137.49196874631792, 135.0630993898783, 133.6021480188446, 116.9224688435728, 112.69690852280932, 108.19562129395737, 106.5074217424369, 101.73848521994817, 101.60924308163044, 97.8782630651174, 96.99991102414327, 94.9758489087108, 94.20009187637235, 90.53361642136457, 85.36070116684219, 82.67225252421053], \"Category\": [\"Default\", \"Default\", \"Default\", \"Default\", \"Default\", \"Default\", \"Default\", \"Default\", \"Default\", \"Default\", \"Default\", \"Default\", \"Default\", \"Default\", \"Default\", \"Default\", \"Default\", \"Default\", \"Default\", \"Default\", \"Default\", \"Default\", \"Default\", \"Default\", \"Default\", \"Default\", \"Default\", \"Default\", \"Default\", \"Default\", \"Topic1\", \"Topic1\", \"Topic1\", \"Topic1\", \"Topic1\", \"Topic1\", \"Topic1\", \"Topic1\", \"Topic1\", \"Topic1\", \"Topic1\", \"Topic1\", \"Topic1\", \"Topic1\", \"Topic1\", \"Topic1\", \"Topic1\", \"Topic1\", \"Topic1\", \"Topic1\", \"Topic1\", \"Topic1\", \"Topic1\", \"Topic1\", \"Topic1\", \"Topic1\", \"Topic1\", \"Topic1\", \"Topic1\", \"Topic1\", \"Topic2\", \"Topic2\", \"Topic2\", \"Topic2\", \"Topic2\", \"Topic2\", \"Topic2\", \"Topic2\", \"Topic2\", \"Topic2\", \"Topic2\", \"Topic2\", \"Topic2\", \"Topic2\", \"Topic2\", \"Topic2\", \"Topic2\", \"Topic2\", \"Topic2\", \"Topic2\", \"Topic2\", \"Topic2\", \"Topic2\", \"Topic2\", \"Topic2\", \"Topic2\", \"Topic2\", \"Topic2\", \"Topic2\", \"Topic2\", \"Topic3\", \"Topic3\", \"Topic3\", \"Topic3\", \"Topic3\", \"Topic3\", \"Topic3\", \"Topic3\", \"Topic3\", \"Topic3\", \"Topic3\", \"Topic3\", \"Topic3\", \"Topic3\", \"Topic3\", \"Topic3\", \"Topic3\", \"Topic3\", \"Topic3\", \"Topic3\", \"Topic3\", \"Topic3\", \"Topic3\", \"Topic3\", \"Topic3\", \"Topic3\", \"Topic3\", \"Topic3\", \"Topic3\", \"Topic3\", \"Topic4\", \"Topic4\", \"Topic4\", \"Topic4\", \"Topic4\", \"Topic4\", \"Topic4\", \"Topic4\", \"Topic4\", \"Topic4\", \"Topic4\", \"Topic4\", \"Topic4\", \"Topic4\", \"Topic4\", \"Topic4\", \"Topic4\", \"Topic4\", \"Topic4\", \"Topic4\", \"Topic4\", \"Topic4\", \"Topic4\", \"Topic4\", \"Topic4\", \"Topic4\", \"Topic4\", \"Topic4\", \"Topic4\", \"Topic4\", \"Topic5\", \"Topic5\", \"Topic5\", \"Topic5\", \"Topic5\", \"Topic5\", \"Topic5\", \"Topic5\", \"Topic5\", \"Topic5\", \"Topic5\", \"Topic5\", \"Topic5\", \"Topic5\", \"Topic5\", \"Topic5\", \"Topic5\", \"Topic5\", \"Topic5\", \"Topic5\", \"Topic5\", \"Topic5\", \"Topic5\", \"Topic5\", \"Topic5\", \"Topic5\", \"Topic5\", \"Topic5\", \"Topic5\", \"Topic5\", \"Topic6\", \"Topic6\", \"Topic6\", \"Topic6\", \"Topic6\", \"Topic6\", \"Topic6\", \"Topic6\", \"Topic6\", \"Topic6\", \"Topic6\", \"Topic6\", \"Topic6\", \"Topic6\", \"Topic6\", \"Topic6\", \"Topic6\", \"Topic6\", \"Topic6\", \"Topic6\", \"Topic6\", \"Topic6\", \"Topic6\", \"Topic6\", \"Topic6\", \"Topic6\", \"Topic6\", \"Topic6\", \"Topic6\", \"Topic6\", \"Topic7\", \"Topic7\", \"Topic7\", \"Topic7\", \"Topic7\", \"Topic7\", \"Topic7\", \"Topic7\", \"Topic7\", \"Topic7\", \"Topic7\", \"Topic7\", \"Topic7\", \"Topic7\", \"Topic7\", \"Topic7\", \"Topic7\", \"Topic7\", \"Topic7\", \"Topic7\", \"Topic7\", \"Topic7\", \"Topic7\", \"Topic7\", \"Topic7\", \"Topic7\", \"Topic7\", \"Topic7\", \"Topic7\", \"Topic7\", \"Topic8\", \"Topic8\", \"Topic8\", \"Topic8\", \"Topic8\", \"Topic8\", \"Topic8\", \"Topic8\", \"Topic8\", \"Topic8\", \"Topic8\", \"Topic8\", \"Topic8\", \"Topic8\", \"Topic8\", \"Topic8\", \"Topic8\", \"Topic8\", \"Topic8\", \"Topic8\", \"Topic8\", \"Topic8\", \"Topic8\", \"Topic8\", \"Topic8\", \"Topic8\", \"Topic8\", \"Topic8\", \"Topic8\", \"Topic8\", \"Topic9\", \"Topic9\", \"Topic9\", \"Topic9\", \"Topic9\", \"Topic9\", \"Topic9\", \"Topic9\", \"Topic9\", \"Topic9\", \"Topic9\", \"Topic9\", \"Topic9\", \"Topic9\", \"Topic9\", \"Topic9\", \"Topic9\", \"Topic9\", \"Topic9\", \"Topic9\", \"Topic9\", \"Topic9\", \"Topic9\", \"Topic9\", \"Topic9\", \"Topic9\", \"Topic9\", \"Topic9\", \"Topic9\", \"Topic9\", \"Topic10\", \"Topic10\", \"Topic10\", \"Topic10\", \"Topic10\", \"Topic10\", \"Topic10\", \"Topic10\", \"Topic10\", \"Topic10\", \"Topic10\", \"Topic10\", \"Topic10\", \"Topic10\", \"Topic10\", \"Topic10\", \"Topic10\", \"Topic10\", \"Topic10\", \"Topic10\", \"Topic10\", \"Topic10\", \"Topic10\", \"Topic10\", \"Topic10\", \"Topic10\", \"Topic10\", \"Topic10\", \"Topic10\", \"Topic10\", \"Topic11\", \"Topic11\", \"Topic11\", \"Topic11\", \"Topic11\", \"Topic11\", \"Topic11\", \"Topic11\", \"Topic11\", \"Topic11\", \"Topic11\", \"Topic11\", \"Topic11\", \"Topic11\", \"Topic11\", \"Topic11\", \"Topic11\", \"Topic11\", \"Topic11\", \"Topic11\", \"Topic11\", \"Topic11\", \"Topic11\", \"Topic11\", \"Topic11\", \"Topic11\", \"Topic11\", \"Topic11\", \"Topic11\", \"Topic11\", \"Topic12\", \"Topic12\", \"Topic12\", \"Topic12\", \"Topic12\", \"Topic12\", \"Topic12\", \"Topic12\", \"Topic12\", \"Topic12\", \"Topic12\", \"Topic12\", \"Topic12\", \"Topic12\", \"Topic12\", \"Topic12\", \"Topic12\", \"Topic12\", \"Topic12\", \"Topic12\", \"Topic12\", \"Topic12\", \"Topic12\", \"Topic12\", \"Topic12\", \"Topic12\", \"Topic12\", \"Topic12\", \"Topic12\", \"Topic12\", \"Topic13\", \"Topic13\", \"Topic13\", \"Topic13\", \"Topic13\", \"Topic13\", \"Topic13\", \"Topic13\", \"Topic13\", \"Topic13\", \"Topic13\", \"Topic13\", \"Topic13\", \"Topic13\", \"Topic13\", \"Topic13\", \"Topic13\", \"Topic13\", \"Topic13\", \"Topic13\", \"Topic13\", \"Topic13\", \"Topic13\", \"Topic13\", \"Topic13\", \"Topic13\", \"Topic13\", \"Topic13\", \"Topic13\", \"Topic13\", \"Topic14\", \"Topic14\", \"Topic14\", \"Topic14\", \"Topic14\", \"Topic14\", \"Topic14\", \"Topic14\", \"Topic14\", \"Topic14\", \"Topic14\", \"Topic14\", \"Topic14\", \"Topic14\", \"Topic14\", \"Topic14\", \"Topic14\", \"Topic14\", \"Topic14\", \"Topic14\", \"Topic14\", \"Topic14\", \"Topic14\", \"Topic14\", \"Topic14\", \"Topic14\", \"Topic14\", \"Topic14\", \"Topic14\", \"Topic14\", \"Topic15\", \"Topic15\", \"Topic15\", \"Topic15\", \"Topic15\", \"Topic15\", \"Topic15\", \"Topic15\", \"Topic15\", \"Topic15\", \"Topic15\", \"Topic15\", \"Topic15\", \"Topic15\", \"Topic15\", \"Topic15\", \"Topic15\", \"Topic15\", \"Topic15\", \"Topic15\", \"Topic15\", \"Topic15\", \"Topic15\", \"Topic15\", \"Topic15\", \"Topic15\", \"Topic15\", \"Topic15\", \"Topic15\", \"Topic15\", \"Topic16\", \"Topic16\", \"Topic16\", \"Topic16\", \"Topic16\", \"Topic16\", \"Topic16\", \"Topic16\", \"Topic16\", \"Topic16\", \"Topic16\", \"Topic16\", \"Topic16\", \"Topic16\", \"Topic16\", \"Topic16\", \"Topic16\", \"Topic16\", \"Topic16\", \"Topic16\", \"Topic16\", \"Topic16\", \"Topic16\", \"Topic16\", \"Topic16\", \"Topic16\", \"Topic16\", \"Topic16\", \"Topic16\", \"Topic16\", \"Topic17\", \"Topic17\", \"Topic17\", \"Topic17\", \"Topic17\", \"Topic17\", \"Topic17\", \"Topic17\", \"Topic17\", \"Topic17\", \"Topic17\", \"Topic17\", \"Topic17\", \"Topic17\", \"Topic17\", \"Topic17\", \"Topic17\", \"Topic17\", \"Topic17\", \"Topic17\", \"Topic17\", \"Topic17\", \"Topic17\", \"Topic17\", \"Topic17\", \"Topic17\", \"Topic17\", \"Topic17\", \"Topic17\", \"Topic17\", \"Topic18\", \"Topic18\", \"Topic18\", \"Topic18\", \"Topic18\", \"Topic18\", \"Topic18\", \"Topic18\", \"Topic18\", \"Topic18\", \"Topic18\", \"Topic18\", \"Topic18\", \"Topic18\", \"Topic18\", \"Topic18\", \"Topic18\", \"Topic18\", \"Topic18\", \"Topic18\", \"Topic18\", \"Topic18\", \"Topic18\", \"Topic18\", \"Topic18\", \"Topic18\", \"Topic18\", \"Topic18\", \"Topic18\", \"Topic18\", \"Topic19\", \"Topic19\", \"Topic19\", \"Topic19\", \"Topic19\", \"Topic19\", \"Topic19\", \"Topic19\", \"Topic19\", \"Topic19\", \"Topic19\", \"Topic19\", \"Topic19\", \"Topic19\", \"Topic19\", \"Topic19\", \"Topic19\", \"Topic19\", \"Topic19\", \"Topic19\", \"Topic19\", \"Topic19\", \"Topic19\", \"Topic19\", \"Topic19\", \"Topic19\", \"Topic19\", \"Topic19\", \"Topic19\", \"Topic19\", \"Topic20\", \"Topic20\", \"Topic20\", \"Topic20\", \"Topic20\", \"Topic20\", \"Topic20\", \"Topic20\", \"Topic20\", \"Topic20\", \"Topic20\", \"Topic20\", \"Topic20\", \"Topic20\", \"Topic20\", \"Topic20\", \"Topic20\", \"Topic20\", \"Topic20\", \"Topic20\", \"Topic20\", \"Topic20\", \"Topic20\", \"Topic20\", \"Topic20\", \"Topic20\", \"Topic20\", \"Topic20\", \"Topic20\", \"Topic20\"], \"logprob\": [30.0, 29.0, 28.0, 27.0, 26.0, 25.0, 24.0, 23.0, 22.0, 21.0, 20.0, 19.0, 18.0, 17.0, 16.0, 15.0, 14.0, 13.0, 12.0, 11.0, 10.0, 9.0, 8.0, 7.0, 6.0, 5.0, 4.0, 3.0, 2.0, 1.0, -2.1452, -2.4647, -2.7516, -3.1366, -3.3548, -3.3709, -3.6607, -3.7073, -3.7704, -3.8692, -3.954, -3.9572, -4.004, -4.2026, -4.2198, -4.3414, -4.3766, -4.407, -4.4262, -4.4417, -4.5842, -4.6871, -4.6895, -4.8018, -4.8549, -4.8885, -4.9462, -5.0291, -5.0325, -5.0446, -3.2688, -3.9275, -3.951, -3.9834, -4.1061, -4.2453, -4.3034, -4.33, -4.4748, -4.5748, -4.6075, -4.6604, -4.6769, -4.6784, -4.6911, -4.7298, -4.7634, -4.7708, -4.863, -4.89, -4.891, -4.9273, -4.9433, -4.9549, -4.9641, -4.9829, -5.0424, -5.0687, -5.0695, -5.088, -2.2247, -2.2973, -2.7294, -3.2031, -3.2209, -3.5763, -3.6574, -3.696, -3.7757, -3.8136, -3.8375, -3.9438, -3.975, -4.0295, -4.3289, -4.4844, -4.5198, -4.5495, -4.5629, -4.5941, -4.6177, -4.6506, -4.8561, -4.8636, -4.8883, -4.9041, -5.0714, -5.1755, -5.2348, -5.2534, -2.723, -2.7567, -3.0917, -3.1296, -3.4923, -3.8531, -3.8626, -3.9253, -3.9602, -4.014, -4.0273, -4.0945, -4.1205, -4.1246, -4.131, -4.267, -4.2804, -4.3015, -4.3226, -4.4624, -4.4659, -4.5582, -4.5999, -4.655, -4.6555, -4.6775, -4.7809, -4.7811, -4.8095, -4.8255, -2.5945, -2.8695, -2.927, -3.004, -3.1823, -3.412, -3.5096, -3.6961, -3.7432, -3.8455, -3.865, -3.9391, -4.0915, -4.1719, -4.195, -4.2553, -4.2834, -4.4558, -4.4604, -4.5563, -4.6417, -4.6995, -4.7557, -4.7707, -4.8715, -4.8953, -4.9352, -4.9372, -4.9436, -4.9775, -1.7257, -2.4355, -2.7774, -2.8857, -3.6195, -3.6717, -3.9073, -4.0023, -4.2826, -4.3734, -4.4103, -4.496, -4.5244, -4.5246, -4.5464, -4.5785, -4.5906, -4.6231, -4.6813, -4.6895, -4.7401, -4.749, -4.9095, -4.9332, -4.9474, -5.0977, -5.1094, -5.1991, -5.3829, -5.419, -2.1236, -2.8115, -2.9977, -3.3274, -3.4111, -3.5273, -3.6007, -3.7073, -3.8847, -3.9121, -3.9357, -3.9774, -4.0265, -4.317, -4.4497, -4.4872, -4.5843, -4.6128, -4.7045, -4.7198, -4.7521, -4.7527, -4.7849, -4.9183, -4.9432, -4.9522, -4.9545, -5.0361, -5.0687, -5.0736, -2.3385, -2.5131, -2.8996, -2.9996, -3.1659, -3.8101, -3.8825, -4.1234, -4.1788, -4.2514, -4.3522, -4.4038, -4.4172, -4.4496, -4.471, -4.5026, -4.6639, -4.6901, -4.7787, -4.8531, -4.8664, -4.9018, -4.9143, -4.9768, -5.0145, -5.018, -5.0845, -5.1102, -5.1806, -5.2505, -2.3854, -2.6263, -2.8442, -3.1305, -3.413, -3.7607, -3.8383, -3.976, -4.0408, -4.2493, -4.2543, -4.2573, -4.3455, -4.347, -4.4108, -4.4154, -4.418, -4.4312, -4.6375, -4.6498, -4.8452, -4.8613, -4.9277, -4.9354, -4.9649, -4.9691, -4.9998, -5.2078, -5.3165, -5.3262, -2.1467, -2.8668, -2.9077, -3.2344, -3.2715, -3.4297, -3.5458, -3.6794, -3.7534, -3.7808, -3.8303, -3.9912, -3.9951, -4.467, -4.47, -4.4943, -4.5197, -4.5587, -4.8881, -4.9054, -4.9328, -4.948, -4.9829, -5.0637, -5.0723, -5.1034, -5.1043, -5.1236, -5.1737, -5.2039, -2.4904, -2.981, -3.2765, -3.3013, -3.4948, -3.6571, -3.9574, -3.9995, -4.0672, -4.0987, -4.1447, -4.1685, -4.1799, -4.3661, -4.3849, -4.4994, -4.4995, -4.5178, -4.6101, -4.6446, -4.7189, -4.719, -4.7241, -4.7667, -4.7954, -4.8072, -4.8448, -4.9985, -5.0004, -5.0699, -2.9293, -3.1763, -3.4267, -3.484, -3.5679, -3.8831, -3.923, -4.0175, -4.053, -4.1133, -4.1198, -4.1538, -4.324, -4.3319, -4.5031, -4.5223, -4.5263, -4.5275, -4.5493, -4.6599, -4.6759, -4.6794, -4.6985, -4.7057, -4.7846, -4.8321, -4.8368, -4.8569, -4.9084, -4.9746, -3.4721, -3.5908, -3.7302, -3.9517, -3.9936, -4.0741, -4.1285, -4.1473, -4.1741, -4.1973, -4.2021, -4.2469, -4.2856, -4.307, -4.3466, -4.3516, -4.4132, -4.4357, -4.4544, -4.4719, -4.4966, -4.6707, -4.7221, -4.7804, -4.7929, -4.7991, -4.811, -4.8293, -4.8314, -4.8321, -1.5466, -2.4479, -3.4411, -3.6067, -3.8667, -4.2926, -4.3149, -4.3815, -4.5768, -4.6086, -4.6718, -4.6755, -4.6844, -4.7063, -4.7096, -4.8254, -4.8301, -4.8482, -4.8597, -4.9096, -4.9096, -4.9216, -4.9233, -4.949, -5.0983, -5.1468, -5.1511, -5.1554, -5.1714, -5.1745, -2.1399, -2.5842, -2.7425, -3.3706, -3.7064, -3.9029, -3.9137, -4.0767, -4.1408, -4.1577, -4.5109, -4.5665, -4.6722, -4.6764, -4.7175, -4.818, -4.8738, -5.0008, -5.0486, -5.0638, -5.0842, -5.113, -5.1712, -5.2648, -5.2802, -5.2873, -5.3086, -5.3148, -5.3166, -5.3715, -3.1309, -3.1489, -3.7506, -3.7966, -3.8518, -3.8702, -3.943, -3.9847, -3.9986, -4.1766, -4.2697, -4.3886, -4.463, -4.5155, -4.6881, -4.7089, -4.7419, -4.7945, -4.8076, -4.9391, -4.9524, -5.0021, -5.0035, -5.0059, -5.0065, -5.0207, -5.0524, -5.1145, -5.1446, -5.1455, -2.3535, -3.3363, -3.3727, -3.456, -3.6296, -3.7839, -3.8772, -3.9504, -3.9619, -4.0245, -4.1296, -4.1776, -4.2334, -4.2365, -4.2722, -4.3519, -4.4205, -4.4895, -4.5718, -4.6816, -4.7135, -4.8702, -4.9618, -4.9765, -5.0121, -5.0155, -5.0434, -5.0557, -5.1008, -5.1032, -3.1307, -3.4204, -3.6359, -3.7208, -3.736, -3.99, -4.0279, -4.0923, -4.1035, -4.3212, -4.3246, -4.4044, -4.4994, -4.5089, -4.5577, -4.5821, -4.6641, -4.6652, -4.7066, -4.7489, -4.7766, -4.786, -4.7935, -4.7943, -4.7946, -4.7962, -4.8003, -4.8083, -4.8166, -4.8183, -3.4571, -3.7332, -3.8348, -3.8748, -3.9971, -4.0533, -4.0682, -4.2148, -4.4835, -4.5256, -4.6392, -4.647, -4.6697, -4.7112, -4.7155, -4.7299, -4.7714, -4.8175, -4.8253, -4.8414, -4.8426, -4.9029, -4.9159, -4.9733, -4.9816, -4.9861, -5.009, -5.01, -5.0307, -5.1025, -2.0151, -3.0917, -3.0943, -3.1113, -3.3849, -4.1966, -4.2005, -4.2695, -4.3137, -4.4074, -4.4277, -4.4789, -4.4974, -4.5141, -4.6226, -4.6406, -4.6515, -4.7859, -4.823, -4.8641, -4.8799, -4.9261, -4.9274, -4.9652, -4.9743, -4.9956, -5.0038, -5.0439, -5.1034, -5.1357], \"loglift\": [30.0, 29.0, 28.0, 27.0, 26.0, 25.0, 24.0, 23.0, 22.0, 21.0, 20.0, 19.0, 18.0, 17.0, 16.0, 15.0, 14.0, 13.0, 12.0, 11.0, 10.0, 9.0, 8.0, 7.0, 6.0, 5.0, 4.0, 3.0, 2.0, 1.0, 2.23, 2.2299, 2.2299, 2.2298, 2.2297, 2.2297, 2.2296, 2.2295, 2.2295, 2.2294, 2.2294, 2.2294, 2.2293, 2.2292, 2.2292, 2.229, 2.229, 2.229, 2.229, 2.2289, 2.2288, 2.2286, 2.2286, 2.2284, 2.2284, 2.2283, 2.2282, 2.228, 2.228, 2.228, 2.3678, 2.3675, 2.3674, 2.3674, 2.3673, 2.3672, 2.3671, 2.3671, 2.3669, 2.3667, 2.3667, 2.3666, 2.3666, 2.3666, 2.3666, 2.3665, 2.3664, 2.3664, 2.3663, 2.3662, 2.3662, 2.3661, 2.3661, 2.3661, 2.366, 2.366, 2.3659, 2.3658, 2.3658, 2.3658, 2.5436, 2.5435, 2.5434, 2.5433, 2.5433, 2.5431, 2.543, 2.543, 2.5429, 2.5429, 2.5429, 2.5428, 2.5428, 2.5427, 2.5423, 2.5421, 2.542, 2.542, 2.542, 2.5419, 2.5419, 2.5418, 2.5414, 2.5414, 2.5413, 2.5413, 2.5408, 2.5405, 2.5403, 2.5402, 2.728, 2.728, 2.7279, 2.7278, 2.7276, 2.7273, 2.7273, 2.7272, 2.7272, 2.7271, 2.7271, 2.727, 2.727, 2.727, 2.727, 2.7268, 2.7268, 2.7267, 2.7267, 2.7264, 2.7264, 2.7262, 2.7262, 2.726, 2.726, 2.726, 2.7257, 2.7257, 2.7257, 2.7256, 2.833, 2.8329, 2.8329, 2.8329, 2.8328, 2.8326, 2.8326, 2.8324, 2.8323, 2.8322, 2.8322, 2.8321, 2.8319, 2.8318, 2.8317, 2.8316, 2.8316, 2.8313, 2.8313, 2.831, 2.8308, 2.8307, 2.8305, 2.8305, 2.8302, 2.8301, 2.83, 2.83, 2.8299, 2.8298, 2.8559, 2.8557, 2.8556, 2.8556, 2.8551, 2.855, 2.8548, 2.8546, 2.8542, 2.854, 2.854, 2.8538, 2.8537, 2.8537, 2.8537, 2.8536, 2.8536, 2.8535, 2.8533, 2.8533, 2.8532, 2.8531, 2.8526, 2.8525, 2.8525, 2.8519, 2.8519, 2.8515, 2.8506, 2.8504, 3.0309, 3.0306, 3.0305, 3.0303, 3.0302, 3.0301, 3.03, 3.0299, 3.0297, 3.0296, 3.0296, 3.0295, 3.0295, 3.0289, 3.0286, 3.0285, 3.0282, 3.0281, 3.0279, 3.0278, 3.0277, 3.0277, 3.0276, 3.0271, 3.027, 3.0269, 3.0269, 3.0266, 3.0264, 3.0264, 3.0577, 3.0576, 3.0574, 3.0574, 3.0573, 3.0566, 3.0565, 3.0561, 3.056, 3.0558, 3.0556, 3.0555, 3.0554, 3.0554, 3.0553, 3.0552, 3.0547, 3.0547, 3.0544, 3.0541, 3.054, 3.0539, 3.0538, 3.0536, 3.0534, 3.0534, 3.0531, 3.0529, 3.0526, 3.0522, 3.1029, 3.1028, 3.1027, 3.1025, 3.1023, 3.1019, 3.1017, 3.1015, 3.1014, 3.101, 3.101, 3.101, 3.1008, 3.1008, 3.1006, 3.1006, 3.1006, 3.1005, 3.0999, 3.0999, 3.0992, 3.0991, 3.0988, 3.0988, 3.0987, 3.0986, 3.0985, 3.0974, 3.0967, 3.0967, 3.103, 3.1027, 3.1027, 3.1025, 3.1025, 3.1023, 3.1022, 3.102, 3.1019, 3.1019, 3.1018, 3.1016, 3.1016, 3.1005, 3.1005, 3.1005, 3.1004, 3.1003, 3.0991, 3.099, 3.0989, 3.0988, 3.0987, 3.0983, 3.0982, 3.0981, 3.0981, 3.098, 3.0977, 3.0975, 3.1799, 3.1797, 3.1794, 3.1794, 3.1792, 3.179, 3.1785, 3.1785, 3.1783, 3.1783, 3.1782, 3.1781, 3.1781, 3.1776, 3.1776, 3.1772, 3.1772, 3.1772, 3.1769, 3.1768, 3.1765, 3.1765, 3.1765, 3.1763, 3.1762, 3.1761, 3.176, 3.1752, 3.1752, 3.1749, 3.2201, 3.2199, 3.2197, 3.2196, 3.2195, 3.219, 3.219, 3.2188, 3.2187, 3.2186, 3.2186, 3.2185, 3.2181, 3.218, 3.2175, 3.2175, 3.2175, 3.2175, 3.2174, 3.217, 3.2169, 3.2169, 3.2168, 3.2168, 3.2165, 3.2163, 3.2162, 3.2162, 3.2159, 3.2156, 3.2299, 3.2298, 3.2296, 3.2292, 3.2291, 3.229, 3.2289, 3.2288, 3.2288, 3.2287, 3.2287, 3.2286, 3.2285, 3.2284, 3.2283, 3.2283, 3.2281, 3.2281, 3.228, 3.2279, 3.2279, 3.2272, 3.227, 3.2268, 3.2267, 3.2267, 3.2267, 3.2266, 3.2266, 3.2266, 3.2357, 3.2354, 3.2347, 3.2345, 3.2341, 3.2332, 3.2331, 3.2329, 3.2323, 3.2322, 3.232, 3.232, 3.2319, 3.2318, 3.2318, 3.2313, 3.2313, 3.2312, 3.2312, 3.2309, 3.2309, 3.2309, 3.2309, 3.2307, 3.2299, 3.2296, 3.2296, 3.2296, 3.2295, 3.2294, 3.3207, 3.3205, 3.3204, 3.3199, 3.3194, 3.3191, 3.3191, 3.3187, 3.3186, 3.3185, 3.3174, 3.3172, 3.3168, 3.3168, 3.3166, 3.3161, 3.3159, 3.3152, 3.3149, 3.3148, 3.3146, 3.3145, 3.3141, 3.3134, 3.3133, 3.3132, 3.313, 3.313, 3.313, 3.3125, 3.3316, 3.3316, 3.3308, 3.3308, 3.3307, 3.3306, 3.3305, 3.3304, 3.3304, 3.3299, 3.3297, 3.3293, 3.3291, 3.3289, 3.3282, 3.3281, 3.3279, 3.3277, 3.3276, 3.3269, 3.3269, 3.3266, 3.3266, 3.3266, 3.3266, 3.3265, 3.3263, 3.3259, 3.3257, 3.3257, 3.3679, 3.3671, 3.3671, 3.367, 3.3667, 3.3665, 3.3663, 3.3661, 3.3661, 3.366, 3.3657, 3.3656, 3.3654, 3.3654, 3.3653, 3.3651, 3.3648, 3.3646, 3.3643, 3.3638, 3.3636, 3.3629, 3.3623, 3.3623, 3.362, 3.362, 3.3618, 3.3618, 3.3615, 3.3614, 3.399, 3.3987, 3.3983, 3.3982, 3.3982, 3.3976, 3.3976, 3.3974, 3.3974, 3.3967, 3.3967, 3.3964, 3.3961, 3.3961, 3.3959, 3.3958, 3.3954, 3.3954, 3.3952, 3.395, 3.3949, 3.3948, 3.3948, 3.3948, 3.3948, 3.3948, 3.3947, 3.3947, 3.3947, 3.3947, 3.4618, 3.4613, 3.4611, 3.461, 3.4608, 3.4606, 3.4606, 3.4602, 3.4592, 3.459, 3.4585, 3.4585, 3.4584, 3.4582, 3.4581, 3.4581, 3.4578, 3.4576, 3.4575, 3.4575, 3.4574, 3.4571, 3.457, 3.4566, 3.4566, 3.4566, 3.4564, 3.4564, 3.4563, 3.4557, 3.804, 3.803, 3.803, 3.803, 3.8025, 3.8001, 3.8001, 3.7998, 3.7996, 3.7991, 3.799, 3.7987, 3.7986, 3.7985, 3.7979, 3.7977, 3.7977, 3.7967, 3.7964, 3.7961, 3.7959, 3.7955, 3.7955, 3.7952, 3.7951, 3.7949, 3.7948, 3.7944, 3.7938, 3.7935]}, \"token.table\": {\"Topic\": [1, 15, 9, 6, 12, 4, 18, 13, 20, 8, 9, 12, 17, 20, 10, 5, 9, 13, 11, 3, 1, 13, 19, 15, 16, 14, 7, 16, 13, 5, 12, 16, 15, 6, 10, 3, 8, 4, 7, 20, 11, 1, 18, 1, 8, 12, 12, 3, 4, 7, 2, 16, 13, 12, 18, 9, 2, 4, 4, 6, 15, 7, 19, 9, 2, 16, 6, 12, 3, 7, 13, 19, 10, 8, 11, 7, 9, 18, 13, 2, 17, 13, 16, 2, 20, 4, 18, 13, 7, 13, 10, 10, 16, 4, 19, 16, 9, 9, 19, 18, 20, 5, 6, 5, 9, 4, 13, 8, 3, 9, 14, 20, 18, 12, 13, 14, 8, 12, 1, 17, 1, 20, 11, 13, 17, 7, 7, 19, 19, 6, 20, 4, 20, 8, 9, 6, 7, 19, 15, 9, 14, 2, 19, 12, 5, 9, 4, 2, 20, 11, 4, 15, 7, 16, 15, 18, 9, 11, 10, 11, 10, 8, 1, 8, 10, 15, 15, 2, 11, 15, 4, 6, 20, 5, 3, 19, 3, 15, 14, 2, 16, 5, 19, 6, 7, 5, 4, 19, 7, 5, 17, 2, 12, 12, 14, 18, 8, 1, 18, 5, 9, 6, 3, 18, 13, 3, 8, 10, 7, 9, 17, 2, 20, 10, 16, 12, 14, 7, 11, 9, 3, 1, 20, 4, 4, 1, 12, 8, 4, 5, 16, 6, 6, 2, 17, 5, 12, 4, 9, 3, 15, 10, 1, 7, 2, 15, 13, 20, 17, 3, 3, 18, 15, 16, 5, 11, 2, 19, 4, 16, 15, 3, 9, 11, 11, 16, 12, 19, 17, 12, 15, 13, 4, 18, 4, 11, 7, 10, 16, 14, 10, 17, 3, 2, 4, 14, 1, 15, 12, 14, 3, 8, 2, 17, 2, 12, 4, 1, 4, 5, 13, 2, 11, 8, 13, 1, 12, 16, 17, 7, 16, 20, 6, 18, 8, 1, 8, 1, 13, 4, 18, 15, 3, 3, 14, 1, 10, 15, 2, 10, 6, 7, 20, 18, 8, 15, 17, 13, 11, 14, 14, 5, 1, 2, 8, 19, 18, 11, 6, 3, 18, 5, 17, 17, 1, 10, 7, 5, 16, 11, 8, 13, 14, 5, 9, 11, 19, 10, 13, 3, 11, 16, 2, 18, 17, 19, 19, 14, 13, 5, 9, 17, 11, 8, 6, 7, 3, 16, 18, 20, 5, 18, 3, 12, 11, 14, 1, 19, 17, 14, 18, 8, 3, 20, 3, 10, 7, 1, 8, 13, 20, 5, 13, 9, 20, 2, 10, 9, 10, 6, 18, 7, 3, 20, 16, 14, 17, 4, 6, 9, 2, 20, 14, 4, 17, 15, 19, 19, 19, 4, 17, 11, 11, 17, 1, 20, 10, 1, 15, 7, 14, 14, 1, 14, 6, 14, 18, 6, 5, 2, 6, 3, 19, 14, 8, 10, 11, 6, 16, 17, 10, 6, 7, 5, 10, 16, 10, 10, 8, 17, 13, 2, 12, 19, 16, 15, 5, 20, 11, 18, 14, 7, 10, 6, 12, 8, 9, 8, 17, 1, 9, 1, 12, 13, 8, 8, 15, 12, 5, 7, 12, 8, 19, 13, 9, 17, 20, 18, 16, 2, 4, 17, 20, 15, 17, 15, 2, 15, 3, 16, 12, 11, 18, 20, 7, 18, 6, 19, 17, 3, 3, 16, 5, 5, 19, 2, 16, 7, 5, 10, 6, 19, 14, 14, 10, 14, 15, 15, 12, 7, 8, 6, 5, 5, 9, 17, 20, 20, 9, 18, 4, 6, 11, 1, 2, 14, 6, 19, 1, 19, 13, 12, 14, 4, 6, 18, 16, 15, 11, 12, 1, 20, 9, 11, 1, 13, 2, 3, 10, 11], \"Freq\": [0.9975990716963228, 0.99766801644726, 0.9979577538098868, 0.9946454849443461, 0.9961892227819611, 0.9993901794392331, 0.9928503747558558, 0.9975196651483804, 0.9954929765144221, 0.9950985632584127, 0.9963836670844614, 0.9947429674014105, 0.9919272353177718, 0.9981903606201235, 0.9954526832430297, 0.9977356431396772, 0.997654324902719, 0.996884815121214, 0.9993691594673022, 0.9997426751237581, 0.9995347402899495, 0.9960021755927246, 0.9980362803816241, 0.9968123793316933, 0.9987879930241557, 0.9989846150212006, 0.99787631764591, 0.9962296024662372, 0.9971896218510578, 0.9972990375231969, 0.9972707506057527, 0.9941504457244118, 0.9941271828338706, 0.9988057702300522, 0.9987793603000886, 0.9985634679109618, 0.9985198432757713, 0.9974065766226847, 0.9967321188989566, 0.9927413385568731, 0.9958106882957269, 0.998923897279885, 0.997874837876966, 0.9994720835804894, 0.9994459456379801, 0.9969950722634484, 0.9968494818810058, 0.9978152726296251, 0.9962514147153362, 0.9985209026289739, 0.9984575114041213, 0.9930450400655901, 0.9950148351204191, 0.9991591787839564, 0.9941585230510867, 0.991531923507572, 0.9994053118204944, 0.9981980768266112, 0.9977219458061245, 0.9971734055550474, 0.9961356895247996, 0.9964314316667757, 0.9949449953959858, 0.9962411417543224, 0.9987845838674291, 0.9971569456825142, 0.9953412125834841, 0.9984346507984793, 0.9974404135863735, 0.9967432007983883, 0.997872196271764, 0.9920196480428349, 0.9980495755253141, 0.9951759493669606, 0.9972761795350846, 0.9984105627987276, 0.9991734475736341, 0.9974793316305959, 0.9992872458288411, 0.9993460424234849, 0.9949336856057195, 0.998106384281028, 0.99782006905059, 0.9980169556627684, 0.9941345743753429, 0.9982582625247776, 0.9981643120700608, 0.9970866228921161, 0.9976584245611527, 0.9991498808436294, 0.9978356639992828, 0.9969396547903989, 0.9936529253897962, 0.9974770316396293, 0.9988938985276384, 0.995179527340636, 0.9939023204961079, 0.998136595056476, 0.9929629480615597, 0.9928611451343804, 0.9995200754791459, 0.9980738608181355, 0.999567517469907, 0.9996191168768651, 0.9975585022735601, 0.9975604583266897, 0.9964571877871359, 0.997539656785213, 0.9981560863117012, 0.9986441157321733, 0.9955148668524001, 0.9910269855878716, 0.9976332383619614, 0.994538828751923, 0.9989528127205162, 0.9980066303968358, 0.9986595593442928, 0.9975852575385937, 0.9981622716258832, 0.9982342809512995, 0.9969443327358495, 0.992375146633803, 0.9956690272468317, 0.9941338369637969, 0.9958194425653357, 0.9977893876918467, 0.9973524107782179, 0.9978369721746054, 0.9968340478378879, 0.9948304326651057, 0.9938160812754835, 0.9971815650468733, 0.996186060210644, 0.9990477858384273, 0.9958748337186678, 0.9978387973643927, 0.9983260592065275, 0.9918052541618747, 0.9968079157511506, 0.9955100749009131, 0.9924951899867814, 0.9989340151062135, 0.9944125141131249, 0.9987015758360961, 0.9960161923455872, 0.997871065333961, 0.9981130582318561, 0.998354077844887, 0.9941058753371677, 0.9963249510289576, 0.9995721375598536, 0.9931474424874501, 0.9927898121584865, 0.9974574726285217, 0.99861879794059, 0.9944187153398992, 0.9956967166485562, 0.9960590897610683, 0.9982204798777707, 0.9959334077521248, 0.9931705587721438, 0.9950194920234913, 0.9978489254681384, 0.9987537224152816, 0.9962761948238303, 0.999609747825092, 0.99504074468938, 0.997695822123974, 0.9994824704376915, 0.993324119248887, 0.9992975422288457, 0.9975824834206567, 0.9918684624685451, 0.9996013671770759, 0.9990306733273634, 0.9935110425119391, 0.9989264520552935, 0.9985823570443462, 0.9958664422756676, 0.998382786300657, 0.9978365419772726, 0.9972870773799275, 0.99120429990622, 0.997080066928771, 0.9982673402641841, 0.9982681418663762, 0.9990912761837483, 0.9927022691423141, 0.9978900625077475, 0.9970432328349694, 0.9962891089811614, 0.9964675920187658, 0.9970969307734975, 0.998378105406368, 0.9971877703414133, 0.996783537182078, 0.9968354609448036, 0.999377597103542, 0.9947568048387194, 0.9994751752896506, 0.9962003233270875, 0.9986823412806395, 0.999226856919136, 0.9922282706486506, 0.9977688794273677, 0.9955595576865771, 0.9977036502615515, 0.9986714488017109, 0.9970123590937552, 0.9976357766393655, 0.9978690327058402, 0.998891157371938, 0.9840593956206777, 0.9997669805464908, 0.9988682123499087, 0.9966116206704941, 0.9988213697050708, 0.9984290141944078, 0.9944630729788088, 0.9993524590762541, 0.9984180583563554, 0.9999013663226175, 0.9950609237655665, 0.999237533074065, 0.9994911735213424, 0.9998546020944415, 0.9936656795900154, 0.9998230831613715, 0.9985201213716685, 0.9988053779774163, 0.995276068210667, 0.997251428550708, 0.9978546445703965, 0.9988365116949357, 0.9986702496916066, 0.9994882703478064, 0.9969886587716108, 0.9981608601811648, 0.999651875171122, 0.9959186456851011, 0.9992722268849173, 0.9984645228161996, 0.9987525572136672, 0.998440029139643, 0.9994017265398407, 0.9962201190781858, 0.9986567586246775, 0.9931156489590309, 0.997622384148014, 0.9988643382979375, 0.9984665090795017, 0.9958276222423578, 0.9950440000932865, 0.9968555168326703, 0.9966652181022333, 0.9984310534776943, 0.9979007975833423, 0.997150937993883, 0.9979374544402951, 0.9978996389701061, 0.9957497607395711, 0.9979568371300114, 0.9980678056432651, 0.9948527533517273, 0.9970712717916785, 0.9952472236516958, 0.9956367292834146, 0.9987973791873047, 0.9976543770501352, 0.9981645089905063, 0.9960975120435034, 0.9937159317323281, 0.9982018458487842, 0.9985962494988699, 0.9987002439658133, 0.9994217138403277, 0.9979273698005786, 0.9940247338005201, 0.9929960574856771, 0.991287141004613, 0.9995198640588371, 0.995614994066872, 0.9989295021311484, 0.9989792464661502, 0.9988988540978915, 0.9949261113934522, 0.9998243548790435, 0.9943792518015522, 0.9946831731894312, 0.9957708359727728, 0.9948157345888595, 0.9976134341924993, 0.9989521538053681, 0.9946722461285368, 0.9983571632023627, 0.997020271231179, 0.9992925135361667, 0.9985768016708931, 0.9988062812446274, 0.9989096125628405, 0.9977181866435102, 0.9983442952728773, 0.9989734123333183, 0.9983431623860358, 0.9960061769884101, 0.997969135061183, 0.9982270700966239, 0.9983128208068469, 0.997234550059663, 0.9989255336983186, 0.9987981083593095, 0.9889494484189061, 0.9984682306406485, 0.9990945303754414, 0.9994306567216068, 0.9983119526131586, 0.9994913746255752, 0.9987994626059871, 0.9982412861533255, 0.9969358604691608, 0.9936137453912949, 0.9927019493505372, 0.9997971831038901, 0.9982381158181464, 0.9993493848148823, 0.9991144579128701, 0.99609436073471, 0.9903606309532216, 0.9977125267110762, 0.999248222095065, 0.9996057069771864, 0.9976491623831235, 0.9924511207756013, 0.9946817204517379, 0.9986217178149599, 0.9932910579359894, 0.9929726193576708, 0.9989709138801592, 0.9955821197230001, 0.9970972600445148, 0.9972513689783903, 0.9952528672091145, 0.9994842097634615, 0.9972980053730329, 0.9956038410275341, 0.9973248414871442, 0.992825444392581, 0.9965246930050755, 0.9972760442557247, 0.9992892115404386, 0.9946341186363149, 0.9980618759093246, 0.9957541364900697, 0.9995046446276633, 0.9994705839170017, 0.9984540113591485, 0.9979264718296947, 0.9974577673048567, 0.9914456604349615, 0.9947152868401918, 0.998605296144592, 0.9964662266044411, 0.9938274610058153, 0.9965436746205099, 0.9934536534461689, 0.9978825652897899, 0.9898860963516635, 0.9989815697980582, 0.9972777852325391, 0.9991786222777522, 0.997371369169457, 0.9986514359475845, 0.9984886197739336, 0.9980554386892063, 0.9970186431104816, 0.991756847393573, 0.9965321006843595, 0.995166647162115, 0.9968716780015923, 0.998198823270512, 0.9965963657710621, 0.993377040654662, 0.9993955022969061, 0.9969192139733885, 0.999794131506339, 0.9940119494741576, 0.998995554783502, 0.9923783329108723, 0.9974214876531536, 0.9921104228066981, 0.998593382459759, 0.9975376901887422, 0.9991485150243555, 0.9990363369328091, 0.9972694559060395, 0.9948383306338797, 0.9992080721514446, 0.9957490032165507, 0.9983082731486684, 0.9943788774243899, 0.9950860134573628, 0.9979305993258785, 0.9993272554499233, 0.9952358086024842, 0.9990563914005267, 0.9984805170914265, 0.9992354373067841, 0.9994148836572068, 0.994620438651741, 0.9976494353938606, 0.9872601835893393, 0.9978305903844825, 0.995884352993037, 0.9966363965821128, 0.9921288686941093, 0.9993078867388153, 0.9985733947521556, 0.9915790401396576, 0.9940737286399618, 0.9961854810164117, 0.9940401450412314, 0.9979788740681218, 0.9963257438069932, 0.9897252941676913, 0.9991927237136472, 0.9986947486496617, 0.9976146819765944, 0.9996822941957711, 0.999402585311346, 0.9966940397557849, 0.9996761722514241, 0.9989537112799712, 0.994728794200925, 0.9984893819004259, 0.9933956182258985, 0.9982611473180442, 0.9972007955397569, 0.9987940226937656, 0.9971664697307412, 0.9970062545180497, 0.997718732920576, 0.9946143818319587, 0.9980846605801448, 0.9947069842306936, 0.9997700960281382, 0.9946732493225449, 0.9979127785324758, 0.999468861052458, 0.99790597631921, 0.9949071155571869, 0.9997734791659643, 0.9967371442430728, 0.9973365714205533, 0.9945260118036343, 0.9942074929397676, 0.9929152074781763, 0.9986801415796999, 0.9998234435050298, 0.9989664053163361, 0.9985837363290697, 0.9978144097846279, 0.9976190788543158, 0.997154801144316, 0.996729290252487, 0.9980232288085464, 0.994975843977964, 0.9982075157457566, 0.9978318562014017, 0.9974895848600498, 0.9973534331485354, 0.9994033704273345, 0.9987502927109919, 0.9963782653995708, 0.9993387830810637, 0.9987092317711905, 0.9971134978285338, 0.9943337239874922, 0.9969805350306528, 0.9947019420889304, 0.9969480994366346, 0.9980901525751487, 0.9977576433746824, 0.9945362003038076, 0.9950114705143941, 0.9904659159988561, 0.996440121229335, 0.9969663759644956, 0.9950366625514343, 0.998744361460107, 0.992530711426401, 0.9977660305963929, 0.9979396159793641, 0.995027483405524, 0.9995309657660737, 0.9966446057385988, 0.9953702036358869, 0.9976943101923802, 0.9952210469789102, 0.9974830780849235, 0.9987108470101594, 0.995993046104858, 0.9994981487332903, 0.999445212446148, 0.997785665499746, 0.9963350847470682, 0.9961623144108669, 0.9934010597931651, 0.9954586872054296, 0.9994418692169242, 0.999040111232322, 0.999372009778933, 0.9967836741784036, 0.993662015716587, 0.9950155582839897, 0.998773725891574, 0.9992768673555714, 0.9964218364839503, 0.9926527043033622, 0.9966724630004196, 0.9965921977660791, 0.99884496119865, 0.9948050318313265, 0.9979969312009027, 0.9960537989113785, 0.9980460330499641, 0.9995285754915082, 0.9975851957936391, 0.9995927463127544, 0.9992228302872185, 0.993729503983383, 0.9951844783363559, 0.9944947476960264, 0.9970510933630988, 0.9983629736839739, 0.9993596825207938, 0.997880861924259, 0.9971164108400149, 0.9954144457999392, 0.9983143752302833, 0.999716126968624, 0.9999190136101362, 0.9935138066436018, 0.9981292621290666, 0.9977339973511121, 0.9933115864494034, 0.9983121584876286, 0.9946800574767456, 0.9996282651340113, 0.9978742421392117, 0.9963589595687019, 0.9986076251503059, 0.9968387697151526, 0.9949758044023937, 0.9970309202310929, 0.9958801124190952, 0.9984714937482356, 0.9939699154152509, 0.9962983556953964, 0.9958784541869478, 0.9997370486339823, 0.9984613107870939, 0.9978571291524617, 0.9993052503759084, 0.997420793568178, 0.9997887385981652, 0.9980999110380055, 0.9940040584581367, 0.9896916294707281, 0.9985532828994387, 0.9976100007014881, 0.9986130408474114, 0.9990119813921691, 0.9989973495466531, 0.999590463521799, 0.998320107657598, 0.9974857460765375, 0.9986893436798022, 0.9981275611056649, 0.999632485171919, 0.9963917596632942, 0.9978504510869353, 0.9983278130814564, 0.9954442066822493, 0.9997322749168073, 0.9970724288953206, 0.9983038347440759, 0.9972738538762869, 0.998926058674456, 0.9935258367247465, 0.9978752408438686, 0.9997481188989676, 0.9953777839485515, 0.9988202050412993, 0.9994808764004529, 0.9984773129327761, 0.9963266971335404, 0.9967752691212196, 0.9995500175494293, 0.9994470943270716, 0.9963620887905058], \"Term\": [\"able\", \"account\", \"act\", \"action\", \"actual\", \"actually\", \"ad\", \"add\", \"address\", \"advice\", \"afraid\", \"age\", \"ago\", \"agree\", \"alive\", \"allow\", \"almost\", \"alone\", \"already\", \"also\", \"always\", \"amount\", \"amp\", \"angry\", \"animal\", \"answer\", \"apparently\", \"apple\", \"area\", \"argument\", \"arm\", \"arrest\", \"arrow\", \"article\", \"ask\", \"ass\", \"asshole\", \"assume\", \"atheist\", \"audience\", \"average\", \"away\", \"awesome\", \"back\", \"bad\", \"ball\", \"ban\", \"base\", \"basically\", \"beat\", \"become\", \"beer\", \"begin\", \"believe\", \"benefit\", \"bet\", \"big\", \"bit\", \"bitch\", \"black\", \"blood\", \"blow\", \"blue\", \"body\", \"book\", \"boy\", \"brain\", \"break\", \"bring\", \"brother\", \"build\", \"building\", \"bullshit\", \"burn\", \"business\", \"buy\", \"call\", \"camera\", \"car\", \"care\", \"carry\", \"case\", \"cat\", \"cause\", \"chance\", \"change\", \"character\", \"charge\", \"check\", \"child\", \"choice\", \"choose\", \"city\", \"claim\", \"class\", \"clean\", \"clear\", \"clearly\", \"click\", \"college\", \"com\", \"com_askreddit\", \"come\", \"comment\", \"community\", \"company\", \"compare\", \"complete\", \"completely\", \"consider\", \"content\", \"context\", \"continue\", \"cool\", \"cop\", \"correct\", \"cost\", \"count\", \"country\", \"couple\", \"course\", \"cover\", \"crazy\", \"crime\", \"criminal\", \"cry\", \"culture\", \"cunt\", \"cut\", \"dad\", \"damage\", \"damn\", \"dangerous\", \"day\", \"dead\", \"deal\", \"death\", \"decent\", \"decide\", \"definitely\", \"delete\", \"deserve\", \"design\", \"die\", \"difference\", \"different\", \"do\", \"dog\", \"dota\", \"doubt\", \"downvote\", \"draw\", \"dream\", \"drink\", \"drive\", \"driver\", \"drop\", \"drug\", \"dude\", \"due\", \"dumb\", \"early\", \"easy\", \"eat\", \"economic\", \"edit\", \"educate\", \"else\", \"end\", \"engage\", \"enough\", \"entire\", \"esport\", \"even\", \"ever\", \"evil\", \"exactly\", \"example\", \"excuse\", \"exist\", \"experience\", \"explain\", \"extra\", \"extremely\", \"eye\", \"face\", \"fact\", \"faggot\", \"fail\", \"fair\", \"fake\", \"family\", \"fan\", \"far\", \"fast\", \"fat\", \"feed\", \"feel\", \"film\", \"find\", \"finish\", \"fire\", \"first\", \"fit\", \"fix\", \"follow\", \"food\", \"force\", \"forget\", \"form\", \"free\", \"friend\", \"friendly\", \"fuck\", \"fucking\", \"full\", \"fun\", \"funny\", \"future\", \"game\", \"gay\", \"get\", \"gif\", \"girl\", \"give\", \"go\", \"goal\", \"good\", \"government\", \"great\", \"ground\", \"group\", \"grow\", \"guess\", \"gun\", \"guy\", \"half\", \"hand\", \"happen\", \"happy\", \"hard\", \"hate\", \"head\", \"hear\", \"help\", \"hero\", \"high\", \"history\", \"hit\", \"hold\", \"home\", \"honest\", \"honestly\", \"hope\", \"hot\", \"hour\", \"however\", \"http\", \"huge\", \"human\", \"hurt\", \"idea\", \"idiot\", \"ignorant\", \"ignore\", \"illegal\", \"image\", \"imagine\", \"important\", \"include\", \"increase\", \"information\", \"instead\", \"internet\", \"issue\", \"job\", \"joke\", \"judge\", \"jump\", \"justify\", \"keep\", \"key\", \"kid\", \"kill\", \"kind\", \"knee\", \"know\", \"label\", \"land\", \"lane\", \"language\", \"large\", \"last\", \"late\", \"law\", \"learn\", \"least\", \"leave\", \"less\", \"let\", \"level\", \"lie\", \"life\", \"light\", \"like\", \"line\", \"link\", \"listen\", \"literally\", \"little\", \"live\", \"load\", \"local\", \"long\", \"look\", \"lose\", \"lot\", \"love\", \"low\", \"m\", \"mad\", \"main\", \"make\", \"male\", \"man\", \"many\", \"market\", \"massive\", \"matter\", \"maybe\", \"mean\", \"meet\", \"member\", \"meme\", \"mention\", \"mile\", \"military\", \"mind\", \"minute\", \"miss\", \"mom\", \"moment\", \"money\", \"month\", \"morning\", \"mother\", \"mouth\", \"move\", \"movie\", \"much\", \"music\", \"name\", \"necessary\", \"need\", \"never\", \"new\", \"next\", \"nice\", \"nigger\", \"normal\", \"notice\", \"number\", \"obvious\", \"obviously\", \"offensive\", \"often\", \"oil\", \"old\", \"one\", \"op\", \"open\", \"opinion\", \"order\", \"original\", \"other\", \"otherwise\", \"page\", \"paper\", \"parent\", \"part\", \"pass\", \"pathetic\", \"pay\", \"penis\", \"people\", \"perhaps\", \"person\", \"pet\", \"phone\", \"photo\", \"pick\", \"picture\", \"place\", \"play\", \"player\", \"png\", \"point\", \"political\", \"poor\", \"pop\", \"porn\", \"possible\", \"post\", \"practice\", \"pretty\", \"price\", \"probably\", \"problem\", \"product\", \"program\", \"property\", \"prove\", \"provide\", \"pull\", \"pussy\", \"put\", \"question\", \"quit\", \"race\", \"racist\", \"random\", \"rape\", \"rather\", \"reach\", \"read\", \"real\", \"realize\", \"really\", \"reason\", \"receive\", \"reddit\", \"reddit_enhancement\", \"relate\", \"religion\", \"religious\", \"remember\", \"require\", \"respect\", \"respond\", \"response\", \"rest\", \"result\", \"rich\", \"ridiculous\", \"right\", \"road\", \"rule\", \"run\", \"s\", \"sad\", \"say\", \"scene\", \"school\", \"science\", \"scream\", \"search\", \"second\", \"see\", \"seem\", \"sell\", \"send\", \"sense\", \"sentence\", \"serious\", \"seriously\", \"server\", \"service\", \"set\", \"sex\", \"shirt\", \"shit\", \"shoot\", \"short\", \"show\", \"side\", \"sign\", \"silly\", \"simple\", \"single\", \"sit\", \"site\", \"situation\", \"skill\", \"skin\", \"sleep\", \"slow\", \"small\", \"smart\", \"society\", \"soldier\", \"sometimes\", \"sorry\", \"sort\", \"sound\", \"source\", \"space\", \"speak\", \"speed\", \"spend\", \"stand\", \"standard\", \"start\", \"state\", \"statement\", \"stay\", \"steal\", \"step\", \"stick\", \"still\", \"stop\", \"story\", \"strike\", \"strong\", \"study\", \"stuff\", \"stupid\", \"style\", \"sub\", \"subject\", \"subreddit\", \"suck\", \"suggest\", \"suite_http\", \"supply\", \"support\", \"sure\", \"system\", \"take\", \"talk\", \"target\", \"tax\", \"taxis\", \"teach\", \"team\", \"tell\", \"term\", \"terrible\", \"test\", \"thank\", \"thing\", \"think\", \"thinking\", \"though\", \"thread\", \"threaten\", \"throw\", \"thus\", \"time\", \"title\", \"today\", \"together\", \"top\", \"total\", \"totally\", \"trash\", \"true\", \"truly\", \"trust\", \"truth\", \"try\", \"turn\", \"type\", \"understand\", \"upvote\", \"use\", \"usually\", \"valve\", \"vehicle\", \"video\", \"view\", \"vote\", \"wait\", \"walk\", \"want\", \"war\", \"waste\", \"watch\", \"water\", \"way\", \"weapon\", \"wear\", \"week\", \"weight\", \"well\", \"white\", \"whole\", \"wife\", \"win\", \"window\", \"wish\", \"woman\", \"wonder\", \"word\", \"work\", \"world\", \"worry\", \"write\", \"wrong\", \"year\", \"young\"]}, \"R\": 30, \"lambda.step\": 0.01, \"plot.opts\": {\"xlab\": \"PC1\", \"ylab\": \"PC2\"}, \"topic.order\": [19, 12, 9, 4, 18, 16, 15, 7, 13, 17, 2, 3, 14, 5, 10, 6, 1, 11, 8, 20]};\n",
              "\n",
              "function LDAvis_load_lib(url, callback){\n",
              "  var s = document.createElement('script');\n",
              "  s.src = url;\n",
              "  s.async = true;\n",
              "  s.onreadystatechange = s.onload = callback;\n",
              "  s.onerror = function(){console.warn(\"failed to load library \" + url);};\n",
              "  document.getElementsByTagName(\"head\")[0].appendChild(s);\n",
              "}\n",
              "\n",
              "if(typeof(LDAvis) !== \"undefined\"){\n",
              "   // already loaded: just create the visualization\n",
              "   !function(LDAvis){\n",
              "       new LDAvis(\"#\" + \"ldavis_el10551399232830622248851565921\", ldavis_el10551399232830622248851565921_data);\n",
              "   }(LDAvis);\n",
              "}else if(typeof define === \"function\" && define.amd){\n",
              "   // require.js is available: use it to load d3/LDAvis\n",
              "   require.config({paths: {d3: \"https://d3js.org/d3.v5\"}});\n",
              "   require([\"d3\"], function(d3){\n",
              "      window.d3 = d3;\n",
              "      LDAvis_load_lib(\"https://cdn.jsdelivr.net/gh/bmabey/pyLDAvis/pyLDAvis/js/ldavis.v3.0.0.js\", function(){\n",
              "        new LDAvis(\"#\" + \"ldavis_el10551399232830622248851565921\", ldavis_el10551399232830622248851565921_data);\n",
              "      });\n",
              "    });\n",
              "}else{\n",
              "    // require.js not available: dynamically load d3 & LDAvis\n",
              "    LDAvis_load_lib(\"https://d3js.org/d3.v5.js\", function(){\n",
              "         LDAvis_load_lib(\"https://cdn.jsdelivr.net/gh/bmabey/pyLDAvis/pyLDAvis/js/ldavis.v3.0.0.js\", function(){\n",
              "                 new LDAvis(\"#\" + \"ldavis_el10551399232830622248851565921\", ldavis_el10551399232830622248851565921_data);\n",
              "            })\n",
              "         });\n",
              "}\n",
              "</script>"
            ]
          },
          "metadata": {},
          "execution_count": 40
        }
      ]
    },
    {
      "cell_type": "code",
      "source": [
        "import zipfile\n",
        "!wget http://mallet.cs.umass.edu/dist/mallet-2.0.8.zip"
      ],
      "metadata": {
        "colab": {
          "base_uri": "https://localhost:8080/"
        },
        "id": "Aj7jBU35PjZk",
        "outputId": "1539b9ae-65f1-4e58-f264-f010d4e64bd3"
      },
      "execution_count": 1,
      "outputs": [
        {
          "output_type": "stream",
          "name": "stdout",
          "text": [
            "--2022-08-17 19:47:15--  http://mallet.cs.umass.edu/dist/mallet-2.0.8.zip\n",
            "Resolving mallet.cs.umass.edu (mallet.cs.umass.edu)... 128.119.246.70\n",
            "Connecting to mallet.cs.umass.edu (mallet.cs.umass.edu)|128.119.246.70|:80... connected.\n",
            "HTTP request sent, awaiting response... 302 Found\n",
            "Location: https://mallet.cs.umass.edu/dist/mallet-2.0.8.zip [following]\n",
            "--2022-08-17 19:47:16--  https://mallet.cs.umass.edu/dist/mallet-2.0.8.zip\n",
            "Connecting to mallet.cs.umass.edu (mallet.cs.umass.edu)|128.119.246.70|:443... connected.\n",
            "HTTP request sent, awaiting response... 200 OK\n",
            "Length: 16184794 (15M) [application/zip]\n",
            "Saving to: ‘mallet-2.0.8.zip.1’\n",
            "\n",
            "mallet-2.0.8.zip.1  100%[===================>]  15.43M  16.1MB/s    in 1.0s    \n",
            "\n",
            "2022-08-17 19:47:17 (16.1 MB/s) - ‘mallet-2.0.8.zip.1’ saved [16184794/16184794]\n",
            "\n"
          ]
        }
      ]
    },
    {
      "cell_type": "code",
      "source": [
        "with zipfile.ZipFile('/content/mallet-2.0.8.zip', 'r') as zip_ref:#the directory of zipped file\n",
        "    zip_ref.extractall('/content/drive/MyDrive/dataAI/mallet') #directory of unzipped file\n"
      ],
      "metadata": {
        "id": "Ai1sdSt6PuWd",
        "colab": {
          "base_uri": "https://localhost:8080/",
          "height": 328
        },
        "outputId": "3ea90090-5cb2-4f55-fa0a-e7cb8532db12"
      },
      "execution_count": 2,
      "outputs": [
        {
          "output_type": "error",
          "ename": "KeyboardInterrupt",
          "evalue": "ignored",
          "traceback": [
            "\u001b[0;31m---------------------------------------------------------------------------\u001b[0m",
            "\u001b[0;31mKeyboardInterrupt\u001b[0m                         Traceback (most recent call last)",
            "\u001b[0;32m<ipython-input-2-822c96624cad>\u001b[0m in \u001b[0;36m<module>\u001b[0;34m\u001b[0m\n\u001b[1;32m      1\u001b[0m \u001b[0;32mwith\u001b[0m \u001b[0mzipfile\u001b[0m\u001b[0;34m.\u001b[0m\u001b[0mZipFile\u001b[0m\u001b[0;34m(\u001b[0m\u001b[0;34m'/content/mallet-2.0.8.zip'\u001b[0m\u001b[0;34m,\u001b[0m \u001b[0;34m'r'\u001b[0m\u001b[0;34m)\u001b[0m \u001b[0;32mas\u001b[0m \u001b[0mzip_ref\u001b[0m\u001b[0;34m:\u001b[0m\u001b[0;31m#the directory of zipped file\u001b[0m\u001b[0;34m\u001b[0m\u001b[0;34m\u001b[0m\u001b[0m\n\u001b[0;32m----> 2\u001b[0;31m     \u001b[0mzip_ref\u001b[0m\u001b[0;34m.\u001b[0m\u001b[0mextractall\u001b[0m\u001b[0;34m(\u001b[0m\u001b[0;34m'/content/drive/MyDrive/dataAI/mallet'\u001b[0m\u001b[0;34m)\u001b[0m \u001b[0;31m#directory of unzipped file\u001b[0m\u001b[0;34m\u001b[0m\u001b[0;34m\u001b[0m\u001b[0m\n\u001b[0m",
            "\u001b[0;32m/usr/lib/python3.7/zipfile.py\u001b[0m in \u001b[0;36mextractall\u001b[0;34m(self, path, members, pwd)\u001b[0m\n\u001b[1;32m   1634\u001b[0m \u001b[0;34m\u001b[0m\u001b[0m\n\u001b[1;32m   1635\u001b[0m         \u001b[0;32mfor\u001b[0m \u001b[0mzipinfo\u001b[0m \u001b[0;32min\u001b[0m \u001b[0mmembers\u001b[0m\u001b[0;34m:\u001b[0m\u001b[0;34m\u001b[0m\u001b[0;34m\u001b[0m\u001b[0m\n\u001b[0;32m-> 1636\u001b[0;31m             \u001b[0mself\u001b[0m\u001b[0;34m.\u001b[0m\u001b[0m_extract_member\u001b[0m\u001b[0;34m(\u001b[0m\u001b[0mzipinfo\u001b[0m\u001b[0;34m,\u001b[0m \u001b[0mpath\u001b[0m\u001b[0;34m,\u001b[0m \u001b[0mpwd\u001b[0m\u001b[0;34m)\u001b[0m\u001b[0;34m\u001b[0m\u001b[0;34m\u001b[0m\u001b[0m\n\u001b[0m\u001b[1;32m   1637\u001b[0m \u001b[0;34m\u001b[0m\u001b[0m\n\u001b[1;32m   1638\u001b[0m     \u001b[0;34m@\u001b[0m\u001b[0mclassmethod\u001b[0m\u001b[0;34m\u001b[0m\u001b[0;34m\u001b[0m\u001b[0m\n",
            "\u001b[0;32m/usr/lib/python3.7/zipfile.py\u001b[0m in \u001b[0;36m_extract_member\u001b[0;34m(self, member, targetpath, pwd)\u001b[0m\n\u001b[1;32m   1688\u001b[0m \u001b[0;34m\u001b[0m\u001b[0m\n\u001b[1;32m   1689\u001b[0m         \u001b[0;32mwith\u001b[0m \u001b[0mself\u001b[0m\u001b[0;34m.\u001b[0m\u001b[0mopen\u001b[0m\u001b[0;34m(\u001b[0m\u001b[0mmember\u001b[0m\u001b[0;34m,\u001b[0m \u001b[0mpwd\u001b[0m\u001b[0;34m=\u001b[0m\u001b[0mpwd\u001b[0m\u001b[0;34m)\u001b[0m \u001b[0;32mas\u001b[0m \u001b[0msource\u001b[0m\u001b[0;34m,\u001b[0m\u001b[0;31m \u001b[0m\u001b[0;31m\\\u001b[0m\u001b[0;34m\u001b[0m\u001b[0;34m\u001b[0m\u001b[0m\n\u001b[0;32m-> 1690\u001b[0;31m              \u001b[0mopen\u001b[0m\u001b[0;34m(\u001b[0m\u001b[0mtargetpath\u001b[0m\u001b[0;34m,\u001b[0m \u001b[0;34m\"wb\"\u001b[0m\u001b[0;34m)\u001b[0m \u001b[0;32mas\u001b[0m \u001b[0mtarget\u001b[0m\u001b[0;34m:\u001b[0m\u001b[0;34m\u001b[0m\u001b[0;34m\u001b[0m\u001b[0m\n\u001b[0m\u001b[1;32m   1691\u001b[0m             \u001b[0mshutil\u001b[0m\u001b[0;34m.\u001b[0m\u001b[0mcopyfileobj\u001b[0m\u001b[0;34m(\u001b[0m\u001b[0msource\u001b[0m\u001b[0;34m,\u001b[0m \u001b[0mtarget\u001b[0m\u001b[0;34m)\u001b[0m\u001b[0;34m\u001b[0m\u001b[0;34m\u001b[0m\u001b[0m\n\u001b[1;32m   1692\u001b[0m \u001b[0;34m\u001b[0m\u001b[0m\n",
            "\u001b[0;31mKeyboardInterrupt\u001b[0m: "
          ]
        }
      ]
    },
    {
      "cell_type": "code",
      "source": [
        "import gensim"
      ],
      "metadata": {
        "id": "gb4-jHvYWQjZ"
      },
      "execution_count": 3,
      "outputs": []
    },
    {
      "cell_type": "code",
      "source": [
        "mallet_path = '/content/drive/MyDrive/dataAI/mallet/mallet-2.0.8/bin/mallet' # update this path\n",
        "ldamallet = gensim.models.wrappers.LdaMallet(mallet_path, corpus=corpus, num_topics=20, id2word=id2word)"
      ],
      "metadata": {
        "colab": {
          "base_uri": "https://localhost:8080/",
          "height": 183
        },
        "id": "SjfiJoCIQxOx",
        "outputId": "1cd22c91-01ac-4943-e8d9-2651b633c415"
      },
      "execution_count": 4,
      "outputs": [
        {
          "output_type": "error",
          "ename": "NameError",
          "evalue": "ignored",
          "traceback": [
            "\u001b[0;31m---------------------------------------------------------------------------\u001b[0m",
            "\u001b[0;31mNameError\u001b[0m                                 Traceback (most recent call last)",
            "\u001b[0;32m<ipython-input-4-9381f8f260a4>\u001b[0m in \u001b[0;36m<module>\u001b[0;34m\u001b[0m\n\u001b[1;32m      1\u001b[0m \u001b[0mmallet_path\u001b[0m \u001b[0;34m=\u001b[0m \u001b[0;34m'/content/drive/MyDrive/dataAI/mallet/mallet-2.0.8/bin/mallet'\u001b[0m \u001b[0;31m# update this path\u001b[0m\u001b[0;34m\u001b[0m\u001b[0;34m\u001b[0m\u001b[0m\n\u001b[0;32m----> 2\u001b[0;31m \u001b[0mldamallet\u001b[0m \u001b[0;34m=\u001b[0m \u001b[0mgensim\u001b[0m\u001b[0;34m.\u001b[0m\u001b[0mmodels\u001b[0m\u001b[0;34m.\u001b[0m\u001b[0mwrappers\u001b[0m\u001b[0;34m.\u001b[0m\u001b[0mLdaMallet\u001b[0m\u001b[0;34m(\u001b[0m\u001b[0mmallet_path\u001b[0m\u001b[0;34m,\u001b[0m \u001b[0mcorpus\u001b[0m\u001b[0;34m=\u001b[0m\u001b[0mcorpus\u001b[0m\u001b[0;34m,\u001b[0m \u001b[0mnum_topics\u001b[0m\u001b[0;34m=\u001b[0m\u001b[0;36m20\u001b[0m\u001b[0;34m,\u001b[0m \u001b[0mid2word\u001b[0m\u001b[0;34m=\u001b[0m\u001b[0mid2word\u001b[0m\u001b[0;34m)\u001b[0m\u001b[0;34m\u001b[0m\u001b[0;34m\u001b[0m\u001b[0m\n\u001b[0m",
            "\u001b[0;31mNameError\u001b[0m: name 'corpus' is not defined"
          ]
        }
      ]
    },
    {
      "cell_type": "code",
      "source": [
        "import os\n",
        "\n",
        "os.environ.update({\n",
        "        'MALLET_HOME':\n",
        "        r\"/content/drive/MyDrive/dataAI/mallet/mallet-2.0.8/bin/mallet\",\n",
        "    })"
      ],
      "metadata": {
        "id": "IU1qnWKrSRKF"
      },
      "execution_count": null,
      "outputs": []
    },
    {
      "cell_type": "code",
      "source": [
        "pprint(ldamallet.show_topics(formatted=False))\n",
        "\n",
        "# Compute Coherence Score\n",
        "coherence_model_ldamallet = CoherenceModel(model=ldamallet, texts=data_lemmatized, dictionary=id2word, coherence='c_v')\n",
        "coherence_ldamallet = coherence_model_ldamallet.get_coherence()\n",
        "print('\\nCoherence Score: ', coherence_ldamallet)"
      ],
      "metadata": {
        "id": "B4qmiqWWQ-0N"
      },
      "execution_count": null,
      "outputs": []
    },
    {
      "cell_type": "code",
      "source": [
        "import spacy\n",
        "from nltk.corpus import stopwords\n",
        "import nltk\n",
        "nltk.download('punkt')\n",
        "nltk.download('stopwords')\n",
        "from nltk.tokenize import word_tokenize\n",
        "nlp = spacy.load(\"en_core_web_sm\")\n",
        "all_stopwords = nlp.Defaults.stop_words"
      ],
      "metadata": {
        "colab": {
          "base_uri": "https://localhost:8080/"
        },
        "id": "juFAA3QqVP0m",
        "outputId": "64799e36-0216-4011-b51b-9961619a430c"
      },
      "execution_count": null,
      "outputs": [
        {
          "output_type": "stream",
          "name": "stdout",
          "text": [
            "[nltk_data] Downloading package punkt to /root/nltk_data...\n",
            "[nltk_data]   Unzipping tokenizers/punkt.zip.\n",
            "[nltk_data] Downloading package stopwords to /root/nltk_data...\n",
            "[nltk_data]   Package stopwords is already up-to-date!\n"
          ]
        }
      ]
    },
    {
      "cell_type": "code",
      "source": [
        "data=\"In the town of Athy one Jeremy Lanigan \\n Battered away til he hadnt a pound. \\nHis father died and made him a man again \\n Left him a farm and ten acres of ground. \\nHe gave a grand party for friends and relations \\nWho didnt forget him when come to the wall, \\nAnd if youll but listen Ill make your eyes glisten \\nOf the rows and the ructions of Lanigans Ball. \\nMyself to be sure got free invitation, \\nFor all the nice girls and boys I might ask, \\nAnd just in a minute both friends and relations \\nWere dancing round merry as bees round a cask. \\nJudy ODaly, that nice little milliner, \\nShe tipped me a wink for to give her a call, \\nAnd I soon arrived with Peggy McGilligan \\nJust in time for Lanigans Ball. \\nThere were lashings of punch and wine for the ladies, \\nPotatoes and cakes; there was bacon and tea, \\nThere were the Nolans, Dolans, OGradys \\nCourting the girls and dancing away. \\nSongs they went round as plenty as water, \\nThe harp that once sounded in Taras old hall,\\nSweet Nelly Gray and The Rat Catchers Daughter,\\nAll singing together at Lanigans Ball. \\nThey were doing all kinds of nonsensical polkas \\nAll round the room in a whirligig. \\nJulia and I, we banished their nonsense \\nAnd tipped them the twist of a reel and a jig. \\nAch mavrone, how the girls got all mad at me \\nDanced til youd think the ceiling would fall. \\nFor I spent three weeks at Brooks Academy \\nLearning new steps for Lanigans Ball. \\nThree long weeks I spent up in Dublin, \\nThree long weeks to learn nothing at all,\\n Three long weeks I spent up in Dublin, \\nLearning new steps for Lanigans Ball. \\nShe stepped out and I stepped in again, \\nI stepped out and she stepped in again, \\nShe stepped out and I stepped in again, \\nLearning new steps for Lanigans Ball. \\nBoys were all merry and the girls they were hearty \\nAnd danced all around in couples and groups, \\nTil an accident happened, young Terrance McCarthy \\nPut his right leg through miss Finnertys hoops. \\nPoor creature fainted and cried Meelia murther, \\nCalled for her brothers and gathered them all. \\nCarmody swore that hed go no further \\nTil he had satisfaction at Lanigans Ball. \\nIn the midst of the row miss Kerrigan fainted, \\nHer cheeks at the same time as red as a rose. \\nSome of the lads declared she was painted, \\nShe took a small drop too much, I suppose. \\nHer sweetheart, Ned Morgan, so powerful and able, \\nWhen he saw his fair colleen stretched out by the wall, \\nTore the left leg from under the table \\nAnd smashed all the Chaneys at Lanigans Ball. \\nBoys, oh boys, twas then there were runctions. \\nMyself got a lick from big Phelim McHugh. \\nI soon replied to his introduction \\nAnd kicked up a terrible hullabaloo. \\nOld Casey, the piper, was near being strangled. \\nThey squeezed up his pipes, bellows, chanters and all. \\nThe girls, in their ribbons, they got all entangled \\nAnd that put an end to Lanigans Ball.\"\n",
        "lists = []\n",
        "text_tokens = word_tokenize(data)\n",
        "tokens_without_sw = [word for word in text_tokens if not word in all_stopwords]\n",
        "def remove_stopwords(text):\n",
        "  return [word for word in text_tokens if not word in all_stopwords]\n",
        "\n",
        "remove_stopwords(text_tokens)"
      ],
      "metadata": {
        "id": "h8HamMQPVQKj"
      },
      "execution_count": null,
      "outputs": []
    },
    {
      "cell_type": "code",
      "source": [
        "tokens_without_sw"
      ],
      "metadata": {
        "id": "pgPC3aiHVWAZ"
      },
      "execution_count": null,
      "outputs": []
    },
    {
      "cell_type": "code",
      "source": [
        "# from _typeshed import Self\n",
        "import requests, re\n",
        "from bs4 import BeautifulSoup\n",
        "from collections import Counter\n",
        "import statistics as stats\n",
        "import string\n",
        "import pandas as pd\n",
        "# %matplotlib inline\n",
        "import numpy as np\n",
        "import pandas as pd\n",
        "import json \n",
        "import spacy\n",
        "import spacy\n",
        "from nltk.corpus import stopwords\n",
        "import nltk\n",
        "nltk.download('punkt')\n",
        "nltk.download('stopwords')\n",
        "nltk.download('wordnet')\n",
        "from nltk.tokenize import word_tokenize"
      ],
      "metadata": {
        "colab": {
          "base_uri": "https://localhost:8080/"
        },
        "id": "tTmbXWeeZYp0",
        "outputId": "693594bc-44ca-4387-f5c1-6aa81aa55a9c"
      },
      "execution_count": null,
      "outputs": [
        {
          "output_type": "stream",
          "name": "stdout",
          "text": [
            "[nltk_data] Downloading package punkt to /root/nltk_data...\n",
            "[nltk_data]   Package punkt is already up-to-date!\n",
            "[nltk_data] Downloading package stopwords to /root/nltk_data...\n",
            "[nltk_data]   Package stopwords is already up-to-date!\n",
            "[nltk_data] Downloading package wordnet to /root/nltk_data...\n",
            "[nltk_data]   Package wordnet is already up-to-date!\n"
          ]
        }
      ]
    },
    {
      "cell_type": "code",
      "source": [
        "\n",
        "\n",
        "pd.set_option('display.max_columns', 10)\n",
        "pd.set_option('display.max_rows', 10)\n",
        "\n",
        "# remove punc +\n",
        "# remove stopwords +\n",
        "# tokenize +\n",
        "# lemmatizing - \n",
        "# stemmer - \n",
        "\n",
        "# \n",
        "# \n",
        "# \n",
        "# \n",
        "\n",
        "\n",
        "# create your class here\n",
        "class ATextM:\n",
        "   \n",
        "\n",
        "    def __init__(self, src, src_type=None):\n",
        "       \n",
        "        self._src = src\n",
        "        self._src_type = src_type\n",
        "        self._orig_content = None\n",
        "        self._content = None\n",
        "        if self._src_type is None:\n",
        "            print(\n",
        "                'Source type not specified. Use discover() method to determine src_type.'\n",
        "            )\n",
        "\n",
        "            self._src_type = self.discover()\n",
        "            self.fetch_by_src_type(self._src_type)\n",
        "        self.fetch_by_src_type(self._src_type)\n",
        "\n",
        "    \n",
        "    def discover(self):\n",
        "        \n",
        "        if self._src.startswith('http'):\n",
        "            _src_type = 'url'\n",
        "        elif self._src.endswith('txt'):\n",
        "            _src_type = 'path'\n",
        "        elif self._src.endswith('json'):\n",
        "             _src_type = 'json'\n",
        "        else:\n",
        "            _src_type = 'text'\n",
        "        print(f'src_type from discover() method is {_src_type}.')\n",
        "        return _src_type\n",
        "        # self.fetch_by_src_type(self._src_type)\n",
        "        \n",
        "\n",
        "    def fetch_by_src_type(self, src_type):  # Do I really need to pass src_type into fetch?\n",
        "       \n",
        "        self._src_type = src_type\n",
        "        # select correct read method for source type\n",
        "        if self._src_type == 'url':\n",
        "            headers = {'user-agent': 'my-app/0.0.1'}\n",
        "            req = requests.get(self._src, headers=headers)\n",
        "            self._orig_content = req.text\n",
        "            self._content = self._orig_content\n",
        "        elif self._src_type == 'path':\n",
        "            with open(self._src, 'r') as f:\n",
        "                self._content = f.read()\n",
        "\n",
        "        elif self._src_type == 'json':\n",
        "            with open(self._src, 'r') as f:\n",
        "                \n",
        "                self._content =  json.load(f)\n",
        "                \n",
        "                # Iterating through the json\n",
        "                # list\n",
        "                for i in self._content:\n",
        "                    print(i)\n",
        "                \n",
        "                # Closing file\n",
        "                f.close()\n",
        "                \n",
        "        elif self._src_type == 'text':\n",
        "            self._content = self._src\n",
        "        else:\n",
        "            print('Supported source types: URL, text files and text strings.')\n",
        "        \n",
        "        \n",
        "    @property\n",
        "    def orig_content(self):\n",
        "        \"\"\"Property to directly access results from fetch_by_src_type\n",
        "        method.\"\"\"\n",
        "        return self._orig_content\n",
        "\n",
        "    \n",
        "    def set_content_to_tag(self, tag='div', tag_id='content-main'):\n",
        "        \"\"\"Method uses beautiful soup library to parse HTML for a given\n",
        "        tag and id after call to fetch_by_src_type(src_type='url). \n",
        "        Throws ValueError exception if tag not found. \n",
        "        Method is only used if src_type is URL.\n",
        "\n",
        "        Keyword arguments:\n",
        "        tag('str') -- HTML tag name\n",
        "        tag_id('str') -- HTML tag id\n",
        "        \n",
        "        Grader: return a value but it is never used.\"\"\"\n",
        "        self._tag = tag\n",
        "        self._tag_id = tag_id\n",
        "        if self._tag != tag or self._tag_id != tag_id:\n",
        "            print('Calling reset_content()')\n",
        "            self.reset_content()\n",
        "        else:\n",
        "            try:\n",
        "                # create beautiful soup object for tag and id\n",
        "                soup = BeautifulSoup(self._content, 'html.parser')\n",
        "                # get text and assign to _content attribute\n",
        "                _content = soup.find(tag, {'id': tag_id}).get_text()\n",
        "                self._content = _content\n",
        "                # print(self._content)\n",
        "            except ValueError:\n",
        "                # raise exception of tag or tag_id is not found\n",
        "                if tag is None or tag_id is None:\n",
        "                    print(f\"Tag {tag} or Tag_id {tag_id} is not found.\")\n",
        "\n",
        "    \n",
        "    def reset_content(self):\n",
        "        \"\"\"Reset _content attribute to _orig_content fetched by requests\n",
        "        module. Useful after call to set_content_to_tag method, e.g. if\n",
        "        you want to use a different tag or id to analyze the same URL.\n",
        "        \n",
        "        Use when you want to create a new beautiful soup object based on\n",
        "        a new tag or tag id using set_content_to_tag method. Saves call\n",
        "        to requests module since html content is already in\n",
        "        _orig_content attribute.\n",
        "        \n",
        "        Grader: return a value but it is never used.\"\"\"\n",
        "        if self._src_type == 'url':\n",
        "            self._content = self._orig_content\n",
        "            # confirm reset to _orig_content\n",
        "            print('confirm reset_content: ', self._content[0])\n",
        "            return self._content\n",
        "        else:\n",
        "            print(f'Source type {self._src_type} is not a URL.')\n",
        "  \n",
        "    def _words(self, casesensitive=False):\n",
        "        \"\"\"If casesensitive=False: returns list of words in upper case.\n",
        "        If casesensitive=True: returns list of words from _orig_content.\n",
        "        Returns list of words.\n",
        "        \n",
        "        Keyword arguments: \n",
        "        casesensitive (bool) -- Returns uppercase words if False\n",
        "        (default).\n",
        "        \n",
        "        Grader: I've corrected your words method.\"\"\"\n",
        "        # print('_words(): self._content:\\n', self._content)\n",
        "        return (\n",
        "            [\n",
        "                word.strip(string.punctuation).lower()\n",
        "                for word in self._content.split()\n",
        "            ]\n",
        "            if casesensitive is False\n",
        "            else [word.strip(string.punctuation) for word in self._content.split()]\n",
        "        )\n",
        "    def common_words(self,words, minlen=1, maxlen=100, count=10, casesensitive=False):\n",
        "        \"\"\"Returns list of 2-element tuples in the format: (word: num)\n",
        "        where num is a count of word occurences in the content obtained\n",
        "        from the _words method using Counter().most_common() method\n",
        "        from collections module.\n",
        "        \n",
        "        Keyword arguments:\n",
        "        minlen (int) -- Minimum length for word to be included.\n",
        "        maxlen (int) -- Maximum length for word to be included.\n",
        "        count (int) -- Number of words to include in the results.\n",
        "        casesensitive (bool) -- Returns uppercase words if False\n",
        "        (default).\"\"\"\n",
        "        self.words = words\n",
        "        self.minlen = minlen\n",
        "        print('self.minlen:', self.minlen)\n",
        "        self.maxlen = maxlen\n",
        "        print('self.maxlen:', self.maxlen)\n",
        "        self.count = count\n",
        "        print('self.count:', self.count)\n",
        "        self.casesensitive = casesensitive\n",
        "        print('self.casesensitive:', self.casesensitive)\n",
        "        _word_list = []\n",
        "        if casesensitive is True:\n",
        "            _word_list = [w.lover() for w in self.words if (len(w) >= self.minlen) & (len(w) <= self.maxlen)]\n",
        "            # print('self.words: casesensitive is False\\n', _word_list)\n",
        "        else:\n",
        "            _word_list = [w for w in self.words if (len(w) >= self.minlen) & (len(w) <= self.maxlen)]\n",
        "            # print('_word_list: casesensitive is True\\n', _word_list)\n",
        "        # use Counter from collections module\n",
        "        cnt = Counter(_word_list)\n",
        "        return cnt.most_common(count)\n",
        "class WordPro:\n",
        "    listt = []\n",
        "    lists = []\n",
        "    nlp = spacy.load('en_core_web_sm')\n",
        "    all_stopwords = nlp.Defaults.stop_words\n",
        "    text_tokens = word_tokenize(data)\n",
        "\n",
        "    def __init__(self,text):\n",
        "        self.text = text\n",
        "\n",
        "    def remove_punctuation(self):\n",
        "        return ' '.join(word.strip(string.punctuation) for word in self.text.split())\n",
        "        # return self.text.replace('[^\\w\\s]','')\n",
        "\n",
        "# Create a function to count the non punctuation token of a text\n",
        "\n",
        "    def count_tokens(self):\n",
        "\n",
        "        for i in range(len(self.text)):\n",
        "            k  = self.nlp(str(self.text[i]))\n",
        "            self.listt.append(len(k))\n",
        "        return self.listt\n",
        "\n",
        "    def tokenizer(self):\n",
        "        text_tokens = word_tokenize(self.text)\n",
        "        stemm = nltk.PorterStemmer()\n",
        "        \n",
        "        return [stemm.stem(t) for t in text_tokens]\n",
        "                \n",
        "        # pass\n",
        "        \n",
        "# topics_data['N_o_To'] = count_tokens(topics_data['title'])\n",
        "\n",
        "\n",
        "\n",
        "\n",
        "# test and debug class\n",
        "jjson = 'C:/Users/emreb/Documents/newoneforreco/rsrsrs/classificationt&tranasformsers/dbs/sample2.json'\n",
        "url = 'https://senior.ceng.metu.edu.tr/2014/dcengounchained/SDD_DcengoUnchained_V1.1%20(3).pdf'\n",
        "path = 'pride-and-prejudice.txt'\n",
        "\n",
        "\n",
        "text = '''The outlook wasn't brilliant for the Mudville Nine that day;\n",
        "the score stood four to two, with but one inning more to play.\n",
        "And then when Cooney died at first, and Barrows did the same,\n",
        "a sickly silence fell upon the patrons of the game.'''\n",
        "data=\"In the town of Athy one Jeremy Lanigan \\n Battered away til he hadnt a pound. \\nHis father died and made him a man again \\n Left him a farm and ten acres of ground. \\nHe gave a grand party for friends and relations \\nWho didnt forget him when come to the wall, \\nAnd if youll but listen Ill make your eyes glisten \\nOf the rows and the ructions of Lanigans Ball. \\nMyself to be sure got free invitation, \\nFor all the nice girls and boys I might ask, \\nAnd just in a minute both friends and relations \\nWere dancing round merry as bees round a cask. \\nJudy ODaly, that nice little milliner, \\nShe tipped me a wink for to give her a call, \\nAnd I soon arrived with Peggy McGilligan \\nJust in time for Lanigans Ball. \\nThere were lashings of punch and wine for the ladies, \\nPotatoes and cakes; there was bacon and tea, \\nThere were the Nolans, Dolans, OGradys \\nCourting the girls and dancing away. \\nSongs they went round as plenty as water, \\nThe harp that once sounded in Taras old hall,\\nSweet Nelly Gray and The Rat Catchers Daughter,\\nAll singing together at Lanigans Ball. \\nThey were doing all kinds of nonsensical polkas \\nAll round the room in a whirligig. \\nJulia and I, we banished their nonsense \\nAnd tipped them the twist of a reel and a jig. \\nAch mavrone, how the girls got all mad at me \\nDanced til youd think the ceiling would fall. \\nFor I spent three weeks at Brooks Academy \\nLearning new steps for Lanigans Ball. \\nThree long weeks I spent up in Dublin, \\nThree long weeks to learn nothing at all,\\n Three long weeks I spent up in Dublin, \\nLearning new steps for Lanigans Ball. \\nShe stepped out and I stepped in again, \\nI stepped out and she stepped in again, \\nShe stepped out and I stepped in again, \\nLearning new steps for Lanigans Ball. \\nBoys were all merry and the girls they were hearty \\nAnd danced all around in couples and groups, \\nTil an accident happened, young Terrance McCarthy \\nPut his right leg through miss Finnertys hoops. \\nPoor creature fainted and cried Meelia murther, \\nCalled for her brothers and gathered them all. \\nCarmody swore that hed go no further \\nTil he had satisfaction at Lanigans Ball. \\nIn the midst of the row miss Kerrigan fainted, \\nHer cheeks at the same time as red as a rose. \\nSome of the lads declared she was painted, \\nShe took a small drop too much, I suppose. \\nHer sweetheart, Ned Morgan, so powerful and able, \\nWhen he saw his fair colleen stretched out by the wall, \\nTore the left leg from under the table \\nAnd smashed all the Chaneys at Lanigans Ball. \\nBoys, oh boys, twas then there were runctions. \\nMyself got a lick from big Phelim McHugh. \\nI soon replied to his introduction \\nAnd kicked up a terrible hullabaloo. \\nOld Casey, the piper, was near being strangled. \\nThey squeezed up his pipes, bellows, chanters and all. \\nThe girls, in their ribbons, they got all entangled \\nAnd that put an end to Lanigans Ball.\"\n",
        "\n",
        "# t = ATextM(jjson, src_type='json')\n",
        "ta = ATextM(url, src_type='url')\n",
        "taa = ATextM(text, src_type='text')\n",
        "\n",
        "\n",
        "# ww = taa._words()\n",
        "# print(taa.common_words(ww))\n",
        "\n",
        "\n",
        "kl = WordPro(data)\n",
        "kl.tokenizer()"
      ],
      "metadata": {
        "colab": {
          "base_uri": "https://localhost:8080/"
        },
        "id": "jxfP_AveWZor",
        "outputId": "cd150ac6-6e94-4876-a4aa-0f3e50e7d0b8"
      },
      "execution_count": null,
      "outputs": [
        {
          "output_type": "execute_result",
          "data": {
            "text/plain": [
              "['In',\n",
              " 'the',\n",
              " 'town',\n",
              " 'of',\n",
              " 'athi',\n",
              " 'one',\n",
              " 'jeremi',\n",
              " 'lanigan',\n",
              " 'batter',\n",
              " 'away',\n",
              " 'til',\n",
              " 'he',\n",
              " 'hadnt',\n",
              " 'a',\n",
              " 'pound',\n",
              " '.',\n",
              " 'hi',\n",
              " 'father',\n",
              " 'die',\n",
              " 'and',\n",
              " 'made',\n",
              " 'him',\n",
              " 'a',\n",
              " 'man',\n",
              " 'again',\n",
              " 'left',\n",
              " 'him',\n",
              " 'a',\n",
              " 'farm',\n",
              " 'and',\n",
              " 'ten',\n",
              " 'acr',\n",
              " 'of',\n",
              " 'ground',\n",
              " '.',\n",
              " 'He',\n",
              " 'gave',\n",
              " 'a',\n",
              " 'grand',\n",
              " 'parti',\n",
              " 'for',\n",
              " 'friend',\n",
              " 'and',\n",
              " 'relat',\n",
              " 'who',\n",
              " 'didnt',\n",
              " 'forget',\n",
              " 'him',\n",
              " 'when',\n",
              " 'come',\n",
              " 'to',\n",
              " 'the',\n",
              " 'wall',\n",
              " ',',\n",
              " 'and',\n",
              " 'if',\n",
              " 'youll',\n",
              " 'but',\n",
              " 'listen',\n",
              " 'ill',\n",
              " 'make',\n",
              " 'your',\n",
              " 'eye',\n",
              " 'glisten',\n",
              " 'Of',\n",
              " 'the',\n",
              " 'row',\n",
              " 'and',\n",
              " 'the',\n",
              " 'ruction',\n",
              " 'of',\n",
              " 'lanigan',\n",
              " 'ball',\n",
              " '.',\n",
              " 'myself',\n",
              " 'to',\n",
              " 'be',\n",
              " 'sure',\n",
              " 'got',\n",
              " 'free',\n",
              " 'invit',\n",
              " ',',\n",
              " 'for',\n",
              " 'all',\n",
              " 'the',\n",
              " 'nice',\n",
              " 'girl',\n",
              " 'and',\n",
              " 'boy',\n",
              " 'I',\n",
              " 'might',\n",
              " 'ask',\n",
              " ',',\n",
              " 'and',\n",
              " 'just',\n",
              " 'in',\n",
              " 'a',\n",
              " 'minut',\n",
              " 'both',\n",
              " 'friend',\n",
              " 'and',\n",
              " 'relat',\n",
              " 'were',\n",
              " 'danc',\n",
              " 'round',\n",
              " 'merri',\n",
              " 'as',\n",
              " 'bee',\n",
              " 'round',\n",
              " 'a',\n",
              " 'cask',\n",
              " '.',\n",
              " 'judi',\n",
              " 'odali',\n",
              " ',',\n",
              " 'that',\n",
              " 'nice',\n",
              " 'littl',\n",
              " 'millin',\n",
              " ',',\n",
              " 'she',\n",
              " 'tip',\n",
              " 'me',\n",
              " 'a',\n",
              " 'wink',\n",
              " 'for',\n",
              " 'to',\n",
              " 'give',\n",
              " 'her',\n",
              " 'a',\n",
              " 'call',\n",
              " ',',\n",
              " 'and',\n",
              " 'I',\n",
              " 'soon',\n",
              " 'arriv',\n",
              " 'with',\n",
              " 'peggi',\n",
              " 'mcgilligan',\n",
              " 'just',\n",
              " 'in',\n",
              " 'time',\n",
              " 'for',\n",
              " 'lanigan',\n",
              " 'ball',\n",
              " '.',\n",
              " 'there',\n",
              " 'were',\n",
              " 'lash',\n",
              " 'of',\n",
              " 'punch',\n",
              " 'and',\n",
              " 'wine',\n",
              " 'for',\n",
              " 'the',\n",
              " 'ladi',\n",
              " ',',\n",
              " 'potato',\n",
              " 'and',\n",
              " 'cake',\n",
              " ';',\n",
              " 'there',\n",
              " 'wa',\n",
              " 'bacon',\n",
              " 'and',\n",
              " 'tea',\n",
              " ',',\n",
              " 'there',\n",
              " 'were',\n",
              " 'the',\n",
              " 'nolan',\n",
              " ',',\n",
              " 'dolan',\n",
              " ',',\n",
              " 'ogradi',\n",
              " 'court',\n",
              " 'the',\n",
              " 'girl',\n",
              " 'and',\n",
              " 'danc',\n",
              " 'away',\n",
              " '.',\n",
              " 'song',\n",
              " 'they',\n",
              " 'went',\n",
              " 'round',\n",
              " 'as',\n",
              " 'plenti',\n",
              " 'as',\n",
              " 'water',\n",
              " ',',\n",
              " 'the',\n",
              " 'harp',\n",
              " 'that',\n",
              " 'onc',\n",
              " 'sound',\n",
              " 'in',\n",
              " 'tara',\n",
              " 'old',\n",
              " 'hall',\n",
              " ',',\n",
              " 'sweet',\n",
              " 'nelli',\n",
              " 'gray',\n",
              " 'and',\n",
              " 'the',\n",
              " 'rat',\n",
              " 'catcher',\n",
              " 'daughter',\n",
              " ',',\n",
              " 'all',\n",
              " 'sing',\n",
              " 'togeth',\n",
              " 'at',\n",
              " 'lanigan',\n",
              " 'ball',\n",
              " '.',\n",
              " 'they',\n",
              " 'were',\n",
              " 'do',\n",
              " 'all',\n",
              " 'kind',\n",
              " 'of',\n",
              " 'nonsens',\n",
              " 'polka',\n",
              " 'all',\n",
              " 'round',\n",
              " 'the',\n",
              " 'room',\n",
              " 'in',\n",
              " 'a',\n",
              " 'whirligig',\n",
              " '.',\n",
              " 'julia',\n",
              " 'and',\n",
              " 'I',\n",
              " ',',\n",
              " 'we',\n",
              " 'banish',\n",
              " 'their',\n",
              " 'nonsens',\n",
              " 'and',\n",
              " 'tip',\n",
              " 'them',\n",
              " 'the',\n",
              " 'twist',\n",
              " 'of',\n",
              " 'a',\n",
              " 'reel',\n",
              " 'and',\n",
              " 'a',\n",
              " 'jig',\n",
              " '.',\n",
              " 'ach',\n",
              " 'mavron',\n",
              " ',',\n",
              " 'how',\n",
              " 'the',\n",
              " 'girl',\n",
              " 'got',\n",
              " 'all',\n",
              " 'mad',\n",
              " 'at',\n",
              " 'me',\n",
              " 'danc',\n",
              " 'til',\n",
              " 'youd',\n",
              " 'think',\n",
              " 'the',\n",
              " 'ceil',\n",
              " 'would',\n",
              " 'fall',\n",
              " '.',\n",
              " 'for',\n",
              " 'I',\n",
              " 'spent',\n",
              " 'three',\n",
              " 'week',\n",
              " 'at',\n",
              " 'brook',\n",
              " 'academi',\n",
              " 'learn',\n",
              " 'new',\n",
              " 'step',\n",
              " 'for',\n",
              " 'lanigan',\n",
              " 'ball',\n",
              " '.',\n",
              " 'three',\n",
              " 'long',\n",
              " 'week',\n",
              " 'I',\n",
              " 'spent',\n",
              " 'up',\n",
              " 'in',\n",
              " 'dublin',\n",
              " ',',\n",
              " 'three',\n",
              " 'long',\n",
              " 'week',\n",
              " 'to',\n",
              " 'learn',\n",
              " 'noth',\n",
              " 'at',\n",
              " 'all',\n",
              " ',',\n",
              " 'three',\n",
              " 'long',\n",
              " 'week',\n",
              " 'I',\n",
              " 'spent',\n",
              " 'up',\n",
              " 'in',\n",
              " 'dublin',\n",
              " ',',\n",
              " 'learn',\n",
              " 'new',\n",
              " 'step',\n",
              " 'for',\n",
              " 'lanigan',\n",
              " 'ball',\n",
              " '.',\n",
              " 'she',\n",
              " 'step',\n",
              " 'out',\n",
              " 'and',\n",
              " 'I',\n",
              " 'step',\n",
              " 'in',\n",
              " 'again',\n",
              " ',',\n",
              " 'I',\n",
              " 'step',\n",
              " 'out',\n",
              " 'and',\n",
              " 'she',\n",
              " 'step',\n",
              " 'in',\n",
              " 'again',\n",
              " ',',\n",
              " 'she',\n",
              " 'step',\n",
              " 'out',\n",
              " 'and',\n",
              " 'I',\n",
              " 'step',\n",
              " 'in',\n",
              " 'again',\n",
              " ',',\n",
              " 'learn',\n",
              " 'new',\n",
              " 'step',\n",
              " 'for',\n",
              " 'lanigan',\n",
              " 'ball',\n",
              " '.',\n",
              " 'boy',\n",
              " 'were',\n",
              " 'all',\n",
              " 'merri',\n",
              " 'and',\n",
              " 'the',\n",
              " 'girl',\n",
              " 'they',\n",
              " 'were',\n",
              " 'hearti',\n",
              " 'and',\n",
              " 'danc',\n",
              " 'all',\n",
              " 'around',\n",
              " 'in',\n",
              " 'coupl',\n",
              " 'and',\n",
              " 'group',\n",
              " ',',\n",
              " 'til',\n",
              " 'an',\n",
              " 'accid',\n",
              " 'happen',\n",
              " ',',\n",
              " 'young',\n",
              " 'terranc',\n",
              " 'mccarthi',\n",
              " 'put',\n",
              " 'hi',\n",
              " 'right',\n",
              " 'leg',\n",
              " 'through',\n",
              " 'miss',\n",
              " 'finnerti',\n",
              " 'hoop',\n",
              " '.',\n",
              " 'poor',\n",
              " 'creatur',\n",
              " 'faint',\n",
              " 'and',\n",
              " 'cri',\n",
              " 'meelia',\n",
              " 'murther',\n",
              " ',',\n",
              " 'call',\n",
              " 'for',\n",
              " 'her',\n",
              " 'brother',\n",
              " 'and',\n",
              " 'gather',\n",
              " 'them',\n",
              " 'all',\n",
              " '.',\n",
              " 'carmodi',\n",
              " 'swore',\n",
              " 'that',\n",
              " 'hed',\n",
              " 'go',\n",
              " 'no',\n",
              " 'further',\n",
              " 'til',\n",
              " 'he',\n",
              " 'had',\n",
              " 'satisfact',\n",
              " 'at',\n",
              " 'lanigan',\n",
              " 'ball',\n",
              " '.',\n",
              " 'In',\n",
              " 'the',\n",
              " 'midst',\n",
              " 'of',\n",
              " 'the',\n",
              " 'row',\n",
              " 'miss',\n",
              " 'kerrigan',\n",
              " 'faint',\n",
              " ',',\n",
              " 'her',\n",
              " 'cheek',\n",
              " 'at',\n",
              " 'the',\n",
              " 'same',\n",
              " 'time',\n",
              " 'as',\n",
              " 'red',\n",
              " 'as',\n",
              " 'a',\n",
              " 'rose',\n",
              " '.',\n",
              " 'some',\n",
              " 'of',\n",
              " 'the',\n",
              " 'lad',\n",
              " 'declar',\n",
              " 'she',\n",
              " 'wa',\n",
              " 'paint',\n",
              " ',',\n",
              " 'she',\n",
              " 'took',\n",
              " 'a',\n",
              " 'small',\n",
              " 'drop',\n",
              " 'too',\n",
              " 'much',\n",
              " ',',\n",
              " 'I',\n",
              " 'suppos',\n",
              " '.',\n",
              " 'her',\n",
              " 'sweetheart',\n",
              " ',',\n",
              " 'ned',\n",
              " 'morgan',\n",
              " ',',\n",
              " 'so',\n",
              " 'power',\n",
              " 'and',\n",
              " 'abl',\n",
              " ',',\n",
              " 'when',\n",
              " 'he',\n",
              " 'saw',\n",
              " 'hi',\n",
              " 'fair',\n",
              " 'colleen',\n",
              " 'stretch',\n",
              " 'out',\n",
              " 'by',\n",
              " 'the',\n",
              " 'wall',\n",
              " ',',\n",
              " 'tore',\n",
              " 'the',\n",
              " 'left',\n",
              " 'leg',\n",
              " 'from',\n",
              " 'under',\n",
              " 'the',\n",
              " 'tabl',\n",
              " 'and',\n",
              " 'smash',\n",
              " 'all',\n",
              " 'the',\n",
              " 'chaney',\n",
              " 'at',\n",
              " 'lanigan',\n",
              " 'ball',\n",
              " '.',\n",
              " 'boy',\n",
              " ',',\n",
              " 'oh',\n",
              " 'boy',\n",
              " ',',\n",
              " 'twa',\n",
              " 'then',\n",
              " 'there',\n",
              " 'were',\n",
              " 'runction',\n",
              " '.',\n",
              " 'myself',\n",
              " 'got',\n",
              " 'a',\n",
              " 'lick',\n",
              " 'from',\n",
              " 'big',\n",
              " 'phelim',\n",
              " 'mchugh',\n",
              " '.',\n",
              " 'I',\n",
              " 'soon',\n",
              " 'repli',\n",
              " 'to',\n",
              " 'hi',\n",
              " 'introduct',\n",
              " 'and',\n",
              " 'kick',\n",
              " 'up',\n",
              " 'a',\n",
              " 'terribl',\n",
              " 'hullabaloo',\n",
              " '.',\n",
              " 'old',\n",
              " 'casey',\n",
              " ',',\n",
              " 'the',\n",
              " 'piper',\n",
              " ',',\n",
              " 'wa',\n",
              " 'near',\n",
              " 'be',\n",
              " 'strangl',\n",
              " '.',\n",
              " 'they',\n",
              " 'squeez',\n",
              " 'up',\n",
              " 'hi',\n",
              " 'pipe',\n",
              " ',',\n",
              " 'bellow',\n",
              " ',',\n",
              " 'chanter',\n",
              " 'and',\n",
              " 'all',\n",
              " '.',\n",
              " 'the',\n",
              " 'girl',\n",
              " ',',\n",
              " 'in',\n",
              " 'their',\n",
              " 'ribbon',\n",
              " ',',\n",
              " 'they',\n",
              " 'got',\n",
              " 'all',\n",
              " 'entangl',\n",
              " 'and',\n",
              " 'that',\n",
              " 'put',\n",
              " 'an',\n",
              " 'end',\n",
              " 'to',\n",
              " 'lanigan',\n",
              " 'ball',\n",
              " '.']"
            ]
          },
          "metadata": {},
          "execution_count": 27
        }
      ]
    },
    {
      "cell_type": "code",
      "source": [
        "kl.remove_punctuation()"
      ],
      "metadata": {
        "colab": {
          "base_uri": "https://localhost:8080/",
          "height": 226
        },
        "id": "2JmGe_CUYr6j",
        "outputId": "e0c6d389-c9a5-4ddb-a76b-b39aada4624a"
      },
      "execution_count": null,
      "outputs": [
        {
          "output_type": "execute_result",
          "data": {
            "application/vnd.google.colaboratory.intrinsic+json": {
              "type": "string"
            },
            "text/plain": [
              "'In the town of Athy one Jeremy Lanigan Battered away til he hadnt a pound His father died and made him a man again Left him a farm and ten acres of ground He gave a grand party for friends and relations Who didnt forget him when come to the wall And if youll but listen Ill make your eyes glisten Of the rows and the ructions of Lanigans Ball Myself to be sure got free invitation For all the nice girls and boys I might ask And just in a minute both friends and relations Were dancing round merry as bees round a cask Judy ODaly that nice little milliner She tipped me a wink for to give her a call And I soon arrived with Peggy McGilligan Just in time for Lanigans Ball There were lashings of punch and wine for the ladies Potatoes and cakes there was bacon and tea There were the Nolans Dolans OGradys Courting the girls and dancing away Songs they went round as plenty as water The harp that once sounded in Taras old hall Sweet Nelly Gray and The Rat Catchers Daughter All singing together at Lanigans Ball They were doing all kinds of nonsensical polkas All round the room in a whirligig Julia and I we banished their nonsense And tipped them the twist of a reel and a jig Ach mavrone how the girls got all mad at me Danced til youd think the ceiling would fall For I spent three weeks at Brooks Academy Learning new steps for Lanigans Ball Three long weeks I spent up in Dublin Three long weeks to learn nothing at all Three long weeks I spent up in Dublin Learning new steps for Lanigans Ball She stepped out and I stepped in again I stepped out and she stepped in again She stepped out and I stepped in again Learning new steps for Lanigans Ball Boys were all merry and the girls they were hearty And danced all around in couples and groups Til an accident happened young Terrance McCarthy Put his right leg through miss Finnertys hoops Poor creature fainted and cried Meelia murther Called for her brothers and gathered them all Carmody swore that hed go no further Til he had satisfaction at Lanigans Ball In the midst of the row miss Kerrigan fainted Her cheeks at the same time as red as a rose Some of the lads declared she was painted She took a small drop too much I suppose Her sweetheart Ned Morgan so powerful and able When he saw his fair colleen stretched out by the wall Tore the left leg from under the table And smashed all the Chaneys at Lanigans Ball Boys oh boys twas then there were runctions Myself got a lick from big Phelim McHugh I soon replied to his introduction And kicked up a terrible hullabaloo Old Casey the piper was near being strangled They squeezed up his pipes bellows chanters and all The girls in their ribbons they got all entangled And that put an end to Lanigans Ball'"
            ]
          },
          "metadata": {},
          "execution_count": 18
        }
      ]
    },
    {
      "cell_type": "code",
      "source": [
        ""
      ],
      "metadata": {
        "id": "I_Y0rJ1paDvu"
      },
      "execution_count": null,
      "outputs": []
    }
  ]
}