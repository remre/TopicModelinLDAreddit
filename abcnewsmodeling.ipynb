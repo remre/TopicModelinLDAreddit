{
 "cells": [
  {
   "cell_type": "code",
   "execution_count": 1,
   "metadata": {},
   "outputs": [
    {
     "name": "stderr",
     "output_type": "stream",
     "text": [
      "[nltk_data] Downloading package wordnet to\n",
      "[nltk_data]     C:\\Users\\emreb\\AppData\\Roaming\\nltk_data...\n",
      "[nltk_data]   Package wordnet is already up-to-date!\n"
     ]
    },
    {
     "data": {
      "text/plain": [
       "True"
      ]
     },
     "execution_count": 1,
     "metadata": {},
     "output_type": "execute_result"
    }
   ],
   "source": [
    "import gensim\n",
    "from gensim.utils import simple_preprocess\n",
    "from gensim.parsing.preprocessing import STOPWORDS\n",
    "from nltk.stem import WordNetLemmatizer, SnowballStemmer\n",
    "from nltk.stem.porter import *\n",
    "import numpy as np\n",
    "np.random.seed(2018)\n",
    "import pandas as pd \n",
    "import nltk\n",
    "nltk.download('wordnet')"
   ]
  },
  {
   "cell_type": "code",
   "execution_count": 2,
   "metadata": {},
   "outputs": [],
   "source": [
    "stemmer = SnowballStemmer(\"english\")"
   ]
  },
  {
   "cell_type": "code",
   "execution_count": 3,
   "metadata": {},
   "outputs": [],
   "source": [
    "\n",
    "data = pd.read_csv('C:/Users/emreb/Documents/projects/newonelast/redditdata//abcnews-date-text.csv', on_bad_lines=\"skip\")\n",
    "data_text = data[['headline_text']]\n",
    "data_text['index'] = data_text.index\n",
    "documents = data_text"
   ]
  },
  {
   "cell_type": "code",
   "execution_count": 4,
   "metadata": {},
   "outputs": [],
   "source": [
    "def lemmatize_stemming(text):\n",
    "    return stemmer.stem(WordNetLemmatizer().lemmatize(text, pos='v'))\n",
    "\n",
    "# Tokenize and lemmatize\n",
    "def preprocess(text):\n",
    "    result=[]\n",
    "    for token in gensim.utils.simple_preprocess(text) :\n",
    "        if token not in gensim.parsing.preprocessing.STOPWORDS and len(token) > 3:\n",
    "            result.append(lemmatize_stemming(token))\n",
    "            \n",
    "    return result"
   ]
  },
  {
   "cell_type": "code",
   "execution_count": 5,
   "metadata": {},
   "outputs": [
    {
     "data": {
      "text/plain": [
       "1244184"
      ]
     },
     "execution_count": 5,
     "metadata": {},
     "output_type": "execute_result"
    }
   ],
   "source": [
    "len(data)"
   ]
  },
  {
   "cell_type": "code",
   "execution_count": 6,
   "metadata": {},
   "outputs": [
    {
     "name": "stdout",
     "output_type": "stream",
     "text": [
      "original document: \n",
      "['actor', 'launches', 'coffs', 'green', 'plan']\n",
      "\n",
      "\n",
      " tokenized and lemmatized document: \n",
      "['actor', 'launch', 'coff', 'green', 'plan']\n"
     ]
    }
   ],
   "source": [
    "doc_sample = documents[documents['index'] == 40310].values[0][0]\n",
    "print('original document: ')\n",
    "words = []\n",
    "for word in doc_sample.split(' '):\n",
    "    words.append(word)\n",
    "print(words)\n",
    "print('\\n\\n tokenized and lemmatized document: ')\n",
    "print(preprocess(doc_sample))"
   ]
  },
  {
   "cell_type": "code",
   "execution_count": 7,
   "metadata": {},
   "outputs": [
    {
     "data": {
      "text/plain": [
       "0            [decid, communiti, broadcast, licenc]\n",
       "1                               [wit, awar, defam]\n",
       "2           [call, infrastructur, protect, summit]\n",
       "3                      [staff, aust, strike, rise]\n",
       "4             [strike, affect, australian, travel]\n",
       "5               [ambiti, olsson, win, tripl, jump]\n",
       "6           [antic, delight, record, break, barca]\n",
       "7    [aussi, qualifi, stosur, wast, memphi, match]\n",
       "8            [aust, address, secur, council, iraq]\n",
       "9                         [australia, lock, timet]\n",
       "Name: headline_text, dtype: object"
      ]
     },
     "execution_count": 7,
     "metadata": {},
     "output_type": "execute_result"
    }
   ],
   "source": [
    "processed_docs = documents['headline_text'].map(preprocess)\n",
    "processed_docs[:10]"
   ]
  },
  {
   "cell_type": "code",
   "execution_count": 8,
   "metadata": {},
   "outputs": [
    {
     "name": "stdout",
     "output_type": "stream",
     "text": [
      "0 broadcast\n",
      "1 communiti\n",
      "2 decid\n",
      "3 licenc\n",
      "4 awar\n",
      "5 defam\n",
      "6 wit\n",
      "7 call\n",
      "8 infrastructur\n",
      "9 protect\n",
      "10 summit\n"
     ]
    }
   ],
   "source": [
    "dictionary = gensim.corpora.Dictionary(processed_docs)\n",
    "count = 0\n",
    "for k, v in dictionary.iteritems():\n",
    "    print(k, v)\n",
    "    count += 1\n",
    "    if count > 10:\n",
    "        break"
   ]
  },
  {
   "cell_type": "code",
   "execution_count": 9,
   "metadata": {},
   "outputs": [],
   "source": [
    "dictionary.filter_extremes(no_below=5, no_above=0.1, keep_n= 100000)"
   ]
  },
  {
   "cell_type": "code",
   "execution_count": 10,
   "metadata": {},
   "outputs": [
    {
     "data": {
      "text/plain": [
       "[(166, 1), (244, 1), (296, 1), (597, 1), (856, 1), (3738, 1), (3739, 1)]"
      ]
     },
     "execution_count": 10,
     "metadata": {},
     "output_type": "execute_result"
    }
   ],
   "source": [
    "bow_corpus = [dictionary.doc2bow(doc) for doc in processed_docs]\n",
    "bow_corpus[5200]"
   ]
  },
  {
   "cell_type": "code",
   "execution_count": 11,
   "metadata": {},
   "outputs": [
    {
     "name": "stdout",
     "output_type": "stream",
     "text": [
      "Word 166 (\"govt\") appears 1 time.\n",
      "Word 244 (\"group\") appears 1 time.\n",
      "Word 296 (\"vote\") appears 1 time.\n",
      "Word 597 (\"local\") appears 1 time.\n",
      "Word 856 (\"want\") appears 1 time.\n",
      "Word 3738 (\"compulsori\") appears 1 time.\n",
      "Word 3739 (\"ratepay\") appears 1 time.\n"
     ]
    }
   ],
   "source": [
    "bow_doc_5200 = bow_corpus[5200]\n",
    "for i in range(len(bow_doc_5200)):\n",
    "    print(\"Word {} (\\\"{}\\\") appears {} time.\".format(bow_doc_5200[i][0], \n",
    "                                               dictionary[bow_doc_5200[i][0]], \n",
    "bow_doc_5200[i][1]))"
   ]
  },
  {
   "cell_type": "code",
   "execution_count": 12,
   "metadata": {},
   "outputs": [
    {
     "name": "stdout",
     "output_type": "stream",
     "text": [
      "[(0, 0.5844216176085719),\n",
      " (1, 0.38716866963787633),\n",
      " (2, 0.5013820927104505),\n",
      " (3, 0.5071171375845095)]\n"
     ]
    }
   ],
   "source": [
    "from gensim import corpora, models\n",
    "tfidf = models.TfidfModel(bow_corpus)\n",
    "corpus_tfidf = tfidf[bow_corpus]\n",
    "from pprint import pprint\n",
    "for doc in corpus_tfidf:\n",
    "    pprint(doc)\n",
    "    break"
   ]
  },
  {
   "cell_type": "code",
   "execution_count": 13,
   "metadata": {},
   "outputs": [],
   "source": [
    "lda_model = gensim.models.LdaMulticore(bow_corpus, num_topics=10, id2word=dictionary,  workers=2,passes=2)"
   ]
  },
  {
   "cell_type": "code",
   "execution_count": 14,
   "metadata": {},
   "outputs": [
    {
     "name": "stdout",
     "output_type": "stream",
     "text": [
      "Topic: 0 \n",
      "Words: 0.019*\"australian\" + 0.018*\"perth\" + 0.017*\"miss\" + 0.017*\"arrest\" + 0.013*\"tasmanian\" + 0.013*\"quarantin\" + 0.013*\"interview\" + 0.012*\"bank\" + 0.011*\"hous\" + 0.011*\"search\"\n",
      "Topic: 1 \n",
      "Words: 0.024*\"news\" + 0.019*\"market\" + 0.018*\"canberra\" + 0.014*\"chang\" + 0.013*\"australian\" + 0.013*\"royal\" + 0.013*\"care\" + 0.011*\"age\" + 0.011*\"fall\" + 0.011*\"climat\"\n",
      "Topic: 2 \n",
      "Words: 0.044*\"queensland\" + 0.024*\"coronavirus\" + 0.021*\"coast\" + 0.020*\"state\" + 0.018*\"tasmania\" + 0.017*\"home\" + 0.015*\"scott\" + 0.013*\"gold\" + 0.012*\"andrew\" + 0.012*\"power\"\n",
      "Topic: 3 \n",
      "Words: 0.041*\"victoria\" + 0.036*\"elect\" + 0.036*\"sydney\" + 0.023*\"crash\" + 0.021*\"die\" + 0.018*\"lockdown\" + 0.016*\"morrison\" + 0.012*\"guilti\" + 0.011*\"biden\" + 0.011*\"road\"\n",
      "Topic: 4 \n",
      "Words: 0.059*\"australia\" + 0.054*\"covid\" + 0.033*\"trump\" + 0.019*\"vaccin\" + 0.018*\"donald\" + 0.018*\"test\" + 0.017*\"world\" + 0.016*\"record\" + 0.016*\"coronavirus\" + 0.014*\"south\"\n",
      "Topic: 5 \n",
      "Words: 0.021*\"health\" + 0.020*\"nation\" + 0.018*\"school\" + 0.015*\"minist\" + 0.015*\"busi\" + 0.014*\"indigen\" + 0.013*\"communiti\" + 0.012*\"fund\" + 0.011*\"hospit\" + 0.011*\"work\"\n",
      "Topic: 6 \n",
      "Words: 0.040*\"polic\" + 0.032*\"case\" + 0.025*\"death\" + 0.021*\"charg\" + 0.021*\"year\" + 0.020*\"court\" + 0.019*\"murder\" + 0.017*\"bushfir\" + 0.016*\"help\" + 0.013*\"famili\"\n",
      "Topic: 7 \n",
      "Words: 0.028*\"face\" + 0.025*\"peopl\" + 0.019*\"protest\" + 0.016*\"street\" + 0.013*\"citi\" + 0.011*\"mental\" + 0.011*\"michael\" + 0.011*\"turn\" + 0.010*\"trial\" + 0.010*\"sport\"\n",
      "Topic: 8 \n",
      "Words: 0.031*\"govern\" + 0.022*\"live\" + 0.018*\"call\" + 0.016*\"restrict\" + 0.014*\"island\" + 0.013*\"water\" + 0.013*\"return\" + 0.012*\"alleg\" + 0.012*\"say\" + 0.011*\"plan\"\n",
      "Topic: 9 \n",
      "Words: 0.023*\"attack\" + 0.023*\"china\" + 0.022*\"warn\" + 0.019*\"north\" + 0.018*\"kill\" + 0.015*\"border\" + 0.014*\"travel\" + 0.013*\"say\" + 0.011*\"leader\" + 0.011*\"dead\"\n"
     ]
    }
   ],
   "source": [
    "for idx, topic in lda_model.print_topics(-1):\n",
    "    print('Topic: {} \\nWords: {}'.format(idx, topic))"
   ]
  },
  {
   "cell_type": "markdown",
   "metadata": {},
   "source": [
    "Running LDA using TF-IDF"
   ]
  },
  {
   "cell_type": "code",
   "execution_count": 15,
   "metadata": {},
   "outputs": [
    {
     "name": "stdout",
     "output_type": "stream",
     "text": [
      "Topic: 0 Word: 0.010*\"lockdown\" + 0.010*\"australia\" + 0.009*\"final\" + 0.009*\"world\" + 0.008*\"scott\" + 0.006*\"open\" + 0.006*\"beat\" + 0.006*\"turnbul\" + 0.006*\"australian\" + 0.006*\"juli\"\n",
      "Topic: 1 Word: 0.020*\"trump\" + 0.011*\"govern\" + 0.010*\"countri\" + 0.007*\"coronavirus\" + 0.007*\"chang\" + 0.007*\"hour\" + 0.007*\"health\" + 0.006*\"fund\" + 0.006*\"climat\" + 0.006*\"say\"\n",
      "Topic: 2 Word: 0.010*\"guilti\" + 0.009*\"jail\" + 0.009*\"sentenc\" + 0.008*\"assault\" + 0.008*\"sexual\" + 0.008*\"pandem\" + 0.007*\"david\" + 0.007*\"quarantin\" + 0.007*\"mother\" + 0.006*\"plead\"\n",
      "Topic: 3 Word: 0.013*\"restrict\" + 0.011*\"royal\" + 0.010*\"coronavirus\" + 0.010*\"andrew\" + 0.009*\"commiss\" + 0.009*\"friday\" + 0.008*\"age\" + 0.008*\"thursday\" + 0.008*\"care\" + 0.008*\"michael\"\n",
      "Topic: 4 Word: 0.015*\"crash\" + 0.011*\"miss\" + 0.010*\"polic\" + 0.010*\"woman\" + 0.009*\"dead\" + 0.009*\"search\" + 0.008*\"death\" + 0.008*\"kill\" + 0.008*\"die\" + 0.007*\"mental\"\n",
      "Topic: 5 Word: 0.010*\"live\" + 0.009*\"coronavirus\" + 0.008*\"price\" + 0.008*\"monday\" + 0.008*\"covid\" + 0.007*\"market\" + 0.007*\"australian\" + 0.007*\"record\" + 0.006*\"cattl\" + 0.006*\"rain\"\n",
      "Topic: 6 Word: 0.010*\"coronavirus\" + 0.009*\"covid\" + 0.009*\"elect\" + 0.008*\"australia\" + 0.008*\"south\" + 0.007*\"updat\" + 0.006*\"wednesday\" + 0.006*\"violenc\" + 0.006*\"north\" + 0.006*\"mark\"\n",
      "Topic: 7 Word: 0.014*\"charg\" + 0.013*\"polic\" + 0.013*\"murder\" + 0.012*\"morrison\" + 0.010*\"alleg\" + 0.009*\"court\" + 0.009*\"interview\" + 0.008*\"arrest\" + 0.008*\"stab\" + 0.008*\"shoot\"\n",
      "Topic: 8 Word: 0.022*\"donald\" + 0.016*\"drum\" + 0.010*\"weather\" + 0.010*\"tuesday\" + 0.009*\"wall\" + 0.008*\"alan\" + 0.008*\"christma\" + 0.007*\"street\" + 0.007*\"celebr\" + 0.007*\"disabl\"\n",
      "Topic: 9 Word: 0.026*\"news\" + 0.015*\"rural\" + 0.010*\"stori\" + 0.009*\"nation\" + 0.009*\"sport\" + 0.008*\"busi\" + 0.007*\"social\" + 0.007*\"speak\" + 0.007*\"insid\" + 0.006*\"august\"\n"
     ]
    }
   ],
   "source": [
    "lda_model_tfidf = gensim.models.LdaMulticore(corpus_tfidf, num_topics=10, id2word=dictionary, passes=2, workers=4)\n",
    "for idx, topic in lda_model_tfidf.print_topics(-1):\n",
    "    print('Topic: {} Word: {}'.format(idx, topic))"
   ]
  },
  {
   "cell_type": "markdown",
   "metadata": {},
   "source": [
    "Performance evaluation by classifying sample"
   ]
  },
  {
   "cell_type": "code",
   "execution_count": 18,
   "metadata": {},
   "outputs": [
    {
     "name": "stdout",
     "output_type": "stream",
     "text": [
      "\n",
      "Score: 0.8874775767326355\t \n",
      "Topic: 0.031*\"govern\" + 0.022*\"live\" + 0.018*\"call\" + 0.016*\"restrict\" + 0.014*\"island\" + 0.013*\"water\" + 0.013*\"return\" + 0.012*\"alleg\" + 0.012*\"say\" + 0.011*\"plan\"\n",
      "\n",
      "Score: 0.012506099417805672\t \n",
      "Topic: 0.021*\"health\" + 0.020*\"nation\" + 0.018*\"school\" + 0.015*\"minist\" + 0.015*\"busi\" + 0.014*\"indigen\" + 0.013*\"communiti\" + 0.012*\"fund\" + 0.011*\"hospit\" + 0.011*\"work\"\n",
      "\n",
      "Score: 0.01250217854976654\t \n",
      "Topic: 0.028*\"face\" + 0.025*\"peopl\" + 0.019*\"protest\" + 0.016*\"street\" + 0.013*\"citi\" + 0.011*\"mental\" + 0.011*\"michael\" + 0.011*\"turn\" + 0.010*\"trial\" + 0.010*\"sport\"\n",
      "\n",
      "Score: 0.012502127327024937\t \n",
      "Topic: 0.040*\"polic\" + 0.032*\"case\" + 0.025*\"death\" + 0.021*\"charg\" + 0.021*\"year\" + 0.020*\"court\" + 0.019*\"murder\" + 0.017*\"bushfir\" + 0.016*\"help\" + 0.013*\"famili\"\n",
      "\n",
      "Score: 0.01250199694186449\t \n",
      "Topic: 0.019*\"australian\" + 0.018*\"perth\" + 0.017*\"miss\" + 0.017*\"arrest\" + 0.013*\"tasmanian\" + 0.013*\"quarantin\" + 0.013*\"interview\" + 0.012*\"bank\" + 0.011*\"hous\" + 0.011*\"search\"\n",
      "\n",
      "Score: 0.01250199694186449\t \n",
      "Topic: 0.024*\"news\" + 0.019*\"market\" + 0.018*\"canberra\" + 0.014*\"chang\" + 0.013*\"australian\" + 0.013*\"royal\" + 0.013*\"care\" + 0.011*\"age\" + 0.011*\"fall\" + 0.011*\"climat\"\n",
      "\n",
      "Score: 0.01250199694186449\t \n",
      "Topic: 0.044*\"queensland\" + 0.024*\"coronavirus\" + 0.021*\"coast\" + 0.020*\"state\" + 0.018*\"tasmania\" + 0.017*\"home\" + 0.015*\"scott\" + 0.013*\"gold\" + 0.012*\"andrew\" + 0.012*\"power\"\n",
      "\n",
      "Score: 0.01250199694186449\t \n",
      "Topic: 0.041*\"victoria\" + 0.036*\"elect\" + 0.036*\"sydney\" + 0.023*\"crash\" + 0.021*\"die\" + 0.018*\"lockdown\" + 0.016*\"morrison\" + 0.012*\"guilti\" + 0.011*\"biden\" + 0.011*\"road\"\n",
      "\n",
      "Score: 0.01250199694186449\t \n",
      "Topic: 0.059*\"australia\" + 0.054*\"covid\" + 0.033*\"trump\" + 0.019*\"vaccin\" + 0.018*\"donald\" + 0.018*\"test\" + 0.017*\"world\" + 0.016*\"record\" + 0.016*\"coronavirus\" + 0.014*\"south\"\n",
      "\n",
      "Score: 0.01250199694186449\t \n",
      "Topic: 0.023*\"attack\" + 0.023*\"china\" + 0.022*\"warn\" + 0.019*\"north\" + 0.018*\"kill\" + 0.015*\"border\" + 0.014*\"travel\" + 0.013*\"say\" + 0.011*\"leader\" + 0.011*\"dead\"\n"
     ]
    }
   ],
   "source": [
    "for index, score in sorted(lda_model[bow_corpus[5200]], key=lambda tup: -1*tup[1]):\n",
    "    print(\"\\nScore: {}\\t \\nTopic: {}\".format(score, lda_model.print_topic(index, 10)))"
   ]
  },
  {
   "cell_type": "markdown",
   "metadata": {},
   "source": [
    "Performance evaluation by classifying sample document using LDA TF-IDF "
   ]
  },
  {
   "cell_type": "code",
   "execution_count": 19,
   "metadata": {},
   "outputs": [
    {
     "name": "stdout",
     "output_type": "stream",
     "text": [
      "\n",
      "Score: 0.5084957480430603\t \n",
      "Topic: 0.020*\"trump\" + 0.011*\"govern\" + 0.010*\"countri\" + 0.007*\"coronavirus\" + 0.007*\"chang\" + 0.007*\"hour\" + 0.007*\"health\" + 0.006*\"fund\" + 0.006*\"climat\" + 0.006*\"say\"\n",
      "\n",
      "Score: 0.2068500518798828\t \n",
      "Topic: 0.026*\"news\" + 0.015*\"rural\" + 0.010*\"stori\" + 0.009*\"nation\" + 0.009*\"sport\" + 0.008*\"busi\" + 0.007*\"social\" + 0.007*\"speak\" + 0.007*\"insid\" + 0.006*\"august\"\n",
      "\n",
      "Score: 0.19710545241832733\t \n",
      "Topic: 0.010*\"live\" + 0.009*\"coronavirus\" + 0.008*\"price\" + 0.008*\"monday\" + 0.008*\"covid\" + 0.007*\"market\" + 0.007*\"australian\" + 0.007*\"record\" + 0.006*\"cattl\" + 0.006*\"rain\"\n",
      "\n",
      "Score: 0.012508881278336048\t \n",
      "Topic: 0.010*\"coronavirus\" + 0.009*\"covid\" + 0.009*\"elect\" + 0.008*\"australia\" + 0.008*\"south\" + 0.007*\"updat\" + 0.006*\"wednesday\" + 0.006*\"violenc\" + 0.006*\"north\" + 0.006*\"mark\"\n",
      "\n",
      "Score: 0.012507136911153793\t \n",
      "Topic: 0.022*\"donald\" + 0.016*\"drum\" + 0.010*\"weather\" + 0.010*\"tuesday\" + 0.009*\"wall\" + 0.008*\"alan\" + 0.008*\"christma\" + 0.007*\"street\" + 0.007*\"celebr\" + 0.007*\"disabl\"\n",
      "\n",
      "Score: 0.012506977654993534\t \n",
      "Topic: 0.013*\"restrict\" + 0.011*\"royal\" + 0.010*\"coronavirus\" + 0.010*\"andrew\" + 0.009*\"commiss\" + 0.009*\"friday\" + 0.008*\"age\" + 0.008*\"thursday\" + 0.008*\"care\" + 0.008*\"michael\"\n",
      "\n",
      "Score: 0.012506700120866299\t \n",
      "Topic: 0.014*\"charg\" + 0.013*\"polic\" + 0.013*\"murder\" + 0.012*\"morrison\" + 0.010*\"alleg\" + 0.009*\"court\" + 0.009*\"interview\" + 0.008*\"arrest\" + 0.008*\"stab\" + 0.008*\"shoot\"\n",
      "\n",
      "Score: 0.012506680563092232\t \n",
      "Topic: 0.010*\"guilti\" + 0.009*\"jail\" + 0.009*\"sentenc\" + 0.008*\"assault\" + 0.008*\"sexual\" + 0.008*\"pandem\" + 0.007*\"david\" + 0.007*\"quarantin\" + 0.007*\"mother\" + 0.006*\"plead\"\n",
      "\n",
      "Score: 0.012506231665611267\t \n",
      "Topic: 0.010*\"lockdown\" + 0.010*\"australia\" + 0.009*\"final\" + 0.009*\"world\" + 0.008*\"scott\" + 0.006*\"open\" + 0.006*\"beat\" + 0.006*\"turnbul\" + 0.006*\"australian\" + 0.006*\"juli\"\n",
      "\n",
      "Score: 0.012506120838224888\t \n",
      "Topic: 0.015*\"crash\" + 0.011*\"miss\" + 0.010*\"polic\" + 0.010*\"woman\" + 0.009*\"dead\" + 0.009*\"search\" + 0.008*\"death\" + 0.008*\"kill\" + 0.008*\"die\" + 0.007*\"mental\"\n"
     ]
    }
   ],
   "source": [
    "for index, score in sorted(lda_model_tfidf[bow_corpus[5200]], key=lambda tup: -1*tup[1]):\n",
    "    print(\"\\nScore: {}\\t \\nTopic: {}\".format(score, lda_model_tfidf.print_topic(index, 10)))"
   ]
  },
  {
   "cell_type": "markdown",
   "metadata": {},
   "source": [
    "### Testing Section"
   ]
  },
  {
   "cell_type": "code",
   "execution_count": 20,
   "metadata": {},
   "outputs": [
    {
     "name": "stdout",
     "output_type": "stream",
     "text": [
      "I met a traveller from an antique land,\n",
      "                    Who said—“Two vast and trunkless legs of stone\n",
      "                    Stand in the desert. . . . Near them, on the sand,\n",
      "                    Half sunk a shattered visage lies, whose frown,\n",
      "                    And wrinkled lip, and sneer of cold command,\n",
      "                    Tell that its sculptor well those passions read\n",
      "                    Which yet survive, stamped on these lifeless things,\n",
      "                    The hand that mocked them, and the heart that fed;\n",
      "                    And on the pedestal, these words appear:\n",
      "                    My name is Ozymandias, King of Kings;\n",
      "Score: 0.1953313648700714\t Topic: 0.023*\"attack\" + 0.023*\"china\" + 0.022*\"warn\" + 0.019*\"north\" + 0.018*\"kill\"\n",
      "Score: 0.14337611198425293\t Topic: 0.024*\"news\" + 0.019*\"market\" + 0.018*\"canberra\" + 0.014*\"chang\" + 0.013*\"australian\"\n",
      "Score: 0.14110662043094635\t Topic: 0.059*\"australia\" + 0.054*\"covid\" + 0.033*\"trump\" + 0.019*\"vaccin\" + 0.018*\"donald\"\n",
      "Score: 0.12616552412509918\t Topic: 0.041*\"victoria\" + 0.036*\"elect\" + 0.036*\"sydney\" + 0.023*\"crash\" + 0.021*\"die\"\n",
      "Score: 0.11976804584264755\t Topic: 0.040*\"polic\" + 0.032*\"case\" + 0.025*\"death\" + 0.021*\"charg\" + 0.021*\"year\"\n",
      "Score: 0.10813163965940475\t Topic: 0.028*\"face\" + 0.025*\"peopl\" + 0.019*\"protest\" + 0.016*\"street\" + 0.013*\"citi\"\n",
      "Score: 0.0731680691242218\t Topic: 0.019*\"australian\" + 0.018*\"perth\" + 0.017*\"miss\" + 0.017*\"arrest\" + 0.013*\"tasmanian\"\n",
      "Score: 0.052945077419281006\t Topic: 0.021*\"health\" + 0.020*\"nation\" + 0.018*\"school\" + 0.015*\"minist\" + 0.015*\"busi\"\n",
      "Score: 0.03666823357343674\t Topic: 0.044*\"queensland\" + 0.024*\"coronavirus\" + 0.021*\"coast\" + 0.020*\"state\" + 0.018*\"tasmania\"\n"
     ]
    }
   ],
   "source": [
    "unseen_document= '''I met a traveller from an antique land,\n",
    "                    Who said—“Two vast and trunkless legs of stone\n",
    "                    Stand in the desert. . . . Near them, on the sand,\n",
    "                    Half sunk a shattered visage lies, whose frown,\n",
    "                    And wrinkled lip, and sneer of cold command,\n",
    "                    Tell that its sculptor well those passions read\n",
    "                    Which yet survive, stamped on these lifeless things,\n",
    "                    The hand that mocked them, and the heart that fed;\n",
    "                    And on the pedestal, these words appear:\n",
    "                    My name is Ozymandias, King of Kings;'''\n",
    "\n",
    "print(unseen_document)\n",
    "bow_vector = dictionary.doc2bow(preprocess(unseen_document))\n",
    "\n",
    "for index, score in sorted(lda_model[bow_vector], key=lambda tup: -1*tup[1]):\n",
    "    print(\"Score: {}\\t Topic: {}\".format(score, lda_model.print_topic(index, 5)))"
   ]
  },
  {
   "cell_type": "code",
   "execution_count": 21,
   "metadata": {},
   "outputs": [],
   "source": [
    "from gensim.models import CoherenceModel"
   ]
  },
  {
   "cell_type": "code",
   "execution_count": 22,
   "metadata": {},
   "outputs": [
    {
     "name": "stdout",
     "output_type": "stream",
     "text": [
      "\n",
      "Perplexity:  -9.126624749097992\n"
     ]
    }
   ],
   "source": [
    "# Compute Perplexity\n",
    "print('\\nPerplexity: ', lda_model.log_perplexity(bow_corpus))  # a measure of how good the model is. lower the better.\n",
    "\n",
    "# Compute Coherence Score\n",
    "# coherence_model_lda = CoherenceModel(model= lda_model, texts=processed_docs, dictionary=dictionary, coherence='c_v')\n",
    "# coherence_lda = coherence_model_lda.get_coherence()\n",
    "# print('\\nCoherence Score: ', coherence_lda)"
   ]
  },
  {
   "cell_type": "code",
   "execution_count": 23,
   "metadata": {},
   "outputs": [
    {
     "name": "stderr",
     "output_type": "stream",
     "text": [
      "c:\\Users\\emreb\\Documents\\projects\\translatortelegram\\transtele\\lib\\site-packages\\past\\builtins\\misc.py:45: DeprecationWarning: the imp module is deprecated in favour of importlib; see the module's documentation for alternative uses\n",
      "  from imp import reload\n"
     ]
    }
   ],
   "source": [
    "# import zipfile\n",
    "import pyLDAvis\n",
    "import pyLDAvis.gensim "
   ]
  },
  {
   "cell_type": "code",
   "execution_count": 26,
   "metadata": {},
   "outputs": [
    {
     "name": "stderr",
     "output_type": "stream",
     "text": [
      "c:\\Users\\emreb\\Documents\\projects\\translatortelegram\\transtele\\lib\\site-packages\\pyLDAvis\\_prepare.py:247: FutureWarning: In a future version of pandas all arguments of DataFrame.drop except for the argument 'labels' will be keyword-only.\n",
      "  default_term_info = default_term_info.sort_values(\n"
     ]
    },
    {
     "data": {
      "text/html": [
       "\n",
       "<link rel=\"stylesheet\" type=\"text/css\" href=\"https://cdn.jsdelivr.net/gh/bmabey/pyLDAvis@3.2.2/pyLDAvis/js/ldavis.v1.0.0.css\">\n",
       "\n",
       "\n",
       "<div id=\"ldavis_el1817222150697149123704097026\"></div>\n",
       "<script type=\"text/javascript\">\n",
       "\n",
       "var ldavis_el1817222150697149123704097026_data = {\"mdsDat\": {\"x\": [0.13801500873092037, -0.21534323716857603, -0.20718382773355667, -0.027844131351779322, -0.11877369273431694, -0.10183050759776842, 0.07937544036968582, 0.1736853295155697, -0.0004334519655199869, 0.28033306993534163], \"y\": [-0.206994431109521, -0.13626765462939341, -0.11655992354421789, 0.18331119183233335, -0.12428409957330379, 0.16454098894839297, 0.20501774334565342, -0.10743890452374352, 0.1934546332349556, -0.05477954398115612], \"topics\": [1, 2, 3, 4, 5, 6, 7, 8, 9, 10], \"cluster\": [1, 1, 1, 1, 1, 1, 1, 1, 1, 1], \"Freq\": [11.819380198474068, 11.738042494153472, 11.661939123086178, 11.126157071439803, 9.821592432017999, 9.609324980774844, 9.187837165945217, 8.835279853494152, 8.539340045644916, 7.661106634969352]}, \"tinfo\": {\"Term\": [\"australia\", \"covid\", \"queensland\", \"polic\", \"victoria\", \"case\", \"trump\", \"govern\", \"elect\", \"sydney\", \"death\", \"face\", \"live\", \"health\", \"news\", \"year\", \"australian\", \"china\", \"nation\", \"attack\", \"crash\", \"charg\", \"peopl\", \"warn\", \"murder\", \"coast\", \"vaccin\", \"court\", \"call\", \"school\", \"case\", \"death\", \"murder\", \"bushfir\", \"help\", \"jail\", \"investig\", \"speak\", \"life\", \"offic\", \"child\", \"price\", \"break\", \"sentenc\", \"assault\", \"hear\", \"sexual\", \"mark\", \"christma\", \"rain\", \"daniel\", \"bodi\", \"appeal\", \"hill\", \"stab\", \"drug\", \"teen\", \"crime\", \"burn\", \"inquest\", \"accus\", \"polic\", \"charg\", \"court\", \"year\", \"woman\", \"famili\", \"shoot\", \"abus\", \"tell\", \"govern\", \"live\", \"call\", \"restrict\", \"island\", \"water\", \"return\", \"resid\", \"updat\", \"liber\", \"save\", \"vote\", \"urg\", \"explain\", \"river\", \"stori\", \"grow\", \"brief\", \"senat\", \"hong\", \"kong\", \"drought\", \"energi\", \"sale\", \"resign\", \"develop\", \"polici\", \"rollout\", \"smith\", \"defenc\", \"labor\", \"eas\", \"parliament\", \"alleg\", \"plan\", \"victorian\", \"council\", \"support\", \"say\", \"parti\", \"announc\", \"coronavirus\", \"feder\", \"chang\", \"health\", \"nation\", \"school\", \"busi\", \"indigen\", \"communiti\", \"fund\", \"million\", \"countri\", \"victim\", \"servic\", \"budget\", \"rural\", \"emerg\", \"program\", \"centr\", \"town\", \"aborigin\", \"doctor\", \"futur\", \"intern\", \"david\", \"dollar\", \"protect\", \"domest\", \"know\", \"hour\", \"project\", \"rugbi\", \"closur\", \"youth\", \"minist\", \"kid\", \"violenc\", \"work\", \"hospit\", \"close\", \"local\", \"worker\", \"student\", \"feder\", \"say\", \"australia\", \"trump\", \"vaccin\", \"donald\", \"test\", \"world\", \"adelaid\", \"win\", \"premier\", \"pandem\", \"game\", \"beat\", \"second\", \"cricket\", \"black\", \"zealand\", \"head\", \"lead\", \"extend\", \"track\", \"team\", \"start\", \"footag\", \"cancer\", \"join\", \"posit\", \"william\", \"economi\", \"owner\", \"tour\", \"covid\", \"award\", \"record\", \"south\", \"season\", \"women\", \"open\", \"west\", \"india\", \"coronavirus\", \"australian\", \"year\", \"say\", \"queensland\", \"state\", \"tasmania\", \"scott\", \"gold\", \"andrew\", \"power\", \"industri\", \"farm\", \"storm\", \"coast\", \"build\", \"weather\", \"northern\", \"go\", \"financ\", \"flight\", \"strike\", \"wednesday\", \"great\", \"light\", \"threaten\", \"central\", \"struggl\", \"damag\", \"union\", \"territori\", \"juli\", \"nurs\", \"slam\", \"action\", \"home\", \"coronavirus\", \"flood\", \"get\", \"bring\", \"news\", \"market\", \"canberra\", \"royal\", \"care\", \"age\", \"fall\", \"climat\", \"commiss\", \"show\", \"young\", \"john\", \"wall\", \"trade\", \"share\", \"free\", \"crisi\", \"food\", \"star\", \"east\", \"drive\", \"number\", \"compani\", \"celebr\", \"shark\", \"histori\", \"insid\", \"disabl\", \"tuesday\", \"super\", \"deal\", \"chang\", \"final\", \"talk\", \"rise\", \"australian\", \"china\", \"chines\", \"attack\", \"warn\", \"north\", \"travel\", \"leader\", \"risk\", \"peter\", \"friday\", \"korea\", \"latest\", \"cyclon\", \"threat\", \"russia\", \"see\", \"fail\", \"retir\", \"sign\", \"loss\", \"arriv\", \"good\", \"bomb\", \"paul\", \"militari\", \"billion\", \"rock\", \"collaps\", \"end\", \"iran\", \"visit\", \"offici\", \"china\", \"kill\", \"border\", \"dead\", \"say\", \"lose\", \"australian\", \"presid\", \"protest\", \"victoria\", \"elect\", \"crash\", \"die\", \"lockdown\", \"morrison\", \"guilti\", \"biden\", \"road\", \"drum\", \"train\", \"beach\", \"rescu\", \"campaign\", \"launch\", \"girl\", \"monday\", \"begin\", \"turnbul\", \"thursday\", \"plead\", \"outback\", \"truck\", \"respons\", \"airport\", \"safeti\", \"pacif\", \"plane\", \"music\", \"hunt\", \"near\", \"sydney\", \"polit\", \"polic\", \"kill\", \"melbourn\", \"coronavirus\", \"driver\", \"perth\", \"miss\", \"arrest\", \"tasmanian\", \"quarantin\", \"interview\", \"bank\", \"search\", \"reveal\", \"video\", \"week\", \"media\", \"right\", \"hobart\", \"social\", \"come\", \"alan\", \"outbreak\", \"confirm\", \"link\", \"facebook\", \"refuge\", \"month\", \"author\", \"indonesia\", \"human\", \"data\", \"footbal\", \"boss\", \"cultur\", \"white\", \"take\", \"australian\", \"hous\", \"say\", \"alleg\", \"face\", \"peopl\", \"street\", \"citi\", \"mental\", \"michael\", \"turn\", \"sport\", \"station\", \"unit\", \"mother\", \"georg\", \"thousand\", \"coal\", \"festiv\", \"princ\", \"rape\", \"result\", \"anti\", \"teenag\", \"mount\", \"breach\", \"coach\", \"spring\", \"stay\", \"anim\", \"cancel\", \"day\", \"space\", \"analysi\", \"challeng\", \"stand\", \"ralli\", \"protest\", \"trial\", \"sydney\", \"melbourn\"], \"Freq\": [37816.0, 35055.0, 24587.0, 32355.0, 20771.0, 21837.0, 21020.0, 20733.0, 18170.0, 22450.0, 17288.0, 12203.0, 14531.0, 14277.0, 12993.0, 18988.0, 29506.0, 16493.0, 13616.0, 12143.0, 11711.0, 16251.0, 10977.0, 11744.0, 13086.0, 11826.0, 12423.0, 16043.0, 12458.0, 12408.0, 21837.11169512468, 17287.319141267133, 13085.886668159663, 11512.280490497602, 10966.652590391377, 7846.1234285749815, 8513.018366472115, 7559.469222215398, 7075.776421589244, 6936.094123977465, 6799.719126484123, 6608.865810325325, 6586.784848726617, 6424.813260636375, 5936.182622307066, 5788.651581641861, 4949.896399269346, 4635.389761479638, 4581.477856744095, 4377.874686500528, 4252.619638725718, 4041.862999319219, 3844.7955936118296, 3740.7175880562377, 3739.225092100052, 5919.276955341326, 3518.6272876943763, 3406.760378231672, 3307.2972689546887, 3305.231393665314, 7923.27476811748, 27385.987500881434, 14260.720975481554, 13435.04333775695, 14223.699223859003, 8977.475889346444, 9119.420043367003, 6012.0459954622565, 4896.479038166295, 4858.6401180959465, 20732.631473293062, 14530.439821650805, 12457.646559144978, 10973.083442561348, 9151.382367158185, 8618.476254085925, 8539.005851365691, 6305.40155126599, 5642.321872113541, 5480.529182740426, 5338.219860070999, 5333.139922164073, 5072.29316006224, 4877.395978080014, 4787.863487407345, 4722.560376236526, 4216.476750360995, 4071.2765543865244, 4046.0658375358544, 3822.5045493719513, 3755.197258687717, 4726.992273042551, 3648.618865947068, 3611.31641276632, 3363.14465542842, 3219.591131576911, 3181.0416473402784, 3045.4177443153826, 3030.592664321965, 2931.1826563549052, 7660.731877593737, 4010.903712241492, 4991.911223546996, 8308.001995099725, 7739.445760717285, 6765.080592088422, 5672.182700483493, 4651.726119502405, 8161.828322536999, 4202.645899363722, 4597.940280279642, 6366.302322090505, 4529.272134726555, 4378.119456422547, 14276.642262390762, 13615.897327731916, 12408.08559178498, 9733.764831515524, 9061.635714188289, 8757.552267995901, 7740.548205533485, 7139.736890919138, 6986.553688116279, 6471.121556772135, 6372.656904987207, 6326.842770378359, 6060.329438691125, 5831.12818586654, 5274.811462817539, 5274.352871627231, 4958.726547722395, 4690.875866657974, 4679.744096579343, 4600.356588397767, 4492.839134089725, 4417.031948545832, 3710.763716061638, 3667.9238639615924, 3608.5284950212504, 3529.1203689796193, 3470.355406730041, 3428.3162148621195, 3314.061093801653, 3216.426154688018, 3298.2253277123577, 10125.86654706512, 3537.1494635118347, 4912.87961197255, 7332.644462211048, 7711.686325375077, 5293.210716173637, 5081.719267960593, 5620.627956895217, 5077.872162709475, 5765.625244472717, 5144.244490535604, 37815.73781825007, 21019.476369290624, 12422.662865900746, 11632.640776989683, 11239.090126899648, 10873.734029253692, 8765.106369673047, 5974.767812437232, 5791.986045810338, 4720.090856097434, 4649.611627939233, 4492.430574539494, 4018.035174732562, 3839.259955341457, 3754.485254583042, 3637.043320106466, 3606.090708589264, 3524.342302603758, 3429.0783938250797, 3286.062271651659, 2985.290475601627, 2957.3996255776383, 2683.644231170295, 2664.548233662927, 2648.6889469329662, 2517.411713101141, 2516.5053744755337, 2478.2409558218565, 2471.127047023889, 2451.1589854525537, 34617.55522460167, 2615.6285988947866, 10255.338678334461, 9235.136382485809, 3918.0899569133016, 6423.968429042682, 6628.089239706482, 4438.811152271452, 3526.17852498862, 10002.567660760971, 7529.707513076804, 4764.49787227619, 3454.9211152613757, 24586.56969829789, 11245.278685326177, 10193.635511335018, 8217.773961448547, 7345.339306864262, 6921.558165455342, 6661.35460825911, 6467.361263662502, 6163.267328548764, 5626.5647037533945, 11825.107137145726, 5073.036697426708, 4586.9033524683155, 4580.810097585508, 4494.128021905531, 4412.871994960572, 4064.3475501385515, 3383.2011086005723, 3338.871626952522, 3263.3557828673684, 3239.8636017362965, 3239.308210498921, 3174.1088046894424, 3155.0642260537875, 3151.978660714169, 2946.2692182574065, 2898.0585752954025, 2862.366729703373, 2806.572931064031, 2755.040464434051, 3804.8764463790094, 9568.614892946835, 13678.38060732001, 4334.580510158077, 3529.3631916488644, 3285.4467258505197, 12993.0013169723, 10774.090172797347, 9741.276239354565, 6997.921855826405, 6917.648192619412, 6018.0690697715445, 5925.605086279556, 5862.544285048524, 5734.507053472881, 5656.4918866166745, 4869.3742472037975, 4828.805742659764, 4782.590225015258, 4719.523245996168, 4547.3256409365695, 4120.400587930115, 3968.4177350268833, 3891.361669766645, 3876.261096490769, 3862.8673945736873, 3845.3680376765465, 3777.5588340996114, 3609.273313327596, 3607.4884473945717, 3605.865748398064, 3420.5511548448053, 3373.050914692118, 3348.1237972868516, 3327.9800896931492, 3199.676183599679, 5545.306631231285, 7491.7536405376895, 5473.786378886481, 4112.062890722646, 4862.475202390283, 7418.054173455506, 4568.4212427068405, 3704.211758344557, 12142.843633568536, 11744.075496751113, 10076.622800033836, 7473.702301857007, 5944.0034362617425, 5613.172046855351, 4303.235763495476, 4130.922138755804, 4036.0727088757685, 3973.641113605741, 3860.8204433741325, 3542.0424034381253, 3466.9611164392354, 3399.609143772795, 3277.1746389144027, 3219.388507997981, 3186.826940874993, 3150.5967490285693, 2992.7331641897654, 2823.200172894704, 2777.9790693501836, 2757.762008483291, 2705.3193306307708, 2696.3562301894667, 2576.738045786614, 2555.235760291667, 2494.8833641135207, 2478.233281518247, 2714.0919362689124, 2469.450585070119, 11924.320005905653, 9515.079561204599, 7797.729039689968, 5917.344008511672, 7105.844038849882, 3522.877001865694, 5154.66237703995, 3317.0175868533606, 3815.9810677878872, 20770.619449386428, 18169.4326428481, 11710.882570468033, 10628.596581805261, 9349.009350360473, 8290.43612891826, 6035.76358837611, 5597.954979242172, 5478.129674665991, 5461.208009954881, 5430.938446751825, 5370.911954625892, 5286.939335445486, 4569.744570267276, 4568.595758265434, 3778.9938860811144, 3656.133246951239, 3484.342304796045, 3332.4160593344304, 3323.2068661321873, 3309.665605587191, 3302.7762836750294, 3248.710644264054, 3237.7798897718635, 3090.2268928001636, 3054.973700770821, 2974.617212323038, 2805.7830291993673, 2769.8908193692473, 2525.9831682974077, 5424.60507032634, 18103.902550744653, 4047.4104732186297, 4968.40126876735, 3949.3160339875585, 3627.56418111803, 3474.904958571598, 3268.4605544267533, 8925.74197677886, 8311.518243018027, 8206.350059196502, 6565.995396679414, 6506.714541784576, 6264.082007582032, 5710.280112927151, 5325.23774345099, 5262.223299082654, 4748.935036263944, 4731.928241130042, 4647.582332923851, 4102.936218949413, 4060.91698204557, 3943.592787208204, 3767.16295678348, 3671.926688251121, 3623.9447337387955, 3546.5682535486876, 3472.952354840278, 3402.4483144333913, 3090.2377029527884, 3044.982398760527, 3028.9926075966755, 2973.6983350657692, 2770.8417273904865, 2646.764498094318, 2632.120189915586, 2538.9881542938197, 2480.6481310069025, 3876.7482226251745, 4579.920230736468, 9403.614894869921, 5515.908831898074, 4126.196925136213, 3515.549861207974, 12203.051174235576, 10976.3129739704, 7028.104423044008, 5701.176424590334, 5013.3628275608, 4952.367240006394, 4927.114057074829, 4433.099461204881, 4401.335457969329, 4302.19967141423, 4028.1771687633486, 3606.3361015786627, 3602.8756763133965, 3525.131236452063, 3476.189470412346, 3384.831739721252, 3358.845920198713, 3357.204773190865, 3262.4463363515847, 3116.773145185298, 3112.5718745157137, 3041.3639075000683, 3013.4061257919084, 2934.86296839218, 2910.3030197475364, 2873.284760310667, 2661.264450950529, 2649.7836046072694, 2581.4651398887977, 2484.6444439171096, 3580.8612806868027, 3193.9979671619403, 2809.384689374735, 8556.88919383598, 4493.835239816941, 4345.895184845641, 3408.4511635769786], \"Total\": [37816.0, 35055.0, 24587.0, 32355.0, 20771.0, 21837.0, 21020.0, 20733.0, 18170.0, 22450.0, 17288.0, 12203.0, 14531.0, 14277.0, 12993.0, 18988.0, 29506.0, 16493.0, 13616.0, 12143.0, 11711.0, 16251.0, 10977.0, 11744.0, 13086.0, 11826.0, 12423.0, 16043.0, 12458.0, 12408.0, 21837.94322278318, 17288.15029006981, 13086.720961956138, 11513.111771778907, 10967.483780133654, 7846.9545495312, 8513.937402539626, 7560.300393163317, 7076.607598843913, 6936.925269746753, 6800.553603009466, 6609.696975054895, 6587.616020065172, 6425.6443796496305, 5937.0137573765205, 5789.4827181549745, 4950.7275424815325, 4636.220961118668, 4582.3090797734685, 4378.708406604162, 4253.4509210130645, 4042.6941439174216, 3845.626725543127, 3741.5487301741614, 3740.056213675052, 5920.616212024093, 3519.4584250089197, 3407.591549834103, 3308.1284382956405, 3306.0625149999414, 8097.040617072899, 32355.23588962244, 16251.690079008764, 16043.872391639221, 18988.952321046658, 11202.087289054318, 11951.739099704022, 8801.549789420536, 6100.353351761817, 6324.027244214881, 20733.455928347834, 14531.264324576889, 12458.47103182578, 10973.908124077747, 9152.206876325796, 8619.300701166827, 8539.830343247426, 6306.226025800286, 5643.14645900528, 5481.3599623632135, 5339.044466686392, 5333.9646340174495, 5073.117613941236, 4878.220459854761, 4788.6879440483035, 4723.384843466326, 4217.301233027316, 4072.101089578787, 4046.890296065548, 3823.329023158914, 3756.021731927417, 4728.031553392221, 3649.443304924402, 3612.140863567493, 3363.9691111326183, 3220.415579769078, 3181.866171922203, 3046.2426608827423, 3031.417151573823, 2932.007147651312, 7674.274321522663, 4012.792159201219, 5064.827539442546, 11868.044351590746, 11567.195545674105, 9494.618734152766, 7451.384498436565, 6723.104199031327, 32241.309221381267, 5227.658147533007, 7716.156208020973, 45461.97663224103, 10295.623641220738, 14309.146554942732, 14277.466058415364, 13616.724805939368, 12408.909357159835, 9734.588604857567, 9062.459488969562, 8758.376047967833, 7741.372204458588, 7140.560678359566, 6987.377429239773, 6471.945357772496, 6373.481169878574, 6327.666529313181, 6061.153157976327, 5831.9520109185905, 5275.635220663748, 5275.177699634538, 4959.550347026369, 4691.699638674165, 4680.567882954642, 4601.180349320723, 4493.662940327751, 4417.8557395965145, 3711.5874855448, 3668.747641931431, 3609.352236163617, 3529.944175759403, 3471.1791286575944, 3429.1399806211634, 3314.8848864510232, 3217.251121730598, 3300.3057034143685, 10430.118442594092, 3546.1405571256596, 5164.996669118487, 8470.492159982266, 9583.709532730605, 6502.714832410003, 6740.435465343404, 8947.68347749891, 7397.218796400725, 10295.623641220738, 32241.309221381267, 37816.58388679442, 21020.32247847999, 12423.509216026945, 11633.486825631766, 11239.936169972441, 10874.580045330631, 8765.95243532597, 5975.613827114186, 5792.832200849357, 4720.940114136339, 4650.459171960142, 4493.276596706426, 4018.8874271530517, 3840.123962152004, 3755.331361405116, 3637.8893728908897, 3606.936759695881, 3525.188337484783, 3429.9244621705125, 3286.9083268787213, 2986.136509329066, 2958.245742117066, 2684.490362324139, 2665.394273251435, 2649.5350039911937, 2518.257787442453, 2517.351444058231, 2479.0870482422747, 2471.9731362874672, 2452.0050000712463, 35055.51611331257, 2620.0959813274208, 12731.589638420046, 12059.266544807548, 4411.443993997475, 9660.383886355721, 11504.725805191854, 6243.145467692857, 4643.462783937762, 45461.97663224103, 29506.608105296487, 18988.952321046658, 32241.309221381267, 24587.399849900867, 11246.108846178653, 10194.465636296425, 8218.604191918013, 7346.193104565139, 6922.388361670072, 6662.184718558649, 6468.191370119239, 6164.097429891818, 5627.394818650713, 11826.933783844584, 5073.866821278073, 4587.7334421703445, 4581.64026884746, 4494.958151405502, 4413.702143446094, 4065.177699233326, 3384.0312222319167, 3339.7017210205167, 3264.18591529638, 3240.6937109588375, 3240.138338048594, 3174.938919464024, 3155.8943625412285, 3152.808758504916, 2947.09932530593, 2898.888671613265, 2863.1968488972025, 2807.405366149817, 2755.8706150296816, 3886.250803165766, 13769.925578107113, 45461.97663224103, 6643.442862128017, 4515.633423304752, 4085.553063137345, 12993.83499585482, 10774.923882676525, 9742.109910864056, 6998.755490600821, 6918.481892066816, 6018.902737144975, 5926.43872464208, 5863.377933313092, 5735.340681004395, 5657.325563835346, 4870.20999276459, 4829.639400437944, 4783.423868402785, 4720.356873271438, 4548.16421488715, 4121.234244196774, 3969.251409397251, 3892.1953134563505, 3877.0947415790683, 3863.701049128122, 3846.2016913465727, 3778.3924972541627, 3610.1069605897646, 3608.322100737261, 3606.6994127218695, 3421.384814046549, 3373.884593523533, 3348.9574692162537, 3328.8137027090766, 3200.50984892667, 5572.489551873514, 14309.146554942732, 8638.915183668643, 5439.979148668408, 8619.060510936326, 29506.608105296487, 16493.497787595163, 4974.6982982323, 12143.66715520498, 11744.899029876391, 10077.446311124857, 7474.5259228786135, 5944.827000298287, 5613.995610941833, 4304.0592875576585, 4131.745663089606, 4036.8962353796073, 3974.4647318834345, 3861.6439695302665, 3542.865927831308, 3467.7846949647437, 3400.432714927162, 3277.9983837315544, 3220.213939433441, 3187.650464146125, 3151.423761331403, 2993.556716942859, 2824.023694418795, 2778.8025684368095, 2758.585548477967, 2706.142843933465, 2697.1797844915386, 2577.561590761285, 2556.059306616491, 2495.706912147563, 2479.056801495966, 2714.9965521385307, 2470.274107694918, 16493.497787595163, 13465.127182404958, 11060.318467914629, 8857.102120852885, 32241.309221381267, 6726.642703348048, 29506.608105296487, 6529.751137225454, 12373.656371876928, 20771.449596029124, 18170.26271311797, 11711.7125949447, 10629.42663441657, 9349.839819257568, 8291.266313135175, 6036.59363555336, 5598.785338305714, 5478.96204666665, 5462.038027982243, 5431.768483973043, 5371.742029508486, 5287.7693956245075, 4570.5746310932545, 4569.4258423607525, 3779.8239507640387, 3656.9632818379396, 3485.1723722542843, 3333.2460890215752, 3324.0368939669956, 3310.4956258478246, 3303.6063555274486, 3249.540674327728, 3238.6099818914167, 3091.056943299268, 3055.8037502448706, 2975.4473082515738, 2806.6130598737072, 2770.7208924220026, 2526.8132362251513, 5436.385761069784, 22450.537736051298, 5333.2588688633905, 32355.23588962244, 13465.127182404958, 16349.806836094438, 45461.97663224103, 5610.522372521097, 8926.573794763437, 8312.350031730399, 8207.181866544885, 6566.827196781613, 6507.5468025918435, 6264.913760567364, 5711.111930940997, 5326.069528620879, 5263.0551141216165, 4749.766852236395, 4732.760041310238, 4648.4170998536965, 4103.76802546195, 4061.7487833182618, 3944.424577926045, 3767.994769477031, 3672.7585645780496, 3624.7766314548485, 3547.4000700164916, 3473.784172185325, 3403.2801315327447, 3091.069495467648, 3045.8142223664936, 3029.824412013239, 2974.5303027771592, 2771.673515236873, 2647.596305810014, 2632.952012727078, 2539.819958810972, 2481.4799533534624, 3878.930105543897, 6356.114026788628, 29506.608105296487, 12615.55369035366, 32241.309221381267, 11868.044351590746, 12203.87471310394, 10977.13653373962, 7028.927981900427, 5701.999953720951, 5014.186394888468, 4953.190774218144, 4927.937587316317, 4433.9229995500955, 4402.158983702002, 4303.023204688359, 4029.000700857102, 3607.15964841189, 3603.6992129798628, 3525.954769423952, 3477.013011399333, 3385.6553096202356, 3359.6694799450297, 3358.028340544569, 3263.2698594868207, 3117.596677898709, 3113.395407873377, 3042.1874749677563, 3014.229646713234, 2935.686480446818, 2911.126568561341, 2874.1082994964227, 2662.0880112655987, 2650.6071546328367, 2582.288679396982, 2485.4680322122567, 3582.703340455378, 3198.036365954181, 2817.0060768843364, 12373.656371876928, 9013.623758963464, 22450.537736051298, 16349.806836094438], \"Category\": [\"Default\", \"Default\", \"Default\", \"Default\", \"Default\", \"Default\", \"Default\", \"Default\", \"Default\", \"Default\", \"Default\", \"Default\", \"Default\", \"Default\", \"Default\", \"Default\", \"Default\", \"Default\", \"Default\", \"Default\", \"Default\", \"Default\", \"Default\", \"Default\", \"Default\", \"Default\", \"Default\", \"Default\", \"Default\", \"Default\", \"Topic1\", \"Topic1\", \"Topic1\", \"Topic1\", \"Topic1\", \"Topic1\", \"Topic1\", \"Topic1\", \"Topic1\", \"Topic1\", \"Topic1\", \"Topic1\", \"Topic1\", \"Topic1\", \"Topic1\", \"Topic1\", \"Topic1\", \"Topic1\", \"Topic1\", \"Topic1\", \"Topic1\", \"Topic1\", \"Topic1\", \"Topic1\", \"Topic1\", \"Topic1\", \"Topic1\", \"Topic1\", \"Topic1\", \"Topic1\", \"Topic1\", \"Topic1\", \"Topic1\", \"Topic1\", \"Topic1\", \"Topic1\", \"Topic1\", \"Topic1\", \"Topic1\", \"Topic1\", \"Topic2\", \"Topic2\", \"Topic2\", \"Topic2\", \"Topic2\", \"Topic2\", \"Topic2\", \"Topic2\", \"Topic2\", \"Topic2\", \"Topic2\", \"Topic2\", \"Topic2\", \"Topic2\", \"Topic2\", \"Topic2\", \"Topic2\", \"Topic2\", \"Topic2\", \"Topic2\", \"Topic2\", \"Topic2\", \"Topic2\", \"Topic2\", \"Topic2\", \"Topic2\", \"Topic2\", \"Topic2\", \"Topic2\", \"Topic2\", \"Topic2\", \"Topic2\", \"Topic2\", \"Topic2\", \"Topic2\", \"Topic2\", \"Topic2\", \"Topic2\", \"Topic2\", \"Topic2\", \"Topic2\", \"Topic2\", \"Topic2\", \"Topic2\", \"Topic3\", \"Topic3\", \"Topic3\", \"Topic3\", \"Topic3\", \"Topic3\", \"Topic3\", \"Topic3\", \"Topic3\", \"Topic3\", \"Topic3\", \"Topic3\", \"Topic3\", \"Topic3\", \"Topic3\", \"Topic3\", \"Topic3\", \"Topic3\", \"Topic3\", \"Topic3\", \"Topic3\", \"Topic3\", \"Topic3\", \"Topic3\", \"Topic3\", \"Topic3\", \"Topic3\", \"Topic3\", \"Topic3\", \"Topic3\", \"Topic3\", \"Topic3\", \"Topic3\", \"Topic3\", \"Topic3\", \"Topic3\", \"Topic3\", \"Topic3\", \"Topic3\", \"Topic3\", \"Topic3\", \"Topic3\", \"Topic4\", \"Topic4\", \"Topic4\", \"Topic4\", \"Topic4\", \"Topic4\", \"Topic4\", \"Topic4\", \"Topic4\", \"Topic4\", \"Topic4\", \"Topic4\", \"Topic4\", \"Topic4\", \"Topic4\", \"Topic4\", \"Topic4\", \"Topic4\", \"Topic4\", \"Topic4\", \"Topic4\", \"Topic4\", \"Topic4\", \"Topic4\", \"Topic4\", \"Topic4\", \"Topic4\", \"Topic4\", \"Topic4\", \"Topic4\", \"Topic4\", \"Topic4\", \"Topic4\", \"Topic4\", \"Topic4\", \"Topic4\", \"Topic4\", \"Topic4\", \"Topic4\", \"Topic4\", \"Topic4\", \"Topic4\", \"Topic4\", \"Topic5\", \"Topic5\", \"Topic5\", \"Topic5\", \"Topic5\", \"Topic5\", \"Topic5\", \"Topic5\", \"Topic5\", \"Topic5\", \"Topic5\", \"Topic5\", \"Topic5\", \"Topic5\", \"Topic5\", \"Topic5\", \"Topic5\", \"Topic5\", \"Topic5\", \"Topic5\", \"Topic5\", \"Topic5\", \"Topic5\", \"Topic5\", \"Topic5\", \"Topic5\", \"Topic5\", \"Topic5\", \"Topic5\", \"Topic5\", \"Topic5\", \"Topic5\", \"Topic5\", \"Topic5\", \"Topic5\", \"Topic5\", \"Topic6\", \"Topic6\", \"Topic6\", \"Topic6\", \"Topic6\", \"Topic6\", \"Topic6\", \"Topic6\", \"Topic6\", \"Topic6\", \"Topic6\", \"Topic6\", \"Topic6\", \"Topic6\", \"Topic6\", \"Topic6\", \"Topic6\", \"Topic6\", \"Topic6\", \"Topic6\", \"Topic6\", \"Topic6\", \"Topic6\", \"Topic6\", \"Topic6\", \"Topic6\", \"Topic6\", \"Topic6\", \"Topic6\", \"Topic6\", \"Topic6\", \"Topic6\", \"Topic6\", \"Topic6\", \"Topic6\", \"Topic6\", \"Topic6\", \"Topic6\", \"Topic7\", \"Topic7\", \"Topic7\", \"Topic7\", \"Topic7\", \"Topic7\", \"Topic7\", \"Topic7\", \"Topic7\", \"Topic7\", \"Topic7\", \"Topic7\", \"Topic7\", \"Topic7\", \"Topic7\", \"Topic7\", \"Topic7\", \"Topic7\", \"Topic7\", \"Topic7\", \"Topic7\", \"Topic7\", \"Topic7\", \"Topic7\", \"Topic7\", \"Topic7\", \"Topic7\", \"Topic7\", \"Topic7\", \"Topic7\", \"Topic7\", \"Topic7\", \"Topic7\", \"Topic7\", \"Topic7\", \"Topic7\", \"Topic7\", \"Topic7\", \"Topic7\", \"Topic8\", \"Topic8\", \"Topic8\", \"Topic8\", \"Topic8\", \"Topic8\", \"Topic8\", \"Topic8\", \"Topic8\", \"Topic8\", \"Topic8\", \"Topic8\", \"Topic8\", \"Topic8\", \"Topic8\", \"Topic8\", \"Topic8\", \"Topic8\", \"Topic8\", \"Topic8\", \"Topic8\", \"Topic8\", \"Topic8\", \"Topic8\", \"Topic8\", \"Topic8\", \"Topic8\", \"Topic8\", \"Topic8\", \"Topic8\", \"Topic8\", \"Topic8\", \"Topic8\", \"Topic8\", \"Topic8\", \"Topic8\", \"Topic8\", \"Topic8\", \"Topic9\", \"Topic9\", \"Topic9\", \"Topic9\", \"Topic9\", \"Topic9\", \"Topic9\", \"Topic9\", \"Topic9\", \"Topic9\", \"Topic9\", \"Topic9\", \"Topic9\", \"Topic9\", \"Topic9\", \"Topic9\", \"Topic9\", \"Topic9\", \"Topic9\", \"Topic9\", \"Topic9\", \"Topic9\", \"Topic9\", \"Topic9\", \"Topic9\", \"Topic9\", \"Topic9\", \"Topic9\", \"Topic9\", \"Topic9\", \"Topic9\", \"Topic9\", \"Topic9\", \"Topic9\", \"Topic9\", \"Topic9\", \"Topic10\", \"Topic10\", \"Topic10\", \"Topic10\", \"Topic10\", \"Topic10\", \"Topic10\", \"Topic10\", \"Topic10\", \"Topic10\", \"Topic10\", \"Topic10\", \"Topic10\", \"Topic10\", \"Topic10\", \"Topic10\", \"Topic10\", \"Topic10\", \"Topic10\", \"Topic10\", \"Topic10\", \"Topic10\", \"Topic10\", \"Topic10\", \"Topic10\", \"Topic10\", \"Topic10\", \"Topic10\", \"Topic10\", \"Topic10\", \"Topic10\", \"Topic10\", \"Topic10\", \"Topic10\", \"Topic10\", \"Topic10\", \"Topic10\"], \"logprob\": [30.0, 29.0, 28.0, 27.0, 26.0, 25.0, 24.0, 23.0, 22.0, 21.0, 20.0, 19.0, 18.0, 17.0, 16.0, 15.0, 14.0, 13.0, 12.0, 11.0, 10.0, 9.0, 8.0, 7.0, 6.0, 5.0, 4.0, 3.0, 2.0, 1.0, -3.4384, -3.672, -3.9504, -4.0786, -4.1271, -4.4619, -4.3804, -4.4992, -4.5653, -4.5852, -4.6051, -4.6336, -4.6369, -4.6618, -4.7409, -4.7661, -4.9226, -4.9882, -4.9999, -5.0454, -5.0744, -5.1253, -5.1752, -5.2027, -5.2031, -4.7438, -5.2639, -5.2962, -5.3258, -5.3265, -4.4522, -3.2119, -3.8645, -3.9241, -3.8671, -4.3272, -4.3116, -4.7282, -4.9334, -4.9412, -3.4834, -3.8388, -3.9927, -4.1196, -4.3012, -4.3612, -4.3704, -4.6737, -4.7848, -4.8139, -4.8402, -4.8411, -4.8913, -4.9304, -4.949, -4.9627, -5.0761, -5.1111, -5.1173, -5.1742, -5.1919, -4.9618, -5.2207, -5.231, -5.3022, -5.3458, -5.3579, -5.4014, -5.4063, -5.4397, -4.479, -5.126, -4.9072, -4.3978, -4.4687, -4.6033, -4.7795, -4.9778, -4.4156, -5.0793, -4.9895, -4.664, -5.0045, -5.0384, -3.8499, -3.8973, -3.9902, -4.233, -4.3045, -4.3386, -4.4621, -4.5429, -4.5646, -4.6412, -4.6565, -4.6638, -4.7068, -4.7453, -4.8456, -4.8457, -4.9074, -4.9629, -4.9653, -4.9824, -5.0061, -5.0231, -5.1973, -5.2089, -5.2253, -5.2475, -5.2643, -5.2765, -5.3104, -5.3403, -5.3152, -4.1935, -5.2452, -4.9167, -4.5162, -4.4658, -4.8421, -4.8829, -4.7821, -4.8837, -4.7566, -4.8707, -2.8288, -3.4161, -3.942, -4.0077, -4.0421, -4.0752, -4.2907, -4.674, -4.705, -4.9097, -4.9247, -4.9591, -5.0707, -5.1162, -5.1386, -5.1704, -5.1789, -5.2018, -5.2292, -5.2718, -5.3678, -5.3772, -5.4743, -5.4815, -5.4875, -5.5383, -5.5387, -5.554, -5.5568, -5.565, -2.9172, -5.5, -4.1337, -4.2385, -5.0959, -4.6015, -4.5702, -4.9711, -5.2013, -4.1587, -4.4427, -4.9003, -5.2217, -3.1346, -3.9169, -4.015, -4.2305, -4.3427, -4.4022, -4.4405, -4.47, -4.5182, -4.6093, -3.8666, -4.7129, -4.8136, -4.8149, -4.834, -4.8523, -4.9346, -5.118, -5.1312, -5.1541, -5.1613, -5.1614, -5.1818, -5.1878, -5.1888, -5.2563, -5.2728, -5.2852, -5.3048, -5.3234, -5.0005, -4.0783, -3.721, -4.8702, -5.0757, -5.1473, -3.7505, -3.9378, -4.0386, -4.3693, -4.3809, -4.5202, -4.5357, -4.5464, -4.5685, -4.5822, -4.732, -4.7404, -4.75, -4.7633, -4.8004, -4.899, -4.9366, -4.9562, -4.9601, -4.9635, -4.9681, -4.9859, -5.0315, -5.0319, -5.0324, -5.0852, -5.0991, -5.1066, -5.1126, -5.1519, -4.602, -4.3012, -4.615, -4.901, -4.7334, -4.311, -4.7958, -5.0055, -3.7734, -3.8068, -3.9599, -4.2587, -4.4877, -4.545, -4.8107, -4.8516, -4.8748, -4.8904, -4.9192, -5.0054, -5.0268, -5.0464, -5.0831, -5.1009, -5.1111, -5.1225, -5.1739, -5.2322, -5.2484, -5.2557, -5.2749, -5.2782, -5.3236, -5.332, -5.3559, -5.3626, -5.2716, -5.3661, -3.7915, -4.0172, -4.2163, -4.4922, -4.3092, -5.0108, -4.6302, -5.071, -4.9309, -3.1974, -3.3312, -3.7705, -3.8674, -3.9957, -4.1159, -4.4333, -4.5086, -4.5302, -4.5333, -4.5389, -4.55, -4.5657, -4.7115, -4.7118, -4.9015, -4.9346, -4.9827, -5.0273, -5.03, -5.0341, -5.0362, -5.0527, -5.0561, -5.1027, -5.1142, -5.1409, -5.1993, -5.2122, -5.3043, -4.54, -3.3348, -4.8329, -4.6279, -4.8574, -4.9424, -4.9854, -5.0467, -4.008, -4.0793, -4.092, -4.315, -4.3241, -4.3621, -4.4546, -4.5245, -4.5364, -4.639, -4.6426, -4.6606, -4.7852, -4.7955, -4.8248, -4.8706, -4.8962, -4.9093, -4.9309, -4.9519, -4.9724, -5.0687, -5.0834, -5.0887, -5.1071, -5.1778, -5.2236, -5.2291, -5.2651, -5.2884, -4.8419, -4.6752, -3.9558, -4.4893, -4.7796, -4.9397, -3.5867, -3.6926, -4.1385, -4.3477, -4.4763, -4.4885, -4.4936, -4.5993, -4.6065, -4.6293, -4.6951, -4.8057, -4.8066, -4.8285, -4.8424, -4.8691, -4.8768, -4.8773, -4.9059, -4.9516, -4.9529, -4.9761, -4.9853, -5.0117, -5.0201, -5.0329, -5.1096, -5.1139, -5.14, -5.1783, -4.8128, -4.9271, -5.0554, -3.9416, -4.5857, -4.6191, -4.8621], \"loglift\": [30.0, 29.0, 28.0, 27.0, 26.0, 25.0, 24.0, 23.0, 22.0, 21.0, 20.0, 19.0, 18.0, 17.0, 16.0, 15.0, 14.0, 13.0, 12.0, 11.0, 10.0, 9.0, 8.0, 7.0, 6.0, 5.0, 4.0, 3.0, 2.0, 1.0, 2.1354, 2.1354, 2.1354, 2.1354, 2.1354, 2.1353, 2.1353, 2.1353, 2.1353, 2.1353, 2.1353, 2.1353, 2.1353, 2.1353, 2.1353, 2.1353, 2.1353, 2.1353, 2.1352, 2.1352, 2.1352, 2.1352, 2.1352, 2.1352, 2.1352, 2.1352, 2.1352, 2.1352, 2.1352, 2.1352, 2.1137, 1.9687, 2.0047, 1.958, 1.8465, 1.914, 1.865, 1.7543, 1.9156, 1.8718, 2.1423, 2.1423, 2.1423, 2.1423, 2.1422, 2.1422, 2.1422, 2.1422, 2.1422, 2.1422, 2.1422, 2.1422, 2.1422, 2.1422, 2.1422, 2.1422, 2.1421, 2.1421, 2.1421, 2.1421, 2.1421, 2.1421, 2.1421, 2.1421, 2.1421, 2.1421, 2.1421, 2.1421, 2.1421, 2.1421, 2.1406, 2.1419, 2.1278, 1.7857, 1.7405, 1.8034, 1.8695, 1.774, 0.7686, 1.9241, 1.6246, 0.1765, 1.3212, 0.9581, 2.1488, 2.1488, 2.1488, 2.1488, 2.1487, 2.1487, 2.1487, 2.1487, 2.1487, 2.1487, 2.1487, 2.1487, 2.1487, 2.1487, 2.1487, 2.1487, 2.1487, 2.1487, 2.1487, 2.1487, 2.1487, 2.1487, 2.1486, 2.1486, 2.1486, 2.1486, 2.1486, 2.1486, 2.1486, 2.1486, 2.1482, 2.1192, 2.1463, 2.0988, 2.0046, 1.9315, 1.943, 1.8664, 1.6839, 1.7726, 1.569, 0.3135, 2.1958, 2.1958, 2.1958, 2.1958, 2.1958, 2.1958, 2.1958, 2.1957, 2.1957, 2.1957, 2.1957, 2.1957, 2.1957, 2.1956, 2.1956, 2.1956, 2.1956, 2.1956, 2.1956, 2.1956, 2.1956, 2.1956, 2.1956, 2.1956, 2.1956, 2.1955, 2.1955, 2.1955, 2.1955, 2.1955, 2.1833, 2.1942, 1.9796, 1.9291, 2.0773, 1.7879, 1.6444, 1.8548, 1.9206, 0.6818, 0.8301, 0.8132, -0.0376, 2.3206, 2.3205, 2.3205, 2.3205, 2.3205, 2.3205, 2.3205, 2.3205, 2.3205, 2.3204, 2.3204, 2.3204, 2.3204, 2.3204, 2.3204, 2.3204, 2.3204, 2.3203, 2.3203, 2.3203, 2.3203, 2.3203, 2.3203, 2.3203, 2.3203, 2.3203, 2.3203, 2.3203, 2.3203, 2.3203, 2.2994, 1.9566, 1.1195, 1.8936, 2.0742, 2.1026, 2.3424, 2.3424, 2.3424, 2.3423, 2.3423, 2.3423, 2.3423, 2.3423, 2.3423, 2.3423, 2.3423, 2.3423, 2.3423, 2.3423, 2.3423, 2.3422, 2.3422, 2.3422, 2.3422, 2.3422, 2.3422, 2.3422, 2.3422, 2.3422, 2.3422, 2.3422, 2.3422, 2.3422, 2.3422, 2.3422, 2.3375, 1.6953, 1.8861, 2.0626, 1.77, 0.9617, 1.0586, 2.0475, 2.3872, 2.3872, 2.3872, 2.3872, 2.3872, 2.3871, 2.3871, 2.3871, 2.3871, 2.3871, 2.3871, 2.3871, 2.3871, 2.387, 2.387, 2.387, 2.387, 2.387, 2.387, 2.387, 2.387, 2.387, 2.387, 2.387, 2.387, 2.387, 2.387, 2.387, 2.387, 2.387, 2.0629, 2.0401, 2.0378, 1.984, 0.875, 1.7405, 0.6426, 1.71, 1.2109, 2.4264, 2.4264, 2.4263, 2.4263, 2.4263, 2.4263, 2.4263, 2.4263, 2.4263, 2.4263, 2.4263, 2.4263, 2.4263, 2.4262, 2.4262, 2.4262, 2.4262, 2.4262, 2.4262, 2.4262, 2.4262, 2.4262, 2.4262, 2.4262, 2.4261, 2.4261, 2.4261, 2.4261, 2.4261, 2.4261, 2.4242, 2.2112, 2.1505, 0.5527, 1.1999, 0.9208, -0.1449, 1.8861, 2.4604, 2.4604, 2.4604, 2.4604, 2.4604, 2.4604, 2.4603, 2.4603, 2.4603, 2.4603, 2.4603, 2.4603, 2.4603, 2.4603, 2.4603, 2.4603, 2.4603, 2.4603, 2.4603, 2.4602, 2.4602, 2.4602, 2.4602, 2.4602, 2.4602, 2.4602, 2.4602, 2.4602, 2.4602, 2.4602, 2.4599, 2.1328, 1.317, 1.6332, 0.4046, 1.2438, 2.5689, 2.5689, 2.5689, 2.5689, 2.5688, 2.5688, 2.5688, 2.5688, 2.5688, 2.5688, 2.5688, 2.5688, 2.5688, 2.5688, 2.5688, 2.5688, 2.5688, 2.5688, 2.5688, 2.5687, 2.5687, 2.5687, 2.5687, 2.5687, 2.5687, 2.5687, 2.5687, 2.5687, 2.5687, 2.5687, 2.5685, 2.5678, 2.5663, 2.2002, 1.873, 0.9269, 1.0011]}, \"token.table\": {\"Topic\": [3, 1, 3, 1, 10, 2, 5, 4, 6, 8, 9, 2, 9, 10, 10, 5, 10, 2, 3, 4, 10, 1, 9, 7, 1, 7, 4, 4, 6, 7, 9, 9, 4, 10, 9, 8, 4, 8, 8, 7, 4, 1, 7, 7, 8, 9, 10, 1, 2, 5, 6, 3, 5, 1, 1, 3, 2, 8, 6, 10, 4, 6, 1, 6, 3, 5, 4, 10, 2, 3, 6, 1, 10, 1, 6, 7, 6, 9, 1, 10, 6, 3, 4, 3, 10, 10, 5, 7, 7, 9, 6, 3, 6, 9, 1, 2, 3, 4, 5, 6, 7, 8, 9, 10, 2, 3, 3, 1, 10, 1, 2, 3, 4, 5, 6, 7, 8, 9, 10, 8, 4, 1, 6, 9, 7, 5, 1, 9, 3, 10, 7, 8, 5, 6, 1, 2, 2, 8, 6, 3, 3, 3, 4, 6, 1, 8, 2, 1, 10, 8, 2, 9, 6, 4, 8, 3, 7, 2, 2, 4, 10, 9, 7, 6, 1, 3, 9, 5, 2, 3, 10, 6, 7, 10, 5, 5, 2, 5, 7, 8, 6, 4, 9, 6, 7, 3, 3, 4, 10, 1, 5, 8, 5, 5, 7, 2, 5, 2, 8, 4, 3, 1, 1, 1, 6, 9, 1, 5, 2, 3, 8, 3, 1, 2, 5, 6, 9, 9, 8, 4, 7, 3, 9, 5, 1, 6, 3, 9, 1, 7, 2, 1, 6, 4, 5, 3, 9, 7, 8, 3, 2, 7, 2, 8, 7, 8, 4, 7, 2, 1, 5, 9, 2, 2, 3, 8, 3, 4, 7, 7, 1, 6, 9, 1, 4, 5, 6, 7, 8, 9, 10, 10, 10, 7, 3, 1, 3, 9, 9, 8, 9, 8, 10, 10, 1, 8, 3, 5, 7, 8, 6, 7, 5, 6, 5, 1, 7, 3, 4, 9, 8, 9, 4, 8, 4, 2, 10, 2, 8, 7, 10, 9, 7, 2, 3, 5, 8, 8, 1, 8, 2, 6, 8, 4, 5, 4, 2, 7, 8, 9, 10, 1, 10, 3, 3, 3, 7, 10, 9, 5, 1, 2, 3, 4, 10, 10, 4, 6, 9, 8, 2, 2, 8, 2, 10, 7, 2, 9, 9, 1, 5, 6, 7, 2, 8, 7, 2, 6, 3, 3, 7, 8, 2, 2, 2, 3, 4, 6, 7, 8, 9, 10, 3, 5, 9, 4, 6, 7, 4, 7, 2, 1, 3, 1, 6, 6, 1, 7, 8, 6, 7, 5, 2, 9, 4, 6, 10, 1, 10, 10, 1, 2, 10, 6, 4, 5, 10, 10, 2, 5, 10, 5, 5, 1, 3, 5, 9, 6, 2, 3, 8, 10, 4, 9, 6, 7, 5, 9, 4, 1, 10, 1, 2, 3, 10, 5, 4, 10, 7, 5, 8, 4, 3, 4, 6, 8, 7, 1, 10, 8, 4, 6, 10, 8, 5, 10, 2, 2, 4, 3, 8, 1, 2, 4, 6, 8, 10, 9, 3, 7, 7, 2, 6, 7, 2, 5, 5, 9, 4, 7, 4, 9, 4, 4, 1, 8, 3, 4, 3, 8, 3, 5, 6, 4, 1, 4, 6, 3, 10, 4], \"Freq\": [0.9998508773519094, 0.8025764603596294, 0.19720169154669814, 0.9785056509774783, 0.021365830824069638, 0.02084271039172687, 0.9790927535866758, 0.9998913483351642, 0.9998500163261647, 0.9996580641124845, 0.9997934618993567, 0.7000310880104209, 0.29625774018351464, 0.003707434746323847, 0.9998116925238262, 0.9999438977344549, 0.9996143849218845, 0.5958925501301233, 0.21137467361075057, 0.1927125319798811, 0.9996108628640904, 0.9998370290233931, 0.9998559960575868, 0.9998140282628659, 0.9998292479320499, 0.9999450614714277, 0.9999845600333397, 0.255197072233062, 0.2514013123273378, 0.17470662780364338, 0.31870826922705375, 0.9997279010592264, 0.9984367056181866, 0.0015266616293856065, 0.9998053039487858, 0.9998618642696523, 0.9997158873532598, 0.999663611400223, 0.9998597305918588, 0.9995625858912623, 0.9996454743198433, 0.9998282967019738, 0.9997111819148559, 0.7050429897314048, 0.2949282165303722, 0.99967715868673, 0.9996096641060003, 0.9999064881645658, 0.9997296016099392, 0.8040527069981094, 0.19556715765342145, 0.9998946642794634, 0.9998291596313805, 0.9996588892128317, 0.9999034342929222, 0.9999395346961788, 0.9999621918432384, 0.9998742759631698, 0.99988607079224, 0.9995912940289748, 0.9998520769495935, 0.999930347137662, 0.9999568080760374, 0.9996335968075049, 0.9997767469265311, 0.9997042716449542, 0.00027911883987382985, 0.9995245655881847, 0.3059581494388798, 0.17045041719539236, 0.5235811913193438, 0.8775087348250625, 0.12244880319065103, 0.9999185944201335, 0.27695762650391925, 0.7229515627041886, 0.744567766313823, 0.2552918637199123, 0.9997143187526902, 0.9998246310541797, 0.9999355434158619, 0.8139677252367432, 0.18592234645970576, 0.9996111208969212, 0.999592052744032, 0.9997292167692475, 0.9998364932213262, 8.4552768982776e-05, 0.9995855704076392, 0.9997359949952455, 0.9999405996917456, 0.9999570641902364, 0.9996933718025951, 0.9998872216246842, 0.01768510873391752, 0.14002910721407827, 0.08829356524620015, 0.22003002819076733, 0.3008668125155769, 0.07610755748675947, 0.06020415746857245, 0.07643750354522809, 0.01766311233001961, 0.0026615648716467907, 0.7612008212957052, 0.23861337451758885, 0.9999459841344489, 0.8373913524144735, 0.16255427220669497, 2.852618106570233e-05, 0.007730595068805331, 0.0027099872012417213, 0.9875193361324832, 0.0009984163372995815, 0.00025673562959132093, 0.00011410472426280932, 0.000599049802379749, 2.852618106570233e-05, 2.852618106570233e-05, 0.9999391553593103, 0.9997073109714474, 0.9998264023649983, 0.9996847240781251, 0.9998065858429306, 0.9998332395385624, 0.9997434799993071, 0.999893987018673, 0.9997747746479682, 0.9998062997872826, 0.9997709375258512, 0.6680514596381586, 0.33182410679001995, 0.004665778151393501, 0.9950669172875755, 0.9999334636701723, 0.9996564989099297, 0.9998709546147744, 0.9999598628946562, 0.9997140993204439, 0.999878672210543, 0.9998417158299278, 0.9999024101443778, 0.9999581530766259, 0.9996875641365152, 0.417251700388117, 0.5824769572269826, 0.9997818218045772, 0.9997270196266377, 0.00016890133800078353, 0.9998099559217777, 0.999553388481108, 0.00024920303876367687, 0.9998185550281432, 0.9995615126774006, 0.9999305066119348, 0.9998367594731904, 0.9997167487319436, 0.9998785280692527, 0.9997498145348688, 0.9997304715655669, 0.9999283249685446, 0.9996238536108492, 0.9996954288517929, 0.9999259716226786, 0.7629851960394473, 0.23377351000484872, 0.0031794536077967973, 0.9998219642203421, 0.4398956447734916, 0.5600437817981789, 0.9997086546998782, 0.6336443735838815, 0.21565207672392606, 0.1505976123552484, 0.999840917347099, 0.9997102957556939, 0.006020974490203904, 0.6525231103758481, 0.17280196786885205, 0.1685872857257093, 0.9996928947907064, 0.999817335040192, 0.999638423821446, 0.9997005158834367, 0.9998195283179536, 0.9999519200926195, 0.9997434681470599, 0.9999012630918446, 0.9996785148080706, 0.21835253386852627, 0.7815071927201107, 0.9997820134549197, 0.9997868386371512, 0.9998375887281812, 0.9996375050178162, 0.999978010016786, 0.999636688801694, 0.9996914536203567, 0.9999016605076969, 0.9997402894039207, 0.9999673570636795, 0.9999166215396997, 0.9999558895966155, 0.9998533414332583, 0.9998875268151747, 0.99981565001722, 0.30508516376291783, 0.6949202409062988, 0.9999139432790323, 0.8046988458552213, 0.19522711885310154, 0.9996603088996878, 0.2395455700300129, 0.1887352753942623, 0.1340408864727835, 0.00039633615160491873, 0.43723804245054637, 0.9997570005149704, 0.9996781573669583, 0.7593471002280483, 0.24055323623219796, 0.9999492975422267, 0.9998217188183748, 0.9998158109352264, 0.9996786161800871, 0.9997378115643816, 0.9998524721732461, 0.9998541463454588, 0.9998898978821071, 0.9995737082364035, 0.9998681327528863, 0.9998783541404279, 0.9998676090728666, 0.9997980762698406, 0.999581988609109, 0.9974223928864601, 0.0022559737469866215, 0.706640187731265, 0.29327610103528806, 0.999732523883554, 0.9997279749691723, 0.999777988997648, 0.9982702831607889, 0.0016939712414946165, 0.9998830705730746, 0.9999068061556433, 0.999662900993928, 0.9998608874071111, 0.9999343297346489, 0.9999141398141091, 0.999785937511931, 0.9997742599578857, 0.9999129928030591, 0.24597817285318824, 0.7539572222194828, 0.9999101782197554, 0.24395527938227285, 0.23221093625539926, 0.5237382384300714, 0.9998655333704712, 0.9997366473408176, 0.999914256222449, 0.9999102705620566, 0.18147003385079394, 0.14984886516159257, 0.08263094564624962, 0.03608605324299576, 0.0862395509705492, 0.22189864604337056, 0.033394889950297775, 0.2084428295798806, 0.999763392344234, 0.999759594517469, 0.9995776852888505, 0.9999214797850168, 0.02885873268426066, 0.9708422829263237, 0.0002876285649594086, 0.9999578901599352, 0.9997365896883014, 0.9997326749738987, 0.9998472714435468, 0.999751625544049, 0.9998729978619558, 0.9999449088921332, 0.9997398177405836, 0.9999467709049205, 0.0005518372190367987, 0.0012876201777525303, 0.997905637758211, 0.9999357390751008, 0.9999557118826459, 0.9998602533569007, 0.999896120571262, 0.9998556082585349, 0.9998666167342485, 0.9994842241632421, 0.21113062937178742, 0.5761110792409251, 0.2126952038175232, 0.9998164564835534, 0.9997857436377985, 0.9996063321752239, 0.9998496668886278, 0.9998008629396667, 0.9856209241330729, 0.014215686405765473, 0.8039928934495162, 0.195881209348633, 0.999787735972774, 0.9998964635507515, 0.9999357206049455, 0.9997538863926153, 0.6690472180090556, 0.1983194622189913, 0.13252996320039828, 0.9997815659442079, 0.9998502865117975, 0.84641632944434, 0.1535454730402206, 0.9997277786445431, 0.24094086403757403, 0.7588230947549122, 0.9995005326902096, 0.999822172664269, 0.9998563395554191, 0.16034301736725592, 0.5079826061195681, 0.18055818288060624, 0.14196559417330107, 0.00903556640369446, 0.9998945526462824, 0.9998064452638242, 0.9998795935205564, 0.9996675607797857, 0.999796213311898, 0.30839712089250143, 0.6915498331963141, 0.9999159740823338, 0.9999837376093728, 0.999838215624705, 0.0007099736193015384, 0.0007099736193015384, 0.0007099736193015384, 0.9971579483090106, 0.9998007304143975, 0.8054767936482609, 0.19439834854017024, 0.9996540047160971, 0.9998544952385511, 0.9998055848624406, 0.9997119143783422, 0.9998116531799669, 0.9999172469764209, 0.9996937665676752, 0.9996230252224626, 0.9999027681799226, 0.9997995244019419, 0.999812848714356, 0.2612813771457506, 0.17449697656625618, 0.5640986037667137, 0.9998226555539352, 0.999856339762302, 0.99982441078101, 0.9997821232426423, 0.999592067664635, 0.9998920535798349, 0.9997330566576715, 0.9998097461083277, 0.999773718660826, 0.9997369758300721, 0.9996841586165701, 0.9998043719821198, 0.253153491502363, 0.15954687090028855, 0.10716066076214949, 0.061753075420387736, 0.22040047912469876, 3.101611020612141e-05, 0.12797247071045695, 0.0699413285148038, 0.9999267173984706, 0.9999264848502368, 0.999799189887565, 0.8881445633971801, 0.10948795919367993, 0.0022668314532852986, 0.9997791858644619, 0.9998727470991375, 0.9997800048925435, 0.9998997175051157, 0.9999245043853195, 0.9998530433203424, 0.9997440253183165, 0.9998060795642125, 0.6830615225544057, 0.1636075503124325, 0.15326846206352182, 0.9997656907278203, 0.9997959424493239, 0.9996840871175398, 0.9998623905741226, 0.9998923599836537, 0.7658011343962197, 0.23409383891722013, 0.9995009545573801, 0.9998279971567674, 0.9997918323006085, 0.9997661601634267, 0.9997175941711277, 0.0009380756366430205, 0.9987378611459359, 0.9997176386825609, 0.9995788916048014, 0.9999014017920492, 0.9997367237970521, 0.999613012854368, 0.999918523796159, 0.9999298398880057, 0.9998679767522421, 0.9996952681094837, 0.9997166056786171, 0.1428915419555125, 0.6864742195365113, 0.10490429191814353, 0.0655651824488397, 0.9998406975917161, 0.6919422728373399, 0.30804222851378565, 0.8063949386356308, 0.19358110933000727, 0.2792586779467837, 0.720566053519025, 0.7558852502231613, 0.2439347585228928, 0.9999543245999313, 0.9998740340263532, 0.9996194047641441, 0.9998697455819731, 0.9998086096566182, 0.7683395109413761, 0.21584347240892743, 0.00015812708601386626, 0.015812708601386626, 0.9996934440353066, 0.999916710383557, 0.9998059735459207, 0.9997555854923819, 0.9996486760965646, 0.999688061835632, 0.9995901313124496, 0.9998890328784142, 0.9997236531146021, 0.9999243969723012, 0.9998585204845696, 0.9999296379617865, 0.5013521887360949, 0.4985786094666985, 0.9998336151530586, 0.9999370857187684, 0.9997555577506743, 0.9998097404239189, 0.9996261635089952, 0.9996269805715435, 0.9997622126027012, 0.9997968404659335, 0.9997796987914955, 0.9999590119008976, 0.9998539298896644, 0.99997835509616, 0.18231379779089807, 0.7125088631169414, 0.0001053228179034651, 0.011374864333574231, 0.09373730793408393, 0.0001053228179034651, 0.9998385494993226, 0.951210681194593, 0.04859635273353202, 0.9996329453391954, 0.9998191525284406, 0.9999113880738053, 0.9999234535883106, 0.9998490943509314, 0.9998401297329956, 0.999789885121746, 0.9998394084416695, 0.7110197933030743, 0.28895690631195, 0.0002578030469202749, 0.9995024129099057, 0.9998603913414391, 0.9998972779814852, 0.801368510025049, 0.19853442868393775, 0.33497633614441663, 0.6649839256463944, 0.8657112079796024, 0.13423068914125297, 0.628207291209546, 0.2239685841636595, 0.1477477386548692, 0.9999466604385445, 0.7490671291135236, 0.25088271956529995, 0.9997515522397621, 0.9993013667152157, 0.0003030022336916967, 0.9997555250312126], \"Term\": [\"aborigin\", \"abus\", \"abus\", \"accus\", \"accus\", \"action\", \"action\", \"adelaid\", \"age\", \"airport\", \"alan\", \"alleg\", \"alleg\", \"alleg\", \"analysi\", \"andrew\", \"anim\", \"announc\", \"announc\", \"announc\", \"anti\", \"appeal\", \"arrest\", \"arriv\", \"assault\", \"attack\", \"australia\", \"australian\", \"australian\", \"australian\", \"australian\", \"author\", \"award\", \"award\", \"bank\", \"beach\", \"beat\", \"begin\", \"biden\", \"billion\", \"black\", \"bodi\", \"bomb\", \"border\", \"border\", \"boss\", \"breach\", \"break\", \"brief\", \"bring\", \"bring\", \"budget\", \"build\", \"burn\", \"bushfir\", \"busi\", \"call\", \"campaign\", \"canberra\", \"cancel\", \"cancer\", \"care\", \"case\", \"celebr\", \"centr\", \"central\", \"challeng\", \"challeng\", \"chang\", \"chang\", \"chang\", \"charg\", \"charg\", \"child\", \"china\", \"china\", \"chines\", \"chines\", \"christma\", \"citi\", \"climat\", \"close\", \"close\", \"closur\", \"coach\", \"coal\", \"coast\", \"coast\", \"collaps\", \"come\", \"commiss\", \"communiti\", \"compani\", \"confirm\", \"coronavirus\", \"coronavirus\", \"coronavirus\", \"coronavirus\", \"coronavirus\", \"coronavirus\", \"coronavirus\", \"coronavirus\", \"coronavirus\", \"coronavirus\", \"council\", \"council\", \"countri\", \"court\", \"court\", \"covid\", \"covid\", \"covid\", \"covid\", \"covid\", \"covid\", \"covid\", \"covid\", \"covid\", \"covid\", \"crash\", \"cricket\", \"crime\", \"crisi\", \"cultur\", \"cyclon\", \"damag\", \"daniel\", \"data\", \"david\", \"day\", \"dead\", \"dead\", \"deal\", \"deal\", \"death\", \"defenc\", \"develop\", \"die\", \"disabl\", \"doctor\", \"dollar\", \"domest\", \"donald\", \"drive\", \"driver\", \"driver\", \"drought\", \"drug\", \"drug\", \"drum\", \"eas\", \"eas\", \"east\", \"economi\", \"elect\", \"emerg\", \"end\", \"energi\", \"explain\", \"extend\", \"face\", \"facebook\", \"fail\", \"fall\", \"famili\", \"famili\", \"famili\", \"farm\", \"feder\", \"feder\", \"festiv\", \"final\", \"final\", \"final\", \"financ\", \"flight\", \"flood\", \"flood\", \"flood\", \"flood\", \"food\", \"footag\", \"footbal\", \"free\", \"friday\", \"fund\", \"futur\", \"game\", \"georg\", \"get\", \"get\", \"girl\", \"go\", \"gold\", \"good\", \"govern\", \"great\", \"grow\", \"guilti\", \"head\", \"health\", \"hear\", \"help\", \"hill\", \"histori\", \"hobart\", \"home\", \"home\", \"hong\", \"hospit\", \"hospit\", \"hour\", \"hous\", \"hous\", \"hous\", \"hous\", \"hous\", \"human\", \"hunt\", \"india\", \"india\", \"indigen\", \"indonesia\", \"industri\", \"inquest\", \"insid\", \"intern\", \"interview\", \"investig\", \"iran\", \"island\", \"jail\", \"john\", \"join\", \"juli\", \"kid\", \"kid\", \"kill\", \"kill\", \"know\", \"kong\", \"korea\", \"labor\", \"labor\", \"latest\", \"launch\", \"lead\", \"leader\", \"liber\", \"life\", \"light\", \"link\", \"live\", \"local\", \"local\", \"lockdown\", \"lose\", \"lose\", \"lose\", \"loss\", \"mark\", \"market\", \"media\", \"melbourn\", \"melbourn\", \"melbourn\", \"melbourn\", \"melbourn\", \"melbourn\", \"melbourn\", \"melbourn\", \"mental\", \"michael\", \"militari\", \"million\", \"minist\", \"minist\", \"minist\", \"miss\", \"monday\", \"month\", \"morrison\", \"mother\", \"mount\", \"murder\", \"music\", \"nation\", \"near\", \"near\", \"near\", \"news\", \"north\", \"northern\", \"number\", \"nurs\", \"offic\", \"offici\", \"open\", \"open\", \"open\", \"outback\", \"outbreak\", \"owner\", \"pacif\", \"pandem\", \"parliament\", \"parliament\", \"parti\", \"parti\", \"paul\", \"peopl\", \"perth\", \"peter\", \"plan\", \"plan\", \"plan\", \"plane\", \"plead\", \"polic\", \"polic\", \"polici\", \"polit\", \"polit\", \"posit\", \"power\", \"premier\", \"presid\", \"presid\", \"presid\", \"presid\", \"presid\", \"price\", \"princ\", \"program\", \"project\", \"protect\", \"protest\", \"protest\", \"quarantin\", \"queensland\", \"rain\", \"ralli\", \"ralli\", \"ralli\", \"ralli\", \"rape\", \"record\", \"record\", \"refuge\", \"rescu\", \"resid\", \"resign\", \"respons\", \"restrict\", \"result\", \"retir\", \"return\", \"reveal\", \"right\", \"rise\", \"rise\", \"rise\", \"risk\", \"river\", \"road\", \"rock\", \"rollout\", \"royal\", \"rugbi\", \"rural\", \"russia\", \"safeti\", \"sale\", \"save\", \"say\", \"say\", \"say\", \"say\", \"say\", \"say\", \"say\", \"say\", \"school\", \"scott\", \"search\", \"season\", \"season\", \"season\", \"second\", \"see\", \"senat\", \"sentenc\", \"servic\", \"sexual\", \"share\", \"shark\", \"shoot\", \"shoot\", \"shoot\", \"show\", \"sign\", \"slam\", \"smith\", \"social\", \"south\", \"south\", \"space\", \"speak\", \"sport\", \"spring\", \"stab\", \"stand\", \"stand\", \"star\", \"start\", \"state\", \"station\", \"stay\", \"stori\", \"storm\", \"street\", \"strike\", \"struggl\", \"student\", \"student\", \"student\", \"student\", \"super\", \"support\", \"support\", \"sydney\", \"sydney\", \"take\", \"take\", \"talk\", \"talk\", \"tasmania\", \"tasmanian\", \"team\", \"teen\", \"teenag\", \"tell\", \"tell\", \"tell\", \"tell\", \"territori\", \"test\", \"thousand\", \"threat\", \"threaten\", \"thursday\", \"tour\", \"town\", \"track\", \"trade\", \"train\", \"travel\", \"trial\", \"trial\", \"truck\", \"trump\", \"tuesday\", \"turn\", \"turnbul\", \"union\", \"unit\", \"updat\", \"urg\", \"vaccin\", \"victim\", \"victoria\", \"victorian\", \"victorian\", \"victorian\", \"victorian\", \"victorian\", \"victorian\", \"video\", \"violenc\", \"violenc\", \"visit\", \"vote\", \"wall\", \"warn\", \"water\", \"weather\", \"wednesday\", \"week\", \"west\", \"west\", \"white\", \"white\", \"william\", \"win\", \"woman\", \"woman\", \"women\", \"women\", \"work\", \"work\", \"worker\", \"worker\", \"worker\", \"world\", \"year\", \"year\", \"young\", \"youth\", \"youth\", \"zealand\"]}, \"R\": 30, \"lambda.step\": 0.01, \"plot.opts\": {\"xlab\": \"PC1\", \"ylab\": \"PC2\"}, \"topic.order\": [7, 9, 6, 5, 3, 2, 10, 4, 1, 8]};\n",
       "\n",
       "function LDAvis_load_lib(url, callback){\n",
       "  var s = document.createElement('script');\n",
       "  s.src = url;\n",
       "  s.async = true;\n",
       "  s.onreadystatechange = s.onload = callback;\n",
       "  s.onerror = function(){console.warn(\"failed to load library \" + url);};\n",
       "  document.getElementsByTagName(\"head\")[0].appendChild(s);\n",
       "}\n",
       "\n",
       "if(typeof(LDAvis) !== \"undefined\"){\n",
       "   // already loaded: just create the visualization\n",
       "   !function(LDAvis){\n",
       "       new LDAvis(\"#\" + \"ldavis_el1817222150697149123704097026\", ldavis_el1817222150697149123704097026_data);\n",
       "   }(LDAvis);\n",
       "}else if(typeof define === \"function\" && define.amd){\n",
       "   // require.js is available: use it to load d3/LDAvis\n",
       "   require.config({paths: {d3: \"https://d3js.org/d3.v5\"}});\n",
       "   require([\"d3\"], function(d3){\n",
       "      window.d3 = d3;\n",
       "      LDAvis_load_lib(\"https://cdn.jsdelivr.net/gh/bmabey/pyLDAvis@3.2.2/pyLDAvis/js/ldavis.v3.0.0.js\", function(){\n",
       "        new LDAvis(\"#\" + \"ldavis_el1817222150697149123704097026\", ldavis_el1817222150697149123704097026_data);\n",
       "      });\n",
       "    });\n",
       "}else{\n",
       "    // require.js not available: dynamically load d3 & LDAvis\n",
       "    LDAvis_load_lib(\"https://d3js.org/d3.v5.js\", function(){\n",
       "         LDAvis_load_lib(\"https://cdn.jsdelivr.net/gh/bmabey/pyLDAvis@3.2.2/pyLDAvis/js/ldavis.v3.0.0.js\", function(){\n",
       "                 new LDAvis(\"#\" + \"ldavis_el1817222150697149123704097026\", ldavis_el1817222150697149123704097026_data);\n",
       "            })\n",
       "         });\n",
       "}\n",
       "</script>"
      ],
      "text/plain": [
       "PreparedData(topic_coordinates=              x         y  topics  cluster       Freq\n",
       "topic                                                \n",
       "6      0.138015 -0.206994       1        1  11.819380\n",
       "8     -0.215343 -0.136268       2        1  11.738042\n",
       "5     -0.207184 -0.116560       3        1  11.661939\n",
       "4     -0.027844  0.183311       4        1  11.126157\n",
       "2     -0.118774 -0.124284       5        1   9.821592\n",
       "1     -0.101831  0.164541       6        1   9.609325\n",
       "9      0.079375  0.205018       7        1   9.187837\n",
       "3      0.173685 -0.107439       8        1   8.835280\n",
       "0     -0.000433  0.193455       9        1   8.539340\n",
       "7      0.280333 -0.054780      10        1   7.661107, topic_info=             Term          Freq         Total Category  logprob  loglift\n",
       "38      australia  37816.000000  37816.000000  Default  30.0000  30.0000\n",
       "25345       covid  35055.000000  35055.000000  Default  29.0000  29.0000\n",
       "2051   queensland  24587.000000  24587.000000  Default  28.0000  28.0000\n",
       "240         polic  32355.000000  32355.000000  Default  27.0000  27.0000\n",
       "1505     victoria  20771.000000  20771.000000  Default  26.0000  26.0000\n",
       "...           ...           ...           ...      ...      ...      ...\n",
       "946         ralli   2809.384689   2817.006077  Topic10  -5.0554   2.5663\n",
       "348       protest   8556.889194  12373.656372  Topic10  -3.9416   2.2002\n",
       "488         trial   4493.835240   9013.623759  Topic10  -4.5857   1.8730\n",
       "2211       sydney   4345.895185  22450.537736  Topic10  -4.6191   0.9269\n",
       "863      melbourn   3408.451164  16349.806836  Topic10  -4.8621   1.0011\n",
       "\n",
       "[423 rows x 6 columns], token_table=      Topic      Freq      Term\n",
       "term                           \n",
       "326       3  0.999851  aborigin\n",
       "1939      1  0.802576      abus\n",
       "1939      3  0.197202      abus\n",
       "215       1  0.978506     accus\n",
       "215      10  0.021366     accus\n",
       "...     ...       ...       ...\n",
       "1127      4  0.250883      year\n",
       "361       6  0.999752     young\n",
       "117       3  0.999301     youth\n",
       "117      10  0.000303     youth\n",
       "388       4  0.999756   zealand\n",
       "\n",
       "[510 rows x 3 columns], R=30, lambda_step=0.01, plot_opts={'xlab': 'PC1', 'ylab': 'PC2'}, topic_order=[7, 9, 6, 5, 3, 2, 10, 4, 1, 8])"
      ]
     },
     "execution_count": 26,
     "metadata": {},
     "output_type": "execute_result"
    }
   ],
   "source": [
    "pyLDAvis.enable_notebook()\n",
    "visal = pyLDAvis.gensim.prepare(lda_model,  bow_corpus,dictionary)\n",
    "visal\n",
    "# Each bubble on the left-hand side plot represents a topic. The larger the bubble, the more prevalent is that topic.\n",
    "# A good topic model will have fairly big, non-overlapping bubbles scattered throughout the chart instead of being clustered in one quadrant."
   ]
  },
  {
   "cell_type": "code",
   "execution_count": null,
   "metadata": {},
   "outputs": [],
   "source": [
    "#  results shows consistency that's nice"
   ]
  },
  {
   "cell_type": "markdown",
   "metadata": {},
   "source": [
    " TFI-IDF Table"
   ]
  },
  {
   "cell_type": "code",
   "execution_count": 29,
   "metadata": {},
   "outputs": [
    {
     "name": "stderr",
     "output_type": "stream",
     "text": [
      "c:\\Users\\emreb\\Documents\\projects\\translatortelegram\\transtele\\lib\\site-packages\\pyLDAvis\\_prepare.py:247: FutureWarning: In a future version of pandas all arguments of DataFrame.drop except for the argument 'labels' will be keyword-only.\n",
      "  default_term_info = default_term_info.sort_values(\n"
     ]
    },
    {
     "data": {
      "text/html": [
       "\n",
       "<link rel=\"stylesheet\" type=\"text/css\" href=\"https://cdn.jsdelivr.net/gh/bmabey/pyLDAvis@3.2.2/pyLDAvis/js/ldavis.v1.0.0.css\">\n",
       "\n",
       "\n",
       "<div id=\"ldavis_el1817222150697162565127713583\"></div>\n",
       "<script type=\"text/javascript\">\n",
       "\n",
       "var ldavis_el1817222150697162565127713583_data = {\"mdsDat\": {\"x\": [0.05171547598372688, 0.1619693769258667, 0.0535097918724206, -0.1784472440496314, 0.08337122540346946, -0.24170515890511096, -0.22524892291192466, 0.09274346352924732, 0.12770066226941196, 0.07439132988252371], \"y\": [0.17640481560868512, -0.30218258170138546, -0.022100776900576567, -0.0678833304398999, 0.025971337963143586, -0.04762447087013222, 0.036397960726977895, 0.11213410788903082, 0.12007116418934265, -0.03118822646518589], \"topics\": [1, 2, 3, 4, 5, 6, 7, 8, 9, 10], \"cluster\": [1, 1, 1, 1, 1, 1, 1, 1, 1, 1], \"Freq\": [14.305215968975226, 10.879380808798135, 10.387423729837485, 9.998485374349771, 9.762801031316393, 9.56523795015933, 9.18312483023957, 8.866612828348567, 8.71630455342107, 8.335412924554449]}, \"tinfo\": {\"Term\": [\"trump\", \"news\", \"donald\", \"drum\", \"crash\", \"rural\", \"murder\", \"charg\", \"restrict\", \"morrison\", \"polic\", \"lockdown\", \"countri\", \"royal\", \"miss\", \"alleg\", \"woman\", \"guilti\", \"tuesday\", \"stori\", \"andrew\", \"weather\", \"live\", \"search\", \"wall\", \"sport\", \"hour\", \"jail\", \"commiss\", \"sentenc\", \"trump\", \"climat\", \"financ\", \"energi\", \"kohler\", \"remot\", \"learn\", \"check\", \"firefight\", \"harri\", \"wast\", \"better\", \"joyc\", \"class\", \"renew\", \"carbon\", \"transport\", \"scienc\", \"stream\", \"meat\", \"barnabi\", \"mcgowan\", \"custom\", \"recycl\", \"greater\", \"racism\", \"accc\", \"pilbara\", \"relationship\", \"ndis\", \"educ\", \"benefit\", \"hour\", \"invest\", \"countri\", \"regul\", \"budget\", \"fund\", \"govern\", \"cut\", \"action\", \"boom\", \"chang\", \"project\", \"health\", \"feder\", \"polici\", \"region\", \"farm\", \"plan\", \"communiti\", \"job\", \"council\", \"servic\", \"say\", \"coronavirus\", \"industri\", \"concern\", \"school\", \"victorian\", \"covid\", \"queensland\", \"call\", \"australia\", \"indigen\", \"lockdown\", \"turnbul\", \"juli\", \"daniel\", \"economi\", \"johnson\", \"morn\", \"malcolm\", \"wrap\", \"evacu\", \"york\", \"bori\", \"technolog\", \"wave\", \"seri\", \"adam\", \"socceroo\", \"quarter\", \"greg\", \"matter\", \"jump\", \"martin\", \"scorecentr\", \"crocodil\", \"detect\", \"drown\", \"cook\", \"thing\", \"athlet\", \"champion\", \"england\", \"round\", \"steve\", \"smith\", \"scott\", \"final\", \"grand\", \"cricket\", \"tiger\", \"beat\", \"leagu\", \"peter\", \"world\", \"zealand\", \"win\", \"game\", \"open\", \"australia\", \"black\", \"test\", \"coach\", \"australian\", \"sydney\", \"melbourn\", \"season\", \"coronavirus\", \"wednesday\", \"updat\", \"biden\", \"korea\", \"domest\", \"mark\", \"footag\", \"brexit\", \"asylum\", \"survivor\", \"shorten\", \"seeker\", \"memori\", \"corrupt\", \"rememb\", \"queen\", \"moment\", \"myanmar\", \"veteran\", \"earthquak\", \"clark\", \"american\", \"anniversari\", \"thai\", \"danc\", \"leadership\", \"anzac\", \"matthew\", \"bishop\", \"reflect\", \"east\", \"rugbi\", \"honour\", \"violenc\", \"indonesia\", \"human\", \"thousand\", \"histori\", \"fiji\", \"presid\", \"elect\", \"south\", \"march\", \"north\", \"parti\", \"right\", \"liber\", \"protest\", \"covid\", \"coronavirus\", \"australia\", \"china\", \"queensland\", \"border\", \"live\", \"say\", \"australian\", \"search\", \"outback\", \"burn\", \"univers\", \"america\", \"paul\", \"drone\", \"decemb\", \"mask\", \"safe\", \"person\", \"accid\", \"friend\", \"fake\", \"planet\", \"offenc\", \"custodi\", \"recov\", \"underway\", \"nativ\", \"helicopt\", \"toddler\", \"exchang\", \"geelong\", \"expans\", \"box\", \"garden\", \"exhibit\", \"boy\", \"pfizer\", \"prime\", \"pilot\", \"popul\", \"crash\", \"injur\", \"miss\", \"mental\", \"truck\", \"territori\", \"plane\", \"bodi\", \"dead\", \"fatal\", \"woman\", \"parent\", \"whale\", \"kid\", \"die\", \"kill\", \"beach\", \"road\", \"death\", \"polic\", \"near\", \"rescu\", \"girl\", \"sydney\", \"melbourn\", \"home\", \"monday\", \"cattl\", \"rate\", \"blog\", \"happen\", \"wait\", \"origin\", \"sunday\", \"space\", \"summer\", \"export\", \"photo\", \"diseas\", \"unemploy\", \"sunshin\", \"electr\", \"heat\", \"crew\", \"sheep\", \"heavi\", \"strand\", \"heritag\", \"infect\", \"tension\", \"mountain\", \"beef\", \"cruis\", \"competit\", \"hotspot\", \"saudi\", \"stock\", \"dog\", \"tenni\", \"coal\", \"damag\", \"ship\", \"price\", \"rain\", \"live\", \"crop\", \"brief\", \"market\", \"record\", \"rise\", \"bushfir\", \"coronavirus\", \"cyclon\", \"covid\", \"flood\", \"australian\", \"fall\", \"coast\", \"case\", \"farmer\", \"share\", \"australia\", \"victoria\", \"morrison\", \"stab\", \"rape\", \"suicid\", \"bail\", \"homeless\", \"cctv\", \"phone\", \"wife\", \"anthoni\", \"bash\", \"winter\", \"speech\", \"biki\", \"barrier\", \"josh\", \"destroy\", \"generat\", \"effect\", \"scene\", \"frydenberg\", \"mobil\", \"christian\", \"wrong\", \"mysteri\", \"guard\", \"taylor\", \"partner\", \"harbour\", \"thailand\", \"terror\", \"raid\", \"murder\", \"suspect\", \"facebook\", \"alleg\", \"charg\", \"arrest\", \"interview\", \"refus\", \"polic\", \"shoot\", \"court\", \"accus\", \"abus\", \"vaccin\", \"attack\", \"trial\", \"case\", \"solar\", \"extend\", \"death\", \"drug\", \"child\", \"sydney\", \"coronavirus\", \"face\", \"guilti\", \"sexual\", \"pandem\", \"david\", \"plead\", \"septemb\", \"quiz\", \"april\", \"toni\", \"ash\", \"drink\", \"volunt\", \"walk\", \"kimberley\", \"plus\", \"compens\", \"daughter\", \"fraud\", \"milk\", \"cannabi\", \"import\", \"brother\", \"spike\", \"vanuatu\", \"syrian\", \"term\", \"inform\", \"fruit\", \"ocean\", \"self\", \"mother\", \"coupl\", \"suspend\", \"sentenc\", \"quarantin\", \"assault\", \"jail\", \"drive\", \"avoid\", \"lawyer\", \"appeal\", \"abbott\", \"charg\", \"polic\", \"driver\", \"court\", \"murder\", \"coronavirus\", \"alleg\", \"year\", \"restrict\", \"friday\", \"age\", \"thursday\", \"michael\", \"royal\", \"explain\", \"hill\", \"andrew\", \"octob\", \"georg\", \"global\", \"rollout\", \"islam\", \"harvest\", \"run\", \"pictur\", \"respond\", \"januari\", \"privat\", \"agricultur\", \"perform\", \"wallabi\", \"richard\", \"episod\", \"zero\", \"sever\", \"smoke\", \"loan\", \"special\", \"money\", \"commiss\", \"care\", \"flight\", \"result\", \"eas\", \"billion\", \"coronavirus\", \"hobart\", \"covid\", \"australia\", \"queensland\", \"news\", \"stori\", \"sport\", \"insid\", \"august\", \"hong\", \"kong\", \"spring\", \"analysi\", \"robert\", \"watch\", \"alic\", \"chris\", \"berejiklian\", \"fact\", \"isol\", \"reserv\", \"darl\", \"retail\", \"funer\", \"gladi\", \"kelli\", \"activ\", \"heatwav\", \"wide\", \"jack\", \"cent\", \"apart\", \"plastic\", \"mike\", \"social\", \"footbal\", \"real\", \"activist\", \"know\", \"confer\", \"rural\", \"press\", \"busi\", \"speak\", \"nation\", \"femal\", \"retir\", \"media\", \"festiv\", \"murray\", \"australia\", \"tasmania\", \"donald\", \"drum\", \"tuesday\", \"wall\", \"alan\", \"disabl\", \"grandstand\", \"novemb\", \"jam\", \"tree\", \"princ\", \"februari\", \"wine\", \"palmer\", \"israel\", \"afghanistan\", \"koala\", \"icac\", \"chariti\", \"stephen\", \"dozen\", \"worst\", \"clive\", \"recommend\", \"inspir\", \"vision\", \"complaint\", \"camera\", \"photograph\", \"model\", \"captur\", \"pain\", \"weather\", \"june\", \"celebr\", \"christma\", \"camp\", \"street\", \"cancer\", \"onlin\", \"cultur\", \"pacif\", \"wild\", \"great\", \"australia\", \"australian\"], \"Freq\": [7285.0, 5765.0, 4685.0, 3397.0, 4275.0, 4179.0, 4584.0, 5812.0, 2996.0, 2908.0, 8910.0, 2889.0, 3836.0, 2613.0, 3249.0, 3966.0, 4235.0, 2308.0, 2195.0, 2202.0, 2211.0, 2401.0, 4470.0, 2258.0, 2033.0, 1986.0, 2693.0, 3121.0, 2217.0, 2496.0, 7284.2542991502305, 2310.0730558153414, 1797.2657417167775, 1488.313091064479, 1278.703520777824, 1151.017287908586, 1059.750927552221, 1010.8458203111555, 974.5781344492358, 961.1003780843927, 986.1928718458896, 900.5652374422299, 783.1611849982567, 783.1032664196331, 797.576466129841, 729.7510607181079, 737.174263234163, 694.8110766351555, 655.8016679093257, 652.5667348347182, 615.050662992154, 565.696214137405, 571.7011848706651, 557.3298582687039, 538.8066117190009, 536.0789818030053, 530.3480071942872, 543.9291834543434, 522.4068029097705, 517.3229438148878, 1076.3206251299066, 615.8547344167549, 2624.201255656575, 849.3485430127746, 3651.0933580225733, 637.7838769671362, 2196.9996631463164, 2370.3427506275807, 3880.5863591641887, 1344.8645834139163, 1274.5673264975721, 901.3232489882815, 2649.7613946775227, 1173.0923440294464, 2469.415143274138, 2001.9053136157847, 1060.3832196909634, 1610.7560598487055, 1540.1019248062132, 1902.4113355883264, 1605.39214638033, 1207.8919571952151, 1572.8448269025796, 1392.2981806544615, 2248.8017305098724, 2660.1625058339673, 1360.70325228485, 1318.5936957819958, 1421.986436290393, 1316.607019789119, 1642.0035626791848, 1525.0056277464507, 1346.8766095265173, 1460.1228986053209, 1294.1963968292005, 2888.7758490709953, 1615.508314175154, 1571.0747120217593, 1454.4448879343859, 1198.7395059484088, 1135.904495802746, 1043.199808984101, 980.7226737040681, 900.2142263711501, 991.0517683923067, 807.3575930472846, 765.3749370381037, 751.2786146737573, 737.0064918367038, 692.2826555200033, 679.3326960150457, 669.1401244448314, 659.9920952371739, 652.812900617165, 647.958062730354, 646.764253349335, 643.9663463465329, 632.833144217332, 614.8084982046761, 611.4367889154915, 596.6669350746695, 594.0358097842646, 572.8832224241334, 572.28164497013, 638.0736321373939, 1095.0570925859054, 949.68545969097, 765.0167354057959, 1141.8217175127268, 2223.9938771625757, 2513.548888604951, 1173.2373273388266, 1548.6323765839793, 899.5335713810962, 1720.668758575109, 1524.9794359579364, 1263.6003387903452, 2424.9613965744393, 1203.3412957198584, 1450.311289459023, 1299.1211837441663, 1750.8757238130133, 2838.3366674979166, 1035.4214549835053, 1512.6621620947178, 904.9439779736632, 1580.7564165677536, 1250.6206435176991, 1186.3286461086411, 1021.1683499671054, 1097.5416956979423, 1695.2755021302708, 1775.6441416379685, 1488.0077036921373, 1401.5627363366793, 1291.1452891032213, 1567.3073387976185, 1141.9848560341256, 931.0929754292441, 919.5942519153268, 896.9369369792782, 809.0339130124154, 808.7224216526288, 765.4643086546998, 750.9260484585059, 741.4434078441689, 708.1955738697027, 706.2971738035673, 699.913410473101, 748.707858084096, 663.3390709133815, 700.4997655027313, 645.1977567131495, 636.7615323855956, 608.0545335943007, 590.0382652043676, 633.7492012788132, 710.3565451782222, 533.7572924837577, 533.3903292051309, 526.2485536473633, 1449.6681840288516, 1249.671138039647, 778.2120551151013, 1677.880282118534, 1151.9705502026693, 942.0478994238225, 1078.0903156541165, 1103.496579279147, 965.8984533969701, 1450.671296028036, 2407.3202905437465, 2078.3753061154457, 1063.3475144568447, 1626.2031666711164, 1169.6702729859924, 1033.4326130728514, 1135.3656646386603, 1507.6350288565757, 2495.494559090135, 2800.2531629230184, 2234.853664603823, 1397.2907122067854, 1474.937670999104, 1163.7651655491404, 1152.0750046370208, 1238.433987398371, 1248.7508907291237, 2257.520568700011, 1474.7440449352555, 1472.7754618618358, 1388.7052646029329, 1222.8888984425505, 1084.2872202722633, 1066.6408454460793, 986.9780375730263, 962.433033163308, 1006.5526940556707, 930.6395996881298, 831.2012288648774, 801.8922486125454, 728.3897315470457, 710.0092823273012, 695.9988040392102, 692.9090487595564, 686.5683325324109, 667.9132210477546, 665.9148473591159, 657.4680067100601, 655.2588764310922, 788.6286378652761, 645.3268895269579, 647.5044273389798, 625.6897087893883, 629.9424992970655, 607.9114384167913, 599.3096985809416, 591.7200588601212, 1233.0794510695025, 853.1233377773952, 671.426891977036, 3753.7647889350565, 1471.5859994751502, 2763.6544723816205, 1695.4063751950996, 1355.9289810724265, 1158.5977477138526, 1143.415945679794, 1559.5055526400656, 2304.4607281622966, 1456.6406003876677, 2473.1625796782205, 1174.6385525278738, 943.9372053713143, 1135.9477507653703, 2003.5111282825621, 2163.0713451235174, 1314.6791894873052, 1472.820628278458, 2184.986186567403, 2501.6337589392438, 1232.4367906202228, 1169.856678291439, 1103.6009085631208, 1245.5288050213621, 1173.2924491643919, 1108.207402564799, 2013.3710252926455, 1520.7627648272314, 1205.1391815306336, 1032.6583959525892, 1003.5761044307088, 1040.8635506762134, 966.3560423805972, 957.2884989770296, 938.1580731235836, 853.0647364509174, 1324.9983645799482, 844.7659827927004, 818.0534567777328, 811.7786334652164, 781.0037025634972, 770.5577447747959, 830.7525332807999, 761.42428332456, 693.2300700839995, 706.4827056996126, 670.655015770495, 653.520428853182, 641.8708216073463, 631.5902453948056, 609.2473117474157, 715.118556272642, 599.0466113174035, 578.0110718109167, 559.1432625170618, 559.4493357248567, 787.8245783070882, 894.8818198588018, 640.0122141918572, 1356.4805656265241, 1232.0019584669215, 1038.3511582213491, 2018.7946026555271, 1414.1512324878654, 2462.8267754456533, 861.7036366132945, 1057.510320589802, 1865.5553183583218, 1702.6288962064368, 1392.5384409054395, 1404.9095692617373, 2236.2699678038507, 977.749660059078, 1897.3821230011813, 1187.8354596964246, 1727.5632770479338, 1112.7580887144422, 1199.300508140779, 1309.4828750224365, 1138.8089711328696, 1044.5892105238468, 1348.0103312134513, 1144.5154565536939, 2907.1378088402935, 1879.7520819898643, 1231.174331045038, 1139.9626082411562, 1099.6572979334674, 1038.795969089332, 982.0377996685024, 933.3316712193148, 806.4596949756823, 803.5472045002793, 797.0810941159874, 772.9072163171264, 771.7496438518986, 768.9721249699047, 773.6772266718627, 752.5955141770936, 989.1382593040659, 726.8934522580499, 717.0590852515176, 661.5047429288211, 654.8832629453046, 646.6340220977239, 642.5001220177669, 637.1468808634229, 767.458880234263, 591.2207994997667, 586.3095342911456, 578.2986915453334, 655.0592603870297, 549.3782839819994, 1093.2823177948742, 1088.5194121665777, 3277.135570008808, 1192.7136899731117, 1179.2327341185094, 2588.6572511590057, 3362.5700029740715, 2089.867285700823, 2241.6955612790557, 882.20381107689, 3325.6276630448624, 1859.792259814939, 2330.6435076516336, 1716.1992625056582, 1398.3024900048886, 1771.0693235572141, 1590.787381264205, 1382.6856618343204, 1537.5005502189474, 846.8230965055665, 1004.6120141380701, 1269.721620547301, 1049.4002889914293, 1046.1973998642216, 1111.2737036790334, 1154.3344110877615, 1009.8340185451402, 2307.948010214346, 1915.0697584992133, 1872.3590865804485, 1766.0645382763448, 1514.7887473093738, 1375.3803709999954, 1235.2907219290396, 1187.6250180640463, 1071.7021824882258, 1047.1134763549899, 977.6046783315967, 938.6738290543926, 936.769133838867, 867.1050497568633, 820.9684308860532, 768.6267135062534, 762.9996763145567, 757.9749173423662, 719.2275979823903, 721.0694064814626, 847.8995017158152, 712.4447691388258, 693.4887269034955, 692.8680239793442, 689.2253385106807, 725.9761701146236, 645.782808638244, 804.2076866928062, 637.2182998227423, 630.3937119929014, 1624.254551363887, 995.2531181749895, 1025.5364923020027, 2050.7199363712853, 1720.2767200267049, 1973.6053761393712, 2156.2120722389595, 1375.8581997174676, 851.914101432135, 927.5863493058141, 1076.5736964619014, 870.5922836755573, 1414.3701352010346, 1504.8790143996355, 1065.9164942469506, 1282.1233422923856, 1133.6884052929329, 1348.867662326007, 1065.439217167342, 1070.5599611278033, 2995.2758730404603, 1975.1226889025854, 1925.2890411195474, 1836.0151714315925, 1780.0329037969113, 2612.49701688963, 1753.893919206191, 1767.53774074497, 2210.434589012814, 1278.787762330893, 1216.8612962148961, 1121.3611499900614, 1005.0113022911669, 974.9989641587695, 901.9989103879237, 871.2947992597437, 863.3353618603165, 851.4220913229213, 759.2042449799086, 752.5962895634648, 750.9011581064447, 737.6879636596661, 770.730510390467, 720.8647453363745, 683.8438114676783, 662.3026033101995, 652.2172475743337, 707.0904840018862, 626.3864929132864, 648.9608332542573, 1159.6128730785408, 2030.5925715496296, 1828.579517188966, 1138.7900158907355, 1068.1389436921106, 1035.0759441717826, 890.896774047693, 2398.61793580488, 984.3612285648891, 1581.198553808615, 988.8033187903486, 897.7549565610099, 5764.286420516195, 2201.846356756864, 1985.1351704203428, 1464.887559775475, 1444.5382267817781, 1297.4054587059306, 1278.5771708882214, 1199.4063767813757, 1051.794518744761, 915.6550588637506, 982.3513975833898, 868.5365350425179, 842.6710178360621, 828.0156297564145, 787.1362709324517, 758.4539665544775, 740.761933516944, 719.8044966102035, 707.1279333269794, 700.5341893991832, 707.4185812365114, 677.8926596511185, 665.0228895968309, 657.3146724652173, 632.1387830044735, 622.1495740640225, 617.1474559971447, 616.0257571742468, 603.0207423802146, 598.287543006069, 1563.613706530108, 1126.7237697322814, 659.7734773349033, 671.6490440913717, 1430.1928596483274, 692.9182298097415, 3361.0195440263897, 776.4071690700771, 1756.0271255623913, 1552.2243506343702, 2009.3512568132371, 793.0217471116906, 863.4860367435364, 952.3165934484126, 866.5394891197178, 806.5606723242958, 857.5354252734566, 789.403649256065, 4684.684980120407, 3396.3502043107123, 2194.5590284638574, 2032.8618956205353, 1654.1519290768276, 1571.2069686241296, 1497.3665110534282, 1399.4297395745361, 1368.9222693719446, 1356.8768663509652, 1166.2196732872615, 953.603919414657, 885.3936027066158, 851.2987090123917, 848.1443039496406, 811.5280092372907, 759.4071712240304, 746.3094152521028, 736.8686321008684, 695.1541061893652, 676.5754224581618, 672.5880277350417, 655.4428412980618, 649.3156906152033, 644.5057211060443, 644.2686325004993, 647.6669859658302, 633.4617983806313, 622.8354720586492, 622.3003077469142, 844.9489403907256, 694.9217743773844, 2212.7508096279976, 1361.2163639408632, 1583.9077075837306, 1624.4941724193468, 831.9170284560297, 1610.0342209851483, 1107.2903114666954, 954.2511437684637, 860.7821530911709, 923.3622287935297, 814.3103829718053, 843.704863623382, 877.4489563101196, 833.4740521683905], \"Total\": [7285.0, 5765.0, 4685.0, 3397.0, 4275.0, 4179.0, 4584.0, 5812.0, 2996.0, 2908.0, 8910.0, 2889.0, 3836.0, 2613.0, 3249.0, 3966.0, 4235.0, 2308.0, 2195.0, 2202.0, 2211.0, 2401.0, 4470.0, 2258.0, 2033.0, 1986.0, 2693.0, 3121.0, 2217.0, 2496.0, 7285.188849235628, 2311.0071264925996, 1798.202358068721, 1489.3879134160743, 1279.637396417486, 1151.9525146507556, 1060.6958411729952, 1011.8048992816417, 975.5171613748195, 962.0345265796589, 987.1755985187154, 901.6090408389259, 784.0950340617961, 784.0382772847422, 798.5418476278842, 730.6849153353171, 738.1412297915307, 695.764705604366, 656.7356130393008, 653.5011753245218, 615.9844950080933, 566.6301626423713, 572.6529033268934, 558.2639533795455, 539.7450122201544, 537.0134586729981, 531.2831747850161, 544.8990278830618, 523.3407176068624, 518.2568600038, 1078.735621087966, 617.1275511256354, 2693.7586076815583, 856.134824176582, 3836.817924912066, 646.3406874815645, 2612.7822893789635, 3014.7605937115927, 6442.719599682743, 1699.590262321354, 1621.381745423822, 1022.2075896909182, 4635.775302615872, 1481.7228405535407, 4233.8737873434975, 3341.6411163332264, 1326.0399811979196, 2781.984183945376, 2618.7240719920205, 3921.9049616669095, 2892.4606189666592, 1719.7831406637326, 3003.925592207805, 2399.1664951741377, 8111.660171952163, 15472.220549938487, 2547.777102108916, 2770.587661864189, 4042.7112191548094, 3150.4336438716477, 11150.19926535398, 7234.258938220049, 3855.1437108353143, 11725.95813459243, 2961.9528080551695, 2889.7122710653684, 1616.444509973434, 1572.0107522608878, 1455.3810404058745, 1199.7208291101288, 1136.8434190910227, 1044.1359289868058, 981.6586693265334, 901.1503433881729, 992.1501425299226, 808.2937274986504, 766.3110698576257, 752.214869387838, 737.9431601491007, 693.2189474430046, 680.2687057919795, 670.0774849019192, 660.93025104852, 653.7489235448709, 648.8941366301458, 647.7013912427549, 644.9084811054062, 633.7704385849797, 615.7445376503996, 612.3728894270753, 597.6039798430567, 594.9720249659123, 573.8192287758665, 573.2196152966517, 639.1303454452157, 1098.2652147828214, 952.0982243524085, 770.1509837941009, 1182.0713756730052, 2617.9858060553297, 3017.2152568760907, 1280.5265889646557, 1792.4542423000137, 963.1708064127786, 2120.644831591014, 2010.990175668069, 1580.2137947098324, 4499.106188861335, 1678.5331728698911, 2568.1225238914662, 2193.570183287432, 4079.8705660679293, 11725.95813459243, 1581.7312536118513, 4211.6257803553435, 1175.4822555787684, 8808.364607874793, 6578.766504319941, 5320.458996819068, 2196.378880206451, 15472.220549938487, 1696.2209884293836, 1776.6968923785098, 1488.9612783847124, 1402.5100134280751, 1292.1048153621402, 1568.4794981421876, 1142.9304097533297, 932.0417826631453, 920.5397800104638, 897.8841709039194, 809.9793628129246, 809.667872715481, 766.4101389639312, 751.8729030773591, 742.3889613199425, 709.14109478111, 707.242688264477, 700.8588910409745, 749.7312790877587, 664.2870857297855, 701.5046266230552, 646.1439945305403, 637.706976379652, 609.0169479468802, 590.9843661011438, 634.7801264572589, 711.5700666542195, 534.7027817295207, 534.3357848140658, 527.1940351719861, 1454.8735047847504, 1253.077240310545, 780.1379123620516, 1764.9092868452003, 1232.0445860739687, 1029.4058061258763, 1223.9465433283276, 1282.6210395853104, 1106.0885361595172, 2111.9184907531508, 5427.1066776397565, 4504.616986174604, 1479.0425270541655, 3338.3376776761274, 1865.9099581835833, 1476.8616833092274, 1813.606037910477, 3477.400726070982, 11150.19926535398, 15472.220549938487, 11725.95813459243, 4754.090087366071, 7234.258938220049, 3003.1210158809454, 4470.278633212553, 8111.660171952163, 8808.364607874793, 2258.463796761701, 1475.6750297548665, 1473.7144671335684, 1389.6476440463248, 1223.826628982917, 1085.217008413102, 1067.5705889259402, 987.907759056974, 963.3638441419802, 1007.5276758040249, 931.5788691098221, 832.1341431695578, 802.826074720219, 729.3195205223118, 710.9389639957424, 696.9286520888762, 693.8395456251267, 687.498189058985, 668.8439149788722, 666.8446192852235, 658.3985973471765, 656.1925779730326, 789.7645245591075, 646.2588979583575, 648.4440128654687, 626.6194846121685, 630.8903907170284, 608.8412077339821, 600.2397716329109, 592.651614510878, 1237.4616783750694, 854.4794695821967, 673.3801994159987, 4275.021797805249, 1594.1614659922718, 3249.6730896722297, 1892.0749832415524, 1502.5081166809587, 1285.0393445963532, 1266.5287775036682, 1833.6490085229993, 3230.8004505665526, 1908.0547904227435, 4235.692121747627, 1477.2719745730583, 1079.4837475047107, 1432.3407183156214, 3720.3680801687624, 4316.697183209287, 1923.876966522655, 2414.703784550292, 5447.816196243594, 8910.810763875399, 2170.827523126706, 1988.552664602919, 1685.2740044744385, 6578.766504319941, 5320.458996819068, 4427.79760900295, 2014.3048994165408, 1521.7092623194396, 1206.1111156859838, 1033.5920558629275, 1004.509812079961, 1041.8362963711036, 967.2899492582202, 958.2222140556945, 939.0926188121708, 853.998443641127, 1326.4854218992068, 845.7160766707643, 818.9891562486451, 812.7139688092086, 781.938192742488, 771.4914992091752, 831.7847523339673, 762.4081018145947, 694.1638483239271, 707.4433019479691, 671.5891718542621, 654.4672097579685, 642.8045502243746, 632.5239579636963, 610.1811158419166, 716.2272261951445, 599.9807552209986, 578.9473476908415, 560.0770077975628, 560.39217715768, 790.1275101541423, 898.7024572402385, 641.9822561958475, 1501.264228514153, 1424.6305334290323, 1166.3301919336968, 2777.875851635502, 1793.865627860545, 4470.278633212553, 993.9801152303448, 1523.9455263095977, 4598.011830056089, 4769.327089192101, 3252.2575833454903, 3662.9219956715465, 15472.220549938487, 1483.7762937075138, 11150.19926535398, 2699.729039441855, 8808.364607874793, 2492.224087542209, 3902.116993057707, 6276.243631183841, 3262.808899649476, 2242.7528446001224, 11725.95813459243, 5923.067542044779, 2908.0637090512655, 1880.679823280307, 1232.1006933789238, 1140.892696183168, 1100.5869653554234, 1039.7232658685257, 982.9634821422379, 934.2584613806818, 807.3860522254365, 804.4729280381916, 798.0068515754249, 773.8332147396909, 772.6755696475685, 769.8977444975557, 774.6110417448845, 753.5211751454613, 990.365578982857, 727.8191418222224, 717.9848879254989, 662.4304683664378, 655.8090659191063, 647.5597173699847, 643.4258061430994, 638.0753094803608, 768.6456418085916, 592.1503754469002, 587.2352310503106, 579.2258274275174, 656.1493900817588, 550.305914095676, 1123.4488782561236, 1122.345464582236, 4584.983847499435, 1372.0595680279016, 1378.461248501373, 3966.387596962026, 5812.811762994303, 3262.9267370043167, 3949.729872283803, 1021.8186446568977, 8910.810763875399, 3447.771689256924, 5119.55157348742, 3128.1199492148194, 2328.1016038851308, 4379.5028056726815, 4097.476011593243, 2990.9785656958984, 6276.243631183841, 964.938963496948, 1875.1832946372126, 5447.816196243594, 2628.125883795616, 2741.0067000931585, 6578.766504319941, 15472.220549938487, 3792.2479909031413, 2308.8784011699113, 1915.9993318583577, 1873.289974343631, 1766.9940505827167, 1515.7182849317585, 1376.3098432602603, 1236.2202269683405, 1188.5601064249875, 1072.631642413738, 1048.0443656831887, 978.5487728045408, 939.6235289722996, 937.7243585181179, 868.0345509077058, 821.897872714908, 769.556631423277, 763.9300118112214, 758.9052576697821, 720.1570817411581, 722.002970285457, 849.0021879275707, 713.3769440313712, 694.4182380953655, 693.7974907833637, 690.1551089795246, 726.966848599437, 646.7124416309521, 805.3753994766449, 638.1488375711858, 631.3255857456171, 1626.8007003400912, 998.4377852589242, 1030.4439665255768, 2496.646758099741, 2060.483442750734, 2518.2836987244223, 3121.3084479832182, 1720.3303024538116, 1000.4927343987398, 1190.248073222115, 1637.707942237296, 1126.8371072735713, 5812.811762994303, 8910.810763875399, 2397.0946609052867, 5119.55157348742, 4584.983847499435, 15472.220549938487, 3966.387596962026, 6571.362325662946, 2996.2197452112914, 1976.073713597166, 1926.2257935886855, 1836.9516510866792, 1780.969423037961, 2613.898019236851, 1754.842727602066, 1768.4971042562772, 2211.756320606143, 1279.7242217684593, 1217.7978549254626, 1122.3138840596907, 1005.9478500980775, 975.9355410316864, 902.9522561572649, 872.2370798212929, 864.2718068958803, 852.3672172497639, 760.1407041589875, 753.5328471052361, 751.8378023668204, 738.6281141055899, 771.7317805248189, 721.8012417089718, 684.7802765828168, 663.2391218234877, 653.1538368534121, 708.1206189441475, 627.3230350091021, 649.940405121921, 1183.7798347553462, 2217.2397589435095, 2288.8165145084604, 1429.9934136056365, 1312.0226068513214, 1320.961039066726, 1088.8341991114435, 15472.220549938487, 1801.9023762807183, 11150.19926535398, 11725.95813459243, 7234.258938220049, 5765.3059954813625, 2202.7762770850204, 1986.065548306588, 1465.8175338154572, 1445.4681175807254, 1298.3353424837185, 1279.507053492998, 1200.337890242235, 1052.7243877595772, 916.5854777905766, 983.3823630246876, 869.4899672278871, 843.6009224818832, 828.945759640362, 788.0661921877253, 759.383991507027, 741.6921466220148, 720.7345589835584, 708.0599711940887, 701.464616933966, 708.3669964324093, 678.831152708885, 665.9528236594283, 658.2445871672099, 633.0694923868655, 623.0794986953535, 618.077846120764, 616.9567293205359, 603.9515922135591, 599.2174140296961, 1569.8266489164619, 1130.761640580892, 661.0637743559387, 673.1966104559149, 1467.0380802654415, 696.1075464917882, 4179.32779757497, 862.3088101812451, 3519.5479420622355, 2890.2417306542625, 4814.514887115022, 982.5362174203497, 1327.0254487970767, 1903.4702474477451, 1430.3027346941053, 1241.7475186214313, 11725.95813459243, 3901.294703576568, 4685.6087470470375, 3397.2732620665247, 2195.482052223392, 2033.8027556800143, 1655.1157793240427, 1572.1375911042503, 1498.2895121672939, 1400.352766905059, 1369.8454021876853, 1357.800084630632, 1167.1443211072897, 954.526938650317, 886.3240036774991, 852.2217329165279, 849.0867909659373, 812.5026966373139, 760.3302883112451, 747.2335532579526, 737.7919354430202, 696.0771595116314, 677.4985950244775, 673.5111659061588, 656.3658586261519, 650.2391973240675, 645.428822548267, 645.1917065947794, 648.5982541504217, 634.3848689306707, 623.7586376302439, 623.2235169804584, 852.5209873274891, 698.3391100792679, 2401.7387939964383, 1433.0119266616116, 1781.3435501024846, 1956.6959667610906, 901.0511756184892, 2461.7444470325945, 1420.1566190950607, 1297.2282492910144, 1123.8694172007815, 1666.2163539051528, 1181.0597234922684, 1443.5734939043568, 11725.95813459243, 8808.364607874793], \"Category\": [\"Default\", \"Default\", \"Default\", \"Default\", \"Default\", \"Default\", \"Default\", \"Default\", \"Default\", \"Default\", \"Default\", \"Default\", \"Default\", \"Default\", \"Default\", \"Default\", \"Default\", \"Default\", \"Default\", \"Default\", \"Default\", \"Default\", \"Default\", \"Default\", \"Default\", \"Default\", \"Default\", \"Default\", \"Default\", \"Default\", \"Topic1\", \"Topic1\", \"Topic1\", \"Topic1\", \"Topic1\", \"Topic1\", \"Topic1\", \"Topic1\", \"Topic1\", \"Topic1\", \"Topic1\", \"Topic1\", \"Topic1\", \"Topic1\", \"Topic1\", \"Topic1\", \"Topic1\", \"Topic1\", \"Topic1\", \"Topic1\", \"Topic1\", \"Topic1\", \"Topic1\", \"Topic1\", \"Topic1\", \"Topic1\", \"Topic1\", \"Topic1\", \"Topic1\", \"Topic1\", \"Topic1\", \"Topic1\", \"Topic1\", \"Topic1\", \"Topic1\", \"Topic1\", \"Topic1\", \"Topic1\", \"Topic1\", \"Topic1\", \"Topic1\", \"Topic1\", \"Topic1\", \"Topic1\", \"Topic1\", \"Topic1\", \"Topic1\", \"Topic1\", \"Topic1\", \"Topic1\", \"Topic1\", \"Topic1\", \"Topic1\", \"Topic1\", \"Topic1\", \"Topic1\", \"Topic1\", \"Topic1\", \"Topic1\", \"Topic1\", \"Topic1\", \"Topic1\", \"Topic1\", \"Topic1\", \"Topic1\", \"Topic2\", \"Topic2\", \"Topic2\", \"Topic2\", \"Topic2\", \"Topic2\", \"Topic2\", \"Topic2\", \"Topic2\", \"Topic2\", \"Topic2\", \"Topic2\", \"Topic2\", \"Topic2\", \"Topic2\", \"Topic2\", \"Topic2\", \"Topic2\", \"Topic2\", \"Topic2\", \"Topic2\", \"Topic2\", \"Topic2\", \"Topic2\", \"Topic2\", \"Topic2\", \"Topic2\", \"Topic2\", \"Topic2\", \"Topic2\", \"Topic2\", \"Topic2\", \"Topic2\", \"Topic2\", \"Topic2\", \"Topic2\", \"Topic2\", \"Topic2\", \"Topic2\", \"Topic2\", \"Topic2\", \"Topic2\", \"Topic2\", \"Topic2\", \"Topic2\", \"Topic2\", \"Topic2\", \"Topic2\", \"Topic2\", \"Topic2\", \"Topic2\", \"Topic2\", \"Topic2\", \"Topic2\", \"Topic2\", \"Topic2\", \"Topic3\", \"Topic3\", \"Topic3\", \"Topic3\", \"Topic3\", \"Topic3\", \"Topic3\", \"Topic3\", \"Topic3\", \"Topic3\", \"Topic3\", \"Topic3\", \"Topic3\", \"Topic3\", \"Topic3\", \"Topic3\", \"Topic3\", \"Topic3\", \"Topic3\", \"Topic3\", \"Topic3\", \"Topic3\", \"Topic3\", \"Topic3\", \"Topic3\", \"Topic3\", \"Topic3\", \"Topic3\", \"Topic3\", \"Topic3\", \"Topic3\", \"Topic3\", \"Topic3\", \"Topic3\", \"Topic3\", \"Topic3\", \"Topic3\", \"Topic3\", \"Topic3\", \"Topic3\", \"Topic3\", \"Topic3\", \"Topic3\", \"Topic3\", \"Topic3\", \"Topic3\", \"Topic3\", \"Topic3\", \"Topic3\", \"Topic3\", \"Topic3\", \"Topic3\", \"Topic3\", \"Topic3\", \"Topic3\", \"Topic3\", \"Topic3\", \"Topic4\", \"Topic4\", \"Topic4\", \"Topic4\", \"Topic4\", \"Topic4\", \"Topic4\", \"Topic4\", \"Topic4\", \"Topic4\", \"Topic4\", \"Topic4\", \"Topic4\", \"Topic4\", \"Topic4\", \"Topic4\", \"Topic4\", \"Topic4\", \"Topic4\", \"Topic4\", \"Topic4\", \"Topic4\", \"Topic4\", \"Topic4\", \"Topic4\", \"Topic4\", \"Topic4\", \"Topic4\", \"Topic4\", \"Topic4\", \"Topic4\", \"Topic4\", \"Topic4\", \"Topic4\", \"Topic4\", \"Topic4\", \"Topic4\", \"Topic4\", \"Topic4\", \"Topic4\", \"Topic4\", \"Topic4\", \"Topic4\", \"Topic4\", \"Topic4\", \"Topic4\", \"Topic4\", \"Topic4\", \"Topic4\", \"Topic4\", \"Topic4\", \"Topic4\", \"Topic4\", \"Topic4\", \"Topic4\", \"Topic4\", \"Topic4\", \"Topic4\", \"Topic4\", \"Topic5\", \"Topic5\", \"Topic5\", \"Topic5\", \"Topic5\", \"Topic5\", \"Topic5\", \"Topic5\", \"Topic5\", \"Topic5\", \"Topic5\", \"Topic5\", \"Topic5\", \"Topic5\", \"Topic5\", \"Topic5\", \"Topic5\", \"Topic5\", \"Topic5\", \"Topic5\", \"Topic5\", \"Topic5\", \"Topic5\", \"Topic5\", \"Topic5\", \"Topic5\", \"Topic5\", \"Topic5\", \"Topic5\", \"Topic5\", \"Topic5\", \"Topic5\", \"Topic5\", \"Topic5\", \"Topic5\", \"Topic5\", \"Topic5\", \"Topic5\", \"Topic5\", \"Topic5\", \"Topic5\", \"Topic5\", \"Topic5\", \"Topic5\", \"Topic5\", \"Topic5\", \"Topic5\", \"Topic5\", \"Topic5\", \"Topic5\", \"Topic5\", \"Topic5\", \"Topic5\", \"Topic5\", \"Topic5\", \"Topic5\", \"Topic5\", \"Topic6\", \"Topic6\", \"Topic6\", \"Topic6\", \"Topic6\", \"Topic6\", \"Topic6\", \"Topic6\", \"Topic6\", \"Topic6\", \"Topic6\", \"Topic6\", \"Topic6\", \"Topic6\", \"Topic6\", \"Topic6\", \"Topic6\", \"Topic6\", \"Topic6\", \"Topic6\", \"Topic6\", \"Topic6\", \"Topic6\", \"Topic6\", \"Topic6\", \"Topic6\", \"Topic6\", \"Topic6\", \"Topic6\", \"Topic6\", \"Topic6\", \"Topic6\", \"Topic6\", \"Topic6\", \"Topic6\", \"Topic6\", \"Topic6\", \"Topic6\", \"Topic6\", \"Topic6\", \"Topic6\", \"Topic6\", \"Topic6\", \"Topic6\", \"Topic6\", \"Topic6\", \"Topic6\", \"Topic6\", \"Topic6\", \"Topic6\", \"Topic6\", \"Topic6\", \"Topic6\", \"Topic6\", \"Topic6\", \"Topic6\", \"Topic6\", \"Topic7\", \"Topic7\", \"Topic7\", \"Topic7\", \"Topic7\", \"Topic7\", \"Topic7\", \"Topic7\", \"Topic7\", \"Topic7\", \"Topic7\", \"Topic7\", \"Topic7\", \"Topic7\", \"Topic7\", \"Topic7\", \"Topic7\", \"Topic7\", \"Topic7\", \"Topic7\", \"Topic7\", \"Topic7\", \"Topic7\", \"Topic7\", \"Topic7\", \"Topic7\", \"Topic7\", \"Topic7\", \"Topic7\", \"Topic7\", \"Topic7\", \"Topic7\", \"Topic7\", \"Topic7\", \"Topic7\", \"Topic7\", \"Topic7\", \"Topic7\", \"Topic7\", \"Topic7\", \"Topic7\", \"Topic7\", \"Topic7\", \"Topic7\", \"Topic7\", \"Topic7\", \"Topic7\", \"Topic7\", \"Topic7\", \"Topic7\", \"Topic8\", \"Topic8\", \"Topic8\", \"Topic8\", \"Topic8\", \"Topic8\", \"Topic8\", \"Topic8\", \"Topic8\", \"Topic8\", \"Topic8\", \"Topic8\", \"Topic8\", \"Topic8\", \"Topic8\", \"Topic8\", \"Topic8\", \"Topic8\", \"Topic8\", \"Topic8\", \"Topic8\", \"Topic8\", \"Topic8\", \"Topic8\", \"Topic8\", \"Topic8\", \"Topic8\", \"Topic8\", \"Topic8\", \"Topic8\", \"Topic8\", \"Topic8\", \"Topic8\", \"Topic8\", \"Topic8\", \"Topic8\", \"Topic8\", \"Topic8\", \"Topic8\", \"Topic8\", \"Topic8\", \"Topic8\", \"Topic9\", \"Topic9\", \"Topic9\", \"Topic9\", \"Topic9\", \"Topic9\", \"Topic9\", \"Topic9\", \"Topic9\", \"Topic9\", \"Topic9\", \"Topic9\", \"Topic9\", \"Topic9\", \"Topic9\", \"Topic9\", \"Topic9\", \"Topic9\", \"Topic9\", \"Topic9\", \"Topic9\", \"Topic9\", \"Topic9\", \"Topic9\", \"Topic9\", \"Topic9\", \"Topic9\", \"Topic9\", \"Topic9\", \"Topic9\", \"Topic9\", \"Topic9\", \"Topic9\", \"Topic9\", \"Topic9\", \"Topic9\", \"Topic9\", \"Topic9\", \"Topic9\", \"Topic9\", \"Topic9\", \"Topic9\", \"Topic9\", \"Topic9\", \"Topic9\", \"Topic9\", \"Topic9\", \"Topic9\", \"Topic10\", \"Topic10\", \"Topic10\", \"Topic10\", \"Topic10\", \"Topic10\", \"Topic10\", \"Topic10\", \"Topic10\", \"Topic10\", \"Topic10\", \"Topic10\", \"Topic10\", \"Topic10\", \"Topic10\", \"Topic10\", \"Topic10\", \"Topic10\", \"Topic10\", \"Topic10\", \"Topic10\", \"Topic10\", \"Topic10\", \"Topic10\", \"Topic10\", \"Topic10\", \"Topic10\", \"Topic10\", \"Topic10\", \"Topic10\", \"Topic10\", \"Topic10\", \"Topic10\", \"Topic10\", \"Topic10\", \"Topic10\", \"Topic10\", \"Topic10\", \"Topic10\", \"Topic10\", \"Topic10\", \"Topic10\", \"Topic10\", \"Topic10\", \"Topic10\", \"Topic10\"], \"logprob\": [30.0, 29.0, 28.0, 27.0, 26.0, 25.0, 24.0, 23.0, 22.0, 21.0, 20.0, 19.0, 18.0, 17.0, 16.0, 15.0, 14.0, 13.0, 12.0, 11.0, 10.0, 9.0, 8.0, 7.0, 6.0, 5.0, 4.0, 3.0, 2.0, 1.0, -3.9253, -5.0737, -5.3247, -5.5134, -5.6652, -5.7704, -5.853, -5.9002, -5.9368, -5.9507, -5.9249, -6.0157, -6.1554, -6.1555, -6.1372, -6.2261, -6.2159, -6.2751, -6.3329, -6.3378, -6.3971, -6.4807, -6.4701, -6.4956, -6.5294, -6.5345, -6.5452, -6.5199, -6.5603, -6.5701, -5.8375, -6.3958, -4.9462, -6.0743, -4.616, -6.3608, -5.1239, -5.048, -4.555, -5.6147, -5.6684, -6.0149, -4.9365, -5.7514, -5.007, -5.2169, -5.8524, -5.4343, -5.4792, -5.2679, -5.4376, -5.7221, -5.4581, -5.5801, -5.1006, -4.9326, -5.603, -5.6344, -5.559, -5.6359, -5.4151, -5.489, -5.6132, -5.5325, -5.6531, -4.5764, -5.1576, -5.1855, -5.2626, -5.456, -5.5098, -5.595, -5.6567, -5.7424, -5.6462, -5.8512, -5.9046, -5.9232, -5.9424, -6.005, -6.0239, -6.039, -6.0528, -6.0637, -6.0712, -6.073, -6.0774, -6.0948, -6.1237, -6.1292, -6.1536, -6.1581, -6.1943, -6.1954, -6.0866, -5.5464, -5.6889, -5.9051, -5.5046, -4.8379, -4.7156, -5.4775, -5.1999, -5.7431, -5.0945, -5.2153, -5.4033, -4.7514, -5.4522, -5.2655, -5.3756, -5.0771, -4.594, -5.6024, -5.2234, -5.7371, -5.1793, -5.4136, -5.4664, -5.6163, -5.5442, -5.0631, -5.0168, -5.1935, -5.2534, -5.3354, -5.1416, -5.4582, -5.6624, -5.6748, -5.6997, -5.8029, -5.8033, -5.8583, -5.8774, -5.8901, -5.936, -5.9387, -5.9478, -5.8804, -6.0014, -5.9469, -6.0292, -6.0423, -6.0885, -6.1185, -6.0471, -5.933, -6.2188, -6.2195, -6.233, -5.2196, -5.3681, -5.8417, -5.0734, -5.4495, -5.6507, -5.5158, -5.4925, -5.6257, -5.219, -4.7125, -4.8594, -5.5296, -5.1047, -5.4343, -5.5581, -5.464, -5.1804, -4.6765, -4.5613, -4.7868, -5.2564, -5.2024, -5.4393, -5.4494, -5.3771, -5.3688, -4.7385, -5.1643, -5.1657, -5.2244, -5.3516, -5.4719, -5.4883, -5.5659, -5.5911, -5.5463, -5.6247, -5.7377, -5.7736, -5.8697, -5.8953, -5.9152, -5.9197, -5.9289, -5.9564, -5.9594, -5.9722, -5.9755, -5.7903, -5.9908, -5.9874, -6.0217, -6.0149, -6.0505, -6.0648, -6.0775, -5.3433, -5.7117, -5.9512, -4.2301, -5.1665, -4.5363, -5.0249, -5.2483, -5.4056, -5.4188, -5.1084, -4.718, -5.1767, -4.6473, -5.3919, -5.6105, -5.4253, -4.8579, -4.7813, -5.2792, -5.1656, -4.7712, -4.6359, -5.3438, -5.3959, -5.4542, -5.3333, -5.393, -5.4501, -4.8292, -5.1098, -5.3424, -5.4968, -5.5254, -5.4889, -5.5632, -5.5726, -5.5928, -5.6879, -5.2476, -5.6977, -5.7298, -5.7375, -5.7761, -5.7896, -5.7144, -5.8015, -5.8954, -5.8764, -5.9285, -5.9543, -5.9723, -5.9885, -6.0245, -5.8643, -6.0414, -6.0771, -6.1103, -6.1098, -5.7674, -5.64, -5.9752, -5.2241, -5.3203, -5.4913, -4.8265, -5.1824, -4.6277, -5.6778, -5.473, -4.9054, -4.9968, -5.1978, -5.189, -4.7242, -5.5515, -4.8885, -5.3568, -4.9823, -5.4221, -5.3472, -5.2593, -5.399, -5.4853, -5.2303, -5.394, -4.4413, -4.8774, -5.3006, -5.3775, -5.4135, -5.4705, -5.5266, -5.5775, -5.7236, -5.7272, -5.7353, -5.7661, -5.7676, -5.7712, -5.7651, -5.7927, -5.5194, -5.8275, -5.8411, -5.9218, -5.9318, -5.9445, -5.9509, -5.9593, -5.7732, -6.0341, -6.0424, -6.0562, -5.9315, -6.1075, -5.4193, -5.4237, -4.3215, -5.3323, -5.3437, -4.5574, -4.2958, -4.7714, -4.7013, -5.6339, -4.3069, -4.8881, -4.6624, -4.9684, -5.1733, -4.9369, -5.0443, -5.1845, -5.0784, -5.6748, -5.5039, -5.2697, -5.4603, -5.4634, -5.403, -5.365, -5.4987, -4.6314, -4.818, -4.8406, -4.899, -5.0525, -5.149, -5.2564, -5.2958, -5.3985, -5.4217, -5.4904, -5.531, -5.5331, -5.6103, -5.665, -5.7309, -5.7382, -5.7449, -5.7973, -5.7948, -5.6327, -5.8068, -5.8338, -5.8347, -5.8399, -5.788, -5.905, -5.6856, -5.9184, -5.9292, -4.9827, -5.4725, -5.4425, -4.7496, -4.9253, -4.7879, -4.6994, -5.1487, -5.628, -5.5429, -5.394, -5.6063, -5.1211, -5.059, -5.4039, -5.2192, -5.3423, -5.1685, -5.4044, -5.3996, -4.3356, -4.752, -4.7776, -4.8251, -4.856, -4.4724, -4.8708, -4.8631, -4.6395, -5.1868, -5.2364, -5.3181, -5.4277, -5.458, -5.5358, -5.5705, -5.5796, -5.5935, -5.7082, -5.7169, -5.7192, -5.7369, -5.6931, -5.76, -5.8127, -5.8447, -5.8601, -5.7793, -5.9005, -5.8651, -5.2846, -4.7243, -4.8291, -5.3027, -5.3668, -5.3982, -5.5482, -4.5578, -5.4484, -4.9745, -5.4439, -5.5405, -3.6639, -4.6263, -4.7299, -5.0338, -5.0478, -5.1552, -5.1698, -5.2338, -5.3651, -5.5037, -5.4334, -5.5565, -5.5868, -5.6043, -5.6549, -5.6921, -5.7157, -5.7444, -5.7621, -5.7715, -5.7617, -5.8043, -5.8235, -5.8352, -5.8742, -5.8902, -5.8982, -5.9, -5.9214, -5.9293, -4.9686, -5.2963, -5.8314, -5.8136, -5.0578, -5.7824, -4.2033, -5.6687, -4.8525, -4.9759, -4.7178, -5.6475, -5.5624, -5.4644, -5.5588, -5.6306, -5.5693, -5.6521, -3.8266, -4.1482, -4.5849, -4.6615, -4.8676, -4.9191, -4.9672, -5.0348, -5.0569, -5.0657, -5.2171, -5.4184, -5.4926, -5.5319, -5.5356, -5.5797, -5.6461, -5.6635, -5.6762, -5.7345, -5.7616, -5.7675, -5.7933, -5.8027, -5.8102, -5.8105, -5.8053, -5.8275, -5.8444, -5.8452, -5.5394, -5.7349, -4.5767, -5.0625, -4.911, -4.8857, -5.5549, -4.8946, -5.269, -5.4177, -5.5208, -5.4506, -5.5763, -5.5408, -5.5016, -5.553], \"loglift\": [30.0, 29.0, 28.0, 27.0, 26.0, 25.0, 24.0, 23.0, 22.0, 21.0, 20.0, 19.0, 18.0, 17.0, 16.0, 15.0, 14.0, 13.0, 12.0, 11.0, 10.0, 9.0, 8.0, 7.0, 6.0, 5.0, 4.0, 3.0, 2.0, 1.0, 1.9444, 1.9441, 1.944, 1.9438, 1.9438, 1.9437, 1.9437, 1.9436, 1.9436, 1.9436, 1.9435, 1.9434, 1.9434, 1.9434, 1.9433, 1.9433, 1.9432, 1.9432, 1.9431, 1.9431, 1.943, 1.9429, 1.9429, 1.9429, 1.9428, 1.9428, 1.9428, 1.9428, 1.9428, 1.9427, 1.9423, 1.9425, 1.9184, 1.9366, 1.8949, 1.9312, 1.7712, 1.7041, 1.4376, 1.7105, 1.7039, 1.8187, 1.3852, 1.711, 1.4054, 1.4322, 1.721, 1.3981, 1.4137, 1.2211, 1.3558, 1.5912, 1.2975, 1.4004, 0.6616, 0.1839, 1.3173, 1.2021, 0.8997, 1.0721, 0.029, 0.3877, 0.8929, -0.1387, 1.1166, 2.218, 2.2177, 2.2177, 2.2177, 2.2175, 2.2175, 2.2174, 2.2173, 2.2173, 2.2172, 2.2171, 2.2171, 2.2171, 2.217, 2.2169, 2.2169, 2.2169, 2.2169, 2.2169, 2.2169, 2.2169, 2.2168, 2.2168, 2.2168, 2.2168, 2.2167, 2.2167, 2.2167, 2.2167, 2.2166, 2.2154, 2.2158, 2.2116, 2.1837, 2.0552, 2.0357, 2.1308, 2.0721, 2.1499, 2.0093, 1.9417, 1.9947, 1.6002, 1.8855, 1.6469, 1.6945, 1.3724, 0.7997, 1.7946, 1.1943, 1.9567, 0.5005, 0.5581, 0.7176, 1.4524, -0.4277, 2.264, 2.264, 2.2639, 2.2639, 2.2638, 2.2638, 2.2637, 2.2636, 2.2635, 2.2635, 2.2634, 2.2634, 2.2633, 2.2633, 2.2633, 2.2632, 2.2632, 2.2632, 2.2632, 2.2631, 2.2631, 2.2631, 2.2631, 2.263, 2.263, 2.2629, 2.2629, 2.2628, 2.2628, 2.2628, 2.261, 2.2619, 2.2621, 2.214, 2.1974, 2.1759, 2.1377, 2.1142, 2.129, 1.889, 1.4517, 1.4911, 1.9346, 1.5453, 1.7975, 1.9075, 1.7962, 1.4288, 0.7676, 0.5552, 0.6069, 1.0401, 0.6744, 1.3166, 0.9087, 0.3851, 0.311, 2.3023, 2.3021, 2.3021, 2.3021, 2.302, 2.3019, 2.3019, 2.3018, 2.3018, 2.3018, 2.3017, 2.3016, 2.3016, 2.3015, 2.3014, 2.3014, 2.3014, 2.3014, 2.3013, 2.3013, 2.3013, 2.3013, 2.3013, 2.3013, 2.3013, 2.3013, 2.3012, 2.3012, 2.3012, 2.3012, 2.2992, 2.3011, 2.2998, 2.1727, 2.2227, 2.1407, 2.193, 2.2001, 2.1992, 2.2005, 2.1408, 1.9649, 2.0328, 1.7647, 2.0735, 2.1686, 2.0709, 1.6838, 1.6118, 1.922, 1.8083, 1.3891, 1.0324, 1.7366, 1.7722, 1.8794, 0.6384, 0.791, 0.9176, 2.3261, 2.326, 2.3258, 2.3257, 2.3257, 2.3257, 2.3256, 2.3256, 2.3256, 2.3255, 2.3255, 2.3255, 2.3254, 2.3254, 2.3254, 2.3254, 2.3253, 2.3253, 2.3252, 2.3252, 2.3252, 2.3251, 2.3251, 2.3251, 2.3251, 2.325, 2.325, 2.325, 2.3249, 2.3249, 2.3237, 2.3223, 2.3235, 2.2252, 2.1813, 2.2104, 2.0074, 2.0887, 1.7304, 2.1838, 1.9612, 1.4245, 1.2966, 1.4784, 1.3683, 0.3924, 1.9095, 0.5556, 1.5056, 0.6976, 1.5203, 1.1468, 0.7595, 1.274, 1.5625, 0.1634, 0.6827, 2.3467, 2.3465, 2.3463, 2.3462, 2.3462, 2.3461, 2.3461, 2.346, 2.3459, 2.3459, 2.3459, 2.3458, 2.3458, 2.3458, 2.3458, 2.3458, 2.3458, 2.3458, 2.3457, 2.3456, 2.3456, 2.3456, 2.3456, 2.3456, 2.3455, 2.3455, 2.3455, 2.3454, 2.3454, 2.3453, 2.3198, 2.3164, 2.0112, 2.207, 2.1909, 1.9203, 1.7997, 1.9015, 1.7806, 2.2001, 1.3614, 1.7298, 1.5601, 1.7467, 1.8372, 1.4417, 1.4009, 1.5755, 0.9404, 2.2165, 1.7229, 0.8906, 1.429, 1.3839, 0.5687, -0.2485, 1.0239, 2.3874, 2.3873, 2.3873, 2.3873, 2.3872, 2.3871, 2.3871, 2.387, 2.3869, 2.3869, 2.3868, 2.3868, 2.3868, 2.3867, 2.3867, 2.3866, 2.3866, 2.3866, 2.3865, 2.3865, 2.3865, 2.3865, 2.3865, 2.3865, 2.3865, 2.3864, 2.3864, 2.3864, 2.3863, 2.3863, 2.3862, 2.3846, 2.383, 2.191, 2.2073, 2.1441, 2.0179, 2.1644, 2.227, 2.1385, 1.9683, 2.1298, 0.9744, 0.6092, 1.5774, 1.0033, 0.9905, -0.052, 1.0733, 0.5733, 2.4226, 2.4224, 2.4224, 2.4224, 2.4224, 2.4223, 2.4223, 2.4223, 2.4223, 2.4221, 2.4221, 2.422, 2.4219, 2.4219, 2.4218, 2.4218, 2.4218, 2.4218, 2.4216, 2.4216, 2.4216, 2.4216, 2.4216, 2.4216, 2.4215, 2.4215, 2.4214, 2.4214, 2.4214, 2.4214, 2.4023, 2.3349, 2.1984, 2.1952, 2.2172, 2.179, 2.2222, 0.5587, 1.8183, 0.4696, -0.0502, 0.3362, 2.4398, 2.4396, 2.4395, 2.4393, 2.4393, 2.4393, 2.4392, 2.4392, 2.4391, 2.439, 2.4389, 2.4389, 2.4389, 2.4389, 2.4388, 2.4387, 2.4387, 2.4387, 2.4387, 2.4386, 2.4386, 2.4386, 2.4386, 2.4386, 2.4385, 2.4385, 2.4385, 2.4385, 2.4384, 2.4384, 2.436, 2.4364, 2.438, 2.4377, 2.4145, 2.4354, 2.2221, 2.335, 1.7447, 1.8183, 1.5662, 2.2257, 2.0103, 1.7474, 1.9388, 2.0085, -0.1755, 0.8422, 2.4845, 2.4844, 2.4842, 2.4842, 2.4841, 2.4841, 2.484, 2.484, 2.484, 2.484, 2.4839, 2.4837, 2.4836, 2.4836, 2.4835, 2.4835, 2.4834, 2.4834, 2.4834, 2.4833, 2.4833, 2.4833, 2.4832, 2.4832, 2.4832, 2.4832, 2.4832, 2.4832, 2.4832, 2.4832, 2.4757, 2.4798, 2.4027, 2.4333, 2.3672, 2.2986, 2.4048, 2.06, 2.2358, 2.1776, 2.218, 1.8944, 2.1128, 1.9476, -0.1079, 0.1268]}, \"token.table\": {\"Topic\": [3, 7, 8, 9, 1, 3, 6, 8, 9, 1, 4, 1, 3, 4, 6, 7, 8, 9, 10, 1, 3, 7, 8, 9, 10, 9, 9, 10, 2, 10, 8, 8, 10, 9, 3, 4, 6, 7, 9, 4, 3, 9, 8, 3, 6, 3, 9, 1, 3, 4, 6, 7, 8, 9, 10, 7, 3, 4, 6, 7, 9, 10, 7, 4, 6, 7, 3, 2, 1, 2, 3, 4, 5, 6, 7, 8, 9, 10, 9, 1, 2, 3, 4, 5, 6, 7, 8, 9, 10, 1, 2, 3, 4, 5, 6, 7, 8, 9, 10, 1, 2, 4, 5, 7, 10, 6, 1, 6, 6, 1, 2, 3, 4, 6, 7, 8, 9, 10, 1, 2, 3, 5, 6, 8, 9, 10, 5, 1, 9, 1, 3, 6, 2, 3, 5, 8, 10, 3, 2, 3, 4, 5, 8, 10, 5, 3, 4, 5, 6, 9, 1, 2, 9, 1, 3, 4, 6, 8, 2, 4, 4, 3, 1, 5, 8, 7, 1, 2, 3, 8, 9, 4, 1, 2, 3, 4, 5, 6, 7, 8, 9, 10, 1, 2, 3, 5, 6, 7, 8, 9, 1, 2, 3, 4, 5, 6, 7, 8, 9, 10, 10, 9, 10, 1, 10, 7, 2, 4, 5, 10, 1, 1, 7, 8, 1, 2, 3, 4, 5, 6, 7, 8, 9, 10, 5, 6, 9, 10, 9, 2, 1, 2, 3, 4, 5, 6, 7, 8, 9, 10, 2, 3, 4, 6, 7, 8, 9, 10, 1, 1, 3, 4, 6, 7, 8, 9, 10, 1, 2, 3, 4, 5, 6, 7, 8, 9, 10, 9, 6, 3, 10, 3, 1, 1, 10, 2, 3, 5, 7, 8, 9, 10, 5, 9, 1, 2, 3, 4, 5, 6, 9, 10, 1, 3, 8, 9, 1, 3, 4, 5, 6, 7, 8, 9, 10, 7, 5, 10, 1, 2, 3, 4, 5, 6, 7, 8, 9, 10, 3, 9, 2, 1, 2, 3, 4, 5, 6, 7, 8, 9, 10, 3, 1, 2, 3, 4, 5, 6, 7, 8, 9, 10, 1, 3, 8, 10, 6, 7, 1, 2, 3, 4, 5, 6, 7, 8, 9, 10, 1, 2, 3, 4, 5, 6, 7, 8, 9, 10, 2, 3, 4, 5, 6, 7, 5, 2, 3, 7, 9, 10, 2, 5, 6, 7, 10, 5, 1, 10, 4, 1, 1, 5, 7, 8, 9, 10, 1, 2, 3, 5, 7, 8, 9, 10, 5, 6, 7, 10, 3, 2, 9, 7, 7, 2, 3, 4, 5, 6, 7, 10, 1, 2, 3, 4, 5, 6, 7, 8, 9, 10, 4, 6, 2, 2, 3, 4, 5, 6, 7, 8, 10, 10, 5, 5, 10, 3, 10, 10, 7, 4, 5, 7, 4, 5, 6, 7, 4, 2, 1, 3, 4, 6, 7, 8, 9, 10, 10, 3, 1, 2, 5, 8, 3, 4, 2, 1, 8, 6, 1, 2, 3, 4, 5, 6, 7, 8, 9, 10, 5, 1, 2, 3, 8, 2, 4, 4, 4, 8, 1, 5, 1, 2, 3, 5, 6, 7, 8, 9, 1, 2, 3, 4, 5, 6, 7, 8, 9, 10, 6, 7, 9, 4, 1, 2, 3, 4, 5, 6, 7, 8, 9, 10, 1, 2, 3, 4, 5, 6, 7, 8, 9, 10, 1, 2, 3, 4, 5, 6, 7, 8, 9, 10, 4, 6, 7, 10, 1, 2, 3, 5, 6, 7, 8, 9, 10, 7, 9, 3, 8, 9, 10, 2, 3, 4, 7, 8, 2, 3, 5, 8, 9, 10, 1, 1, 5, 6, 8, 1, 2, 3, 4, 5, 6, 7, 8, 9, 10, 3, 3, 9, 7, 8, 4, 7, 6, 1, 4, 5, 6, 7, 8, 9, 10, 9, 1, 2, 3, 4, 5, 6, 7, 8, 9, 10, 4, 4, 6, 8, 4, 6, 7, 9, 8, 1, 3, 5, 6, 7, 8, 9, 10, 2, 5, 10, 3, 6, 10, 1, 2, 6, 7, 5, 6, 1, 8, 1, 4, 5, 6, 7, 8, 9, 10, 5, 9, 5, 4, 5, 8, 3, 8, 2, 4, 5, 6, 8, 1, 2, 3, 4, 5, 6, 7, 8, 9, 10, 6, 9, 3, 10, 5, 1, 4, 7, 3, 7, 10, 10, 7, 1, 2, 3, 4, 5, 7, 8, 9, 10, 3, 10, 1, 2, 3, 4, 5, 7, 8, 9, 10, 5, 7, 2, 4, 5, 9, 10, 1, 2, 3, 5, 6, 10, 1, 9, 8, 9, 10, 9, 3, 4, 6, 7, 8, 9, 10, 10, 8, 1, 5, 8, 9, 2, 6, 1, 2, 2, 2, 10, 9, 4, 5, 7, 2, 3, 4, 5, 6, 7, 10, 7, 7, 9, 10, 1, 9, 3, 4, 6, 7, 10, 3, 2, 3, 5, 9, 10, 1, 1, 3, 7, 9, 1, 2, 3, 5, 7, 10, 8, 2, 2, 3, 10, 3, 1, 2, 3, 4, 5, 6, 7, 8, 9, 10, 2, 4, 2, 3, 1, 1, 1, 2, 3, 4, 5, 6, 7, 8, 9, 10, 1, 2, 3, 4, 5, 6, 7, 8, 9, 10, 3, 4, 7, 8, 9, 7, 2, 3, 4, 5, 6, 10, 3, 5, 3, 8, 10, 2, 6, 6, 7, 5, 4, 6, 7, 2, 5, 8, 9, 3, 6, 1, 2, 3, 4, 5, 6, 7, 8, 9, 10, 4, 1, 1, 2, 3, 4, 5, 6, 7, 8, 9, 10, 9, 1, 2, 3, 4, 5, 6, 9, 10, 7, 8, 4, 8, 9, 10, 1, 2, 3, 4, 5, 6, 7, 8, 9, 10, 5, 4, 1, 4, 5, 8, 9, 10, 8, 10, 10, 7, 1, 4, 1, 2, 3, 4, 6, 7, 8, 9, 10, 6, 4, 8, 4, 2, 8, 4, 6, 5, 10, 8, 1, 4, 1, 2, 3, 4, 5, 6, 7, 8, 9, 10, 4, 5, 6, 4, 9, 7, 7, 1, 2, 3, 4, 5, 6, 7, 8, 9, 10, 1, 3, 7, 8, 9, 10, 2, 4, 2, 3, 6, 7, 8, 9, 10, 3, 9, 10, 1, 2, 3, 5, 7, 8, 9, 10, 4, 9, 10, 8, 1, 2, 8, 9, 10, 1, 2, 3, 4, 5, 6, 7, 8, 9, 10, 5, 6, 7, 2, 3, 1, 2, 3, 4, 6, 7, 8, 9, 7, 1, 6, 10, 1, 2, 3, 4, 5, 8, 9, 10, 6, 5, 9, 10, 1, 2, 3, 4, 5, 6, 7, 8, 9, 10, 4, 1, 3, 6, 7, 10, 1, 3, 4, 5, 6, 8, 9, 10, 1, 7, 1, 3, 1, 1, 2, 3, 4, 5, 6, 7, 8, 9, 10, 9, 8, 8, 1, 8, 9, 5, 7, 8, 9, 8, 2, 3, 5, 7, 8, 9, 10, 1, 2, 3, 4, 5, 6, 7, 8, 9, 10, 1, 2, 3, 4, 5, 6, 7, 8, 9, 10, 9, 8, 2, 5, 5, 8, 3, 9, 8, 1, 8, 9, 10, 4, 5, 1, 2, 3, 4, 5, 6, 7, 8, 9, 10, 6, 1, 2, 3, 4, 5, 6, 7, 8, 9, 10, 1, 2, 2, 9, 4, 1, 2, 3, 5, 7, 8, 9, 10, 3, 7, 6, 7, 7, 2, 1, 3, 4, 5, 6, 7, 8, 9, 10, 8, 7, 1, 2, 3, 5, 7, 8, 9, 10, 5, 3, 5, 2, 3, 4, 5, 6, 7, 3, 2, 10, 8, 2, 7, 9, 6, 9, 1, 2, 3, 4, 5, 6, 8, 9, 10, 5, 2, 3, 4, 5, 9, 10, 8, 6, 7, 9, 9, 6, 10, 2, 7, 2, 5, 10, 9, 5, 1, 2, 3, 4, 5, 6, 7, 9, 10, 6, 5, 5, 5, 3, 4, 6, 7, 7, 8, 1, 2, 3, 4, 5, 6, 7, 8, 9, 10, 7, 1, 3, 4, 5, 6, 7, 9, 10, 6, 2, 5, 9, 5, 7, 1, 4, 3, 6, 1, 2, 3, 4, 5, 6, 7, 8, 9, 10, 3, 6, 2, 3, 9, 10, 8, 2, 5, 10, 4, 7, 1, 10, 1, 2, 3, 4, 5, 6, 7, 8, 9, 10, 4, 5, 7, 1, 10, 2, 4, 5, 4, 3, 1, 4, 6, 7, 8, 10, 7, 3, 1, 2, 3, 4, 5, 6, 8, 9, 10, 1, 2, 3, 4, 6, 7, 8, 9, 10, 1, 3, 4, 6, 7, 10, 10, 7, 5, 7, 10, 8, 1, 9, 2, 5, 8, 10, 3, 2, 4, 5, 9, 9, 6, 2, 3, 5, 8, 10, 1, 2, 3, 4, 5, 6, 7, 8, 9, 10, 10, 6, 4, 6, 7, 1, 2, 3, 4, 5, 6, 7, 8, 9, 10, 10, 2, 6, 1, 2, 3, 4, 5, 6, 7, 8, 9, 10, 2, 2, 3, 5, 8], \"Freq\": [0.15796426905986288, 0.7729599907367448, 0.012424155993472363, 0.055908701970625634, 0.051973676663456383, 0.20746517213594573, 0.6004892559959671, 0.11339711272026848, 0.02577207107278829, 0.9975847629928516, 0.998637066897366, 0.07928084729047867, 0.03516489194335748, 0.05530478460182585, 0.5485723143163767, 0.2426377544091666, 0.005434574209427973, 0.022377658509409305, 0.010869148418855947, 0.7863663221807895, 0.05920875837596533, 0.06414282157396244, 0.02035301069173808, 0.043789810882224355, 0.02590383178948483, 0.9985692324957908, 0.9982224948294014, 0.0014854501411151807, 0.9981349931561199, 0.9993812984998149, 0.9993636293352703, 0.9988856607579681, 0.9993258602582483, 0.9994364889229842, 0.019917367647203327, 0.05748303574129568, 0.6527349979570811, 0.26850628537052584, 0.0012605928890635017, 0.99932455385155, 0.99822950528021, 0.9993118922977372, 0.9992059158643382, 0.9988913773788933, 0.9994121268451569, 0.9977935178448386, 0.9984492764645105, 0.0421320543306019, 0.05739729140690694, 0.05068058709333272, 0.16791760783935542, 0.657626413247221, 0.0006106094830522015, 0.023813769839035857, 0.0006106094830522015, 0.9995287521245584, 0.05976229799723573, 0.14986545497768344, 0.640529245201142, 0.1489460350084952, 0.0003064733230627473, 0.0003064733230627473, 0.9990035100446268, 0.034150242898987625, 0.18186989822949226, 0.7838672032860649, 0.999413626632781, 0.9978723420062648, 0.03465548049536607, 0.032459006379462585, 0.07614443601798743, 0.23355841432440375, 0.0356316912135454, 0.3882878131558269, 0.09347217626567046, 0.020744477761310675, 0.018548003645407193, 0.06662638151573899, 0.9996761481107526, 0.12451008124384255, 0.24202713052741448, 0.19060276135615623, 0.035562125944302976, 0.11495862295664368, 0.018761793064140657, 0.04127594474110945, 0.08434278791106868, 0.07317099295014856, 0.0747913296238698, 0.08435163995547462, 0.1794884828662253, 0.1417970367488396, 0.06130536416683216, 0.19617716533386292, 0.07129586795698259, 0.050066047402912935, 0.07084175414833939, 0.05017957585507373, 0.09456920064994666, 0.019990150165377543, 0.05597242046305712, 0.004997537541344386, 0.06296897302093926, 0.8515803970450834, 0.003998030033075509, 0.9994666797137345, 0.9984017535894627, 0.999211163136136, 0.9987382920667446, 0.023910052877832152, 0.11903048063094702, 0.0031187025492824547, 0.6835156420510713, 0.055616862128870445, 0.010395675164274849, 0.0057176213403511665, 0.04937945703030553, 0.049899240788519275, 0.0004715546823792035, 0.8115456083746092, 0.005187101506171238, 0.026407062213235397, 0.0004715546823792035, 0.04385458546126592, 0.038667483955094686, 0.07309097576877654, 0.9982865407090653, 0.9981729042503795, 0.998859081394213, 0.9993244956390863, 0.9993543966531117, 0.9988339432035335, 0.0009184134745364007, 0.003673653898145603, 0.17541697363645253, 0.818306405811933, 0.0009184134745364007, 0.997500102272711, 0.6543463041756293, 0.005057749211019358, 0.05310636671570325, 0.06575073974325164, 0.13023704218374846, 0.09103948579834843, 0.9994271861325084, 0.0512639003228414, 0.8507626011024743, 0.03599380235433545, 0.06053503123229144, 0.0005453606417323553, 0.8814256605866453, 0.03228307080949977, 0.08510991395231758, 0.28503679854169917, 0.3875967681104414, 0.12819996196092778, 0.05527582775458185, 0.1438503469275865, 0.9982891153355394, 0.9990113862920302, 0.9979345393432725, 0.998882257552694, 0.0006561914338379341, 0.6942505370005343, 0.30447282530080144, 0.9980698226331932, 0.8408660794015902, 0.00038273376395156586, 0.0015309350558062635, 0.09453523969603676, 0.0627683372880568, 0.9995151929702107, 0.1643496642056205, 0.01719938346337889, 0.031395699972834486, 0.14469322596175893, 0.3835735518420213, 0.06442943646599077, 0.033306742579876585, 0.09882820339274855, 0.020748462590742787, 0.04122391909476528, 0.28753692708815076, 0.00852382194925348, 0.02613972064437734, 0.09120489485701225, 0.0011365095932337973, 0.0076714397543281325, 0.07898741672974892, 0.49892771142963704, 0.34940331697988464, 0.03216481908352316, 0.14967016621929727, 0.0656266066784787, 0.04435632309098758, 0.06847993740362995, 0.09545688244142357, 0.0747053862585054, 0.06744236259448404, 0.052916315266441326, 0.9978169893411786, 0.07546741166318796, 0.9233659779966528, 0.2196940786705693, 0.7794914906676931, 0.9986108501948954, 0.004691966601947633, 0.0023459833009738165, 0.0011729916504869082, 0.9911779446614374, 0.999062639284126, 0.17345208647503077, 0.02708823516738516, 0.7991029374378622, 0.06086443140957965, 0.05528784737990612, 0.134794002545823, 0.05927112168681578, 0.20856424270978996, 0.24505103536108247, 0.12443748934785787, 0.061023762381856035, 0.03728344751267444, 0.013543132643492854, 0.9995339041845888, 0.9990198189864203, 0.11059068307663962, 0.889216456819275, 0.998256132091566, 0.9982314320493917, 0.5716411661507106, 0.04918271165372151, 0.05630126202465489, 0.007118550370933376, 0.05651697567225893, 0.018335660046343547, 0.05004556624413768, 0.06492980792881656, 0.07506834936620652, 0.050908420834553846, 0.0048169459362600465, 0.01720337834378588, 0.1527659996928186, 0.5785496137015191, 0.24325576978113234, 0.0005161013503135764, 0.0027525405350057406, 0.9989266141238795, 0.9992044916147241, 0.11893440464371001, 0.03319948105085157, 0.1517690562324643, 0.3816116173537444, 0.2524619877713108, 0.04414436491376966, 0.01751181418066896, 0.00036482946209726995, 0.13924851818842388, 0.056372511895011475, 0.2938522355124292, 0.06247252251051645, 0.15334164616217674, 0.04333110988944912, 0.034496611756648816, 0.054479405152268554, 0.06268286770415456, 0.0997036217844606, 0.9992876697193321, 0.9993382202904608, 0.16916271389259452, 0.8299705358355695, 0.9978551436926393, 0.9986757313835009, 0.9995642045058822, 0.9979190590000967, 0.7698967770078401, 0.011910005390176531, 0.02637215479253375, 0.004253573353634476, 0.09528004312141225, 0.07741503503614745, 0.014462149402357218, 0.9032387332255791, 0.09591915751068097, 0.07073083674606225, 0.09994574757595753, 0.12224133741982497, 0.23730708270599146, 0.30726910600916174, 0.14248675808264713, 0.020245420662822165, 0.00025627114763066033, 0.07892696281226058, 0.0009020224321401209, 0.9160037798382928, 0.004059100944630544, 0.554890873699567, 0.10268074111449932, 0.041487168127070435, 0.0629222049927235, 0.006568801620119485, 0.042178620929188275, 0.06395938419590025, 0.08366578905625871, 0.041141441726011516, 0.9992766855608176, 0.9983636721117731, 0.9990776198569864, 0.47607228536941915, 0.009745224946910021, 0.0646072320554405, 0.09239916986699871, 0.08265394492008869, 0.03970276830222601, 0.05883228393875309, 0.07290871997317867, 0.06099788948251087, 0.042229308103276755, 0.0028731192616421285, 0.9955358241589974, 0.9983662677821399, 0.17192102396773135, 0.07096589635961241, 0.18096949891340142, 0.06928546529827369, 0.14451707127513055, 0.07458528633788043, 0.08718851929792089, 0.15505208139044643, 0.034642732649136844, 0.010858169934804084, 0.998839028413198, 0.5236481236686982, 0.0003328977264263815, 0.048935965784678084, 0.01331590905705526, 0.07590068162521499, 0.02629892038768414, 0.02829630674624243, 0.10120090883361998, 0.11052204517355867, 0.07157301118167203, 0.9515697829428994, 0.021632509445154928, 0.0002606326439175293, 0.026323897035670455, 0.0020031293181490936, 0.9965568357791741, 0.06270080404353383, 0.0021486256837348044, 0.05078569797918628, 0.07774118382967746, 0.008789832342551472, 0.45531331534416625, 0.2504125569589108, 0.026760156242878926, 0.04394916171275736, 0.021290927229735787, 0.14726194222394215, 0.07685961296340951, 0.2237628172038585, 0.05937113626811797, 0.17013148867163108, 0.07363097111197107, 0.0725547571614916, 0.14179118797567145, 0.03291420998549742, 0.0017936899174657995, 0.006081840334322536, 0.0004678338718709643, 0.8781241775017999, 0.003976587910903196, 0.05169564284174155, 0.05941490172761246, 0.9981530865015162, 0.8641782665605892, 0.046863120975525814, 0.0011157885946553765, 0.0005578942973276883, 0.08758940468044706, 0.9987908335277473, 0.867220567888564, 0.017102957835389315, 0.10462985969885227, 0.011066619775840145, 0.9983653555343832, 0.23312316892879129, 0.7661032383499592, 0.9987900003243974, 0.9988598620157163, 0.7913672076250641, 0.07413551536115842, 0.0011767542120818795, 0.06884012140678995, 0.06295635034638056, 0.0011767542120818795, 0.014827032951866733, 0.03302384612006681, 0.12131208778800055, 0.659129010314803, 0.0013479120865333395, 0.07615703288913368, 0.09165802188426708, 0.0020218681298000093, 0.8647856206160499, 0.03299100987739801, 0.004211618282221023, 0.09827109325182386, 0.9983343618586091, 0.9990510798426443, 0.9989808189791893, 0.9987825955299015, 0.9994374341088534, 0.0009285624556211512, 0.09409432883627666, 0.7131359659170442, 0.010833228648913432, 0.11080845303745739, 0.0018571249112423025, 0.06809458007888443, 0.024597011935240463, 0.0016520381150534641, 0.06571440502101557, 0.4010781423768688, 0.057637774236309745, 0.23312093401309994, 0.15896277862625555, 0.014501223454358185, 0.016703940941096136, 0.026249050050293928, 0.9990811297424766, 0.9986211364653248, 0.9977580826147289, 0.031179710582491086, 0.08036839193245547, 0.5386563793733805, 0.050801425000782885, 0.07606774219693946, 0.05805877142946616, 0.12095577381138783, 0.04408165978903912, 0.9992764048702307, 0.9987922230213939, 0.99588021907539, 0.003338145985727564, 0.9991449491179006, 0.999870081545451, 0.9992640648583788, 0.9994391972890957, 0.05812837212561095, 0.1412519442652346, 0.7998464004484067, 0.4167545054823649, 0.053815146353578654, 0.08468585046338346, 0.4447050078520531, 0.9994655258098537, 0.9989893309559028, 0.07191436345014063, 0.0003804992775139716, 0.080285347555448, 0.3991437421121562, 0.34701534109274207, 0.011795477602933119, 0.03995242413896702, 0.04908440679930234, 0.9996252105826335, 0.9980624555897071, 0.08630080420883746, 0.015140491966462711, 0.11355368974847033, 0.7835204592644452, 0.9966502209513594, 0.002749379919865819, 0.9993991692961909, 0.9974640486190612, 0.000927011197601358, 0.9986282609257353, 0.22000673119609093, 0.047907663409534035, 0.4435144070259555, 0.0012898217071797625, 0.03261406316725971, 0.00036852048776564645, 0.0007370409755312929, 0.07609948072360599, 0.1190321175483038, 0.058226237066972136, 0.9993629233637972, 0.9990681316777367, 0.9970269341695693, 0.0018210537610403093, 0.998860544601678, 0.9988407575823254, 0.9990319588493364, 0.998618346256304, 0.9993152641451547, 0.9995197702968986, 0.0007538718356725259, 0.9988801822660968, 0.09119108542030979, 0.1834487332431963, 0.032530153278590046, 0.05012843292110597, 0.5359476072948032, 0.012798748830920673, 0.06452702535589172, 0.029330466070859873, 0.12235486738025703, 0.07726287961727438, 0.07752657545214561, 0.06091373785525727, 0.05036590446040753, 0.266332793219956, 0.16533728846426973, 0.07330744209420571, 0.07462592126856193, 0.03190719601942047, 0.8553015191988734, 0.14363842307156652, 0.9986470778745559, 0.9981907511246007, 0.05416848375506025, 0.10031200695381527, 0.05296473967161447, 0.15006676240290764, 0.44658905495838563, 0.0004012480278152611, 0.01083369675101205, 0.06781091670077913, 0.0381185626424498, 0.0794471095074217, 0.5880726482300013, 0.012983422103779249, 0.0011455960679805218, 0.07217255228277289, 0.1202875871379548, 0.0019093267799675366, 0.05689793804303259, 0.019093267799675365, 0.04009586237931827, 0.08744716652251318, 0.35092462820087544, 0.011952891266230692, 0.026051173272554073, 0.0049037502630690025, 0.3490857218522246, 0.004597265871627189, 0.0582320343739444, 0.10022039600147273, 0.054860706068084464, 0.03953648649599383, 0.763604906585094, 0.1797642298961477, 0.0566021481888745, 0.9994479583247152, 0.5991068251508676, 0.10384119297070481, 0.09217028079244116, 0.026334365940697473, 0.00029925415841701675, 0.01197016633668067, 0.06912771059433087, 0.09396580574294326, 0.0035910499010042007, 0.1923593213654961, 0.8070949303853885, 0.10836866646497002, 0.12444917826299783, 0.6061653795169614, 0.1608051179802781, 0.07142285397360526, 0.8733478093481353, 0.004520433795797802, 0.016273561664872087, 0.033451210088903734, 0.8332186423460218, 0.05236616765738721, 0.04606897028086597, 0.043748950194779195, 0.011268668989564338, 0.013588689075651113, 0.9993313555266314, 0.9994698592753708, 0.08811229394567566, 0.11468584291341911, 0.7965071651120998, 0.10075085166925996, 0.019631599773789622, 0.06741417280810777, 0.17779562059281168, 0.44004416096720894, 0.016297931887674404, 0.0070377433151321295, 0.08778658766770077, 0.05259787109204012, 0.030743826060840355, 0.9991859436537955, 0.0026530790330478913, 0.9966733567483245, 0.9988071532505102, 0.9994566429431362, 0.9989710414917615, 0.9982922256161056, 0.998766308730465, 0.7861320746143222, 0.0006634025946112423, 0.041794363460508265, 0.001658506486528106, 0.0013268051892224846, 0.07164748021801418, 0.06269154519076241, 0.0344969349197846, 0.9993376473698747, 0.04330839319561985, 0.5921852922222124, 0.058808239181420634, 0.0009117556462235757, 0.04923480489607309, 0.00045587782311178786, 0.004102900408006091, 0.051970071834743815, 0.10439602149259943, 0.09482258720725188, 0.9985886760519266, 0.9980520222431992, 0.9988745255858873, 0.9993448379612137, 0.6550863521711344, 0.16911196591374394, 0.17563909442269546, 0.9980702143955125, 0.9988293078448446, 0.6023853653651341, 0.0999577880173013, 0.030732363396623694, 0.027628084265651606, 0.0651898617504139, 0.07683090849155924, 0.07124320605580947, 0.025920730743616956, 0.9160293976780333, 0.08277844514396548, 0.9991393437938249, 0.08866884889511595, 0.326273654918747, 0.5846602224021707, 0.9986196959614505, 0.9988544171655229, 0.9980572917039325, 0.9996195550317998, 0.9994924767545025, 0.9982482798900177, 0.998924647139914, 0.9989453970010359, 0.5831538973553461, 0.1804494036368912, 0.0004723806377929089, 0.010864754669236905, 0.07416376013348669, 0.08668184703499877, 0.060464721637492336, 0.0035428547834468168, 0.9990565439775552, 0.9981092329637437, 0.9979598337506413, 0.9978757589204902, 0.9992861219767737, 0.9997189114672108, 0.8599578253890295, 0.13877832540276272, 0.10766399032140282, 0.1859146224622162, 0.15594629525935153, 0.003884783155926906, 0.546089517918868, 0.10524419613319538, 0.07814268639932533, 0.05058948483655744, 0.2502372732094002, 0.11631064594119232, 0.10705096344878672, 0.06910884982136864, 0.15741460237089525, 0.03229596576619515, 0.03319934942399082, 0.9993043669481403, 0.9989714964693451, 0.9972595712525001, 0.001281824641712725, 0.9980770362243613, 0.9741036158612603, 0.024872310313530654, 0.00037122851214224856, 0.9150910111389169, 0.01457151291622479, 0.069943261997879, 0.9983491730897598, 0.9988195696762371, 0.43687394224543563, 0.038825736752878745, 0.10364783637507631, 0.05233034084083657, 0.044902808592459764, 0.03511197062869034, 0.06752302043978912, 0.11884051597402885, 0.10128453065968368, 0.9350310962941376, 0.0641210560826709, 0.5341911578031829, 0.00039249901381571115, 0.0011774970414471335, 0.011774970414471335, 0.19114701972825132, 0.036109909271045425, 0.0808547968460365, 0.09616225838484924, 0.04827737869933247, 0.9987483750323582, 0.9988983641181305, 0.07590197265537629, 0.9233694524687099, 0.0006272890302097214, 0.999442267678891, 0.9993356005599906, 0.0007595456137524026, 0.21976186424569516, 0.06633365026770982, 0.060510467228941406, 0.5676337553442955, 0.08481592686901829, 0.9916662376355918, 0.0070082419620889885, 0.9990413905505507, 0.9981774813236708, 0.9987200472584187, 0.9982674783914189, 0.0038445415440289477, 0.09739505244873334, 0.2053625941435463, 0.690735964077201, 0.0003203784620024123, 0.0009611353860072369, 0.0012815138480096492, 0.9993828484686409, 0.9984993513006916, 0.7024141424794901, 0.13664513533334452, 0.09129057977589398, 0.06861330199716874, 0.9992581044347364, 0.9993083470476318, 0.998603442166795, 0.9993570322216727, 0.9989171070924997, 0.04954599377648152, 0.9497478525322726, 0.9987756120125478, 0.7931073839301958, 0.04188947450335541, 0.16406710847147538, 0.0013899515637414359, 0.07667899459973589, 0.5010775387287877, 0.021775907831949163, 0.18416858219574025, 0.11096446650535798, 0.10378305009269388, 0.9988081685151542, 0.024539240313030092, 0.9747531568786953, 0.9982503810098111, 0.9995018929430552, 0.999603711842296, 0.9996363566582825, 0.0016803219807664208, 0.21760169650925149, 0.7796693990756193, 0.0008401609903832104, 0.9987710288574836, 0.7583328941392672, 0.15415291618568708, 0.0004972674715667325, 0.08652454005261147, 0.0004972674715667325, 0.9993439767122819, 0.23709669631196145, 0.6258250007304099, 0.03418603528218979, 0.10255810584656937, 0.10827065597299798, 0.0017895976193883965, 0.25770205719192907, 0.5509723670692025, 0.0026843964290825945, 0.0785185955506659, 0.9978909828983358, 0.9997535148836442, 0.9993290240822859, 0.7187082051773017, 0.28058692864400775, 0.999056730965282, 0.02435835403203688, 0.08677663623913139, 0.05371887005279562, 0.00304479425400461, 0.405827576998043, 0.00021748530385747212, 0.00043497060771494425, 0.17224836065511792, 0.15637193347352246, 0.09699844552043257, 0.9985913022823812, 0.9985842896738616, 0.9986220608575858, 0.9986856591109411, 0.998887876636442, 0.9992330919309014, 0.03572422531488335, 0.07880343819459561, 0.07880343819459561, 0.008931056328720837, 0.029419950259315694, 0.09771626336129856, 0.05516240673621693, 0.019963537675964222, 0.5001391544083669, 0.09561483834277601, 0.042853445564811965, 0.22291309842046927, 0.07950441874524325, 0.2204697002084405, 0.09529253026912135, 0.14134118888043246, 0.055070436624955726, 0.0667235665592467, 0.04078595477001841, 0.03477143609425532, 0.9981600726657432, 0.8958418746682447, 0.10358997488789143, 0.9994556767649007, 0.9979683266854528, 0.9983932925600613, 0.12370475088020215, 0.005539018696128454, 0.8505470931166138, 0.020002011958241642, 0.9991356513461678, 0.9980367926640727, 0.9982429111179268, 0.9993521837647723, 0.017739785206207795, 0.9799119447238592, 0.001689503352972171, 0.9989120870613962, 0.9996342208570071, 0.001229406896359148, 0.9982783998436282, 0.9980643192467749, 0.03773186684056717, 0.7147244372054254, 0.24732911559076975, 0.1272400368276227, 0.0048319001326945325, 0.21743550597125397, 0.6498905678474146, 0.9987745164512377, 0.9978590370918914, 0.1784188064926172, 0.05441877450647929, 0.13521611528136648, 0.03655612333259678, 0.0573266479533904, 0.006023452140030151, 0.0143316619883476, 0.053795658767855484, 0.41727983963174387, 0.046525975150577714, 0.9987334091618991, 0.9975748319013262, 0.05159322829972376, 0.03454903680785073, 0.05159322829972376, 0.5675255112969613, 0.13312895516625148, 0.07877180392189966, 0.015662230019558996, 0.03547034445606008, 0.0013819614723140292, 0.03040315239090864, 0.9997734733451467, 0.08057902644146395, 0.05871185569712614, 0.4870687620588118, 0.19590588584653315, 0.12491246849847756, 0.05242129972957691, 0.00029955028416901096, 0.9990339813388245, 0.9981997341316826, 0.9994340798149006, 0.9986675076622366, 0.1349030134794276, 0.1295068929402505, 0.7354141420535654, 0.0850517177887899, 0.429180281983202, 0.08529682360374317, 0.06936494563177965, 0.09093425734766873, 0.02500079312523507, 0.01666719541682338, 0.10318954809533298, 0.05220753858504971, 0.042893517616824875, 0.9986664295858657, 0.9995425620538022, 0.2214598357141109, 0.10982967462244524, 0.010802918815322483, 0.02460664841267899, 0.0786212424892914, 0.5539496703634806, 0.004295907184203778, 0.9952184976738753, 0.9985664142683304, 0.9993113856576941, 0.20443087339234203, 0.7953850206490128, 0.10933003444527886, 0.005359315413984258, 0.6270399034361581, 0.0010718630827968516, 0.056272811846834705, 0.051985359515647304, 0.004823383872585832, 0.07556634733717804, 0.0685992372989985, 0.9978836796125587, 0.9988785575569982, 0.9991496206364274, 0.9993786150276517, 0.7998917641597368, 0.1999729410399342, 0.9989005100215314, 0.998652983694874, 0.9991532895134462, 0.9987837641284999, 0.998528464210295, 0.9983501018774901, 0.9982685721133592, 0.48496840657546214, 0.017083534826790727, 0.05405536392954678, 0.047425932504225006, 0.0739436582055121, 0.04819086689945444, 0.027792616360002825, 0.09051723676881654, 0.11321029049395646, 0.0423263698693621, 0.9024666634522559, 0.05921697266747086, 0.037109302871615076, 0.9986792621542853, 0.9984243899249087, 0.9995261092124446, 0.9989075616999201, 0.03546254189136977, 0.0016833485075017295, 0.0733939949270754, 0.2807825310512885, 0.00819229606984175, 0.37325447573005016, 0.1688959669193402, 0.010212314278843827, 0.030188049901197684, 0.017843494179518332, 0.7993725792810681, 0.13423426331323596, 0.005278875523554223, 0.03167325314132534, 0.024132002393390733, 0.004524750448760763, 0.0014850451511156228, 0.9964652963985828, 0.0033145218580399216, 0.687053030859418, 0.03456572794813061, 0.02036063427081666, 0.012311081187005423, 0.08475705894130656, 0.15767653981818483, 0.09161451102812612, 0.8999096273142516, 0.00695806412871844, 0.15083467454217206, 0.001439949160307132, 0.0010799618702303489, 0.7268143386650249, 0.0169194026336088, 0.07739726736650834, 0.017999364503839148, 0.0071997458015356595, 0.9963944916816107, 0.00323242333067838, 0.9990195547486329, 0.999292868111479, 0.791646027108411, 0.0006748900486857724, 0.058715434235662195, 0.13362822963978294, 0.015522471119772764, 0.07793177184563234, 0.0008627133414645646, 0.4336572396428545, 0.05981479167487648, 0.03278310697565346, 0.1279691456505771, 0.04169781150412063, 0.01811698017075586, 0.1337205679270075, 0.073330634024488, 0.11405090432868333, 0.05047359170290666, 0.8347555550865332, 0.998592512527541, 0.9983908776553666, 0.21080251799436117, 0.09441188182960569, 0.20389096002733295, 0.14320748107682504, 0.08667093690653407, 0.06275694634061638, 0.12413158108782711, 0.07423013256588325, 0.9990129372245162, 0.9981127871999662, 0.9702894824859938, 0.02940271159048466, 0.025642946319709536, 0.056302990832405725, 0.02731531238403842, 0.002229821419105177, 0.7882418716536801, 0.09643977637629891, 0.0005574553547762943, 0.003344732128657766, 0.9991066530642839, 0.9990787617562484, 0.9983908143250247, 0.998094243888761, 0.03648313414995294, 0.1518033857733674, 0.11238482703663664, 0.028725226313468695, 0.35707343366304517, 0.06919215097404868, 0.029773592237317917, 0.11070744155847789, 0.05283764256200081, 0.05116025708384205, 0.9992753594599764, 0.9977359215620247, 0.9977351125158376, 0.8631668688098312, 0.13309602512260435, 0.001957294487097123, 0.5790830908733994, 0.055715629475715026, 0.043853592232498274, 0.06901548941507925, 0.002516189718258098, 0.08734772879095969, 0.11466636001776188, 0.04780760464690386, 0.987095524631037, 0.012377373349605479, 0.9974381553703804, 0.9981290652308825, 0.9991731302821589, 0.9993214536852467, 0.05280222237461674, 0.13426850832402543, 0.5883676207457295, 0.14533183110727846, 0.029669820191451313, 0.0015086349249890498, 0.0015086349249890498, 0.004023026466637466, 0.04274465620802308, 0.9990668006595902, 0.998395976262232, 0.9995929052889926, 0.1852102233079409, 0.8140103641682341, 0.9985029923492199, 0.13790240433285286, 0.07008154974292523, 0.14091666453684965, 0.6503266390123061, 0.9988899413541119, 0.0027084459196186446, 0.699456158741515, 0.0006771114799046611, 0.11172339418426909, 0.06771114799046613, 0.09953538754598519, 0.018282009957425852, 0.12022417965977687, 0.03566753156146833, 0.058728435588279754, 0.1113072967694098, 0.42831785745797746, 0.023675861467526392, 0.02736560611181622, 0.07594724392829895, 0.06918271208043426, 0.049504073977555185, 0.18718652072025443, 0.010353236765500798, 0.007040201000540543, 0.610012710223307, 0.08158350571214629, 0.020706473531001596, 0.08075524677090623, 0.00041412947062003194, 0.0016565178824801277, 0.00041412947062003194, 0.9993612403809976, 0.9990577542384677, 0.9977962102031693, 0.0021006236004277247, 0.0003825703958764077, 0.999273874029177, 0.9975442532897794, 0.0023941062078954704, 0.9985817160839501, 0.13806047956678605, 0.047615312710208704, 0.8041963116533238, 0.009810190055872145, 0.9994762666905366, 0.9975157091507931, 0.27725520452353375, 0.0843230590903055, 0.15261980578040676, 0.023546351295684727, 0.05843440059766785, 0.07174856782245294, 0.09098014270269805, 0.08974734944114388, 0.07754269615175755, 0.07372103704093962, 0.9993501682259583, 0.35174414468745824, 0.0009894350061531876, 0.05219269657458065, 0.2038236112675567, 0.036114377724591355, 0.09078066181455498, 0.07643385422533375, 0.12293729951453358, 0.022014928886908428, 0.04279306401612537, 0.9989009134866913, 0.9987843570193967, 0.8495080434950979, 0.1501154051679737, 0.9997946406037742, 0.013203550744976256, 0.46485604519381923, 0.030049460316152857, 0.20442738912049443, 0.00273176911965026, 0.12702726406373707, 0.06601775372488128, 0.09196956036155875, 0.99917512755787, 0.99790031360118, 0.17823907148911222, 0.8215018778071217, 0.9990482933282251, 0.9982416126283034, 0.5802015003127013, 0.11879125545195393, 0.07085794184853393, 0.020840571131921743, 0.03001042242996731, 0.01542202263762209, 0.07711011318811045, 0.06252171339576523, 0.02417506251302922, 0.9982334378391302, 0.9994784278669928, 0.07267853896271059, 0.11548307724749719, 0.05528919528451603, 0.4659452344541875, 0.0031211642499323566, 0.14491119731828797, 0.07223265835557739, 0.07000325531991142, 0.9983233809615161, 0.10888854706696957, 0.8899709594922395, 0.06061886309097352, 0.04263623384867516, 0.3036744002691353, 0.0005800848142676892, 0.5394788772689509, 0.05278771809835972, 0.9987908793015128, 0.966100713968993, 0.032992931562864036, 0.9984174744892778, 0.9983919995430425, 0.0031850650538077815, 0.9962883488310741, 0.8777757267987852, 0.12125119248578262, 0.05727456980068308, 0.1771515763602523, 0.46130448079774977, 0.11810105090683488, 0.11477113405795795, 0.028859279356933335, 0.0008879778263671795, 0.001775955652734359, 0.03973700772993129, 0.9988365164518567, 0.08476799618575138, 0.11971317012355093, 0.07300427426609608, 0.046708895857454844, 0.5369793064501476, 0.1387427202876992, 0.998553090230258, 0.9991256748962871, 0.9979576600706004, 0.9994634878453551, 0.9988854053070297, 0.9996385225853484, 0.9984525285783158, 0.993311722113598, 0.005193786782293323, 0.0012656185073279054, 0.9973073837743894, 0.0012656185073279054, 0.9996475914993748, 0.9991227198427941, 0.9988798947023804, 0.0004062160071917325, 0.047527272841432704, 0.13608236240923038, 0.0004062160071917325, 0.08002455341677131, 0.029653768524996474, 0.05158943291335003, 0.6540077715786894, 0.9992175458865198, 0.9988308601162433, 0.9987244983076301, 0.9988001702037376, 0.999015272868627, 0.1297319767652976, 0.8694957768595508, 0.0007288313301421214, 0.9956873283070783, 0.003881821942717654, 0.04909734975210054, 0.19015722767764018, 0.05016137900369405, 0.1893972067836448, 0.09044248638544836, 0.16887664264576996, 0.062017704950021735, 0.09956273711339274, 0.07402603507514849, 0.026296722932239606, 0.998326305254434, 0.22146494065365419, 0.09509663539641863, 0.10893819418727202, 0.15789630028084603, 0.04306262734932165, 0.06741351781471186, 0.2022405534441356, 0.1038116909314004, 0.9978965310918056, 0.9983849436679886, 0.9969122881875371, 0.0015576754502930267, 0.9991716393393492, 0.9986700238101646, 0.09805147253260028, 0.9019179100419343, 0.025813368602063427, 0.9728969614501837, 0.11254561177085577, 0.3592436932685755, 0.07360577985013775, 0.05651024388494446, 0.09307569581049677, 0.0401270219183009, 0.10708453778197459, 0.055085615887845024, 0.03466594792941971, 0.06790726786173998, 0.9983301812038096, 0.9976269306539762, 0.9985723225455269, 0.8807574202289511, 0.11683516798955475, 0.0016340582935602062, 0.9994819400466439, 0.9344137031643939, 0.003114712343881313, 0.06229424687762626, 0.9981825793020755, 0.999411128304665, 0.9984539140404702, 0.9994107493145064, 0.07489187738390993, 0.03477122878538675, 0.026747099065682116, 0.0468074233649437, 0.029756147710571355, 0.4623904750979796, 0.2313624069181503, 0.017385614392693375, 0.021732017990866718, 0.05449721434632731, 0.9024909649043393, 0.000665553808926504, 0.09650530229434306, 0.999836812845867, 0.9997804344504188, 0.9997250075887596, 0.9987382482519873, 0.9991215005074237, 0.999533950891005, 0.999607759555668, 0.1897475665328088, 0.15230039335425208, 0.40438380304404864, 0.0689575993897813, 0.16485889655437783, 0.01940859585473977, 0.998850542422021, 0.9990246117400243, 0.16697429042968073, 0.06770140592750452, 0.14232490074036486, 0.1122729050917469, 0.19331199448127848, 0.12155863408429739, 0.12155863408429739, 0.04119487043967856, 0.033259792936953594, 0.41803768905334104, 0.0073005822689649535, 0.14823356172202753, 0.09395531963537505, 0.04951699278080577, 0.09363790301498527, 0.12315764871123487, 0.050151826021585334, 0.01587083101948903, 0.009065621740027343, 0.9507570799853675, 0.018131243480054685, 0.004532810870013671, 0.0005666013587517089, 0.01643143940379956, 0.9981529418580579, 0.9993364055357559, 0.9991972862012808, 0.9992275357768645, 0.9996052932479453, 0.9990517683173276, 0.9988091292770208, 0.998594277183866, 0.9987219067808555, 0.000416365011257541, 0.07786025710516017, 0.9214157699129383, 0.9992801713705275, 0.0027791062227056906, 0.8744920914113906, 0.07688860549485745, 0.04539206830419295, 0.9983106240314422, 0.9982832844069871, 0.008466972330942808, 0.0016933944661885617, 0.1938936663785903, 0.10668385136987937, 0.6892115477387446, 0.030761772175998677, 0.564614805762001, 0.1390120590738168, 0.0007787790424303462, 0.06269171291564286, 0.0003893895212151731, 0.05062063775797251, 0.03971773116394766, 0.061134154830782175, 0.05023124823675733, 0.9985061854671591, 0.9989232631478978, 0.5838479117267974, 0.23656110293176344, 0.17919149413693458, 0.03689621738890596, 0.5389959467957648, 0.12758089627248204, 0.0011113318490634325, 0.09335187532132833, 0.00044453273962537297, 0.006001191984942536, 0.054899793343733565, 0.07868229491369103, 0.06223458354755222, 0.9992410431600327, 0.9987234722856035, 0.9983147608685304, 0.06787024940905319, 0.08506607493197474, 0.12584909475624886, 0.1050010585027953, 0.13269698987599637, 0.07989210973038773, 0.16297990384999098, 0.08719653119145175, 0.057826669900090166, 0.09571835622935977, 0.9983994339500147, 0.7166971850447001, 0.1787274775672569, 0.10425769524756652, 0.9981317118024026], \"Term\": [\"abbott\", \"abbott\", \"abbott\", \"abbott\", \"abus\", \"abus\", \"abus\", \"abus\", \"abus\", \"accc\", \"accid\", \"accus\", \"accus\", \"accus\", \"accus\", \"accus\", \"accus\", \"accus\", \"accus\", \"action\", \"action\", \"action\", \"action\", \"action\", \"action\", \"activ\", \"activist\", \"activist\", \"adam\", \"afghanistan\", \"age\", \"agricultur\", \"alan\", \"alic\", \"alleg\", \"alleg\", \"alleg\", \"alleg\", \"alleg\", \"america\", \"american\", \"analysi\", \"andrew\", \"anniversari\", \"anthoni\", \"anzac\", \"apart\", \"appeal\", \"appeal\", \"appeal\", \"appeal\", \"appeal\", \"appeal\", \"appeal\", \"appeal\", \"april\", \"arrest\", \"arrest\", \"arrest\", \"arrest\", \"arrest\", \"arrest\", \"ash\", \"assault\", \"assault\", \"assault\", \"asylum\", \"athlet\", \"attack\", \"attack\", \"attack\", \"attack\", \"attack\", \"attack\", \"attack\", \"attack\", \"attack\", \"attack\", \"august\", \"australia\", \"australia\", \"australia\", \"australia\", \"australia\", \"australia\", \"australia\", \"australia\", \"australia\", \"australia\", \"australian\", \"australian\", \"australian\", \"australian\", \"australian\", \"australian\", \"australian\", \"australian\", \"australian\", \"australian\", \"avoid\", \"avoid\", \"avoid\", \"avoid\", \"avoid\", \"avoid\", \"bail\", \"barnabi\", \"barrier\", \"bash\", \"beach\", \"beach\", \"beach\", \"beach\", \"beach\", \"beach\", \"beach\", \"beach\", \"beach\", \"beat\", \"beat\", \"beat\", \"beat\", \"beat\", \"beat\", \"beat\", \"beat\", \"beef\", \"benefit\", \"berejiklian\", \"better\", \"biden\", \"biki\", \"billion\", \"billion\", \"billion\", \"billion\", \"billion\", \"bishop\", \"black\", \"black\", \"black\", \"black\", \"black\", \"black\", \"blog\", \"bodi\", \"bodi\", \"bodi\", \"bodi\", \"bodi\", \"boom\", \"boom\", \"boom\", \"border\", \"border\", \"border\", \"border\", \"border\", \"bori\", \"box\", \"boy\", \"brexit\", \"brief\", \"brief\", \"brief\", \"brother\", \"budget\", \"budget\", \"budget\", \"budget\", \"budget\", \"burn\", \"bushfir\", \"bushfir\", \"bushfir\", \"bushfir\", \"bushfir\", \"bushfir\", \"bushfir\", \"bushfir\", \"bushfir\", \"bushfir\", \"busi\", \"busi\", \"busi\", \"busi\", \"busi\", \"busi\", \"busi\", \"busi\", \"call\", \"call\", \"call\", \"call\", \"call\", \"call\", \"call\", \"call\", \"call\", \"call\", \"camera\", \"camp\", \"camp\", \"cancer\", \"cancer\", \"cannabi\", \"captur\", \"captur\", \"captur\", \"captur\", \"carbon\", \"care\", \"care\", \"care\", \"case\", \"case\", \"case\", \"case\", \"case\", \"case\", \"case\", \"case\", \"case\", \"case\", \"cattl\", \"cctv\", \"celebr\", \"celebr\", \"cent\", \"champion\", \"chang\", \"chang\", \"chang\", \"chang\", \"chang\", \"chang\", \"chang\", \"chang\", \"chang\", \"chang\", \"charg\", \"charg\", \"charg\", \"charg\", \"charg\", \"charg\", \"charg\", \"chariti\", \"check\", \"child\", \"child\", \"child\", \"child\", \"child\", \"child\", \"child\", \"child\", \"china\", \"china\", \"china\", \"china\", \"china\", \"china\", \"china\", \"china\", \"china\", \"china\", \"chris\", \"christian\", \"christma\", \"christma\", \"clark\", \"class\", \"climat\", \"clive\", \"coach\", \"coach\", \"coach\", \"coach\", \"coach\", \"coach\", \"coach\", \"coal\", \"coal\", \"coast\", \"coast\", \"coast\", \"coast\", \"coast\", \"coast\", \"coast\", \"coast\", \"commiss\", \"commiss\", \"commiss\", \"commiss\", \"communiti\", \"communiti\", \"communiti\", \"communiti\", \"communiti\", \"communiti\", \"communiti\", \"communiti\", \"communiti\", \"compens\", \"competit\", \"complaint\", \"concern\", \"concern\", \"concern\", \"concern\", \"concern\", \"concern\", \"concern\", \"concern\", \"concern\", \"concern\", \"confer\", \"confer\", \"cook\", \"coronavirus\", \"coronavirus\", \"coronavirus\", \"coronavirus\", \"coronavirus\", \"coronavirus\", \"coronavirus\", \"coronavirus\", \"coronavirus\", \"coronavirus\", \"corrupt\", \"council\", \"council\", \"council\", \"council\", \"council\", \"council\", \"council\", \"council\", \"council\", \"council\", \"countri\", \"countri\", \"countri\", \"countri\", \"coupl\", \"coupl\", \"court\", \"court\", \"court\", \"court\", \"court\", \"court\", \"court\", \"court\", \"court\", \"court\", \"covid\", \"covid\", \"covid\", \"covid\", \"covid\", \"covid\", \"covid\", \"covid\", \"covid\", \"covid\", \"crash\", \"crash\", \"crash\", \"crash\", \"crash\", \"crash\", \"crew\", \"cricket\", \"cricket\", \"cricket\", \"cricket\", \"cricket\", \"crocodil\", \"crop\", \"crop\", \"crop\", \"crop\", \"cruis\", \"cultur\", \"cultur\", \"custodi\", \"custom\", \"cut\", \"cut\", \"cut\", \"cut\", \"cut\", \"cut\", \"cyclon\", \"cyclon\", \"cyclon\", \"cyclon\", \"cyclon\", \"cyclon\", \"cyclon\", \"cyclon\", \"damag\", \"damag\", \"damag\", \"damag\", \"danc\", \"daniel\", \"darl\", \"daughter\", \"david\", \"dead\", \"dead\", \"dead\", \"dead\", \"dead\", \"dead\", \"dead\", \"death\", \"death\", \"death\", \"death\", \"death\", \"death\", \"death\", \"death\", \"death\", \"death\", \"decemb\", \"destroy\", \"detect\", \"die\", \"die\", \"die\", \"die\", \"die\", \"die\", \"die\", \"die\", \"disabl\", \"diseas\", \"dog\", \"dog\", \"domest\", \"donald\", \"dozen\", \"drink\", \"drive\", \"drive\", \"drive\", \"driver\", \"driver\", \"driver\", \"driver\", \"drone\", \"drown\", \"drug\", \"drug\", \"drug\", \"drug\", \"drug\", \"drug\", \"drug\", \"drug\", \"drum\", \"earthquak\", \"eas\", \"eas\", \"eas\", \"eas\", \"east\", \"east\", \"economi\", \"educ\", \"educ\", \"effect\", \"elect\", \"elect\", \"elect\", \"elect\", \"elect\", \"elect\", \"elect\", \"elect\", \"elect\", \"elect\", \"electr\", \"energi\", \"england\", \"england\", \"episod\", \"evacu\", \"exchang\", \"exhibit\", \"expans\", \"explain\", \"export\", \"export\", \"extend\", \"extend\", \"extend\", \"extend\", \"extend\", \"extend\", \"extend\", \"extend\", \"face\", \"face\", \"face\", \"face\", \"face\", \"face\", \"face\", \"face\", \"face\", \"face\", \"facebook\", \"facebook\", \"fact\", \"fake\", \"fall\", \"fall\", \"fall\", \"fall\", \"fall\", \"fall\", \"fall\", \"fall\", \"fall\", \"fall\", \"farm\", \"farm\", \"farm\", \"farm\", \"farm\", \"farm\", \"farm\", \"farm\", \"farm\", \"farm\", \"farmer\", \"farmer\", \"farmer\", \"farmer\", \"farmer\", \"farmer\", \"farmer\", \"farmer\", \"farmer\", \"farmer\", \"fatal\", \"fatal\", \"fatal\", \"februari\", \"feder\", \"feder\", \"feder\", \"feder\", \"feder\", \"feder\", \"feder\", \"feder\", \"feder\", \"femal\", \"femal\", \"festiv\", \"festiv\", \"festiv\", \"festiv\", \"fiji\", \"fiji\", \"fiji\", \"fiji\", \"fiji\", \"final\", \"final\", \"final\", \"final\", \"final\", \"final\", \"financ\", \"firefight\", \"flight\", \"flight\", \"flight\", \"flood\", \"flood\", \"flood\", \"flood\", \"flood\", \"flood\", \"flood\", \"flood\", \"flood\", \"flood\", \"footag\", \"footbal\", \"footbal\", \"fraud\", \"friday\", \"friend\", \"fruit\", \"frydenberg\", \"fund\", \"fund\", \"fund\", \"fund\", \"fund\", \"fund\", \"fund\", \"fund\", \"funer\", \"game\", \"game\", \"game\", \"game\", \"game\", \"game\", \"game\", \"game\", \"game\", \"game\", \"garden\", \"geelong\", \"generat\", \"georg\", \"girl\", \"girl\", \"girl\", \"gladi\", \"global\", \"govern\", \"govern\", \"govern\", \"govern\", \"govern\", \"govern\", \"govern\", \"govern\", \"grand\", \"grand\", \"grandstand\", \"great\", \"great\", \"great\", \"greater\", \"greg\", \"guard\", \"guilti\", \"happen\", \"harbour\", \"harri\", \"harvest\", \"health\", \"health\", \"health\", \"health\", \"health\", \"health\", \"health\", \"health\", \"heat\", \"heatwav\", \"heavi\", \"helicopt\", \"heritag\", \"hill\", \"histori\", \"histori\", \"hobart\", \"hobart\", \"hobart\", \"hobart\", \"hobart\", \"home\", \"home\", \"home\", \"home\", \"home\", \"home\", \"home\", \"home\", \"home\", \"home\", \"homeless\", \"hong\", \"honour\", \"honour\", \"hotspot\", \"hour\", \"hour\", \"hour\", \"human\", \"human\", \"human\", \"icac\", \"import\", \"indigen\", \"indigen\", \"indigen\", \"indigen\", \"indigen\", \"indigen\", \"indigen\", \"indigen\", \"indigen\", \"indonesia\", \"indonesia\", \"industri\", \"industri\", \"industri\", \"industri\", \"industri\", \"industri\", \"industri\", \"industri\", \"industri\", \"infect\", \"inform\", \"injur\", \"injur\", \"injur\", \"insid\", \"inspir\", \"interview\", \"interview\", \"interview\", \"interview\", \"interview\", \"interview\", \"invest\", \"invest\", \"islam\", \"isol\", \"israel\", \"jack\", \"jail\", \"jail\", \"jail\", \"jail\", \"jail\", \"jail\", \"jail\", \"jam\", \"januari\", \"job\", \"job\", \"job\", \"job\", \"johnson\", \"josh\", \"joyc\", \"juli\", \"jump\", \"june\", \"june\", \"kelli\", \"kid\", \"kid\", \"kid\", \"kill\", \"kill\", \"kill\", \"kill\", \"kill\", \"kill\", \"kill\", \"kimberley\", \"know\", \"know\", \"koala\", \"kohler\", \"kong\", \"korea\", \"lawyer\", \"lawyer\", \"lawyer\", \"lawyer\", \"leadership\", \"leagu\", \"leagu\", \"leagu\", \"leagu\", \"leagu\", \"learn\", \"liber\", \"liber\", \"liber\", \"liber\", \"live\", \"live\", \"live\", \"live\", \"live\", \"live\", \"loan\", \"lockdown\", \"malcolm\", \"march\", \"march\", \"mark\", \"market\", \"market\", \"market\", \"market\", \"market\", \"market\", \"market\", \"market\", \"market\", \"market\", \"martin\", \"mask\", \"matter\", \"matthew\", \"mcgowan\", \"meat\", \"media\", \"media\", \"media\", \"media\", \"media\", \"media\", \"media\", \"media\", \"media\", \"media\", \"melbourn\", \"melbourn\", \"melbourn\", \"melbourn\", \"melbourn\", \"melbourn\", \"melbourn\", \"melbourn\", \"melbourn\", \"melbourn\", \"memori\", \"mental\", \"mental\", \"michael\", \"mike\", \"milk\", \"miss\", \"miss\", \"miss\", \"miss\", \"mobil\", \"model\", \"moment\", \"monday\", \"money\", \"money\", \"money\", \"morn\", \"morrison\", \"mother\", \"mother\", \"mountain\", \"murder\", \"murder\", \"murder\", \"murray\", \"murray\", \"murray\", \"murray\", \"myanmar\", \"mysteri\", \"nation\", \"nation\", \"nation\", \"nation\", \"nation\", \"nation\", \"nation\", \"nation\", \"nation\", \"nation\", \"nativ\", \"ndis\", \"near\", \"near\", \"near\", \"near\", \"near\", \"near\", \"near\", \"near\", \"near\", \"near\", \"news\", \"north\", \"north\", \"north\", \"north\", \"north\", \"north\", \"north\", \"novemb\", \"ocean\", \"octob\", \"offenc\", \"onlin\", \"onlin\", \"onlin\", \"open\", \"open\", \"open\", \"open\", \"open\", \"open\", \"open\", \"open\", \"open\", \"open\", \"origin\", \"outback\", \"pacif\", \"pacif\", \"pacif\", \"pacif\", \"pacif\", \"pacif\", \"pain\", \"pain\", \"palmer\", \"pandem\", \"parent\", \"parent\", \"parti\", \"parti\", \"parti\", \"parti\", \"parti\", \"parti\", \"parti\", \"parti\", \"parti\", \"partner\", \"paul\", \"perform\", \"person\", \"peter\", \"peter\", \"pfizer\", \"phone\", \"photo\", \"photograph\", \"pictur\", \"pilbara\", \"pilot\", \"plan\", \"plan\", \"plan\", \"plan\", \"plan\", \"plan\", \"plan\", \"plan\", \"plan\", \"plan\", \"plane\", \"plane\", \"plane\", \"planet\", \"plastic\", \"plead\", \"plus\", \"polic\", \"polic\", \"polic\", \"polic\", \"polic\", \"polic\", \"polic\", \"polic\", \"polic\", \"polic\", \"polici\", \"polici\", \"polici\", \"polici\", \"polici\", \"polici\", \"popul\", \"popul\", \"presid\", \"presid\", \"presid\", \"presid\", \"presid\", \"presid\", \"presid\", \"press\", \"press\", \"press\", \"price\", \"price\", \"price\", \"price\", \"price\", \"price\", \"price\", \"price\", \"prime\", \"prime\", \"princ\", \"privat\", \"project\", \"project\", \"project\", \"project\", \"project\", \"protest\", \"protest\", \"protest\", \"protest\", \"protest\", \"protest\", \"protest\", \"protest\", \"protest\", \"protest\", \"quarantin\", \"quarantin\", \"quarantin\", \"quarter\", \"queen\", \"queensland\", \"queensland\", \"queensland\", \"queensland\", \"queensland\", \"queensland\", \"queensland\", \"queensland\", \"quiz\", \"racism\", \"raid\", \"raid\", \"rain\", \"rain\", \"rain\", \"rain\", \"rain\", \"rain\", \"rain\", \"rain\", \"rape\", \"rate\", \"real\", \"recommend\", \"record\", \"record\", \"record\", \"record\", \"record\", \"record\", \"record\", \"record\", \"record\", \"record\", \"recov\", \"recycl\", \"reflect\", \"refus\", \"refus\", \"refus\", \"region\", \"region\", \"region\", \"region\", \"region\", \"region\", \"region\", \"region\", \"regul\", \"regul\", \"relationship\", \"rememb\", \"remot\", \"renew\", \"rescu\", \"rescu\", \"rescu\", \"rescu\", \"rescu\", \"rescu\", \"rescu\", \"rescu\", \"rescu\", \"reserv\", \"respond\", \"restrict\", \"result\", \"result\", \"retail\", \"retir\", \"retir\", \"retir\", \"retir\", \"richard\", \"right\", \"right\", \"right\", \"right\", \"right\", \"right\", \"right\", \"rise\", \"rise\", \"rise\", \"rise\", \"rise\", \"rise\", \"rise\", \"rise\", \"rise\", \"rise\", \"road\", \"road\", \"road\", \"road\", \"road\", \"road\", \"road\", \"road\", \"road\", \"road\", \"robert\", \"rollout\", \"round\", \"round\", \"royal\", \"royal\", \"rugbi\", \"rugbi\", \"run\", \"rural\", \"rural\", \"rural\", \"rural\", \"safe\", \"saudi\", \"say\", \"say\", \"say\", \"say\", \"say\", \"say\", \"say\", \"say\", \"say\", \"say\", \"scene\", \"school\", \"school\", \"school\", \"school\", \"school\", \"school\", \"school\", \"school\", \"school\", \"school\", \"scienc\", \"scorecentr\", \"scott\", \"scott\", \"search\", \"season\", \"season\", \"season\", \"season\", \"season\", \"season\", \"season\", \"season\", \"seeker\", \"self\", \"sentenc\", \"sentenc\", \"septemb\", \"seri\", \"servic\", \"servic\", \"servic\", \"servic\", \"servic\", \"servic\", \"servic\", \"servic\", \"servic\", \"sever\", \"sexual\", \"share\", \"share\", \"share\", \"share\", \"share\", \"share\", \"share\", \"share\", \"sheep\", \"ship\", \"ship\", \"shoot\", \"shoot\", \"shoot\", \"shoot\", \"shoot\", \"shoot\", \"shorten\", \"smith\", \"smith\", \"smoke\", \"socceroo\", \"social\", \"social\", \"solar\", \"solar\", \"south\", \"south\", \"south\", \"south\", \"south\", \"south\", \"south\", \"south\", \"south\", \"space\", \"speak\", \"speak\", \"speak\", \"speak\", \"speak\", \"speak\", \"special\", \"speech\", \"spike\", \"sport\", \"spring\", \"stab\", \"stephen\", \"steve\", \"steve\", \"stock\", \"stock\", \"stock\", \"stori\", \"strand\", \"stream\", \"street\", \"street\", \"street\", \"street\", \"street\", \"street\", \"street\", \"street\", \"suicid\", \"summer\", \"sunday\", \"sunshin\", \"survivor\", \"suspect\", \"suspect\", \"suspect\", \"suspend\", \"suspend\", \"sydney\", \"sydney\", \"sydney\", \"sydney\", \"sydney\", \"sydney\", \"sydney\", \"sydney\", \"sydney\", \"sydney\", \"syrian\", \"tasmania\", \"tasmania\", \"tasmania\", \"tasmania\", \"tasmania\", \"tasmania\", \"tasmania\", \"tasmania\", \"taylor\", \"technolog\", \"tenni\", \"tenni\", \"tension\", \"term\", \"territori\", \"territori\", \"terror\", \"terror\", \"test\", \"test\", \"test\", \"test\", \"test\", \"test\", \"test\", \"test\", \"test\", \"test\", \"thai\", \"thailand\", \"thing\", \"thousand\", \"thousand\", \"thousand\", \"thursday\", \"tiger\", \"tiger\", \"tiger\", \"toddler\", \"toni\", \"transport\", \"tree\", \"trial\", \"trial\", \"trial\", \"trial\", \"trial\", \"trial\", \"trial\", \"trial\", \"trial\", \"trial\", \"truck\", \"truck\", \"truck\", \"trump\", \"tuesday\", \"turnbul\", \"underway\", \"unemploy\", \"univers\", \"updat\", \"vaccin\", \"vaccin\", \"vaccin\", \"vaccin\", \"vaccin\", \"vaccin\", \"vanuatu\", \"veteran\", \"victoria\", \"victoria\", \"victoria\", \"victoria\", \"victoria\", \"victoria\", \"victoria\", \"victoria\", \"victoria\", \"victorian\", \"victorian\", \"victorian\", \"victorian\", \"victorian\", \"victorian\", \"victorian\", \"victorian\", \"victorian\", \"violenc\", \"violenc\", \"violenc\", \"violenc\", \"violenc\", \"violenc\", \"vision\", \"volunt\", \"wait\", \"walk\", \"wall\", \"wallabi\", \"wast\", \"watch\", \"wave\", \"weather\", \"weather\", \"weather\", \"wednesday\", \"whale\", \"whale\", \"whale\", \"whale\", \"wide\", \"wife\", \"wild\", \"wild\", \"wild\", \"wild\", \"wild\", \"win\", \"win\", \"win\", \"win\", \"win\", \"win\", \"win\", \"win\", \"win\", \"win\", \"wine\", \"winter\", \"woman\", \"woman\", \"woman\", \"world\", \"world\", \"world\", \"world\", \"world\", \"world\", \"world\", \"world\", \"world\", \"world\", \"worst\", \"wrap\", \"wrong\", \"year\", \"year\", \"year\", \"year\", \"year\", \"year\", \"year\", \"year\", \"year\", \"year\", \"york\", \"zealand\", \"zealand\", \"zealand\", \"zero\"]}, \"R\": 30, \"lambda.step\": 0.01, \"plot.opts\": {\"xlab\": \"PC1\", \"ylab\": \"PC2\"}, \"topic.order\": [2, 1, 7, 5, 6, 8, 3, 4, 10, 9]};\n",
       "\n",
       "function LDAvis_load_lib(url, callback){\n",
       "  var s = document.createElement('script');\n",
       "  s.src = url;\n",
       "  s.async = true;\n",
       "  s.onreadystatechange = s.onload = callback;\n",
       "  s.onerror = function(){console.warn(\"failed to load library \" + url);};\n",
       "  document.getElementsByTagName(\"head\")[0].appendChild(s);\n",
       "}\n",
       "\n",
       "if(typeof(LDAvis) !== \"undefined\"){\n",
       "   // already loaded: just create the visualization\n",
       "   !function(LDAvis){\n",
       "       new LDAvis(\"#\" + \"ldavis_el1817222150697162565127713583\", ldavis_el1817222150697162565127713583_data);\n",
       "   }(LDAvis);\n",
       "}else if(typeof define === \"function\" && define.amd){\n",
       "   // require.js is available: use it to load d3/LDAvis\n",
       "   require.config({paths: {d3: \"https://d3js.org/d3.v5\"}});\n",
       "   require([\"d3\"], function(d3){\n",
       "      window.d3 = d3;\n",
       "      LDAvis_load_lib(\"https://cdn.jsdelivr.net/gh/bmabey/pyLDAvis@3.2.2/pyLDAvis/js/ldavis.v3.0.0.js\", function(){\n",
       "        new LDAvis(\"#\" + \"ldavis_el1817222150697162565127713583\", ldavis_el1817222150697162565127713583_data);\n",
       "      });\n",
       "    });\n",
       "}else{\n",
       "    // require.js not available: dynamically load d3 & LDAvis\n",
       "    LDAvis_load_lib(\"https://d3js.org/d3.v5.js\", function(){\n",
       "         LDAvis_load_lib(\"https://cdn.jsdelivr.net/gh/bmabey/pyLDAvis@3.2.2/pyLDAvis/js/ldavis.v3.0.0.js\", function(){\n",
       "                 new LDAvis(\"#\" + \"ldavis_el1817222150697162565127713583\", ldavis_el1817222150697162565127713583_data);\n",
       "            })\n",
       "         });\n",
       "}\n",
       "</script>"
      ],
      "text/plain": [
       "PreparedData(topic_coordinates=              x         y  topics  cluster       Freq\n",
       "topic                                                \n",
       "1      0.051715  0.176405       1        1  14.305216\n",
       "0      0.161969 -0.302183       2        1  10.879381\n",
       "6      0.053510 -0.022101       3        1  10.387424\n",
       "4     -0.178447 -0.067883       4        1   9.998485\n",
       "5      0.083371  0.025971       5        1   9.762801\n",
       "7     -0.241705 -0.047624       6        1   9.565238\n",
       "2     -0.225249  0.036398       7        1   9.183125\n",
       "3      0.092743  0.112134       8        1   8.866613\n",
       "9      0.127701  0.120071       9        1   8.716305\n",
       "8      0.074391 -0.031188      10        1   8.335413, topic_info=            Term         Freq         Total Category  logprob  loglift\n",
       "7337       trump  7285.000000   7285.000000  Default  30.0000  30.0000\n",
       "1281        news  5765.000000   5765.000000  Default  29.0000  29.0000\n",
       "1568      donald  4685.000000   4685.000000  Default  28.0000  28.0000\n",
       "2951        drum  3397.000000   3397.000000  Default  27.0000  27.0000\n",
       "197        crash  4275.000000   4275.000000  Default  26.0000  26.0000\n",
       "...          ...          ...           ...      ...      ...      ...\n",
       "2029       pacif   923.362229   1666.216354  Topic10  -5.4506   1.8944\n",
       "2121        wild   814.310383   1181.059723  Topic10  -5.5763   2.1128\n",
       "1287       great   843.704864   1443.573494  Topic10  -5.5408   1.9476\n",
       "38     australia   877.448956  11725.958135  Topic10  -5.5016  -0.1079\n",
       "16    australian   833.474052   8808.364608  Topic10  -5.5530   0.1268\n",
       "\n",
       "[567 rows x 6 columns], token_table=      Topic      Freq     Term\n",
       "term                          \n",
       "2586      3  0.157964   abbott\n",
       "2586      7  0.772960   abbott\n",
       "2586      8  0.012424   abbott\n",
       "2586      9  0.055909   abbott\n",
       "1939      1  0.051974     abus\n",
       "...     ...       ...      ...\n",
       "1953      2  0.998399     york\n",
       "388       2  0.716697  zealand\n",
       "388       3  0.178727  zealand\n",
       "388       5  0.104258  zealand\n",
       "8325      8  0.998132     zero\n",
       "\n",
       "[1444 rows x 3 columns], R=30, lambda_step=0.01, plot_opts={'xlab': 'PC1', 'ylab': 'PC2'}, topic_order=[2, 1, 7, 5, 6, 8, 3, 4, 10, 9])"
      ]
     },
     "execution_count": 29,
     "metadata": {},
     "output_type": "execute_result"
    }
   ],
   "source": [
    "visaltf_idf = pyLDAvis.gensim.prepare(lda_model_tfidf,  corpus_tfidf,dictionary)\n",
    "visaltf_idf"
   ]
  },
  {
   "cell_type": "markdown",
   "metadata": {},
   "source": [
    "## Salient Topics"
   ]
  },
  {
   "cell_type": "code",
   "execution_count": 30,
   "metadata": {},
   "outputs": [],
   "source": [
    "sal_lda_model = gensim.models.ldamodel.LdaModel(corpus=bow_corpus,\n",
    "                                           id2word=dictionary,\n",
    "                                           num_topics=20, \n",
    "                                           random_state=100,\n",
    "                                           update_every=1,\n",
    "                                           chunksize=100,\n",
    "                                           passes=10,\n",
    "                                           alpha='auto',\n",
    "                                           per_word_topics=True)"
   ]
  },
  {
   "cell_type": "code",
   "execution_count": null,
   "metadata": {},
   "outputs": [],
   "source": [
    "print('\\nPerplexity: ', sal_lda_model.log_perplexity(bow_corpus)) "
   ]
  },
  {
   "cell_type": "code",
   "execution_count": null,
   "metadata": {},
   "outputs": [],
   "source": [
    "pyLDAvis.enable_notebook()\n",
    "vis = pyLDAvis.gensim.prepare(sal_lda_model, bow_corpus, dictionary)\n",
    "vis"
   ]
  },
  {
   "cell_type": "code",
   "execution_count": null,
   "metadata": {},
   "outputs": [],
   "source": [
    "# Print the Keyword in the 10 topics\n",
    "# pprint(lda_model.print_topics())\n",
    "# doc_lda = lda_model[dictionary]"
   ]
  },
  {
   "cell_type": "code",
   "execution_count": null,
   "metadata": {},
   "outputs": [],
   "source": []
  },
  {
   "cell_type": "code",
   "execution_count": null,
   "metadata": {},
   "outputs": [],
   "source": []
  },
  {
   "cell_type": "code",
   "execution_count": null,
   "metadata": {},
   "outputs": [],
   "source": [
    "import zipfile\n",
    "!wget http://mallet.cs.umass.edu/dist/mallet-2.0.8.zip"
   ]
  },
  {
   "cell_type": "code",
   "execution_count": null,
   "metadata": {},
   "outputs": [],
   "source": [
    "with zipfile.ZipFile('/mallet-2.0.8.zip', 'r') as zip_ref:#the directory of zipped file\n",
    "    zip_ref.extractall('C:/Users/emreb/Documents/projects/newonelast') #directory of unzipped file"
   ]
  },
  {
   "cell_type": "code",
   "execution_count": null,
   "metadata": {},
   "outputs": [],
   "source": [
    "import os\n",
    "\n",
    "os.environ.update({\n",
    "        'MALLET_HOME':\n",
    "        r\"/content/drive/MyDrive/dataAI/mallet/mallet-2.0.8/bin/mallet\",\n",
    "    })"
   ]
  },
  {
   "cell_type": "code",
   "execution_count": null,
   "metadata": {},
   "outputs": [],
   "source": [
    "mallet_path = '/content/drive/MyDrive/dataAI/mallet/mallet-2.0.8/bin/mallet' # update this path\n",
    "ldamallet = gensim.models.wrappers.LdaMallet(mallet_path, corpus=corpus, num_topics=20, id2word=id2word)"
   ]
  },
  {
   "cell_type": "code",
   "execution_count": null,
   "metadata": {},
   "outputs": [],
   "source": []
  }
 ],
 "metadata": {
  "kernelspec": {
   "display_name": "Python 3.8.8 ('transtele')",
   "language": "python",
   "name": "python3"
  },
  "language_info": {
   "codemirror_mode": {
    "name": "ipython",
    "version": 3
   },
   "file_extension": ".py",
   "mimetype": "text/x-python",
   "name": "python",
   "nbconvert_exporter": "python",
   "pygments_lexer": "ipython3",
   "version": "3.8.8"
  },
  "orig_nbformat": 4,
  "vscode": {
   "interpreter": {
    "hash": "3d05f33cbdc3cc1ef85143c8cad850ff669c7dc9790d7d61c2ab651128368350"
   }
  }
 },
 "nbformat": 4,
 "nbformat_minor": 2
}
